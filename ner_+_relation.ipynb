{
  "nbformat": 4,
  "nbformat_minor": 0,
  "metadata": {
    "colab": {
      "name": "ner + relation",
      "provenance": [],
      "collapsed_sections": [],
      "authorship_tag": "ABX9TyPXW3mtUgkz8JJj8NzGrWVZ",
      "include_colab_link": true
    },
    "kernelspec": {
      "name": "python3",
      "display_name": "Python 3"
    },
    "language_info": {
      "name": "python"
    },
    "accelerator": "GPU"
  },
  "cells": [
    {
      "cell_type": "markdown",
      "metadata": {
        "id": "view-in-github",
        "colab_type": "text"
      },
      "source": [
        "<a href=\"https://colab.research.google.com/github/karndeepsingh/NER-Relation/blob/main/ner_%2B_relation.ipynb\" target=\"_parent\"><img src=\"https://colab.research.google.com/assets/colab-badge.svg\" alt=\"Open In Colab\"/></a>"
      ]
    },
    {
      "cell_type": "code",
      "metadata": {
        "colab": {
          "base_uri": "https://localhost:8080/",
          "height": 459
        },
        "id": "PFMUow4D2NK8",
        "outputId": "8ff52fdd-53d7-4533-fa18-2e4a6de51d5e"
      },
      "source": [
        "!pip install -U pip setuptools wheel\n"
      ],
      "execution_count": 1,
      "outputs": [
        {
          "output_type": "stream",
          "name": "stdout",
          "text": [
            "Requirement already satisfied: pip in /usr/local/lib/python3.7/dist-packages (21.1.3)\n",
            "Collecting pip\n",
            "  Downloading pip-21.2.4-py3-none-any.whl (1.6 MB)\n",
            "\u001b[K     |████████████████████████████████| 1.6 MB 5.4 MB/s \n",
            "\u001b[?25hRequirement already satisfied: setuptools in /usr/local/lib/python3.7/dist-packages (57.4.0)\n",
            "Collecting setuptools\n",
            "  Downloading setuptools-58.0.4-py3-none-any.whl (816 kB)\n",
            "\u001b[K     |████████████████████████████████| 816 kB 48.9 MB/s \n",
            "\u001b[?25hRequirement already satisfied: wheel in /usr/local/lib/python3.7/dist-packages (0.37.0)\n",
            "Installing collected packages: setuptools, pip\n",
            "  Attempting uninstall: setuptools\n",
            "    Found existing installation: setuptools 57.4.0\n",
            "    Uninstalling setuptools-57.4.0:\n",
            "      Successfully uninstalled setuptools-57.4.0\n",
            "  Attempting uninstall: pip\n",
            "    Found existing installation: pip 21.1.3\n",
            "    Uninstalling pip-21.1.3:\n",
            "      Successfully uninstalled pip-21.1.3\n",
            "\u001b[31mERROR: pip's dependency resolver does not currently take into account all the packages that are installed. This behaviour is the source of the following dependency conflicts.\n",
            "datascience 0.10.6 requires folium==0.2.1, but you have folium 0.8.3 which is incompatible.\u001b[0m\n",
            "Successfully installed pip-21.2.4 setuptools-58.0.4\n"
          ]
        },
        {
          "output_type": "display_data",
          "data": {
            "application/vnd.colab-display-data+json": {
              "pip_warning": {
                "packages": [
                  "pkg_resources"
                ]
              }
            }
          },
          "metadata": {}
        }
      ]
    },
    {
      "cell_type": "code",
      "metadata": {
        "colab": {
          "base_uri": "https://localhost:8080/"
        },
        "id": "COcCoNp4cUIz",
        "outputId": "48371d5b-1f2a-4435-c3d1-765e1fcf6247"
      },
      "source": [
        "!nvidia-smi\n"
      ],
      "execution_count": 1,
      "outputs": [
        {
          "output_type": "stream",
          "name": "stdout",
          "text": [
            "Fri Sep 10 19:19:26 2021       \n",
            "+-----------------------------------------------------------------------------+\n",
            "| NVIDIA-SMI 470.63.01    Driver Version: 460.32.03    CUDA Version: 11.2     |\n",
            "|-------------------------------+----------------------+----------------------+\n",
            "| GPU  Name        Persistence-M| Bus-Id        Disp.A | Volatile Uncorr. ECC |\n",
            "| Fan  Temp  Perf  Pwr:Usage/Cap|         Memory-Usage | GPU-Util  Compute M. |\n",
            "|                               |                      |               MIG M. |\n",
            "|===============================+======================+======================|\n",
            "|   0  Tesla K80           Off  | 00000000:00:04.0 Off |                    0 |\n",
            "| N/A   71C    P8    37W / 149W |      0MiB / 11441MiB |      0%      Default |\n",
            "|                               |                      |                  N/A |\n",
            "+-------------------------------+----------------------+----------------------+\n",
            "                                                                               \n",
            "+-----------------------------------------------------------------------------+\n",
            "| Processes:                                                                  |\n",
            "|  GPU   GI   CI        PID   Type   Process name                  GPU Memory |\n",
            "|        ID   ID                                                   Usage      |\n",
            "|=============================================================================|\n",
            "|  No running processes found                                                 |\n",
            "+-----------------------------------------------------------------------------+\n"
          ]
        }
      ]
    },
    {
      "cell_type": "code",
      "metadata": {
        "colab": {
          "base_uri": "https://localhost:8080/"
        },
        "id": "Vg-fEWwv2SnA",
        "outputId": "426af140-db45-4c69-9d37-02b70a259468"
      },
      "source": [
        "!pip install -U spacy"
      ],
      "execution_count": 2,
      "outputs": [
        {
          "output_type": "stream",
          "name": "stdout",
          "text": [
            "Requirement already satisfied: spacy in /usr/local/lib/python3.7/dist-packages (2.2.4)\n",
            "Collecting spacy\n",
            "  Downloading spacy-3.1.2-cp37-cp37m-manylinux_2_17_x86_64.manylinux2014_x86_64.whl (5.8 MB)\n",
            "\u001b[K     |████████████████████████████████| 5.8 MB 5.2 MB/s \n",
            "\u001b[?25hCollecting srsly<3.0.0,>=2.4.1\n",
            "  Downloading srsly-2.4.1-cp37-cp37m-manylinux2014_x86_64.whl (456 kB)\n",
            "\u001b[K     |████████████████████████████████| 456 kB 41.6 MB/s \n",
            "\u001b[?25hRequirement already satisfied: requests<3.0.0,>=2.13.0 in /usr/local/lib/python3.7/dist-packages (from spacy) (2.23.0)\n",
            "Collecting pydantic!=1.8,!=1.8.1,<1.9.0,>=1.7.4\n",
            "  Downloading pydantic-1.8.2-cp37-cp37m-manylinux2014_x86_64.whl (10.1 MB)\n",
            "\u001b[K     |████████████████████████████████| 10.1 MB 37.7 MB/s \n",
            "\u001b[?25hCollecting thinc<8.1.0,>=8.0.8\n",
            "  Downloading thinc-8.0.10-cp37-cp37m-manylinux_2_17_x86_64.manylinux2014_x86_64.whl (623 kB)\n",
            "\u001b[K     |████████████████████████████████| 623 kB 42.3 MB/s \n",
            "\u001b[?25hRequirement already satisfied: preshed<3.1.0,>=3.0.2 in /usr/local/lib/python3.7/dist-packages (from spacy) (3.0.5)\n",
            "Requirement already satisfied: typing-extensions<4.0.0.0,>=3.7.4 in /usr/local/lib/python3.7/dist-packages (from spacy) (3.7.4.3)\n",
            "Requirement already satisfied: wasabi<1.1.0,>=0.8.1 in /usr/local/lib/python3.7/dist-packages (from spacy) (0.8.2)\n",
            "Requirement already satisfied: setuptools in /usr/local/lib/python3.7/dist-packages (from spacy) (58.0.4)\n",
            "Requirement already satisfied: cymem<2.1.0,>=2.0.2 in /usr/local/lib/python3.7/dist-packages (from spacy) (2.0.5)\n",
            "Collecting catalogue<2.1.0,>=2.0.4\n",
            "  Downloading catalogue-2.0.6-py3-none-any.whl (17 kB)\n",
            "Requirement already satisfied: jinja2 in /usr/local/lib/python3.7/dist-packages (from spacy) (2.11.3)\n",
            "Requirement already satisfied: numpy>=1.15.0 in /usr/local/lib/python3.7/dist-packages (from spacy) (1.19.5)\n",
            "Requirement already satisfied: tqdm<5.0.0,>=4.38.0 in /usr/local/lib/python3.7/dist-packages (from spacy) (4.62.0)\n",
            "Collecting typer<0.4.0,>=0.3.0\n",
            "  Downloading typer-0.3.2-py3-none-any.whl (21 kB)\n",
            "Collecting spacy-legacy<3.1.0,>=3.0.7\n",
            "  Downloading spacy_legacy-3.0.8-py2.py3-none-any.whl (14 kB)\n",
            "Requirement already satisfied: murmurhash<1.1.0,>=0.28.0 in /usr/local/lib/python3.7/dist-packages (from spacy) (1.0.5)\n",
            "Collecting pathy>=0.3.5\n",
            "  Downloading pathy-0.6.0-py3-none-any.whl (42 kB)\n",
            "\u001b[K     |████████████████████████████████| 42 kB 1.5 MB/s \n",
            "\u001b[?25hRequirement already satisfied: packaging>=20.0 in /usr/local/lib/python3.7/dist-packages (from spacy) (21.0)\n",
            "Requirement already satisfied: blis<0.8.0,>=0.4.0 in /usr/local/lib/python3.7/dist-packages (from spacy) (0.4.1)\n",
            "Requirement already satisfied: zipp>=0.5 in /usr/local/lib/python3.7/dist-packages (from catalogue<2.1.0,>=2.0.4->spacy) (3.5.0)\n",
            "Requirement already satisfied: pyparsing>=2.0.2 in /usr/local/lib/python3.7/dist-packages (from packaging>=20.0->spacy) (2.4.7)\n",
            "Requirement already satisfied: smart-open<6.0.0,>=5.0.0 in /usr/local/lib/python3.7/dist-packages (from pathy>=0.3.5->spacy) (5.1.0)\n",
            "Requirement already satisfied: idna<3,>=2.5 in /usr/local/lib/python3.7/dist-packages (from requests<3.0.0,>=2.13.0->spacy) (2.10)\n",
            "Requirement already satisfied: certifi>=2017.4.17 in /usr/local/lib/python3.7/dist-packages (from requests<3.0.0,>=2.13.0->spacy) (2021.5.30)\n",
            "Requirement already satisfied: chardet<4,>=3.0.2 in /usr/local/lib/python3.7/dist-packages (from requests<3.0.0,>=2.13.0->spacy) (3.0.4)\n",
            "Requirement already satisfied: urllib3!=1.25.0,!=1.25.1,<1.26,>=1.21.1 in /usr/local/lib/python3.7/dist-packages (from requests<3.0.0,>=2.13.0->spacy) (1.24.3)\n",
            "Requirement already satisfied: click<7.2.0,>=7.1.1 in /usr/local/lib/python3.7/dist-packages (from typer<0.4.0,>=0.3.0->spacy) (7.1.2)\n",
            "Requirement already satisfied: MarkupSafe>=0.23 in /usr/local/lib/python3.7/dist-packages (from jinja2->spacy) (2.0.1)\n",
            "Installing collected packages: catalogue, typer, srsly, pydantic, thinc, spacy-legacy, pathy, spacy\n",
            "  Attempting uninstall: catalogue\n",
            "    Found existing installation: catalogue 1.0.0\n",
            "    Uninstalling catalogue-1.0.0:\n",
            "      Successfully uninstalled catalogue-1.0.0\n",
            "  Attempting uninstall: srsly\n",
            "    Found existing installation: srsly 1.0.5\n",
            "    Uninstalling srsly-1.0.5:\n",
            "      Successfully uninstalled srsly-1.0.5\n",
            "  Attempting uninstall: thinc\n",
            "    Found existing installation: thinc 7.4.0\n",
            "    Uninstalling thinc-7.4.0:\n",
            "      Successfully uninstalled thinc-7.4.0\n",
            "  Attempting uninstall: spacy\n",
            "    Found existing installation: spacy 2.2.4\n",
            "    Uninstalling spacy-2.2.4:\n",
            "      Successfully uninstalled spacy-2.2.4\n",
            "Successfully installed catalogue-2.0.6 pathy-0.6.0 pydantic-1.8.2 spacy-3.1.2 spacy-legacy-3.0.8 srsly-2.4.1 thinc-8.0.10 typer-0.3.2\n",
            "\u001b[33mWARNING: Running pip as the 'root' user can result in broken permissions and conflicting behaviour with the system package manager. It is recommended to use a virtual environment instead: https://pip.pypa.io/warnings/venv\u001b[0m\n"
          ]
        }
      ]
    },
    {
      "cell_type": "code",
      "metadata": {
        "colab": {
          "base_uri": "https://localhost:8080/"
        },
        "id": "Ni47r5TuvMdO",
        "outputId": "157e5326-6197-4911-d3e1-0fa5c533aa79"
      },
      "source": [
        "!python -m spacy info"
      ],
      "execution_count": 3,
      "outputs": [
        {
          "output_type": "stream",
          "name": "stdout",
          "text": [
            "\u001b[1m\n",
            "============================== Info about spaCy ==============================\u001b[0m\n",
            "\n",
            "spaCy version    3.1.2                         \n",
            "Location         /usr/local/lib/python3.7/dist-packages/spacy\n",
            "Platform         Linux-5.4.104+-x86_64-with-Ubuntu-18.04-bionic\n",
            "Python version   3.7.11                        \n",
            "Pipelines                                      \n",
            "\n"
          ]
        }
      ]
    },
    {
      "cell_type": "markdown",
      "metadata": {
        "id": "sQ4xL0d_JzKp"
      },
      "source": [
        "# NER"
      ]
    },
    {
      "cell_type": "code",
      "metadata": {
        "colab": {
          "base_uri": "https://localhost:8080/"
        },
        "id": "YywupjcrOGDF",
        "outputId": "a8f2a197-28db-4bc1-fe0b-268458ac532c"
      },
      "source": [
        "!git clone https://github.com/UBIAI/Fine_tune_BERT_with_spacy3.git"
      ],
      "execution_count": null,
      "outputs": [
        {
          "output_type": "stream",
          "name": "stdout",
          "text": [
            "Cloning into 'Fine_tune_BERT_with_spacy3'...\n",
            "remote: Enumerating objects: 19, done.\u001b[K\n",
            "remote: Counting objects: 100% (19/19), done.\u001b[K\n",
            "remote: Compressing objects: 100% (16/16), done.\u001b[K\n",
            "remote: Total 19 (delta 3), reused 0 (delta 0), pack-reused 0\u001b[K\n",
            "Unpacking objects: 100% (19/19), done.\n"
          ]
        }
      ]
    },
    {
      "cell_type": "code",
      "metadata": {
        "colab": {
          "base_uri": "https://localhost:8080/"
        },
        "id": "YA3USBRoOeFa",
        "outputId": "861845ba-9e16-4fea-8dc4-97d41d1c5e10"
      },
      "source": [
        "!python -m spacy convert /content/relation_extraction_transformer/NER_training.tsv ./ -t json -n 1 -c iob\n",
        "!python -m spacy convert /content/relation_extraction_transformer/NER_DEV.tsv ./ -t json -n 1 -c iob\n",
        "!python -m spacy convert /content/relation_extraction_transformer/NER_TEST.tsv ./ -t json -n 1 -c iob"
      ],
      "execution_count": null,
      "outputs": [
        {
          "output_type": "stream",
          "name": "stdout",
          "text": [
            "\u001b[38;5;4mℹ Auto-detected token-per-line NER format\u001b[0m\n",
            "\u001b[38;5;3m⚠ Document delimiters found, automatic document segmentation with `-n`\n",
            "disabled.\u001b[0m\n",
            "\u001b[38;5;2m✔ Generated output file (1 documents): NER_training.json\u001b[0m\n",
            "\u001b[38;5;4mℹ Auto-detected token-per-line NER format\u001b[0m\n",
            "\u001b[38;5;3m⚠ Document delimiters found, automatic document segmentation with `-n`\n",
            "disabled.\u001b[0m\n",
            "\u001b[38;5;2m✔ Generated output file (1 documents): NER_DEV.json\u001b[0m\n",
            "\u001b[38;5;4mℹ Auto-detected token-per-line NER format\u001b[0m\n",
            "\u001b[38;5;3m⚠ Document delimiters found, automatic document segmentation with `-n`\n",
            "disabled.\u001b[0m\n",
            "\u001b[38;5;3m⚠ No sentence boundaries found. Use `-s` to automatically segment\n",
            "sentences.\u001b[0m\n",
            "\u001b[38;5;2m✔ Generated output file (1 documents): NER_TEST.json\u001b[0m\n"
          ]
        }
      ]
    },
    {
      "cell_type": "code",
      "metadata": {
        "colab": {
          "base_uri": "https://localhost:8080/"
        },
        "id": "JImAVXTbOd4c",
        "outputId": "4bb4c07b-a148-4e1f-cfbc-011765b235c1"
      },
      "source": [
        "!python -m spacy convert /content/NER_training.json ./ -t spacy\n",
        "!python -m spacy convert /content/NER_DEV.json ./ -t spacy\n",
        "!python -m spacy convert /content/NER_TEST.json ./ -t spacy\n"
      ],
      "execution_count": null,
      "outputs": [
        {
          "output_type": "stream",
          "name": "stdout",
          "text": [
            "\u001b[38;5;2m✔ Generated output file (77 documents): NER_training.spacy\u001b[0m\n",
            "\u001b[38;5;2m✔ Generated output file (20 documents): NER_DEV.spacy\u001b[0m\n",
            "\u001b[38;5;2m✔ Generated output file (11 documents): NER_TEST.spacy\u001b[0m\n"
          ]
        }
      ]
    },
    {
      "cell_type": "code",
      "metadata": {
        "colab": {
          "base_uri": "https://localhost:8080/"
        },
        "id": "0DAxnPBOOdu0",
        "outputId": "0a47484c-3b96-4ec5-8f20-efbca8477c43"
      },
      "source": [
        "!python -m spacy download en_core_web_trf"
      ],
      "execution_count": null,
      "outputs": [
        {
          "output_type": "stream",
          "name": "stdout",
          "text": [
            "Collecting en-core-web-trf==3.1.0\n",
            "  Downloading https://github.com/explosion/spacy-models/releases/download/en_core_web_trf-3.1.0/en_core_web_trf-3.1.0-py3-none-any.whl (460.2 MB)\n",
            "\u001b[K     |████████████████████████████████| 460.2 MB 9.1 kB/s \n",
            "\u001b[?25hRequirement already satisfied: spacy<3.2.0,>=3.1.0 in /usr/local/lib/python3.7/dist-packages (from en-core-web-trf==3.1.0) (3.1.2)\n",
            "Collecting spacy-transformers<1.1.0,>=1.0.3\n",
            "  Downloading spacy_transformers-1.0.6-py2.py3-none-any.whl (42 kB)\n",
            "\u001b[K     |████████████████████████████████| 42 kB 964 kB/s \n",
            "\u001b[?25hRequirement already satisfied: preshed<3.1.0,>=3.0.2 in /usr/local/lib/python3.7/dist-packages (from spacy<3.2.0,>=3.1.0->en-core-web-trf==3.1.0) (3.0.5)\n",
            "Requirement already satisfied: numpy>=1.15.0 in /usr/local/lib/python3.7/dist-packages (from spacy<3.2.0,>=3.1.0->en-core-web-trf==3.1.0) (1.19.5)\n",
            "Requirement already satisfied: thinc<8.1.0,>=8.0.8 in /usr/local/lib/python3.7/dist-packages (from spacy<3.2.0,>=3.1.0->en-core-web-trf==3.1.0) (8.0.9)\n",
            "Requirement already satisfied: setuptools in /usr/local/lib/python3.7/dist-packages (from spacy<3.2.0,>=3.1.0->en-core-web-trf==3.1.0) (58.0.0)\n",
            "Requirement already satisfied: pydantic!=1.8,!=1.8.1,<1.9.0,>=1.7.4 in /usr/local/lib/python3.7/dist-packages (from spacy<3.2.0,>=3.1.0->en-core-web-trf==3.1.0) (1.8.2)\n",
            "Requirement already satisfied: typer<0.4.0,>=0.3.0 in /usr/local/lib/python3.7/dist-packages (from spacy<3.2.0,>=3.1.0->en-core-web-trf==3.1.0) (0.3.2)\n",
            "Requirement already satisfied: catalogue<2.1.0,>=2.0.4 in /usr/local/lib/python3.7/dist-packages (from spacy<3.2.0,>=3.1.0->en-core-web-trf==3.1.0) (2.0.6)\n",
            "Requirement already satisfied: tqdm<5.0.0,>=4.38.0 in /usr/local/lib/python3.7/dist-packages (from spacy<3.2.0,>=3.1.0->en-core-web-trf==3.1.0) (4.62.0)\n",
            "Requirement already satisfied: blis<0.8.0,>=0.4.0 in /usr/local/lib/python3.7/dist-packages (from spacy<3.2.0,>=3.1.0->en-core-web-trf==3.1.0) (0.4.1)\n",
            "Requirement already satisfied: packaging>=20.0 in /usr/local/lib/python3.7/dist-packages (from spacy<3.2.0,>=3.1.0->en-core-web-trf==3.1.0) (21.0)\n",
            "Requirement already satisfied: typing-extensions<4.0.0.0,>=3.7.4 in /usr/local/lib/python3.7/dist-packages (from spacy<3.2.0,>=3.1.0->en-core-web-trf==3.1.0) (3.7.4.3)\n",
            "Requirement already satisfied: srsly<3.0.0,>=2.4.1 in /usr/local/lib/python3.7/dist-packages (from spacy<3.2.0,>=3.1.0->en-core-web-trf==3.1.0) (2.4.1)\n",
            "Requirement already satisfied: spacy-legacy<3.1.0,>=3.0.7 in /usr/local/lib/python3.7/dist-packages (from spacy<3.2.0,>=3.1.0->en-core-web-trf==3.1.0) (3.0.8)\n",
            "Requirement already satisfied: wasabi<1.1.0,>=0.8.1 in /usr/local/lib/python3.7/dist-packages (from spacy<3.2.0,>=3.1.0->en-core-web-trf==3.1.0) (0.8.2)\n",
            "Requirement already satisfied: cymem<2.1.0,>=2.0.2 in /usr/local/lib/python3.7/dist-packages (from spacy<3.2.0,>=3.1.0->en-core-web-trf==3.1.0) (2.0.5)\n",
            "Requirement already satisfied: pathy>=0.3.5 in /usr/local/lib/python3.7/dist-packages (from spacy<3.2.0,>=3.1.0->en-core-web-trf==3.1.0) (0.6.0)\n",
            "Requirement already satisfied: jinja2 in /usr/local/lib/python3.7/dist-packages (from spacy<3.2.0,>=3.1.0->en-core-web-trf==3.1.0) (2.11.3)\n",
            "Requirement already satisfied: murmurhash<1.1.0,>=0.28.0 in /usr/local/lib/python3.7/dist-packages (from spacy<3.2.0,>=3.1.0->en-core-web-trf==3.1.0) (1.0.5)\n",
            "Requirement already satisfied: requests<3.0.0,>=2.13.0 in /usr/local/lib/python3.7/dist-packages (from spacy<3.2.0,>=3.1.0->en-core-web-trf==3.1.0) (2.23.0)\n",
            "Requirement already satisfied: zipp>=0.5 in /usr/local/lib/python3.7/dist-packages (from catalogue<2.1.0,>=2.0.4->spacy<3.2.0,>=3.1.0->en-core-web-trf==3.1.0) (3.5.0)\n",
            "Requirement already satisfied: pyparsing>=2.0.2 in /usr/local/lib/python3.7/dist-packages (from packaging>=20.0->spacy<3.2.0,>=3.1.0->en-core-web-trf==3.1.0) (2.4.7)\n",
            "Requirement already satisfied: smart-open<6.0.0,>=5.0.0 in /usr/local/lib/python3.7/dist-packages (from pathy>=0.3.5->spacy<3.2.0,>=3.1.0->en-core-web-trf==3.1.0) (5.1.0)\n",
            "Requirement already satisfied: certifi>=2017.4.17 in /usr/local/lib/python3.7/dist-packages (from requests<3.0.0,>=2.13.0->spacy<3.2.0,>=3.1.0->en-core-web-trf==3.1.0) (2021.5.30)\n",
            "Requirement already satisfied: urllib3!=1.25.0,!=1.25.1,<1.26,>=1.21.1 in /usr/local/lib/python3.7/dist-packages (from requests<3.0.0,>=2.13.0->spacy<3.2.0,>=3.1.0->en-core-web-trf==3.1.0) (1.24.3)\n",
            "Requirement already satisfied: chardet<4,>=3.0.2 in /usr/local/lib/python3.7/dist-packages (from requests<3.0.0,>=2.13.0->spacy<3.2.0,>=3.1.0->en-core-web-trf==3.1.0) (3.0.4)\n",
            "Requirement already satisfied: idna<3,>=2.5 in /usr/local/lib/python3.7/dist-packages (from requests<3.0.0,>=2.13.0->spacy<3.2.0,>=3.1.0->en-core-web-trf==3.1.0) (2.10)\n",
            "Collecting spacy-alignments<1.0.0,>=0.7.2\n",
            "  Downloading spacy_alignments-0.8.3-cp37-cp37m-manylinux2014_x86_64.whl (998 kB)\n",
            "\u001b[K     |████████████████████████████████| 998 kB 17.8 MB/s \n",
            "\u001b[?25hRequirement already satisfied: torch>=1.5.0 in /usr/local/lib/python3.7/dist-packages (from spacy-transformers<1.1.0,>=1.0.3->en-core-web-trf==3.1.0) (1.9.0+cu102)\n",
            "Collecting transformers<4.10.0,>=3.4.0\n",
            "  Downloading transformers-4.9.2-py3-none-any.whl (2.6 MB)\n",
            "\u001b[K     |████████████████████████████████| 2.6 MB 41.8 MB/s \n",
            "\u001b[?25hRequirement already satisfied: regex!=2019.12.17 in /usr/local/lib/python3.7/dist-packages (from transformers<4.10.0,>=3.4.0->spacy-transformers<1.1.0,>=1.0.3->en-core-web-trf==3.1.0) (2019.12.20)\n",
            "Collecting pyyaml>=5.1\n",
            "  Downloading PyYAML-5.4.1-cp37-cp37m-manylinux1_x86_64.whl (636 kB)\n",
            "\u001b[K     |████████████████████████████████| 636 kB 49.1 MB/s \n",
            "\u001b[?25hRequirement already satisfied: filelock in /usr/local/lib/python3.7/dist-packages (from transformers<4.10.0,>=3.4.0->spacy-transformers<1.1.0,>=1.0.3->en-core-web-trf==3.1.0) (3.0.12)\n",
            "Collecting tokenizers<0.11,>=0.10.1\n",
            "  Downloading tokenizers-0.10.3-cp37-cp37m-manylinux_2_5_x86_64.manylinux1_x86_64.manylinux_2_12_x86_64.manylinux2010_x86_64.whl (3.3 MB)\n",
            "\u001b[K     |████████████████████████████████| 3.3 MB 38.0 MB/s \n",
            "\u001b[?25hCollecting sacremoses\n",
            "  Downloading sacremoses-0.0.45-py3-none-any.whl (895 kB)\n",
            "\u001b[K     |████████████████████████████████| 895 kB 40.6 MB/s \n",
            "\u001b[?25hRequirement already satisfied: importlib-metadata in /usr/local/lib/python3.7/dist-packages (from transformers<4.10.0,>=3.4.0->spacy-transformers<1.1.0,>=1.0.3->en-core-web-trf==3.1.0) (4.6.4)\n",
            "Collecting huggingface-hub==0.0.12\n",
            "  Downloading huggingface_hub-0.0.12-py3-none-any.whl (37 kB)\n",
            "Requirement already satisfied: click<7.2.0,>=7.1.1 in /usr/local/lib/python3.7/dist-packages (from typer<0.4.0,>=0.3.0->spacy<3.2.0,>=3.1.0->en-core-web-trf==3.1.0) (7.1.2)\n",
            "Requirement already satisfied: MarkupSafe>=0.23 in /usr/local/lib/python3.7/dist-packages (from jinja2->spacy<3.2.0,>=3.1.0->en-core-web-trf==3.1.0) (2.0.1)\n",
            "Requirement already satisfied: six in /usr/local/lib/python3.7/dist-packages (from sacremoses->transformers<4.10.0,>=3.4.0->spacy-transformers<1.1.0,>=1.0.3->en-core-web-trf==3.1.0) (1.15.0)\n",
            "Requirement already satisfied: joblib in /usr/local/lib/python3.7/dist-packages (from sacremoses->transformers<4.10.0,>=3.4.0->spacy-transformers<1.1.0,>=1.0.3->en-core-web-trf==3.1.0) (1.0.1)\n",
            "Installing collected packages: tokenizers, sacremoses, pyyaml, huggingface-hub, transformers, spacy-alignments, spacy-transformers, en-core-web-trf\n",
            "  Attempting uninstall: pyyaml\n",
            "    Found existing installation: PyYAML 3.13\n",
            "    Uninstalling PyYAML-3.13:\n",
            "      Successfully uninstalled PyYAML-3.13\n",
            "Successfully installed en-core-web-trf-3.1.0 huggingface-hub-0.0.12 pyyaml-5.4.1 sacremoses-0.0.45 spacy-alignments-0.8.3 spacy-transformers-1.0.6 tokenizers-0.10.3 transformers-4.9.2\n",
            "\u001b[33mWARNING: Running pip as the 'root' user can result in broken permissions and conflicting behaviour with the system package manager. It is recommended to use a virtual environment instead: https://pip.pypa.io/warnings/venv\u001b[0m\n",
            "\u001b[38;5;2m✔ Download and installation successful\u001b[0m\n",
            "You can now load the package via spacy.load('en_core_web_trf')\n"
          ]
        }
      ]
    },
    {
      "cell_type": "code",
      "metadata": {
        "colab": {
          "base_uri": "https://localhost:8080/"
        },
        "id": "FX5KUmqUOdjx",
        "outputId": "2416f5a8-01b0-4605-8271-d31752f26ca3"
      },
      "source": [
        "!python -m spacy init fill-config /content/base_config.cfg ./config_spacy.cfg"
      ],
      "execution_count": null,
      "outputs": [
        {
          "output_type": "stream",
          "name": "stdout",
          "text": [
            "\u001b[38;5;2m✔ Auto-filled config with all values\u001b[0m\n",
            "\u001b[38;5;2m✔ Saved config\u001b[0m\n",
            "config_spacy.cfg\n",
            "You can now add your data and train your pipeline:\n",
            "python -m spacy train config_spacy.cfg --paths.train ./train.spacy --paths.dev ./dev.spacy\n"
          ]
        }
      ]
    },
    {
      "cell_type": "code",
      "metadata": {
        "colab": {
          "base_uri": "https://localhost:8080/"
        },
        "id": "tx48tmoCOdXy",
        "outputId": "f4c95922-4381-4108-da0a-ffb56906962b"
      },
      "source": [
        "!python -m spacy debug data /content/config_spacy.cfg"
      ],
      "execution_count": null,
      "outputs": [
        {
          "output_type": "stream",
          "name": "stdout",
          "text": [
            "\u001b[1m\n",
            "============================ Data file validation ============================\u001b[0m\n",
            "Downloading: 100% 481/481 [00:00<00:00, 530kB/s]\n",
            "Downloading: 100% 899k/899k [00:00<00:00, 6.45MB/s]\n",
            "Downloading: 100% 456k/456k [00:00<00:00, 3.91MB/s]\n",
            "Downloading: 100% 1.36M/1.36M [00:00<00:00, 8.38MB/s]\n",
            "Downloading: 100% 501M/501M [00:12<00:00, 38.6MB/s]\n",
            "Some weights of the model checkpoint at roberta-base were not used when initializing RobertaModel: ['lm_head.bias', 'lm_head.dense.bias', 'lm_head.layer_norm.weight', 'lm_head.dense.weight', 'lm_head.layer_norm.bias', 'lm_head.decoder.weight']\n",
            "- This IS expected if you are initializing RobertaModel from the checkpoint of a model trained on another task or with another architecture (e.g. initializing a BertForSequenceClassification model from a BertForPreTraining model).\n",
            "- This IS NOT expected if you are initializing RobertaModel from the checkpoint of a model that you expect to be exactly identical (initializing a BertForSequenceClassification model from a BertForSequenceClassification model).\n",
            "\u001b[38;5;2m✔ Pipeline can be initialized with data\u001b[0m\n",
            "\u001b[38;5;2m✔ Corpus is loadable\u001b[0m\n",
            "\u001b[1m\n",
            "=============================== Training stats ===============================\u001b[0m\n",
            "Language: en\n",
            "Training pipeline: transformer, ner\n",
            "77 training docs\n",
            "20 evaluation docs\n",
            "\u001b[38;5;3m⚠ 4 training examples also in evaluation data\u001b[0m\n",
            "\u001b[38;5;1m✘ Low number of examples to train a new pipeline (77)\u001b[0m\n",
            "\u001b[1m\n",
            "============================== Vocab & Vectors ==============================\u001b[0m\n",
            "\u001b[38;5;4mℹ 13228 total word(s) in the data (1950 unique)\u001b[0m\n",
            "\u001b[38;5;4mℹ No word vectors present in the package\u001b[0m\n",
            "\u001b[1m\n",
            "========================== Named Entity Recognition ==========================\u001b[0m\n",
            "\u001b[38;5;4mℹ 4 label(s)\u001b[0m\n",
            "0 missing value(s) (tokens with '-' label)\n",
            "\u001b[38;5;3m⚠ 1 entity span(s) with punctuation\u001b[0m\n",
            "\u001b[38;5;2m✔ Good amount of examples for all labels\u001b[0m\n",
            "\u001b[38;5;2m✔ Examples without occurrences available for all labels\u001b[0m\n",
            "\u001b[38;5;2m✔ No entities consisting of or starting/ending with whitespace\u001b[0m\n",
            "Entity spans consisting of or starting/ending with punctuation can not be\n",
            "trained with a noise level > 0.\n",
            "\u001b[1m\n",
            "================================== Summary ==================================\u001b[0m\n",
            "\u001b[38;5;2m✔ 5 checks passed\u001b[0m\n",
            "\u001b[38;5;3m⚠ 2 warnings\u001b[0m\n",
            "\u001b[38;5;1m✘ 1 error\u001b[0m\n"
          ]
        }
      ]
    },
    {
      "cell_type": "code",
      "metadata": {
        "colab": {
          "base_uri": "https://localhost:8080/"
        },
        "id": "xM3m_or3OdKx",
        "outputId": "131d2cad-ae2c-49e3-e7b3-19671fb7d8aa"
      },
      "source": [
        "!python -m spacy train -g 0 /content/config_spacy.cfg --output ./output"
      ],
      "execution_count": null,
      "outputs": [
        {
          "output_type": "stream",
          "name": "stdout",
          "text": [
            "\u001b[38;5;2m✔ Created output directory: output\u001b[0m\n",
            "\u001b[38;5;4mℹ Saving to output directory: output\u001b[0m\n",
            "\u001b[38;5;4mℹ Using GPU: 0\u001b[0m\n",
            "\u001b[1m\n",
            "=========================== Initializing pipeline ===========================\u001b[0m\n",
            "[2021-09-03 15:38:39,656] [INFO] Set up nlp object from config\n",
            "[2021-09-03 15:38:39,670] [INFO] Pipeline: ['transformer', 'ner']\n",
            "[2021-09-03 15:38:39,675] [INFO] Created vocabulary\n",
            "[2021-09-03 15:38:39,677] [INFO] Finished initializing nlp object\n",
            "Some weights of the model checkpoint at roberta-base were not used when initializing RobertaModel: ['lm_head.dense.bias', 'lm_head.decoder.weight', 'lm_head.layer_norm.bias', 'lm_head.layer_norm.weight', 'lm_head.bias', 'lm_head.dense.weight']\n",
            "- This IS expected if you are initializing RobertaModel from the checkpoint of a model trained on another task or with another architecture (e.g. initializing a BertForSequenceClassification model from a BertForPreTraining model).\n",
            "- This IS NOT expected if you are initializing RobertaModel from the checkpoint of a model that you expect to be exactly identical (initializing a BertForSequenceClassification model from a BertForSequenceClassification model).\n",
            "[2021-09-03 15:39:38,723] [INFO] Initialized pipeline components: ['transformer', 'ner']\n",
            "\u001b[38;5;2m✔ Initialized pipeline\u001b[0m\n",
            "\u001b[1m\n",
            "============================= Training pipeline =============================\u001b[0m\n",
            "\u001b[38;5;4mℹ Pipeline: ['transformer', 'ner']\u001b[0m\n",
            "\u001b[38;5;4mℹ Initial learn rate: 0.0\u001b[0m\n",
            "E    #       LOSS TRANS...  LOSS NER  ENTS_F  ENTS_P  ENTS_R  SCORE \n",
            "---  ------  -------------  --------  ------  ------  ------  ------\n",
            "  0       0        1350.37   1803.45   12.72    7.41   44.73    0.13\n",
            " 25     200      208607.74  86040.99   72.21   70.65   73.83    0.72\n",
            " 50     400        5452.79   5564.12   75.79   74.30   77.34    0.76\n",
            " 75     600        1973.48   1971.94   77.54   77.54   77.54    0.78\n",
            "100     800        1497.96   1479.88   76.35   74.31   78.52    0.76\n",
            "125    1000        1437.03   1322.60   76.70   76.25   77.15    0.77\n",
            "150    1200        1356.46   1219.03   76.14   75.92   76.37    0.76\n",
            "175    1400        1289.87   1119.42   74.64   74.27   75.00    0.75\n",
            "200    1600        1413.59   1143.60   75.59   76.19   75.00    0.76\n",
            "225    1800        1376.57   1079.76   76.52   76.67   76.37    0.77\n",
            "250    2000        1368.47   1012.10   76.57   77.18   75.98    0.77\n",
            "275    2200        1336.96    976.34   74.88   73.27   76.56    0.75\n",
            "\u001b[38;5;2m✔ Saved pipeline to output directory\u001b[0m\n",
            "output/model-last\n"
          ]
        }
      ]
    },
    {
      "cell_type": "code",
      "metadata": {
        "id": "QLKLUv97i_DM"
      },
      "source": [
        "import spacy"
      ],
      "execution_count": null,
      "outputs": []
    },
    {
      "cell_type": "code",
      "metadata": {
        "colab": {
          "base_uri": "https://localhost:8080/"
        },
        "id": "hKzdzo1bOcxh",
        "outputId": "2998b13f-288e-444d-8248-2e529b1b229e"
      },
      "source": [
        "nlp = spacy.load(\"/content/output/model-best\")\n",
        "text = [\n",
        "'''Qualifications\n",
        "- A thorough understanding of C# and .NET Core\n",
        "- Knowledge of good database design and usage\n",
        "- An understanding of NoSQL principles\n",
        "- Excellent problem solving and critical thinking skills\n",
        "- Curious about new technologies\n",
        "- Experience building cloud hosted, scalable web services\n",
        "- Azure experience is a plus\n",
        "Requirements\n",
        "- Bachelor's degree in Computer Science or related field\n",
        "(Equivalent experience can substitute for earned educational qualifications)\n",
        "- Minimum 4 years experience with C# and .NET\n",
        "- Minimum 4 years overall experience in developing commercial software\n",
        "'''\n",
        "]\n",
        "for doc in nlp.pipe(text, disable=[\"tagger\", \"parser\"]):\n",
        "    print([(ent.text, ent.label_) for ent in doc.ents])"
      ],
      "execution_count": null,
      "outputs": [
        {
          "output_type": "stream",
          "name": "stdout",
          "text": [
            "[('C', 'SKILLS'), ('#', 'SKILLS'), ('.NET', 'SKILLS'), ('database design', 'SKILLS'), ('usage', 'SKILLS'), ('NoSQL', 'SKILLS'), ('problem solving', 'SKILLS'), ('critical thinking', 'SKILLS'), ('building cloud hosted, scalable web services', 'SKILLS'), ('Azure experience', 'SKILLS'), ('Bachelor', 'DIPLOMA'), (\"'s\", 'DIPLOMA'), ('Computer Science', 'DIPLOMA_MAJOR'), ('4 years', 'EXPERIENCE'), ('C', 'SKILLS'), ('#', 'SKILLS'), ('.NET', 'SKILLS'), ('4 years', 'EXPERIENCE'), ('developing commercial software', 'SKILLS')]\n"
          ]
        }
      ]
    },
    {
      "cell_type": "code",
      "metadata": {
        "id": "Lzvenb6lOcLM"
      },
      "source": [
        ""
      ],
      "execution_count": null,
      "outputs": []
    },
    {
      "cell_type": "markdown",
      "metadata": {
        "id": "SeQjAig0jPnQ"
      },
      "source": [
        "#RELATION EXTRACTION"
      ]
    },
    {
      "cell_type": "code",
      "metadata": {
        "colab": {
          "base_uri": "https://localhost:8080/"
        },
        "id": "pIFI3KHI28PJ",
        "outputId": "0c4a8807-cca9-43ec-f2b6-6e8c44550313"
      },
      "source": [
        "!python -m spacy project clone tutorials/rel_component"
      ],
      "execution_count": 4,
      "outputs": [
        {
          "output_type": "stream",
          "name": "stdout",
          "text": [
            "\u001b[38;5;2m✔ Cloned 'tutorials/rel_component' from explosion/projects\u001b[0m\n",
            "/content/rel_component\n",
            "\u001b[38;5;2m✔ Your project is now ready!\u001b[0m\n",
            "To fetch the assets, run:\n",
            "python -m spacy project assets /content/rel_component\n"
          ]
        }
      ]
    },
    {
      "cell_type": "code",
      "metadata": {
        "id": "Q2bqf3SRJ7WG",
        "outputId": "810fe7af-1f15-44e8-dcc1-d3f31f80898d",
        "colab": {
          "base_uri": "https://localhost:8080/"
        }
      },
      "source": [
        "!git clone https://github.com/karndeepsingh/NER-Relation.git"
      ],
      "execution_count": 5,
      "outputs": [
        {
          "output_type": "stream",
          "name": "stdout",
          "text": [
            "Cloning into 'NER-Relation'...\n",
            "remote: Enumerating objects: 40, done.\u001b[K\n",
            "remote: Counting objects: 100% (40/40), done.\u001b[K\n",
            "remote: Compressing objects: 100% (40/40), done.\u001b[K\n",
            "remote: Total 40 (delta 18), reused 0 (delta 0), pack-reused 0\u001b[K\n",
            "Unpacking objects: 100% (40/40), done.\n"
          ]
        }
      ]
    },
    {
      "cell_type": "code",
      "metadata": {
        "colab": {
          "base_uri": "https://localhost:8080/"
        },
        "id": "U-qrPse33LBO",
        "outputId": "7a9041b2-47b8-48ee-9ea6-7f3d24f2ec70"
      },
      "source": [
        "!python -m spacy download en_core_web_trf\n",
        "!pip install -U spacy transformers"
      ],
      "execution_count": 6,
      "outputs": [
        {
          "output_type": "stream",
          "name": "stdout",
          "text": [
            "Collecting en-core-web-trf==3.1.0\n",
            "  Downloading https://github.com/explosion/spacy-models/releases/download/en_core_web_trf-3.1.0/en_core_web_trf-3.1.0-py3-none-any.whl (460.2 MB)\n",
            "\u001b[K     |████████████████████████████████| 460.2 MB 9.4 kB/s \n",
            "\u001b[?25hCollecting spacy-transformers<1.1.0,>=1.0.3\n",
            "  Downloading spacy_transformers-1.0.6-py2.py3-none-any.whl (42 kB)\n",
            "\u001b[K     |████████████████████████████████| 42 kB 679 kB/s \n",
            "\u001b[?25hRequirement already satisfied: spacy<3.2.0,>=3.1.0 in /usr/local/lib/python3.7/dist-packages (from en-core-web-trf==3.1.0) (3.1.2)\n",
            "Requirement already satisfied: murmurhash<1.1.0,>=0.28.0 in /usr/local/lib/python3.7/dist-packages (from spacy<3.2.0,>=3.1.0->en-core-web-trf==3.1.0) (1.0.5)\n",
            "Requirement already satisfied: spacy-legacy<3.1.0,>=3.0.7 in /usr/local/lib/python3.7/dist-packages (from spacy<3.2.0,>=3.1.0->en-core-web-trf==3.1.0) (3.0.8)\n",
            "Requirement already satisfied: packaging>=20.0 in /usr/local/lib/python3.7/dist-packages (from spacy<3.2.0,>=3.1.0->en-core-web-trf==3.1.0) (21.0)\n",
            "Requirement already satisfied: pydantic!=1.8,!=1.8.1,<1.9.0,>=1.7.4 in /usr/local/lib/python3.7/dist-packages (from spacy<3.2.0,>=3.1.0->en-core-web-trf==3.1.0) (1.8.2)\n",
            "Requirement already satisfied: setuptools in /usr/local/lib/python3.7/dist-packages (from spacy<3.2.0,>=3.1.0->en-core-web-trf==3.1.0) (58.0.4)\n",
            "Requirement already satisfied: requests<3.0.0,>=2.13.0 in /usr/local/lib/python3.7/dist-packages (from spacy<3.2.0,>=3.1.0->en-core-web-trf==3.1.0) (2.23.0)\n",
            "Requirement already satisfied: cymem<2.1.0,>=2.0.2 in /usr/local/lib/python3.7/dist-packages (from spacy<3.2.0,>=3.1.0->en-core-web-trf==3.1.0) (2.0.5)\n",
            "Requirement already satisfied: srsly<3.0.0,>=2.4.1 in /usr/local/lib/python3.7/dist-packages (from spacy<3.2.0,>=3.1.0->en-core-web-trf==3.1.0) (2.4.1)\n",
            "Requirement already satisfied: numpy>=1.15.0 in /usr/local/lib/python3.7/dist-packages (from spacy<3.2.0,>=3.1.0->en-core-web-trf==3.1.0) (1.19.5)\n",
            "Requirement already satisfied: thinc<8.1.0,>=8.0.8 in /usr/local/lib/python3.7/dist-packages (from spacy<3.2.0,>=3.1.0->en-core-web-trf==3.1.0) (8.0.10)\n",
            "Requirement already satisfied: preshed<3.1.0,>=3.0.2 in /usr/local/lib/python3.7/dist-packages (from spacy<3.2.0,>=3.1.0->en-core-web-trf==3.1.0) (3.0.5)\n",
            "Requirement already satisfied: wasabi<1.1.0,>=0.8.1 in /usr/local/lib/python3.7/dist-packages (from spacy<3.2.0,>=3.1.0->en-core-web-trf==3.1.0) (0.8.2)\n",
            "Requirement already satisfied: jinja2 in /usr/local/lib/python3.7/dist-packages (from spacy<3.2.0,>=3.1.0->en-core-web-trf==3.1.0) (2.11.3)\n",
            "Requirement already satisfied: typer<0.4.0,>=0.3.0 in /usr/local/lib/python3.7/dist-packages (from spacy<3.2.0,>=3.1.0->en-core-web-trf==3.1.0) (0.3.2)\n",
            "Requirement already satisfied: pathy>=0.3.5 in /usr/local/lib/python3.7/dist-packages (from spacy<3.2.0,>=3.1.0->en-core-web-trf==3.1.0) (0.6.0)\n",
            "Requirement already satisfied: blis<0.8.0,>=0.4.0 in /usr/local/lib/python3.7/dist-packages (from spacy<3.2.0,>=3.1.0->en-core-web-trf==3.1.0) (0.4.1)\n",
            "Requirement already satisfied: catalogue<2.1.0,>=2.0.4 in /usr/local/lib/python3.7/dist-packages (from spacy<3.2.0,>=3.1.0->en-core-web-trf==3.1.0) (2.0.6)\n",
            "Requirement already satisfied: typing-extensions<4.0.0.0,>=3.7.4 in /usr/local/lib/python3.7/dist-packages (from spacy<3.2.0,>=3.1.0->en-core-web-trf==3.1.0) (3.7.4.3)\n",
            "Requirement already satisfied: tqdm<5.0.0,>=4.38.0 in /usr/local/lib/python3.7/dist-packages (from spacy<3.2.0,>=3.1.0->en-core-web-trf==3.1.0) (4.62.0)\n",
            "Requirement already satisfied: zipp>=0.5 in /usr/local/lib/python3.7/dist-packages (from catalogue<2.1.0,>=2.0.4->spacy<3.2.0,>=3.1.0->en-core-web-trf==3.1.0) (3.5.0)\n",
            "Requirement already satisfied: pyparsing>=2.0.2 in /usr/local/lib/python3.7/dist-packages (from packaging>=20.0->spacy<3.2.0,>=3.1.0->en-core-web-trf==3.1.0) (2.4.7)\n",
            "Requirement already satisfied: smart-open<6.0.0,>=5.0.0 in /usr/local/lib/python3.7/dist-packages (from pathy>=0.3.5->spacy<3.2.0,>=3.1.0->en-core-web-trf==3.1.0) (5.1.0)\n",
            "Requirement already satisfied: certifi>=2017.4.17 in /usr/local/lib/python3.7/dist-packages (from requests<3.0.0,>=2.13.0->spacy<3.2.0,>=3.1.0->en-core-web-trf==3.1.0) (2021.5.30)\n",
            "Requirement already satisfied: idna<3,>=2.5 in /usr/local/lib/python3.7/dist-packages (from requests<3.0.0,>=2.13.0->spacy<3.2.0,>=3.1.0->en-core-web-trf==3.1.0) (2.10)\n",
            "Requirement already satisfied: chardet<4,>=3.0.2 in /usr/local/lib/python3.7/dist-packages (from requests<3.0.0,>=2.13.0->spacy<3.2.0,>=3.1.0->en-core-web-trf==3.1.0) (3.0.4)\n",
            "Requirement already satisfied: urllib3!=1.25.0,!=1.25.1,<1.26,>=1.21.1 in /usr/local/lib/python3.7/dist-packages (from requests<3.0.0,>=2.13.0->spacy<3.2.0,>=3.1.0->en-core-web-trf==3.1.0) (1.24.3)\n",
            "Requirement already satisfied: torch>=1.5.0 in /usr/local/lib/python3.7/dist-packages (from spacy-transformers<1.1.0,>=1.0.3->en-core-web-trf==3.1.0) (1.9.0+cu102)\n",
            "Collecting spacy-alignments<1.0.0,>=0.7.2\n",
            "  Downloading spacy_alignments-0.8.3-cp37-cp37m-manylinux2014_x86_64.whl (998 kB)\n",
            "\u001b[K     |████████████████████████████████| 998 kB 8.7 MB/s \n",
            "\u001b[?25hCollecting transformers<4.10.0,>=3.4.0\n",
            "  Downloading transformers-4.9.2-py3-none-any.whl (2.6 MB)\n",
            "\u001b[K     |████████████████████████████████| 2.6 MB 36.9 MB/s \n",
            "\u001b[?25hCollecting tokenizers<0.11,>=0.10.1\n",
            "  Downloading tokenizers-0.10.3-cp37-cp37m-manylinux_2_5_x86_64.manylinux1_x86_64.manylinux_2_12_x86_64.manylinux2010_x86_64.whl (3.3 MB)\n",
            "\u001b[K     |████████████████████████████████| 3.3 MB 36.0 MB/s \n",
            "\u001b[?25hRequirement already satisfied: regex!=2019.12.17 in /usr/local/lib/python3.7/dist-packages (from transformers<4.10.0,>=3.4.0->spacy-transformers<1.1.0,>=1.0.3->en-core-web-trf==3.1.0) (2019.12.20)\n",
            "Collecting pyyaml>=5.1\n",
            "  Downloading PyYAML-5.4.1-cp37-cp37m-manylinux1_x86_64.whl (636 kB)\n",
            "\u001b[K     |████████████████████████████████| 636 kB 47.9 MB/s \n",
            "\u001b[?25hCollecting sacremoses\n",
            "  Downloading sacremoses-0.0.45-py3-none-any.whl (895 kB)\n",
            "\u001b[K     |████████████████████████████████| 895 kB 50.0 MB/s \n",
            "\u001b[?25hCollecting huggingface-hub==0.0.12\n",
            "  Downloading huggingface_hub-0.0.12-py3-none-any.whl (37 kB)\n",
            "Requirement already satisfied: importlib-metadata in /usr/local/lib/python3.7/dist-packages (from transformers<4.10.0,>=3.4.0->spacy-transformers<1.1.0,>=1.0.3->en-core-web-trf==3.1.0) (4.6.4)\n",
            "Requirement already satisfied: filelock in /usr/local/lib/python3.7/dist-packages (from transformers<4.10.0,>=3.4.0->spacy-transformers<1.1.0,>=1.0.3->en-core-web-trf==3.1.0) (3.0.12)\n",
            "Requirement already satisfied: click<7.2.0,>=7.1.1 in /usr/local/lib/python3.7/dist-packages (from typer<0.4.0,>=0.3.0->spacy<3.2.0,>=3.1.0->en-core-web-trf==3.1.0) (7.1.2)\n",
            "Requirement already satisfied: MarkupSafe>=0.23 in /usr/local/lib/python3.7/dist-packages (from jinja2->spacy<3.2.0,>=3.1.0->en-core-web-trf==3.1.0) (2.0.1)\n",
            "Requirement already satisfied: joblib in /usr/local/lib/python3.7/dist-packages (from sacremoses->transformers<4.10.0,>=3.4.0->spacy-transformers<1.1.0,>=1.0.3->en-core-web-trf==3.1.0) (1.0.1)\n",
            "Requirement already satisfied: six in /usr/local/lib/python3.7/dist-packages (from sacremoses->transformers<4.10.0,>=3.4.0->spacy-transformers<1.1.0,>=1.0.3->en-core-web-trf==3.1.0) (1.15.0)\n",
            "Installing collected packages: tokenizers, sacremoses, pyyaml, huggingface-hub, transformers, spacy-alignments, spacy-transformers, en-core-web-trf\n",
            "  Attempting uninstall: pyyaml\n",
            "    Found existing installation: PyYAML 3.13\n",
            "    Uninstalling PyYAML-3.13:\n",
            "      Successfully uninstalled PyYAML-3.13\n",
            "Successfully installed en-core-web-trf-3.1.0 huggingface-hub-0.0.12 pyyaml-5.4.1 sacremoses-0.0.45 spacy-alignments-0.8.3 spacy-transformers-1.0.6 tokenizers-0.10.3 transformers-4.9.2\n",
            "\u001b[33mWARNING: Running pip as the 'root' user can result in broken permissions and conflicting behaviour with the system package manager. It is recommended to use a virtual environment instead: https://pip.pypa.io/warnings/venv\u001b[0m\n",
            "\u001b[38;5;2m✔ Download and installation successful\u001b[0m\n",
            "You can now load the package via spacy.load('en_core_web_trf')\n",
            "Requirement already satisfied: spacy in /usr/local/lib/python3.7/dist-packages (3.1.2)\n",
            "Requirement already satisfied: transformers in /usr/local/lib/python3.7/dist-packages (4.9.2)\n",
            "Collecting transformers\n",
            "  Downloading transformers-4.10.2-py3-none-any.whl (2.8 MB)\n",
            "\u001b[K     |████████████████████████████████| 2.8 MB 5.3 MB/s \n",
            "\u001b[?25hRequirement already satisfied: pathy>=0.3.5 in /usr/local/lib/python3.7/dist-packages (from spacy) (0.6.0)\n",
            "Requirement already satisfied: thinc<8.1.0,>=8.0.8 in /usr/local/lib/python3.7/dist-packages (from spacy) (8.0.10)\n",
            "Requirement already satisfied: packaging>=20.0 in /usr/local/lib/python3.7/dist-packages (from spacy) (21.0)\n",
            "Requirement already satisfied: setuptools in /usr/local/lib/python3.7/dist-packages (from spacy) (58.0.4)\n",
            "Requirement already satisfied: numpy>=1.15.0 in /usr/local/lib/python3.7/dist-packages (from spacy) (1.19.5)\n",
            "Requirement already satisfied: pydantic!=1.8,!=1.8.1,<1.9.0,>=1.7.4 in /usr/local/lib/python3.7/dist-packages (from spacy) (1.8.2)\n",
            "Requirement already satisfied: requests<3.0.0,>=2.13.0 in /usr/local/lib/python3.7/dist-packages (from spacy) (2.23.0)\n",
            "Requirement already satisfied: srsly<3.0.0,>=2.4.1 in /usr/local/lib/python3.7/dist-packages (from spacy) (2.4.1)\n",
            "Requirement already satisfied: preshed<3.1.0,>=3.0.2 in /usr/local/lib/python3.7/dist-packages (from spacy) (3.0.5)\n",
            "Requirement already satisfied: typing-extensions<4.0.0.0,>=3.7.4 in /usr/local/lib/python3.7/dist-packages (from spacy) (3.7.4.3)\n",
            "Requirement already satisfied: blis<0.8.0,>=0.4.0 in /usr/local/lib/python3.7/dist-packages (from spacy) (0.4.1)\n",
            "Requirement already satisfied: spacy-legacy<3.1.0,>=3.0.7 in /usr/local/lib/python3.7/dist-packages (from spacy) (3.0.8)\n",
            "Requirement already satisfied: jinja2 in /usr/local/lib/python3.7/dist-packages (from spacy) (2.11.3)\n",
            "Requirement already satisfied: tqdm<5.0.0,>=4.38.0 in /usr/local/lib/python3.7/dist-packages (from spacy) (4.62.0)\n",
            "Requirement already satisfied: cymem<2.1.0,>=2.0.2 in /usr/local/lib/python3.7/dist-packages (from spacy) (2.0.5)\n",
            "Requirement already satisfied: wasabi<1.1.0,>=0.8.1 in /usr/local/lib/python3.7/dist-packages (from spacy) (0.8.2)\n",
            "Requirement already satisfied: catalogue<2.1.0,>=2.0.4 in /usr/local/lib/python3.7/dist-packages (from spacy) (2.0.6)\n",
            "Requirement already satisfied: typer<0.4.0,>=0.3.0 in /usr/local/lib/python3.7/dist-packages (from spacy) (0.3.2)\n",
            "Requirement already satisfied: murmurhash<1.1.0,>=0.28.0 in /usr/local/lib/python3.7/dist-packages (from spacy) (1.0.5)\n",
            "Requirement already satisfied: huggingface-hub>=0.0.12 in /usr/local/lib/python3.7/dist-packages (from transformers) (0.0.12)\n",
            "Requirement already satisfied: tokenizers<0.11,>=0.10.1 in /usr/local/lib/python3.7/dist-packages (from transformers) (0.10.3)\n",
            "Requirement already satisfied: sacremoses in /usr/local/lib/python3.7/dist-packages (from transformers) (0.0.45)\n",
            "Requirement already satisfied: importlib-metadata in /usr/local/lib/python3.7/dist-packages (from transformers) (4.6.4)\n",
            "Requirement already satisfied: regex!=2019.12.17 in /usr/local/lib/python3.7/dist-packages (from transformers) (2019.12.20)\n",
            "Requirement already satisfied: pyyaml>=5.1 in /usr/local/lib/python3.7/dist-packages (from transformers) (5.4.1)\n",
            "Requirement already satisfied: filelock in /usr/local/lib/python3.7/dist-packages (from transformers) (3.0.12)\n",
            "Requirement already satisfied: zipp>=0.5 in /usr/local/lib/python3.7/dist-packages (from catalogue<2.1.0,>=2.0.4->spacy) (3.5.0)\n",
            "Requirement already satisfied: pyparsing>=2.0.2 in /usr/local/lib/python3.7/dist-packages (from packaging>=20.0->spacy) (2.4.7)\n",
            "Requirement already satisfied: smart-open<6.0.0,>=5.0.0 in /usr/local/lib/python3.7/dist-packages (from pathy>=0.3.5->spacy) (5.1.0)\n",
            "Requirement already satisfied: idna<3,>=2.5 in /usr/local/lib/python3.7/dist-packages (from requests<3.0.0,>=2.13.0->spacy) (2.10)\n",
            "Requirement already satisfied: certifi>=2017.4.17 in /usr/local/lib/python3.7/dist-packages (from requests<3.0.0,>=2.13.0->spacy) (2021.5.30)\n",
            "Requirement already satisfied: chardet<4,>=3.0.2 in /usr/local/lib/python3.7/dist-packages (from requests<3.0.0,>=2.13.0->spacy) (3.0.4)\n",
            "Requirement already satisfied: urllib3!=1.25.0,!=1.25.1,<1.26,>=1.21.1 in /usr/local/lib/python3.7/dist-packages (from requests<3.0.0,>=2.13.0->spacy) (1.24.3)\n",
            "Requirement already satisfied: click<7.2.0,>=7.1.1 in /usr/local/lib/python3.7/dist-packages (from typer<0.4.0,>=0.3.0->spacy) (7.1.2)\n",
            "Requirement already satisfied: MarkupSafe>=0.23 in /usr/local/lib/python3.7/dist-packages (from jinja2->spacy) (2.0.1)\n",
            "Requirement already satisfied: joblib in /usr/local/lib/python3.7/dist-packages (from sacremoses->transformers) (1.0.1)\n",
            "Requirement already satisfied: six in /usr/local/lib/python3.7/dist-packages (from sacremoses->transformers) (1.15.0)\n",
            "Installing collected packages: transformers\n",
            "  Attempting uninstall: transformers\n",
            "    Found existing installation: transformers 4.9.2\n",
            "    Uninstalling transformers-4.9.2:\n",
            "      Successfully uninstalled transformers-4.9.2\n",
            "\u001b[31mERROR: pip's dependency resolver does not currently take into account all the packages that are installed. This behaviour is the source of the following dependency conflicts.\n",
            "spacy-transformers 1.0.6 requires transformers<4.10.0,>=3.4.0, but you have transformers 4.10.2 which is incompatible.\u001b[0m\n",
            "Successfully installed transformers-4.10.2\n",
            "\u001b[33mWARNING: Running pip as the 'root' user can result in broken permissions and conflicting behaviour with the system package manager. It is recommended to use a virtual environment instead: https://pip.pypa.io/warnings/venv\u001b[0m\n"
          ]
        }
      ]
    },
    {
      "cell_type": "code",
      "metadata": {
        "colab": {
          "base_uri": "https://localhost:8080/"
        },
        "id": "A0RwiOAT3TbC",
        "outputId": "fd22c556-2f6c-4f76-b3f7-58808dca88c5"
      },
      "source": [
        "!git clone https://github.com/walidamamou/relation_extraction_transformer.git"
      ],
      "execution_count": 7,
      "outputs": [
        {
          "output_type": "stream",
          "name": "stdout",
          "text": [
            "Cloning into 'relation_extraction_transformer'...\n",
            "remote: Enumerating objects: 34, done.\u001b[K\n",
            "remote: Counting objects: 100% (34/34), done.\u001b[K\n",
            "remote: Compressing objects: 100% (34/34), done.\u001b[K\n",
            "remote: Total 34 (delta 11), reused 0 (delta 0), pack-reused 0\u001b[K\n",
            "Unpacking objects: 100% (34/34), done.\n"
          ]
        }
      ]
    },
    {
      "cell_type": "code",
      "metadata": {
        "id": "y2uiqbNUKbGw",
        "outputId": "42812fe6-c3f4-4fda-df35-b1a5b80a4dde",
        "colab": {
          "base_uri": "https://localhost:8080/"
        }
      },
      "source": [
        "%cd /content/NER-Relation"
      ],
      "execution_count": 8,
      "outputs": [
        {
          "output_type": "stream",
          "name": "stdout",
          "text": [
            "/content/NER-Relation\n"
          ]
        }
      ]
    },
    {
      "cell_type": "code",
      "metadata": {
        "id": "4TkfHzgElRPO",
        "outputId": "0126404b-a71c-4e96-c8f4-70c19c0bebe5",
        "colab": {
          "base_uri": "https://localhost:8080/"
        }
      },
      "source": [
        "%cd .."
      ],
      "execution_count": 58,
      "outputs": [
        {
          "output_type": "stream",
          "name": "stdout",
          "text": [
            "/content\n"
          ]
        }
      ]
    },
    {
      "cell_type": "code",
      "metadata": {
        "colab": {
          "base_uri": "https://localhost:8080/"
        },
        "id": "EqOjvwnO35Hr",
        "outputId": "c4bcb48f-a557-4510-b6e4-50e92dc13f37"
      },
      "source": [
        "%cd rel_component/"
      ],
      "execution_count": 59,
      "outputs": [
        {
          "output_type": "stream",
          "name": "stdout",
          "text": [
            "/content/rel_component\n"
          ]
        }
      ]
    },
    {
      "cell_type": "markdown",
      "metadata": {
        "id": "IPzFjCmWlWro"
      },
      "source": [
        "# SPACY FORMAT CONVERSION"
      ]
    },
    {
      "cell_type": "code",
      "metadata": {
        "id": "E_DUZ2vZL7al",
        "outputId": "b72035b5-4222-45d4-f460-478f62959126",
        "colab": {
          "base_uri": "https://localhost:8080/"
        }
      },
      "source": [
        "import json\n",
        "\n",
        "import typer\n",
        "from pathlib import Path\n",
        "\n",
        "from spacy.tokens import Span, DocBin, Doc\n",
        "from spacy.vocab import Vocab\n",
        "from wasabi import Printer\n",
        "from spacy.tokenizer import Tokenizer\n",
        "from spacy.lang.en import English\n",
        "from spacy.util import compile_infix_regex\n",
        "import re\n",
        "import spacy\n",
        "\n",
        "nlp = spacy.blank(\"en\")\n",
        "# Create a blank Tokenizer with just the English vocab\n",
        "msg = Printer()\n",
        "\n",
        "SYMM_LABELS = [\"Binds\"]\n",
        "MAP_LABELS = {\"PARTY NAME\":\"PARTY NAME\",\n",
        "              \"IDCODE\":\"IDCODE\",\n",
        "    \"ROLE\": \"ROLE\",\n",
        "    \"ADDRESS\": \"ADDRESS\"\n",
        "}\n",
        "\n",
        "ann = \"/content/test_file.json\"\n",
        "train_file='./relations_training.spacy'\n",
        "dev_file='./relations_dev.spacy'\n",
        "test_file='./relations_test.spacy'\n",
        "# def main(json_loc: Path, train_file: Path, dev_file: Path, test_file: Path):\n",
        "Doc.set_extension(\"rel\", default={},force=True)\n",
        "vocab = Vocab()\n",
        "\n",
        "docs = {\"train\": [], \"dev\": [], \"test\": [], \"total\": []}\n",
        "ids = {\"train\": set(), \"dev\": set(), \"test\": set(), \"total\":set()}\n",
        "count_all = {\"train\": 0, \"dev\": 0, \"test\": 0,\"total\": 0}\n",
        "count_pos = {\"train\": 0, \"dev\": 0, \"test\": 0,\"total\": 0}\n",
        "\n",
        "with open(\"/content/NER-Relation/test_file.json\") as jsonfile:\n",
        "    file = json.load(jsonfile)\n",
        "    for example in file:\n",
        "        span_starts = set()\n",
        "        neg = 0\n",
        "        pos = 0\n",
        "        # Parse the tokens\n",
        "        \n",
        "        data = example[\"data\"]\n",
        "        tokens=nlp(data[\"text\"])\n",
        "        print(data[\"text\"])\n",
        "        print(tokens)\n",
        "        main_doc_index= {token.text : token.i for token in tokens}\n",
        "        \n",
        "        # token_start = main_doc_index[tokens[0].text]\n",
        "        # token_end = main_doc_index[tokens[0].text] + len_tokens\n",
        "        # print(main_doc_index)\n",
        "        # print(token_start, token_end)\n",
        "        print(main_doc_index)\n",
        "        annotation = example[\"annotations\"]\n",
        "        \n",
        "        \n",
        "        \n",
        "          \n",
        "\n",
        "        spaces=[]\n",
        "        spaces = [True if tok.whitespace_ else False for tok in tokens]\n",
        "        words = [t.text for t in tokens]\n",
        "        doc = Doc(nlp.vocab, words=words, spaces=spaces)\n",
        "        \n",
        "        # print(annotation[0][\"result\"])\n",
        "        # Parse the GGP entities\n",
        "        spans = annotation[0][\"result\"]\n",
        "        entities = []\n",
        "        span_end_to_start = {}\n",
        "        id_token = {}\n",
        "        start_span_token = {}\n",
        "        end_span_token = {}\n",
        "        # print(spans)\n",
        "        try:\n",
        "          for span in spans:\n",
        "\n",
        "              \n",
        "              if \"value\" in span.keys():\n",
        "                # print(span[\"value\"][\"start\"],span[\"value\"][\"end\"])\n",
        "                span_token=nlp(span[\"value\"][\"text\"])\n",
        "                # print(span_token.text)\n",
        "                len_span_tokens = len(span_token)\n",
        "                if len_span_tokens > 1 :\n",
        "                  # print(span_token[0].text)\n",
        "                  token_start = main_doc_index[span_token[0].text]\n",
        "                  token_end = main_doc_index[span_token[0].text] + len_span_tokens\n",
        "                else:\n",
        "                  token_start = main_doc_index[span_token[0].text]\n",
        "                  token_end = main_doc_index[span_token[0].text] \n",
        "\n",
        "                start_span_token[span[\"value\"][\"text\"]] = token_start\n",
        "                # print(token_start, token_end)\n",
        "                \n",
        "                entity = doc.char_span(\n",
        "                      span[\"value\"][\"start\"], \n",
        "                      span[\"value\"][\"end\"],\n",
        "                      label = span[\"value\"][\"labels\"][0]\n",
        "                  )\n",
        "\n",
        "\n",
        "                span_end_to_start[token_start] = token_start\n",
        "                id_token[span[\"id\"]] = span[\"value\"][\"text\"]\n",
        "                # print(span_end_to_start)\n",
        "                entities.append(entity)\n",
        "                span_starts.add(token_start)\n",
        "\n",
        "\n",
        "        \n",
        "                \n",
        "          print(entities)\n",
        "          doc.ents = entities\n",
        "        except Exception:\n",
        "          pass\n",
        "        # print(doc.ents)\n",
        "        # print(span_starts)\n",
        "        # print(id_token)\n",
        "        # print(start_span_token)\n",
        "\n",
        "        # Parse the relations\n",
        "        rels = {}\n",
        "        for x1 in span_starts:\n",
        "            for x2 in span_starts:\n",
        "                rels[(x1, x2)] = {}\n",
        "        # print(rels)\n",
        "\n",
        "        #print(len(relations))\n",
        "        try:\n",
        "          for relation in spans:\n",
        "            if \"from_id\" in relation.keys():\n",
        "              # the 'head' and 'child' annotations refer to the end token in the span\n",
        "              # but we want the first token\n",
        "              start =start_span_token[id_token[relation[\"from_id\"]]]\n",
        "              print(start)\n",
        "              end= start_span_token[id_token[relation[\"to_id\"]]]\n",
        "              print(end)\n",
        "              # start = span_end_to_start[relation[\"from_id\"]]\n",
        "              # end = span_end_to_start[relation[\"to_id\"]]\n",
        "              label = relation[\"labels\"][0]\n",
        "              #print(rels[(start, end)])\n",
        "              #print(label)\n",
        "              #label = MAP_LABELS[label]\n",
        "              # print(start,end)\n",
        "              if label not in rels[(start, end)]:\n",
        "                  rels[(start, end)][label] = 1.0\n",
        "                  pos += 1\n",
        "                  #print(pos)\n",
        "                  #print(rels[(start, end)])\n",
        "        except:\n",
        "          pass          \n",
        "\n",
        "        # The annotation is complete, so fill in zero's where the data is missing\n",
        "        for x1 in span_starts:\n",
        "            for x2 in span_starts:\n",
        "                for label in MAP_LABELS.values():\n",
        "                    if label not in rels[(x1, x2)]:\n",
        "                        neg += 1\n",
        "                        rels[(x1, x2)][label] = 0.0\n",
        "\n",
        "                        #print(rels[(x1, x2)])\n",
        "        doc._.rel = rels\n",
        "        print(doc._.rel)\n",
        "\n",
        "        # only keeping documents with at least 1 positive case\n",
        "        if pos > 0:\n",
        "                docs[\"total\"].append(doc)\n",
        "                count_pos[\"total\"] += pos\n",
        "                count_all[\"total\"] += pos + neg\n",
        "\n",
        "                \n",
        "                \n",
        "print(len(docs[\"total\"]))\n",
        "print(docs[\"total\"])\n",
        "docbin = DocBin(docs = docs[\"total\"], store_user_data=True)\n",
        "docbin.to_disk(train_file)\n",
        "msg.info(\n",
        "    f\"{len(docs['total'])} training sentences\"\n",
        ")"
      ],
      "execution_count": 56,
      "outputs": [
        {
          "output_type": "stream",
          "name": "stdout",
          "text": [
            "definitions words used in multiple sections of this document are defined below and other words are defined in sections 3, f1, 13, 18, 20 and 21. certain rules regarding the usage of words used in thls document are also provided in section 16. (a) “security instrument” means this document, which is dated jute 29, 2016, together with all riders to this document. {b) “borrower” is maxine adelphia haynes, a single woman. borrower is the mortgagor under this security tnstrument. {c) “mers\"” is mortgage electronic registration systems, inc, mers is a separate corporation that is acting solely as a nominee for lender and lender's successors and assigns. mers is the mortgagee under this security instrument. mers is organized and existing under the laws of delaware, and has an address and telephone number of p.o. box 2026, flint, ml 48507-2026, tel, (888) 679-mers. (od) “lender” is all in one mortgage lenders, llc. lender is a limited liability company, organized and existing under the laws of florida. lender's address is 9200 8. dadeland blvd. #105, miami, fl 33156 7\n",
            "definitions words used in multiple sections of this document are defined below and other words are defined in sections 3, f1, 13, 18, 20 and 21. certain rules regarding the usage of words used in thls document are also provided in section 16. (a) “security instrument” means this document, which is dated jute 29, 2016, together with all riders to this document. {b) “borrower” is maxine adelphia haynes, a single woman. borrower is the mortgagor under this security tnstrument. {c) “mers\"” is mortgage electronic registration systems, inc, mers is a separate corporation that is acting solely as a nominee for lender and lender's successors and assigns. mers is the mortgagee under this security instrument. mers is organized and existing under the laws of delaware, and has an address and telephone number of p.o. box 2026, flint, ml 48507-2026, tel, (888) 679-mers. (od) “lender” is all in one mortgage lenders, llc. lender is a limited liability company, organized and existing under the laws of florida. lender's address is 9200 8. dadeland blvd. #105, miami, fl 33156 7\n",
            "{'definitions': 0, 'words': 37, 'used': 38, 'in': 193, 'multiple': 4, 'sections': 18, 'of': 213, 'this': 141, 'document': 74, 'are': 42, 'defined': 16, 'below': 11, 'and': 208, 'other': 13, '3': 19, ',': 230, 'f1': 21, '13': 23, '18': 25, '20': 27, '21': 29, '.': 225, 'certain': 31, 'rules': 32, 'regarding': 33, 'the': 211, 'usage': 35, 'thls': 40, 'also': 43, 'provided': 44, 'section': 46, '16': 47, '(': 185, 'a': 202, ')': 187, '“': 188, 'security': 142, 'instrument': 143, '”': 190, 'means': 56, 'which': 60, 'is': 219, 'dated': 62, 'jute': 63, '29': 64, '2016': 66, 'together': 68, 'with': 69, 'all': 192, 'riders': 71, 'to': 72, '{': 100, 'b': 77, 'borrower': 91, 'maxine': 83, 'adelphia': 84, 'haynes': 85, 'single': 88, 'woman': 89, 'mortgagor': 94, 'under': 210, 'tnstrument': 98, 'c': 101, 'mers': 183, '\"': 105, 'mortgage': 195, 'electronic': 109, 'registration': 110, 'systems': 111, 'inc': 113, 'separate': 118, 'corporation': 119, 'that': 120, 'acting': 122, 'solely': 123, 'as': 124, 'nominee': 126, 'for': 127, 'lender': 216, \"'s\": 217, 'successors': 132, 'assigns': 134, 'mortgagee': 139, 'organized': 207, 'existing': 209, 'laws': 212, 'delaware': 154, 'has': 157, 'an': 158, 'address': 218, 'telephone': 161, 'number': 162, 'p.o': 164, 'box': 166, '2026': 174, 'flint': 169, 'ml': 171, '48507': 172, '-': 182, 'tel': 176, '888': 179, '679': 181, 'od': 186, 'one': 194, 'lenders': 196, 'llc': 198, 'limited': 203, 'liability': 204, 'company': 205, 'florida': 214, '9200': 220, '8': 221, 'dadeland': 223, 'blvd': 224, '#': 226, '105': 227, 'miami': 229, 'fl': 231, '33156': 232, '7': 233}\n",
            "[9200 8. dadeland blvd. #105, miami, fl 33156 7, “borrower”, “lender”, maxine adelphia haynes, all in one mortgage lenders, llc, single woman, limited liability company]\n",
            "188\n",
            "83\n",
            "88\n",
            "83\n",
            "188\n",
            "192\n",
            "203\n",
            "192\n",
            "220\n",
            "192\n",
            "{(192, 192): {'PARTY NAME': 0.0, 'IDCODE': 0.0, 'ROLE': 0.0, 'ADDRESS': 0.0}, (192, 203): {'PARTY NAME': 0.0, 'IDCODE': 0.0, 'ROLE': 0.0, 'ADDRESS': 0.0}, (192, 83): {'PARTY NAME': 0.0, 'IDCODE': 0.0, 'ROLE': 0.0, 'ADDRESS': 0.0}, (192, 220): {'PARTY NAME': 0.0, 'IDCODE': 0.0, 'ROLE': 0.0, 'ADDRESS': 0.0}, (192, 88): {'PARTY NAME': 0.0, 'IDCODE': 0.0, 'ROLE': 0.0, 'ADDRESS': 0.0}, (192, 188): {'PARTY NAME': 0.0, 'IDCODE': 0.0, 'ROLE': 0.0, 'ADDRESS': 0.0}, (203, 192): {'PARTY IDCODE': 1.0, 'PARTY NAME': 0.0, 'IDCODE': 0.0, 'ROLE': 0.0, 'ADDRESS': 0.0}, (203, 203): {'PARTY NAME': 0.0, 'IDCODE': 0.0, 'ROLE': 0.0, 'ADDRESS': 0.0}, (203, 83): {'PARTY NAME': 0.0, 'IDCODE': 0.0, 'ROLE': 0.0, 'ADDRESS': 0.0}, (203, 220): {'PARTY NAME': 0.0, 'IDCODE': 0.0, 'ROLE': 0.0, 'ADDRESS': 0.0}, (203, 88): {'PARTY NAME': 0.0, 'IDCODE': 0.0, 'ROLE': 0.0, 'ADDRESS': 0.0}, (203, 188): {'PARTY NAME': 0.0, 'IDCODE': 0.0, 'ROLE': 0.0, 'ADDRESS': 0.0}, (83, 192): {'PARTY NAME': 0.0, 'IDCODE': 0.0, 'ROLE': 0.0, 'ADDRESS': 0.0}, (83, 203): {'PARTY NAME': 0.0, 'IDCODE': 0.0, 'ROLE': 0.0, 'ADDRESS': 0.0}, (83, 83): {'PARTY NAME': 0.0, 'IDCODE': 0.0, 'ROLE': 0.0, 'ADDRESS': 0.0}, (83, 220): {'PARTY NAME': 0.0, 'IDCODE': 0.0, 'ROLE': 0.0, 'ADDRESS': 0.0}, (83, 88): {'PARTY NAME': 0.0, 'IDCODE': 0.0, 'ROLE': 0.0, 'ADDRESS': 0.0}, (83, 188): {'PARTY NAME': 0.0, 'IDCODE': 0.0, 'ROLE': 0.0, 'ADDRESS': 0.0}, (220, 192): {'PARTY ADDRESS': 1.0, 'PARTY NAME': 0.0, 'IDCODE': 0.0, 'ROLE': 0.0, 'ADDRESS': 0.0}, (220, 203): {'PARTY NAME': 0.0, 'IDCODE': 0.0, 'ROLE': 0.0, 'ADDRESS': 0.0}, (220, 83): {'PARTY NAME': 0.0, 'IDCODE': 0.0, 'ROLE': 0.0, 'ADDRESS': 0.0}, (220, 220): {'PARTY NAME': 0.0, 'IDCODE': 0.0, 'ROLE': 0.0, 'ADDRESS': 0.0}, (220, 88): {'PARTY NAME': 0.0, 'IDCODE': 0.0, 'ROLE': 0.0, 'ADDRESS': 0.0}, (220, 188): {'PARTY NAME': 0.0, 'IDCODE': 0.0, 'ROLE': 0.0, 'ADDRESS': 0.0}, (88, 192): {'PARTY NAME': 0.0, 'IDCODE': 0.0, 'ROLE': 0.0, 'ADDRESS': 0.0}, (88, 203): {'PARTY NAME': 0.0, 'IDCODE': 0.0, 'ROLE': 0.0, 'ADDRESS': 0.0}, (88, 83): {'PARTY IDCODE': 1.0, 'PARTY NAME': 0.0, 'IDCODE': 0.0, 'ROLE': 0.0, 'ADDRESS': 0.0}, (88, 220): {'PARTY NAME': 0.0, 'IDCODE': 0.0, 'ROLE': 0.0, 'ADDRESS': 0.0}, (88, 88): {'PARTY NAME': 0.0, 'IDCODE': 0.0, 'ROLE': 0.0, 'ADDRESS': 0.0}, (88, 188): {'PARTY NAME': 0.0, 'IDCODE': 0.0, 'ROLE': 0.0, 'ADDRESS': 0.0}, (188, 192): {'PARTY ROLE': 1.0, 'PARTY NAME': 0.0, 'IDCODE': 0.0, 'ROLE': 0.0, 'ADDRESS': 0.0}, (188, 203): {'PARTY NAME': 0.0, 'IDCODE': 0.0, 'ROLE': 0.0, 'ADDRESS': 0.0}, (188, 83): {'PARTY ROLE': 1.0, 'PARTY NAME': 0.0, 'IDCODE': 0.0, 'ROLE': 0.0, 'ADDRESS': 0.0}, (188, 220): {'PARTY NAME': 0.0, 'IDCODE': 0.0, 'ROLE': 0.0, 'ADDRESS': 0.0}, (188, 88): {'PARTY NAME': 0.0, 'IDCODE': 0.0, 'ROLE': 0.0, 'ADDRESS': 0.0}, (188, 188): {'PARTY NAME': 0.0, 'IDCODE': 0.0, 'ROLE': 0.0, 'ADDRESS': 0.0}}\n",
            "definitions words used in multiple sections of this document are defined below and other words are defined in sections 3, 11, 13, 18, 20 and 21. certain rules regarding the usage of words used in this document are also provided in section 16. (a) \"security instrument\" means this document, which is dated july 18, 2005 together with all riders to this document. @) \"borrower\" is john m. stewart and elizabeth a. stewart, husband and wife borrower is the trustor under this security instrument. (c) \"lender\" is ameriquest mortgage company\n",
            "definitions words used in multiple sections of this document are defined below and other words are defined in sections 3, 11, 13, 18, 20 and 21. certain rules regarding the usage of words used in this document are also provided in section 16. (a) \"security instrument\" means this document, which is dated july 18, 2005 together with all riders to this document. @) \"borrower\" is john m. stewart and elizabeth a. stewart, husband and wife borrower is the trustor under this security instrument. (c) \"lender\" is ameriquest mortgage company\n",
            "{'definitions': 0, 'words': 37, 'used': 38, 'in': 45, 'multiple': 4, 'sections': 18, 'of': 36, 'this': 97, 'document': 73, 'are': 42, 'defined': 16, 'below': 11, 'and': 90, 'other': 13, '3': 19, ',': 88, '11': 21, '13': 23, '18': 64, '20': 27, '21': 29, '.': 100, 'certain': 31, 'rules': 32, 'regarding': 33, 'the': 94, 'usage': 35, 'also': 43, 'provided': 44, 'section': 46, '16': 47, '(': 101, 'a': 50, ')': 103, '\"': 106, 'security': 98, 'instrument': 99, 'means': 56, 'which': 60, 'is': 107, 'dated': 62, 'july': 63, '2005': 66, 'together': 67, 'with': 68, 'all': 69, 'riders': 70, 'to': 71, '@': 75, 'borrower': 92, 'john': 81, 'm.': 82, 'stewart': 87, 'elizabeth': 85, 'a.': 86, 'husband': 89, 'wife': 91, 'trustor': 95, 'under': 96, 'c': 102, 'lender': 105, 'ameriquest': 108, 'mortgage': 109, 'company': 110}\n",
            "[\"borrower\", \"lender\", john m. stewart and elizabeth a. stewart,, husband and wife, ameriquest mortgage company]\n",
            "106\n",
            "81\n",
            "89\n",
            "81\n",
            "106\n",
            "108\n",
            "{(89, 89): {'PARTY NAME': 0.0, 'IDCODE': 0.0, 'ROLE': 0.0, 'ADDRESS': 0.0}, (89, 81): {'PARTY IDCODE': 1.0, 'PARTY NAME': 0.0, 'IDCODE': 0.0, 'ROLE': 0.0, 'ADDRESS': 0.0}, (89, 106): {'PARTY NAME': 0.0, 'IDCODE': 0.0, 'ROLE': 0.0, 'ADDRESS': 0.0}, (89, 108): {'PARTY NAME': 0.0, 'IDCODE': 0.0, 'ROLE': 0.0, 'ADDRESS': 0.0}, (81, 89): {'PARTY NAME': 0.0, 'IDCODE': 0.0, 'ROLE': 0.0, 'ADDRESS': 0.0}, (81, 81): {'PARTY NAME': 0.0, 'IDCODE': 0.0, 'ROLE': 0.0, 'ADDRESS': 0.0}, (81, 106): {'PARTY NAME': 0.0, 'IDCODE': 0.0, 'ROLE': 0.0, 'ADDRESS': 0.0}, (81, 108): {'PARTY NAME': 0.0, 'IDCODE': 0.0, 'ROLE': 0.0, 'ADDRESS': 0.0}, (106, 89): {'PARTY NAME': 0.0, 'IDCODE': 0.0, 'ROLE': 0.0, 'ADDRESS': 0.0}, (106, 81): {'PARTY ROLE': 1.0, 'PARTY NAME': 0.0, 'IDCODE': 0.0, 'ROLE': 0.0, 'ADDRESS': 0.0}, (106, 106): {'PARTY NAME': 0.0, 'IDCODE': 0.0, 'ROLE': 0.0, 'ADDRESS': 0.0}, (106, 108): {'PARTY ROLE': 1.0, 'PARTY NAME': 0.0, 'IDCODE': 0.0, 'ROLE': 0.0, 'ADDRESS': 0.0}, (108, 89): {'PARTY NAME': 0.0, 'IDCODE': 0.0, 'ROLE': 0.0, 'ADDRESS': 0.0}, (108, 81): {'PARTY NAME': 0.0, 'IDCODE': 0.0, 'ROLE': 0.0, 'ADDRESS': 0.0}, (108, 106): {'PARTY NAME': 0.0, 'IDCODE': 0.0, 'ROLE': 0.0, 'ADDRESS': 0.0}, (108, 108): {'PARTY NAME': 0.0, 'IDCODE': 0.0, 'ROLE': 0.0, 'ADDRESS': 0.0}}\n",
            "definitions, words used in multiple sections of this document are defined below and other words are defined in sections 3, 11, 13, 18, 20 and 21. certain rules regarding the usage of words used in this document are also provided in section 16. (a) “security instrument” means this document, which is cated april 28, 2046, together with all riders lo this document. (b) “borrower” is marvin davis and della davis. borrower is the trustor under this security instrument. (c) “lender” is banc of california, national association, dba banc home loans. lender is a national association, organized and existing under the laws of the united states of america. lender's address is 18500 von karman avenue, suite 1100, irvine, ca 92612. (d) “trustee” is ticor title.\n",
            "definitions, words used in multiple sections of this document are defined below and other words are defined in sections 3, 11, 13, 18, 20 and 21. certain rules regarding the usage of words used in this document are also provided in section 16. (a) “security instrument” means this document, which is cated april 28, 2046, together with all riders lo this document. (b) “borrower” is marvin davis and della davis. borrower is the trustor under this security instrument. (c) “lender” is banc of california, national association, dba banc home loans. lender is a national association, organized and existing under the laws of the united states of america. lender's address is 18500 von karman avenue, suite 1100, irvine, ca 92612. (d) “trustee” is ticor title.\n",
            "{'definitions': 0, ',': 150, 'words': 38, 'used': 39, 'in': 46, 'multiple': 5, 'sections': 19, 'of': 134, 'this': 95, 'document': 75, 'are': 43, 'defined': 17, 'below': 12, 'and': 125, 'other': 14, '3': 20, '11': 22, '13': 24, '18': 26, '20': 28, '21': 30, '.': 163, 'certain': 32, 'rules': 33, 'regarding': 34, 'the': 131, 'usage': 36, 'also': 44, 'provided': 45, 'section': 47, '16': 48, '(': 154, 'a': 120, ')': 156, '“': 157, 'security': 96, 'instrument': 97, '”': 159, 'means': 57, 'which': 61, 'is': 160, 'cated': 63, 'april': 64, '28': 65, '2046': 67, 'together': 69, 'with': 70, 'all': 71, 'riders': 72, 'lo': 73, 'b': 78, 'borrower': 90, 'marvin': 84, 'davis': 88, 'della': 87, 'trustor': 93, 'under': 127, 'c': 100, 'lender': 137, 'banc': 114, 'california': 108, 'national': 121, 'association': 122, 'dba': 113, 'home': 115, 'loans': 116, 'organized': 124, 'existing': 126, 'laws': 129, 'united': 132, 'states': 133, 'america': 135, \"'s\": 138, 'address': 139, '18500': 141, 'von': 142, 'karman': 143, 'avenue': 144, 'suite': 146, '1100': 147, 'irvine': 149, 'ca': 151, '92612': 152, 'd': 155, 'trustee': 158, 'ticor': 161, 'title': 162}\n",
            "[18500 von karman avenue, suite 1100, irvine, ca 92612, “borrower”, “lender”, “trustee”, marvin davis and della davis, banc of california, ticor title.]\n",
            "157\n",
            "84\n",
            "157\n",
            "114\n",
            "141\n",
            "114\n",
            "157\n",
            "161\n",
            "{(161, 161): {'PARTY NAME': 0.0, 'IDCODE': 0.0, 'ROLE': 0.0, 'ADDRESS': 0.0}, (161, 141): {'PARTY NAME': 0.0, 'IDCODE': 0.0, 'ROLE': 0.0, 'ADDRESS': 0.0}, (161, 114): {'PARTY NAME': 0.0, 'IDCODE': 0.0, 'ROLE': 0.0, 'ADDRESS': 0.0}, (161, 84): {'PARTY NAME': 0.0, 'IDCODE': 0.0, 'ROLE': 0.0, 'ADDRESS': 0.0}, (161, 157): {'PARTY NAME': 0.0, 'IDCODE': 0.0, 'ROLE': 0.0, 'ADDRESS': 0.0}, (141, 161): {'PARTY NAME': 0.0, 'IDCODE': 0.0, 'ROLE': 0.0, 'ADDRESS': 0.0}, (141, 141): {'PARTY NAME': 0.0, 'IDCODE': 0.0, 'ROLE': 0.0, 'ADDRESS': 0.0}, (141, 114): {'PARTY ADDRESS': 1.0, 'PARTY NAME': 0.0, 'IDCODE': 0.0, 'ROLE': 0.0, 'ADDRESS': 0.0}, (141, 84): {'PARTY NAME': 0.0, 'IDCODE': 0.0, 'ROLE': 0.0, 'ADDRESS': 0.0}, (141, 157): {'PARTY NAME': 0.0, 'IDCODE': 0.0, 'ROLE': 0.0, 'ADDRESS': 0.0}, (114, 161): {'PARTY NAME': 0.0, 'IDCODE': 0.0, 'ROLE': 0.0, 'ADDRESS': 0.0}, (114, 141): {'PARTY NAME': 0.0, 'IDCODE': 0.0, 'ROLE': 0.0, 'ADDRESS': 0.0}, (114, 114): {'PARTY NAME': 0.0, 'IDCODE': 0.0, 'ROLE': 0.0, 'ADDRESS': 0.0}, (114, 84): {'PARTY NAME': 0.0, 'IDCODE': 0.0, 'ROLE': 0.0, 'ADDRESS': 0.0}, (114, 157): {'PARTY NAME': 0.0, 'IDCODE': 0.0, 'ROLE': 0.0, 'ADDRESS': 0.0}, (84, 161): {'PARTY NAME': 0.0, 'IDCODE': 0.0, 'ROLE': 0.0, 'ADDRESS': 0.0}, (84, 141): {'PARTY NAME': 0.0, 'IDCODE': 0.0, 'ROLE': 0.0, 'ADDRESS': 0.0}, (84, 114): {'PARTY NAME': 0.0, 'IDCODE': 0.0, 'ROLE': 0.0, 'ADDRESS': 0.0}, (84, 84): {'PARTY NAME': 0.0, 'IDCODE': 0.0, 'ROLE': 0.0, 'ADDRESS': 0.0}, (84, 157): {'PARTY NAME': 0.0, 'IDCODE': 0.0, 'ROLE': 0.0, 'ADDRESS': 0.0}, (157, 161): {'PARTY ROLE': 1.0, 'PARTY NAME': 0.0, 'IDCODE': 0.0, 'ROLE': 0.0, 'ADDRESS': 0.0}, (157, 141): {'PARTY NAME': 0.0, 'IDCODE': 0.0, 'ROLE': 0.0, 'ADDRESS': 0.0}, (157, 114): {'PARTY ROLE': 1.0, 'PARTY NAME': 0.0, 'IDCODE': 0.0, 'ROLE': 0.0, 'ADDRESS': 0.0}, (157, 84): {'PARTY ROLE': 1.0, 'PARTY NAME': 0.0, 'IDCODE': 0.0, 'ROLE': 0.0, 'ADDRESS': 0.0}, (157, 157): {'PARTY NAME': 0.0, 'IDCODE': 0.0, 'ROLE': 0.0, 'ADDRESS': 0.0}}\n",
            "definitions. words used in multiple sections of this document are defined below and other words are defined in sections 3, i1, 13, 18, 20 and 21. certain rules regarding the usage of words used in this document are also provided in section 16. (a) “security instrument” means this document, which is dated july 9, 2016, together with all riders to this document. (b) “borrower” is andrew j, alldredge and sharon l. alldredge, co-trustees of the andrew & sharon alldredge 2012 family trust dated april 18, 2012, revocable living trust. borrower's address is 559 ave, coronado, ca 92118. borrower is the trustor under this security instrument. (c) “lender” is jpmorgan chase bank, n.a.. lender is a national banking association organized and existing under the jaws of the united states. lender's address is !1 11 polaris parkway, columbus, oh 43240 . lender is the beneficiary under this security instrument. (d) “trustee” is jpmorgan chase bank, n.a.. (e) “note” means the promissory note signed by borrower and dated july 9, 2016. the note states that borrower owes lender three hundred twenty seven thousand and 00/100 dollars (u.s. $327,000.00) plus interest. borrower has promised to pay this debt in regular periodic payments and to pay the debt in full not later than august 1, 2046 (f) “property” means the property that is described below under the heading \"transfer of rights in the pronerty.\"\n",
            "definitions. words used in multiple sections of this document are defined below and other words are defined in sections 3, i1, 13, 18, 20 and 21. certain rules regarding the usage of words used in this document are also provided in section 16. (a) “security instrument” means this document, which is dated july 9, 2016, together with all riders to this document. (b) “borrower” is andrew j, alldredge and sharon l. alldredge, co-trustees of the andrew & sharon alldredge 2012 family trust dated april 18, 2012, revocable living trust. borrower's address is 559 ave, coronado, ca 92118. borrower is the trustor under this security instrument. (c) “lender” is jpmorgan chase bank, n.a.. lender is a national banking association organized and existing under the jaws of the united states. lender's address is !1 11 polaris parkway, columbus, oh 43240 . lender is the beneficiary under this security instrument. (d) “trustee” is jpmorgan chase bank, n.a.. (e) “note” means the promissory note signed by borrower and dated july 9, 2016. the note states that borrower owes lender three hundred twenty seven thousand and 00/100 dollars (u.s. $327,000.00) plus interest. borrower has promised to pay this debt in regular periodic payments and to pay the debt in full not later than august 1, 2046 (f) “property” means the property that is described below under the heading \"transfer of rights in the pronerty.\"\n",
            "{'definitions': 0, '.': 295, 'words': 38, 'used': 39, 'in': 292, 'multiple': 5, 'sections': 19, 'of': 290, 'this': 252, 'document': 75, 'are': 43, 'defined': 17, 'below': 284, 'and': 258, 'other': 14, '3': 20, ',': 270, 'i1': 22, '13': 24, '18': 107, '20': 28, '21': 30, 'certain': 32, 'rules': 33, 'regarding': 34, 'the': 293, 'usage': 36, 'also': 44, 'provided': 45, 'section': 47, '16': 48, '(': 272, 'a': 151, ')': 274, '“': 275, 'security': 187, 'instrument': 188, '”': 277, 'means': 278, 'which': 61, 'is': 282, 'dated': 217, 'july': 218, '9': 219, '2016': 221, 'together': 69, 'with': 70, 'all': 71, 'riders': 72, 'to': 259, 'b': 78, 'borrower': 247, 'andrew': 98, 'j': 85, 'alldredge': 101, 'sharon': 100, 'l.': 90, 'co': 93, '-': 94, 'trustees': 95, '&': 99, '2012': 109, 'family': 103, 'trust': 113, 'april': 106, 'revocable': 111, 'living': 112, \"'s\": 167, 'address': 168, '559': 119, 'ave': 120, 'coronado': 122, 'ca': 124, '92118': 125, 'trustor': 130, 'under': 285, 'c': 137, 'lender': 229, 'jpmorgan': 197, 'chase': 198, 'bank': 199, 'n.a': 201, '..': 202, 'national': 152, 'banking': 153, 'association': 154, 'organized': 155, 'existing': 157, 'jaws': 160, 'united': 163, 'states': 225, '!': 170, '1': 269, '11': 172, 'polaris': 173, 'parkway': 174, 'columbus': 176, 'oh': 178, '43240': 179, 'beneficiary': 184, 'd': 191, 'trustee': 194, 'e': 204, 'note': 224, 'promissory': 211, 'signed': 213, 'by': 214, 'that': 281, 'owes': 228, 'three': 230, 'hundred': 231, 'twenty': 232, 'seven': 233, 'thousand': 234, '00/100': 236, 'dollars': 237, 'u.s': 239, '$': 241, '327,000.00': 242, 'plus': 244, 'interest': 245, 'has': 248, 'promised': 249, 'pay': 260, 'debt': 262, 'regular': 255, 'periodic': 256, 'payments': 257, 'full': 264, 'not': 265, 'later': 266, 'than': 267, 'august': 268, '2046': 271, 'f': 273, 'property': 280, 'described': 283, 'heading': 287, '\"': 296, 'transfer': 289, 'rights': 291, 'pronerty': 294}\n",
            "[559 ave, coronado, ca 92118, 11 polaris parkway, columbus, oh 43240, “borrower”, “lender”, “trustee”, andrew j, alldredge and sharon l. alldredge, jpmorgan chase bank, jpmorgan chase bank]\n",
            "275\n",
            "98\n",
            "119\n",
            "98\n",
            "275\n",
            "197\n",
            "172\n",
            "197\n",
            "275\n",
            "197\n",
            "{(98, 98): {'PARTY NAME': 0.0, 'IDCODE': 0.0, 'ROLE': 0.0, 'ADDRESS': 0.0}, (98, 197): {'PARTY NAME': 0.0, 'IDCODE': 0.0, 'ROLE': 0.0, 'ADDRESS': 0.0}, (98, 172): {'PARTY NAME': 0.0, 'IDCODE': 0.0, 'ROLE': 0.0, 'ADDRESS': 0.0}, (98, 275): {'PARTY NAME': 0.0, 'IDCODE': 0.0, 'ROLE': 0.0, 'ADDRESS': 0.0}, (98, 119): {'PARTY NAME': 0.0, 'IDCODE': 0.0, 'ROLE': 0.0, 'ADDRESS': 0.0}, (197, 98): {'PARTY NAME': 0.0, 'IDCODE': 0.0, 'ROLE': 0.0, 'ADDRESS': 0.0}, (197, 197): {'PARTY NAME': 0.0, 'IDCODE': 0.0, 'ROLE': 0.0, 'ADDRESS': 0.0}, (197, 172): {'PARTY NAME': 0.0, 'IDCODE': 0.0, 'ROLE': 0.0, 'ADDRESS': 0.0}, (197, 275): {'PARTY NAME': 0.0, 'IDCODE': 0.0, 'ROLE': 0.0, 'ADDRESS': 0.0}, (197, 119): {'PARTY NAME': 0.0, 'IDCODE': 0.0, 'ROLE': 0.0, 'ADDRESS': 0.0}, (172, 98): {'PARTY NAME': 0.0, 'IDCODE': 0.0, 'ROLE': 0.0, 'ADDRESS': 0.0}, (172, 197): {'PARTY ADDRESS': 1.0, 'PARTY NAME': 0.0, 'IDCODE': 0.0, 'ROLE': 0.0, 'ADDRESS': 0.0}, (172, 172): {'PARTY NAME': 0.0, 'IDCODE': 0.0, 'ROLE': 0.0, 'ADDRESS': 0.0}, (172, 275): {'PARTY NAME': 0.0, 'IDCODE': 0.0, 'ROLE': 0.0, 'ADDRESS': 0.0}, (172, 119): {'PARTY NAME': 0.0, 'IDCODE': 0.0, 'ROLE': 0.0, 'ADDRESS': 0.0}, (275, 98): {'PARTY ROLE': 1.0, 'PARTY NAME': 0.0, 'IDCODE': 0.0, 'ROLE': 0.0, 'ADDRESS': 0.0}, (275, 197): {'PARTY ROLE': 1.0, 'PARTY NAME': 0.0, 'IDCODE': 0.0, 'ROLE': 0.0, 'ADDRESS': 0.0}, (275, 172): {'PARTY NAME': 0.0, 'IDCODE': 0.0, 'ROLE': 0.0, 'ADDRESS': 0.0}, (275, 275): {'PARTY NAME': 0.0, 'IDCODE': 0.0, 'ROLE': 0.0, 'ADDRESS': 0.0}, (275, 119): {'PARTY NAME': 0.0, 'IDCODE': 0.0, 'ROLE': 0.0, 'ADDRESS': 0.0}, (119, 98): {'PARTY ADDRESS': 1.0, 'PARTY NAME': 0.0, 'IDCODE': 0.0, 'ROLE': 0.0, 'ADDRESS': 0.0}, (119, 197): {'PARTY NAME': 0.0, 'IDCODE': 0.0, 'ROLE': 0.0, 'ADDRESS': 0.0}, (119, 172): {'PARTY NAME': 0.0, 'IDCODE': 0.0, 'ROLE': 0.0, 'ADDRESS': 0.0}, (119, 275): {'PARTY NAME': 0.0, 'IDCODE': 0.0, 'ROLE': 0.0, 'ADDRESS': 0.0}, (119, 119): {'PARTY NAME': 0.0, 'IDCODE': 0.0, 'ROLE': 0.0, 'ADDRESS': 0.0}}\n",
            "definitions words used in multiple sections of this document are defined below and other words ate defined in sections 3, 11, 13, 18, 20 and 21. certain rules regarding the usage of words used in this document are also provided in section 16. (a) \"security instrument” means this document, which is dated july 24, 2017 — , together with all riders to this document. (b) “borrower\"ismark d. nienhaus and mary beth nienhaus, husband and wife borrower is the trustor under this security instrument. (©) “lender\"is quicken loans inc. lender isa corporation corporation organized and existing under the laws of the state of michigan\n",
            "definitions words used in multiple sections of this document are defined below and other words ate defined in sections 3, 11, 13, 18, 20 and 21. certain rules regarding the usage of words used in this document are also provided in section 16. (a) \"security instrument” means this document, which is dated july 24, 2017 — , together with all riders to this document. (b) “borrower\"ismark d. nienhaus and mary beth nienhaus, husband and wife borrower is the trustor under this security instrument. (©) “lender\"is quicken loans inc. lender isa corporation corporation organized and existing under the laws of the state of michigan\n",
            "{'definitions': 0, 'words': 37, 'used': 38, 'in': 45, 'multiple': 4, 'sections': 18, 'of': 123, 'this': 97, 'document': 75, 'are': 42, 'defined': 16, 'below': 11, 'and': 115, 'other': 13, 'ate': 15, '3': 19, ',': 88, '11': 21, '13': 23, '18': 25, '20': 27, '21': 29, '.': 109, 'certain': 31, 'rules': 32, 'regarding': 33, 'the': 121, 'usage': 35, 'also': 43, 'provided': 44, 'section': 46, '16': 47, '(': 101, 'a': 50, ')': 103, '\"': 52, 'security': 98, 'instrument': 99, '”': 55, 'means': 56, 'which': 60, 'is': 93, 'dated': 62, 'july': 63, '24': 64, '2017': 66, '—': 67, 'together': 69, 'with': 70, 'all': 71, 'riders': 72, 'to': 73, 'b': 78, '“': 104, 'borrower\"ismark': 81, 'd.': 82, 'nienhaus': 87, 'mary': 85, 'beth': 86, 'husband': 89, 'wife': 91, 'borrower': 92, 'trustor': 95, 'under': 117, '©': 102, 'lender\"is': 105, 'quicken': 106, 'loans': 107, 'inc': 108, 'lender': 110, 'isa': 111, 'corporation': 113, 'organized': 114, 'existing': 116, 'laws': 119, 'state': 122, 'michigan': 124}\n",
            "104\n",
            "{(104, 104): {'PARTY NAME': 0.0, 'IDCODE': 0.0, 'ROLE': 0.0, 'ADDRESS': 0.0}}\n",
            "definitions. words used in multiple sections of this document are defined below and other words are defined in sections 3, 11, 13, 18, 20 and 21. certain rules regarding the usage of words used in this document are also provided in section 16. (a) “security instrument” means this document, which is dated august 30, 2014, together with all riders to this document. (b) “borrower” is mitchell w. graff and nina m. graff, husband and wife,. borrower is the mortgagor under this security instrument. (c) “mers” is mortgage electronic registration systems, inc. mers is a separate corporation that is acting solely asa nominee for lender and lender’s successors and assigns. mers is the mortgagee under this security instrument. mers is organized and existing under the laws of delaware, and has an address and telephone number of p.o. box 2026, flint, mi 48501-2026, tel. (888) 679-mers. (d) “lender” is national bank of kansas city. lender is an association, organized and existing under the laws of the united states of america. lender’s address is 10700 nall avenue, suite 300, overland park, ks 66211\n",
            "definitions. words used in multiple sections of this document are defined below and other words are defined in sections 3, 11, 13, 18, 20 and 21. certain rules regarding the usage of words used in this document are also provided in section 16. (a) “security instrument” means this document, which is dated august 30, 2014, together with all riders to this document. (b) “borrower” is mitchell w. graff and nina m. graff, husband and wife,. borrower is the mortgagor under this security instrument. (c) “mers” is mortgage electronic registration systems, inc. mers is a separate corporation that is acting solely asa nominee for lender and lender’s successors and assigns. mers is the mortgagee under this security instrument. mers is organized and existing under the laws of delaware, and has an address and telephone number of p.o. box 2026, flint, mi 48501-2026, tel. (888) 679-mers. (d) “lender” is national bank of kansas city. lender is an association, organized and existing under the laws of the united states of america. lender’s address is 10700 nall avenue, suite 300, overland park, ks 66211\n",
            "{'definitions': 0, '.': 219, 'words': 38, 'used': 39, 'in': 46, 'multiple': 5, 'sections': 19, 'of': 217, 'this': 145, 'document': 75, 'are': 43, 'defined': 17, 'below': 12, 'and': 208, 'other': 14, '3': 20, ',': 233, '11': 22, '13': 24, '18': 26, '20': 28, '21': 30, 'certain': 32, 'rules': 33, 'regarding': 34, 'the': 214, 'usage': 36, 'also': 44, 'provided': 45, 'section': 47, '16': 48, '(': 189, 'a': 122, ')': 191, '“': 192, 'security': 146, 'instrument': 147, '”': 194, 'means': 57, 'which': 61, 'is': 223, 'dated': 63, 'august': 64, '30': 65, '2014': 67, 'together': 69, 'with': 70, 'all': 71, 'riders': 72, 'to': 73, 'b': 78, 'borrower': 97, 'mitchell': 84, 'w.': 85, 'graff': 90, 'nina': 88, 'm.': 89, 'husband': 92, 'wife': 94, 'mortgagor': 100, 'under': 210, 'c': 107, 'mers': 187, 'mortgage': 113, 'electronic': 114, 'registration': 115, 'systems': 116, 'inc': 118, 'separate': 123, 'corporation': 124, 'that': 125, 'acting': 127, 'solely': 128, 'asa': 129, 'nominee': 130, 'for': 131, 'lender': 220, '’s': 221, 'successors': 136, 'assigns': 138, 'mortgagee': 143, 'organized': 207, 'existing': 209, 'laws': 212, 'delaware': 158, 'has': 161, 'an': 204, 'address': 222, 'telephone': 165, 'number': 166, 'p.o': 168, 'box': 170, '2026': 178, 'flint': 173, 'mi': 175, '48501': 176, '-': 186, 'tel': 180, '888': 183, '679': 185, 'd': 190, 'national': 196, 'bank': 197, 'kansas': 199, 'city': 200, 'association': 205, 'united': 215, 'states': 216, 'america': 218, '10700': 224, 'nall': 225, 'avenue': 226, 'suite': 228, '300': 229, 'overland': 231, 'park': 232, 'ks': 234, '66211': 235}\n",
            "[10700 nall avenue, suite 300, overland park, ks 66211, “borrower”, “lender”, mitchell w. graff and nina m. graff, national bank of kansas city, husband and wife]\n",
            "192\n",
            "84\n",
            "92\n",
            "84\n",
            "192\n",
            "196\n",
            "224\n",
            "196\n",
            "{(224, 224): {'PARTY NAME': 0.0, 'IDCODE': 0.0, 'ROLE': 0.0, 'ADDRESS': 0.0}, (224, 192): {'PARTY NAME': 0.0, 'IDCODE': 0.0, 'ROLE': 0.0, 'ADDRESS': 0.0}, (224, 196): {'PARTY ADDRESS': 1.0, 'PARTY NAME': 0.0, 'IDCODE': 0.0, 'ROLE': 0.0, 'ADDRESS': 0.0}, (224, 84): {'PARTY NAME': 0.0, 'IDCODE': 0.0, 'ROLE': 0.0, 'ADDRESS': 0.0}, (224, 92): {'PARTY NAME': 0.0, 'IDCODE': 0.0, 'ROLE': 0.0, 'ADDRESS': 0.0}, (192, 224): {'PARTY NAME': 0.0, 'IDCODE': 0.0, 'ROLE': 0.0, 'ADDRESS': 0.0}, (192, 192): {'PARTY NAME': 0.0, 'IDCODE': 0.0, 'ROLE': 0.0, 'ADDRESS': 0.0}, (192, 196): {'PARTY ROLE': 1.0, 'PARTY NAME': 0.0, 'IDCODE': 0.0, 'ROLE': 0.0, 'ADDRESS': 0.0}, (192, 84): {'PARTY ROLE': 1.0, 'PARTY NAME': 0.0, 'IDCODE': 0.0, 'ROLE': 0.0, 'ADDRESS': 0.0}, (192, 92): {'PARTY NAME': 0.0, 'IDCODE': 0.0, 'ROLE': 0.0, 'ADDRESS': 0.0}, (196, 224): {'PARTY NAME': 0.0, 'IDCODE': 0.0, 'ROLE': 0.0, 'ADDRESS': 0.0}, (196, 192): {'PARTY NAME': 0.0, 'IDCODE': 0.0, 'ROLE': 0.0, 'ADDRESS': 0.0}, (196, 196): {'PARTY NAME': 0.0, 'IDCODE': 0.0, 'ROLE': 0.0, 'ADDRESS': 0.0}, (196, 84): {'PARTY NAME': 0.0, 'IDCODE': 0.0, 'ROLE': 0.0, 'ADDRESS': 0.0}, (196, 92): {'PARTY NAME': 0.0, 'IDCODE': 0.0, 'ROLE': 0.0, 'ADDRESS': 0.0}, (84, 224): {'PARTY NAME': 0.0, 'IDCODE': 0.0, 'ROLE': 0.0, 'ADDRESS': 0.0}, (84, 192): {'PARTY NAME': 0.0, 'IDCODE': 0.0, 'ROLE': 0.0, 'ADDRESS': 0.0}, (84, 196): {'PARTY NAME': 0.0, 'IDCODE': 0.0, 'ROLE': 0.0, 'ADDRESS': 0.0}, (84, 84): {'PARTY NAME': 0.0, 'IDCODE': 0.0, 'ROLE': 0.0, 'ADDRESS': 0.0}, (84, 92): {'PARTY NAME': 0.0, 'IDCODE': 0.0, 'ROLE': 0.0, 'ADDRESS': 0.0}, (92, 224): {'PARTY NAME': 0.0, 'IDCODE': 0.0, 'ROLE': 0.0, 'ADDRESS': 0.0}, (92, 192): {'PARTY NAME': 0.0, 'IDCODE': 0.0, 'ROLE': 0.0, 'ADDRESS': 0.0}, (92, 196): {'PARTY NAME': 0.0, 'IDCODE': 0.0, 'ROLE': 0.0, 'ADDRESS': 0.0}, (92, 84): {'PARTY IDCODE': 1.0, 'PARTY NAME': 0.0, 'IDCODE': 0.0, 'ROLE': 0.0, 'ADDRESS': 0.0}, (92, 92): {'PARTY NAME': 0.0, 'IDCODE': 0.0, 'ROLE': 0.0, 'ADDRESS': 0.0}}\n",
            "definitions words used in multiple sections of this document are defined below and other words are defined in sections 3, 11, 13, 18, 20 and 21. certain rules regarding the usage of words used in this document are also provided in section 16. (a) \"security instrument\"means this document, which is dated august 10, 2020 , together with all riders to this docoment. 8) ecborrower'is raymond n. fal tbauer and beryl] a. hallbauer, husband and wife borrower is the trustor under this security instrument. (c) “lender\"is quicken loans, llc lender isa limited liability compatigd liability company organized and existing under the laws of the state of michigan\n",
            "definitions words used in multiple sections of this document are defined below and other words are defined in sections 3, 11, 13, 18, 20 and 21. certain rules regarding the usage of words used in this document are also provided in section 16. (a) \"security instrument\"means this document, which is dated august 10, 2020 , together with all riders to this docoment. 8) ecborrower'is raymond n. fal tbauer and beryl] a. hallbauer, husband and wife borrower is the trustor under this security instrument. (c) “lender\"is quicken loans, llc lender isa limited liability compatigd liability company organized and existing under the laws of the state of michigan\n",
            "{'definitions': 0, 'words': 37, 'used': 38, 'in': 45, 'multiple': 4, 'sections': 18, 'of': 123, 'this': 94, 'document': 56, 'are': 42, 'defined': 16, 'below': 11, 'and': 115, 'other': 13, '3': 19, ',': 105, '11': 21, '13': 23, '18': 25, '20': 27, '21': 29, '.': 97, 'certain': 31, 'rules': 32, 'regarding': 33, 'the': 121, 'usage': 35, 'also': 43, 'provided': 44, 'section': 46, '16': 47, '(': 98, 'a': 50, ')': 100, '\"': 52, 'security': 95, 'instrument\"means': 54, 'which': 58, 'is': 90, 'dated': 60, 'august': 61, '10': 62, '2020': 64, 'together': 66, 'with': 67, 'all': 68, 'riders': 69, 'to': 70, 'docoment': 72, '8)': 74, \"ecborrower'is\": 75, 'raymond': 76, 'n.': 77, 'fal': 78, 'tbauer': 79, 'beryl': 81, ']': 82, 'a.': 83, 'hallbauer': 84, 'husband': 86, 'wife': 88, 'borrower': 89, 'trustor': 92, 'under': 117, 'instrument': 96, 'c': 99, '“': 101, 'lender\"is': 102, 'quicken': 103, 'loans': 104, 'llc': 106, 'lender': 107, 'isa': 108, 'limited': 109, 'liability': 112, 'compatigd': 111, 'company': 113, 'organized': 114, 'existing': 116, 'laws': 119, 'state': 122, 'michigan': 124}\n",
            "[None, raymond n. fal tbauer and beryl] a. hallbauer,, None, quicken loans, llc, husband and wife]\n",
            "89\n",
            "76\n",
            "86\n",
            "76\n",
            "101\n",
            "103\n",
            "{(101, 101): {'PARTY NAME': 0.0, 'IDCODE': 0.0, 'ROLE': 0.0, 'ADDRESS': 0.0}, (101, 103): {'PARTY ROLE': 1.0, 'PARTY NAME': 0.0, 'IDCODE': 0.0, 'ROLE': 0.0, 'ADDRESS': 0.0}, (101, 76): {'PARTY NAME': 0.0, 'IDCODE': 0.0, 'ROLE': 0.0, 'ADDRESS': 0.0}, (101, 86): {'PARTY NAME': 0.0, 'IDCODE': 0.0, 'ROLE': 0.0, 'ADDRESS': 0.0}, (101, 89): {'PARTY NAME': 0.0, 'IDCODE': 0.0, 'ROLE': 0.0, 'ADDRESS': 0.0}, (103, 101): {'PARTY NAME': 0.0, 'IDCODE': 0.0, 'ROLE': 0.0, 'ADDRESS': 0.0}, (103, 103): {'PARTY NAME': 0.0, 'IDCODE': 0.0, 'ROLE': 0.0, 'ADDRESS': 0.0}, (103, 76): {'PARTY NAME': 0.0, 'IDCODE': 0.0, 'ROLE': 0.0, 'ADDRESS': 0.0}, (103, 86): {'PARTY NAME': 0.0, 'IDCODE': 0.0, 'ROLE': 0.0, 'ADDRESS': 0.0}, (103, 89): {'PARTY NAME': 0.0, 'IDCODE': 0.0, 'ROLE': 0.0, 'ADDRESS': 0.0}, (76, 101): {'PARTY NAME': 0.0, 'IDCODE': 0.0, 'ROLE': 0.0, 'ADDRESS': 0.0}, (76, 103): {'PARTY NAME': 0.0, 'IDCODE': 0.0, 'ROLE': 0.0, 'ADDRESS': 0.0}, (76, 76): {'PARTY NAME': 0.0, 'IDCODE': 0.0, 'ROLE': 0.0, 'ADDRESS': 0.0}, (76, 86): {'PARTY NAME': 0.0, 'IDCODE': 0.0, 'ROLE': 0.0, 'ADDRESS': 0.0}, (76, 89): {'PARTY NAME': 0.0, 'IDCODE': 0.0, 'ROLE': 0.0, 'ADDRESS': 0.0}, (86, 101): {'PARTY NAME': 0.0, 'IDCODE': 0.0, 'ROLE': 0.0, 'ADDRESS': 0.0}, (86, 103): {'PARTY NAME': 0.0, 'IDCODE': 0.0, 'ROLE': 0.0, 'ADDRESS': 0.0}, (86, 76): {'PARTY IDCODE': 1.0, 'PARTY NAME': 0.0, 'IDCODE': 0.0, 'ROLE': 0.0, 'ADDRESS': 0.0}, (86, 86): {'PARTY NAME': 0.0, 'IDCODE': 0.0, 'ROLE': 0.0, 'ADDRESS': 0.0}, (86, 89): {'PARTY NAME': 0.0, 'IDCODE': 0.0, 'ROLE': 0.0, 'ADDRESS': 0.0}, (89, 101): {'PARTY NAME': 0.0, 'IDCODE': 0.0, 'ROLE': 0.0, 'ADDRESS': 0.0}, (89, 103): {'PARTY NAME': 0.0, 'IDCODE': 0.0, 'ROLE': 0.0, 'ADDRESS': 0.0}, (89, 76): {'PARTY ROLE': 1.0, 'PARTY NAME': 0.0, 'IDCODE': 0.0, 'ROLE': 0.0, 'ADDRESS': 0.0}, (89, 86): {'PARTY NAME': 0.0, 'IDCODE': 0.0, 'ROLE': 0.0, 'ADDRESS': 0.0}, (89, 89): {'PARTY NAME': 0.0, 'IDCODE': 0.0, 'ROLE': 0.0, 'ADDRESS': 0.0}}\n",
            "ew oe definitions words used in multiple sections of this document are defined below and other words are defined in sections 3, 11, 13, 18, 20 and 21. certain rules regarding the usage of words used in this document are also provided in section 16. (a) \"security instrument\" means this document, which is dated september 28, 2005 , together with all riders to this document. () \"borrower\" is enrique esparza, and evelyn esparza, husband and wife as joint tenants\n",
            "ew oe definitions words used in multiple sections of this document are defined below and other words are defined in sections 3, 11, 13, 18, 20 and 21. certain rules regarding the usage of words used in this document are also provided in section 16. (a) \"security instrument\" means this document, which is dated september 28, 2005 , together with all riders to this document. () \"borrower\" is enrique esparza, and evelyn esparza, husband and wife as joint tenants\n",
            "{'ew': 0, 'oe': 1, 'definitions': 2, 'words': 39, 'used': 40, 'in': 47, 'multiple': 6, 'sections': 20, 'of': 38, 'this': 75, 'document': 76, 'are': 44, 'defined': 18, 'below': 13, 'and': 92, 'other': 15, '3': 21, ',': 90, '11': 23, '13': 25, '18': 27, '20': 29, '21': 31, '.': 77, 'certain': 33, 'rules': 34, 'regarding': 35, 'the': 36, 'usage': 37, 'also': 45, 'provided': 46, 'section': 48, '16': 49, '(': 78, 'a': 52, ')': 79, '\"': 82, 'security': 55, 'instrument': 56, 'means': 58, 'which': 62, 'is': 83, 'dated': 64, 'september': 65, '28': 66, '2005': 68, 'together': 70, 'with': 71, 'all': 72, 'riders': 73, 'to': 74, 'borrower': 81, 'enrique': 84, 'esparza': 89, 'evelyn': 88, 'husband': 91, 'wife': 93, 'as': 94, 'joint': 95, 'tenants': 96}\n",
            "[\"borrower\", enrique esparza, and evelyn esparza, husband and wife]\n",
            "82\n",
            "84\n",
            "91\n",
            "84\n",
            "{(82, 82): {'PARTY NAME': 0.0, 'IDCODE': 0.0, 'ROLE': 0.0, 'ADDRESS': 0.0}, (82, 91): {'PARTY NAME': 0.0, 'IDCODE': 0.0, 'ROLE': 0.0, 'ADDRESS': 0.0}, (82, 84): {'PARTY ROLE': 1.0, 'PARTY NAME': 0.0, 'IDCODE': 0.0, 'ROLE': 0.0, 'ADDRESS': 0.0}, (91, 82): {'PARTY NAME': 0.0, 'IDCODE': 0.0, 'ROLE': 0.0, 'ADDRESS': 0.0}, (91, 91): {'PARTY NAME': 0.0, 'IDCODE': 0.0, 'ROLE': 0.0, 'ADDRESS': 0.0}, (91, 84): {'PARTY IDCODE': 1.0, 'PARTY NAME': 0.0, 'IDCODE': 0.0, 'ROLE': 0.0, 'ADDRESS': 0.0}, (84, 82): {'PARTY NAME': 0.0, 'IDCODE': 0.0, 'ROLE': 0.0, 'ADDRESS': 0.0}, (84, 91): {'PARTY NAME': 0.0, 'IDCODE': 0.0, 'ROLE': 0.0, 'ADDRESS': 0.0}, (84, 84): {'PARTY NAME': 0.0, 'IDCODE': 0.0, 'ROLE': 0.0, 'ADDRESS': 0.0}}\n",
            "definitions. words used in multiple sections of this document are defined below and other words are defined in sections 3, 11, 13, 18, 20 and 21. certain rules regarding the usage of words used in this document are also provided in section 16. (a) “security instrument” means this document, which is dated january 26, 2018, together with all all riders to this document. (b) “borrower” is gloria ann mulder, a single woman. borrower's address is 2615 64th avenue, oakland, ca 94605. borrower is the trustor under this security instrument. (c) “lender” is first direct lending, a limited liability company dba refi.com. lender is a limited liability company, organized and existing under the laws of california. ; lender's address is 15261 laguna canyon road, suite 200, irvine, ca 92618.\n",
            "definitions. words used in multiple sections of this document are defined below and other words are defined in sections 3, 11, 13, 18, 20 and 21. certain rules regarding the usage of words used in this document are also provided in section 16. (a) “security instrument” means this document, which is dated january 26, 2018, together with all all riders to this document. (b) “borrower” is gloria ann mulder, a single woman. borrower's address is 2615 64th avenue, oakland, ca 94605. borrower is the trustor under this security instrument. (c) “lender” is first direct lending, a limited liability company dba refi.com. lender is a limited liability company, organized and existing under the laws of california. ; lender's address is 15261 laguna canyon road, suite 200, irvine, ca 92618.\n",
            "{'definitions': 0, '.': 166, 'words': 38, 'used': 39, 'in': 46, 'multiple': 5, 'sections': 19, 'of': 146, 'this': 111, 'document': 76, 'are': 43, 'defined': 17, 'below': 12, 'and': 141, 'other': 14, '3': 20, ',': 163, '11': 22, '13': 24, '18': 26, '20': 28, '21': 30, 'certain': 32, 'rules': 33, 'regarding': 34, 'the': 144, 'usage': 36, 'also': 44, 'provided': 45, 'section': 47, '16': 48, '(': 115, 'a': 135, ')': 117, '“': 118, 'security': 112, 'instrument': 113, '”': 120, 'means': 57, 'which': 61, 'is': 153, 'dated': 63, 'january': 64, '26': 65, '2018': 67, 'together': 69, 'with': 70, 'all': 72, 'riders': 73, 'to': 74, 'b': 79, 'borrower': 106, 'gloria': 85, 'ann': 86, 'mulder': 87, 'single': 90, 'woman': 91, \"'s\": 151, 'address': 152, '2615': 97, '64th': 98, 'avenue': 99, 'oakland': 101, 'ca': 164, '94605': 104, 'trustor': 109, 'under': 143, 'c': 116, 'lender': 150, 'first': 122, 'direct': 123, 'lending': 124, 'limited': 136, 'liability': 137, 'company': 138, 'dba': 130, 'refi.com': 131, 'organized': 140, 'existing': 142, 'laws': 145, 'california': 147, ';': 149, '15261': 154, 'laguna': 155, 'canyon': 156, 'road': 157, 'suite': 159, '200': 160, 'irvine': 162, '92618': 165}\n",
            "[2615 64th avenue, oakland, ca 94605, 15261 laguna canyon road, suite 200, irvine, ca 92618., “borrower”, “lender”, gloria ann mulder, first direct lending,, single woman, limited liability company]\n",
            "118\n",
            "85\n",
            "90\n",
            "85\n",
            "97\n",
            "85\n",
            "118\n",
            "122\n",
            "136\n",
            "122\n",
            "154\n",
            "122\n",
            "{(97, 97): {'PARTY NAME': 0.0, 'IDCODE': 0.0, 'ROLE': 0.0, 'ADDRESS': 0.0}, (97, 90): {'PARTY NAME': 0.0, 'IDCODE': 0.0, 'ROLE': 0.0, 'ADDRESS': 0.0}, (97, 122): {'PARTY NAME': 0.0, 'IDCODE': 0.0, 'ROLE': 0.0, 'ADDRESS': 0.0}, (97, 136): {'PARTY NAME': 0.0, 'IDCODE': 0.0, 'ROLE': 0.0, 'ADDRESS': 0.0}, (97, 85): {'PARTY ADDRESS': 1.0, 'PARTY NAME': 0.0, 'IDCODE': 0.0, 'ROLE': 0.0, 'ADDRESS': 0.0}, (97, 118): {'PARTY NAME': 0.0, 'IDCODE': 0.0, 'ROLE': 0.0, 'ADDRESS': 0.0}, (97, 154): {'PARTY NAME': 0.0, 'IDCODE': 0.0, 'ROLE': 0.0, 'ADDRESS': 0.0}, (90, 97): {'PARTY NAME': 0.0, 'IDCODE': 0.0, 'ROLE': 0.0, 'ADDRESS': 0.0}, (90, 90): {'PARTY NAME': 0.0, 'IDCODE': 0.0, 'ROLE': 0.0, 'ADDRESS': 0.0}, (90, 122): {'PARTY NAME': 0.0, 'IDCODE': 0.0, 'ROLE': 0.0, 'ADDRESS': 0.0}, (90, 136): {'PARTY NAME': 0.0, 'IDCODE': 0.0, 'ROLE': 0.0, 'ADDRESS': 0.0}, (90, 85): {'PARTY IDCODE': 1.0, 'PARTY NAME': 0.0, 'IDCODE': 0.0, 'ROLE': 0.0, 'ADDRESS': 0.0}, (90, 118): {'PARTY NAME': 0.0, 'IDCODE': 0.0, 'ROLE': 0.0, 'ADDRESS': 0.0}, (90, 154): {'PARTY NAME': 0.0, 'IDCODE': 0.0, 'ROLE': 0.0, 'ADDRESS': 0.0}, (122, 97): {'PARTY NAME': 0.0, 'IDCODE': 0.0, 'ROLE': 0.0, 'ADDRESS': 0.0}, (122, 90): {'PARTY NAME': 0.0, 'IDCODE': 0.0, 'ROLE': 0.0, 'ADDRESS': 0.0}, (122, 122): {'PARTY NAME': 0.0, 'IDCODE': 0.0, 'ROLE': 0.0, 'ADDRESS': 0.0}, (122, 136): {'PARTY NAME': 0.0, 'IDCODE': 0.0, 'ROLE': 0.0, 'ADDRESS': 0.0}, (122, 85): {'PARTY NAME': 0.0, 'IDCODE': 0.0, 'ROLE': 0.0, 'ADDRESS': 0.0}, (122, 118): {'PARTY NAME': 0.0, 'IDCODE': 0.0, 'ROLE': 0.0, 'ADDRESS': 0.0}, (122, 154): {'PARTY NAME': 0.0, 'IDCODE': 0.0, 'ROLE': 0.0, 'ADDRESS': 0.0}, (136, 97): {'PARTY NAME': 0.0, 'IDCODE': 0.0, 'ROLE': 0.0, 'ADDRESS': 0.0}, (136, 90): {'PARTY NAME': 0.0, 'IDCODE': 0.0, 'ROLE': 0.0, 'ADDRESS': 0.0}, (136, 122): {'PARTY IDCODE': 1.0, 'PARTY NAME': 0.0, 'IDCODE': 0.0, 'ROLE': 0.0, 'ADDRESS': 0.0}, (136, 136): {'PARTY NAME': 0.0, 'IDCODE': 0.0, 'ROLE': 0.0, 'ADDRESS': 0.0}, (136, 85): {'PARTY NAME': 0.0, 'IDCODE': 0.0, 'ROLE': 0.0, 'ADDRESS': 0.0}, (136, 118): {'PARTY NAME': 0.0, 'IDCODE': 0.0, 'ROLE': 0.0, 'ADDRESS': 0.0}, (136, 154): {'PARTY NAME': 0.0, 'IDCODE': 0.0, 'ROLE': 0.0, 'ADDRESS': 0.0}, (85, 97): {'PARTY NAME': 0.0, 'IDCODE': 0.0, 'ROLE': 0.0, 'ADDRESS': 0.0}, (85, 90): {'PARTY NAME': 0.0, 'IDCODE': 0.0, 'ROLE': 0.0, 'ADDRESS': 0.0}, (85, 122): {'PARTY NAME': 0.0, 'IDCODE': 0.0, 'ROLE': 0.0, 'ADDRESS': 0.0}, (85, 136): {'PARTY NAME': 0.0, 'IDCODE': 0.0, 'ROLE': 0.0, 'ADDRESS': 0.0}, (85, 85): {'PARTY NAME': 0.0, 'IDCODE': 0.0, 'ROLE': 0.0, 'ADDRESS': 0.0}, (85, 118): {'PARTY NAME': 0.0, 'IDCODE': 0.0, 'ROLE': 0.0, 'ADDRESS': 0.0}, (85, 154): {'PARTY NAME': 0.0, 'IDCODE': 0.0, 'ROLE': 0.0, 'ADDRESS': 0.0}, (118, 97): {'PARTY NAME': 0.0, 'IDCODE': 0.0, 'ROLE': 0.0, 'ADDRESS': 0.0}, (118, 90): {'PARTY NAME': 0.0, 'IDCODE': 0.0, 'ROLE': 0.0, 'ADDRESS': 0.0}, (118, 122): {'PARTY ROLE': 1.0, 'PARTY NAME': 0.0, 'IDCODE': 0.0, 'ROLE': 0.0, 'ADDRESS': 0.0}, (118, 136): {'PARTY NAME': 0.0, 'IDCODE': 0.0, 'ROLE': 0.0, 'ADDRESS': 0.0}, (118, 85): {'PARTY ROLE': 1.0, 'PARTY NAME': 0.0, 'IDCODE': 0.0, 'ROLE': 0.0, 'ADDRESS': 0.0}, (118, 118): {'PARTY NAME': 0.0, 'IDCODE': 0.0, 'ROLE': 0.0, 'ADDRESS': 0.0}, (118, 154): {'PARTY NAME': 0.0, 'IDCODE': 0.0, 'ROLE': 0.0, 'ADDRESS': 0.0}, (154, 97): {'PARTY NAME': 0.0, 'IDCODE': 0.0, 'ROLE': 0.0, 'ADDRESS': 0.0}, (154, 90): {'PARTY NAME': 0.0, 'IDCODE': 0.0, 'ROLE': 0.0, 'ADDRESS': 0.0}, (154, 122): {'PARTY ADDRESS': 1.0, 'PARTY NAME': 0.0, 'IDCODE': 0.0, 'ROLE': 0.0, 'ADDRESS': 0.0}, (154, 136): {'PARTY NAME': 0.0, 'IDCODE': 0.0, 'ROLE': 0.0, 'ADDRESS': 0.0}, (154, 85): {'PARTY NAME': 0.0, 'IDCODE': 0.0, 'ROLE': 0.0, 'ADDRESS': 0.0}, (154, 118): {'PARTY NAME': 0.0, 'IDCODE': 0.0, 'ROLE': 0.0, 'ADDRESS': 0.0}, (154, 154): {'PARTY NAME': 0.0, 'IDCODE': 0.0, 'ROLE': 0.0, 'ADDRESS': 0.0}}\n",
            "definitions words used in multiple sections of this document are defined below and other words are defined in sections 3, 11, 13, 18, 20 and 21. certain rules regarding the usage of words used in this document are also provided in section 16. (a) “security instrument” means this document, which is dated december 21, 2018, together with all riders to this document. (8) “borrower” is dennis petersen, single man. borrower is the mortgagor under this security instrument. (c) “mers\"” is mortgage electronic registration systems, inc. mers is a separate corporation that is acting solely as a nominee for lender and lender's successors and assigns. mers is the mortgagee under this security instrument. mers is organized and existing under the laws of delaware, and has an address and telephone number of p.o. box 2026, flint, mi 48501-2026, tel. (888) 679-mers. (d) “lender” is crosscountry mortgage, inc.. lenderis a corporation, organized and e) ing under the laws of ohio. lender's address is 6850 miller road, brecksville, oh 44141\n",
            "definitions words used in multiple sections of this document are defined below and other words are defined in sections 3, 11, 13, 18, 20 and 21. certain rules regarding the usage of words used in this document are also provided in section 16. (a) “security instrument” means this document, which is dated december 21, 2018, together with all riders to this document. (8) “borrower” is dennis petersen, single man. borrower is the mortgagor under this security instrument. (c) “mers\"” is mortgage electronic registration systems, inc. mers is a separate corporation that is acting solely as a nominee for lender and lender's successors and assigns. mers is the mortgagee under this security instrument. mers is organized and existing under the laws of delaware, and has an address and telephone number of p.o. box 2026, flint, mi 48501-2026, tel. (888) 679-mers. (d) “lender” is crosscountry mortgage, inc.. lenderis a corporation, organized and e) ing under the laws of ohio. lender's address is 6850 miller road, brecksville, oh 44141\n",
            "{'definitions': 0, 'words': 37, 'used': 38, 'in': 45, 'multiple': 4, 'sections': 18, 'of': 206, 'this': 138, 'document': 74, 'are': 42, 'defined': 16, 'below': 11, 'and': 199, 'other': 13, '3': 19, ',': 218, '11': 21, '13': 23, '18': 25, '20': 27, '21': 64, '.': 208, 'certain': 31, 'rules': 32, 'regarding': 33, 'the': 204, 'usage': 35, 'also': 43, 'provided': 44, 'section': 46, '16': 47, '(': 182, 'a': 195, ')': 201, '“': 185, 'security': 139, 'instrument': 140, '”': 187, 'means': 56, 'which': 60, 'is': 212, 'dated': 62, 'december': 63, '2018': 66, 'together': 68, 'with': 69, 'all': 70, 'riders': 71, 'to': 72, '8)': 77, 'borrower': 88, 'dennis': 82, 'petersen': 83, 'single': 85, 'man': 86, 'mortgagor': 91, 'under': 203, 'c': 98, 'mers': 180, '\"': 102, 'mortgage': 190, 'electronic': 106, 'registration': 107, 'systems': 108, 'inc': 192, 'separate': 115, 'corporation': 196, 'that': 117, 'acting': 119, 'solely': 120, 'as': 121, 'nominee': 123, 'for': 124, 'lender': 209, \"'s\": 210, 'successors': 129, 'assigns': 131, 'mortgagee': 136, 'organized': 198, 'existing': 146, 'laws': 205, 'delaware': 151, 'has': 154, 'an': 155, 'address': 211, 'telephone': 158, 'number': 159, 'p.o': 161, 'box': 163, '2026': 171, 'flint': 166, 'mi': 168, '48501': 169, '-': 179, 'tel': 173, '888': 176, '679': 178, 'd': 183, 'crosscountry': 189, '..': 193, 'lenderis': 194, 'e': 200, 'ing': 202, 'ohio': 207, '6850': 213, 'miller': 214, 'road': 215, 'brecksville': 217, 'oh': 219, '44141': 220}\n",
            "[6850 miller road, brecksville, oh 44141, “borrower”, “lender”, dennis petersen, None, single man, corporation]\n",
            "185\n",
            "82\n",
            "85\n",
            "82\n",
            "185\n",
            "189\n",
            "196\n",
            "189\n",
            "213\n",
            "189\n",
            "{(196, 196): {'PARTY NAME': 0.0, 'IDCODE': 0.0, 'ROLE': 0.0, 'ADDRESS': 0.0}, (196, 82): {'PARTY NAME': 0.0, 'IDCODE': 0.0, 'ROLE': 0.0, 'ADDRESS': 0.0}, (196, 85): {'PARTY NAME': 0.0, 'IDCODE': 0.0, 'ROLE': 0.0, 'ADDRESS': 0.0}, (196, 213): {'PARTY NAME': 0.0, 'IDCODE': 0.0, 'ROLE': 0.0, 'ADDRESS': 0.0}, (196, 185): {'PARTY NAME': 0.0, 'IDCODE': 0.0, 'ROLE': 0.0, 'ADDRESS': 0.0}, (196, 189): {'PARTY IDCODE': 1.0, 'PARTY NAME': 0.0, 'IDCODE': 0.0, 'ROLE': 0.0, 'ADDRESS': 0.0}, (82, 196): {'PARTY NAME': 0.0, 'IDCODE': 0.0, 'ROLE': 0.0, 'ADDRESS': 0.0}, (82, 82): {'PARTY NAME': 0.0, 'IDCODE': 0.0, 'ROLE': 0.0, 'ADDRESS': 0.0}, (82, 85): {'PARTY NAME': 0.0, 'IDCODE': 0.0, 'ROLE': 0.0, 'ADDRESS': 0.0}, (82, 213): {'PARTY NAME': 0.0, 'IDCODE': 0.0, 'ROLE': 0.0, 'ADDRESS': 0.0}, (82, 185): {'PARTY NAME': 0.0, 'IDCODE': 0.0, 'ROLE': 0.0, 'ADDRESS': 0.0}, (82, 189): {'PARTY NAME': 0.0, 'IDCODE': 0.0, 'ROLE': 0.0, 'ADDRESS': 0.0}, (85, 196): {'PARTY NAME': 0.0, 'IDCODE': 0.0, 'ROLE': 0.0, 'ADDRESS': 0.0}, (85, 82): {'PARTY IDCODE': 1.0, 'PARTY NAME': 0.0, 'IDCODE': 0.0, 'ROLE': 0.0, 'ADDRESS': 0.0}, (85, 85): {'PARTY NAME': 0.0, 'IDCODE': 0.0, 'ROLE': 0.0, 'ADDRESS': 0.0}, (85, 213): {'PARTY NAME': 0.0, 'IDCODE': 0.0, 'ROLE': 0.0, 'ADDRESS': 0.0}, (85, 185): {'PARTY NAME': 0.0, 'IDCODE': 0.0, 'ROLE': 0.0, 'ADDRESS': 0.0}, (85, 189): {'PARTY NAME': 0.0, 'IDCODE': 0.0, 'ROLE': 0.0, 'ADDRESS': 0.0}, (213, 196): {'PARTY NAME': 0.0, 'IDCODE': 0.0, 'ROLE': 0.0, 'ADDRESS': 0.0}, (213, 82): {'PARTY NAME': 0.0, 'IDCODE': 0.0, 'ROLE': 0.0, 'ADDRESS': 0.0}, (213, 85): {'PARTY NAME': 0.0, 'IDCODE': 0.0, 'ROLE': 0.0, 'ADDRESS': 0.0}, (213, 213): {'PARTY NAME': 0.0, 'IDCODE': 0.0, 'ROLE': 0.0, 'ADDRESS': 0.0}, (213, 185): {'PARTY NAME': 0.0, 'IDCODE': 0.0, 'ROLE': 0.0, 'ADDRESS': 0.0}, (213, 189): {'PARTY ADDRESS': 1.0, 'PARTY NAME': 0.0, 'IDCODE': 0.0, 'ROLE': 0.0, 'ADDRESS': 0.0}, (185, 196): {'PARTY NAME': 0.0, 'IDCODE': 0.0, 'ROLE': 0.0, 'ADDRESS': 0.0}, (185, 82): {'PARTY ROLE': 1.0, 'PARTY NAME': 0.0, 'IDCODE': 0.0, 'ROLE': 0.0, 'ADDRESS': 0.0}, (185, 85): {'PARTY NAME': 0.0, 'IDCODE': 0.0, 'ROLE': 0.0, 'ADDRESS': 0.0}, (185, 213): {'PARTY NAME': 0.0, 'IDCODE': 0.0, 'ROLE': 0.0, 'ADDRESS': 0.0}, (185, 185): {'PARTY NAME': 0.0, 'IDCODE': 0.0, 'ROLE': 0.0, 'ADDRESS': 0.0}, (185, 189): {'PARTY ROLE': 1.0, 'PARTY NAME': 0.0, 'IDCODE': 0.0, 'ROLE': 0.0, 'ADDRESS': 0.0}, (189, 196): {'PARTY NAME': 0.0, 'IDCODE': 0.0, 'ROLE': 0.0, 'ADDRESS': 0.0}, (189, 82): {'PARTY NAME': 0.0, 'IDCODE': 0.0, 'ROLE': 0.0, 'ADDRESS': 0.0}, (189, 85): {'PARTY NAME': 0.0, 'IDCODE': 0.0, 'ROLE': 0.0, 'ADDRESS': 0.0}, (189, 213): {'PARTY NAME': 0.0, 'IDCODE': 0.0, 'ROLE': 0.0, 'ADDRESS': 0.0}, (189, 185): {'PARTY NAME': 0.0, 'IDCODE': 0.0, 'ROLE': 0.0, 'ADDRESS': 0.0}, (189, 189): {'PARTY NAME': 0.0, 'IDCODE': 0.0, 'ROLE': 0.0, 'ADDRESS': 0.0}}\n",
            "definitions words used in multiple sections of this document are defined below and other words are defined in sections 3, 11, 13, 18, 20 and 21. certain rules regarding the usage of words used in this document are also provided in section 16. (a) \"security instrument\" means this document, which is dated november 04, 2006 , together with all riders to this document. (b) \"borrower\" is alfred merino and, nancy sue merino, trustee of the merino family revocable living trust u/d/t dated october 21, 1993 borrower's address is 30304 camino chico, warner springs, ca 92086. . borrower is the trustor under this security instrument. (c) “lender” is washington mutual bank, fa lender isa federal savings bank organized and existing under the laws of the united states of america\n",
            "definitions words used in multiple sections of this document are defined below and other words are defined in sections 3, 11, 13, 18, 20 and 21. certain rules regarding the usage of words used in this document are also provided in section 16. (a) \"security instrument\" means this document, which is dated november 04, 2006 , together with all riders to this document. (b) \"borrower\" is alfred merino and, nancy sue merino, trustee of the merino family revocable living trust u/d/t dated october 21, 1993 borrower's address is 30304 camino chico, warner springs, ca 92086. . borrower is the trustor under this security instrument. (c) “lender” is washington mutual bank, fa lender isa federal savings bank organized and existing under the laws of the united states of america\n",
            "{'definitions': 0, 'words': 37, 'used': 38, 'in': 45, 'multiple': 4, 'sections': 18, 'of': 160, 'this': 129, 'document': 74, 'are': 42, 'defined': 16, 'below': 11, 'and': 151, 'other': 13, '3': 19, ',': 143, '11': 21, '13': 23, '18': 25, '20': 27, '21': 106, '.': 132, 'certain': 31, 'rules': 32, 'regarding': 33, 'the': 157, 'usage': 35, 'also': 43, 'provided': 44, 'section': 46, '16': 47, '(': 133, 'a': 50, ')': 135, '\"': 81, 'security': 130, 'instrument': 131, 'means': 56, 'which': 60, 'is': 139, 'dated': 104, 'november': 63, '04': 64, '2006': 66, 'together': 68, 'with': 69, 'all': 70, 'riders': 71, 'to': 72, 'b': 77, 'borrower': 124, 'alfred': 83, 'merino': 94, 'nancy': 87, 'sue': 88, 'trustee': 91, 'family': 95, 'revocable': 96, 'living': 97, 'trust': 98, 'u': 99, '/': 102, 'd': 101, 't': 103, 'october': 105, '1993': 108, \"'s\": 110, 'address': 111, '30304': 113, 'camino': 114, 'chico': 115, 'warner': 117, 'springs': 118, 'ca': 120, '92086': 121, 'trustor': 127, 'under': 153, 'c': 134, '“': 136, 'lender': 145, '”': 138, 'washington': 140, 'mutual': 141, 'bank': 149, 'fa': 144, 'isa': 146, 'federal': 147, 'savings': 148, 'organized': 150, 'existing': 152, 'laws': 155, 'united': 158, 'states': 159, 'america': 161}\n",
            "[30304 camino chico, warner springs, ca 92086, \"borrower\", “lender”, alfred merino and, nancy sue merino, washington mutual bank]\n",
            "81\n",
            "83\n",
            "113\n",
            "83\n",
            "136\n",
            "140\n",
            "{(136, 136): {'PARTY NAME': 0.0, 'IDCODE': 0.0, 'ROLE': 0.0, 'ADDRESS': 0.0}, (136, 140): {'PARTY ROLE': 1.0, 'PARTY NAME': 0.0, 'IDCODE': 0.0, 'ROLE': 0.0, 'ADDRESS': 0.0}, (136, 81): {'PARTY NAME': 0.0, 'IDCODE': 0.0, 'ROLE': 0.0, 'ADDRESS': 0.0}, (136, 113): {'PARTY NAME': 0.0, 'IDCODE': 0.0, 'ROLE': 0.0, 'ADDRESS': 0.0}, (136, 83): {'PARTY NAME': 0.0, 'IDCODE': 0.0, 'ROLE': 0.0, 'ADDRESS': 0.0}, (140, 136): {'PARTY NAME': 0.0, 'IDCODE': 0.0, 'ROLE': 0.0, 'ADDRESS': 0.0}, (140, 140): {'PARTY NAME': 0.0, 'IDCODE': 0.0, 'ROLE': 0.0, 'ADDRESS': 0.0}, (140, 81): {'PARTY NAME': 0.0, 'IDCODE': 0.0, 'ROLE': 0.0, 'ADDRESS': 0.0}, (140, 113): {'PARTY NAME': 0.0, 'IDCODE': 0.0, 'ROLE': 0.0, 'ADDRESS': 0.0}, (140, 83): {'PARTY NAME': 0.0, 'IDCODE': 0.0, 'ROLE': 0.0, 'ADDRESS': 0.0}, (81, 136): {'PARTY NAME': 0.0, 'IDCODE': 0.0, 'ROLE': 0.0, 'ADDRESS': 0.0}, (81, 140): {'PARTY NAME': 0.0, 'IDCODE': 0.0, 'ROLE': 0.0, 'ADDRESS': 0.0}, (81, 81): {'PARTY NAME': 0.0, 'IDCODE': 0.0, 'ROLE': 0.0, 'ADDRESS': 0.0}, (81, 113): {'PARTY NAME': 0.0, 'IDCODE': 0.0, 'ROLE': 0.0, 'ADDRESS': 0.0}, (81, 83): {'PARTY ROLE': 1.0, 'PARTY NAME': 0.0, 'IDCODE': 0.0, 'ROLE': 0.0, 'ADDRESS': 0.0}, (113, 136): {'PARTY NAME': 0.0, 'IDCODE': 0.0, 'ROLE': 0.0, 'ADDRESS': 0.0}, (113, 140): {'PARTY NAME': 0.0, 'IDCODE': 0.0, 'ROLE': 0.0, 'ADDRESS': 0.0}, (113, 81): {'PARTY NAME': 0.0, 'IDCODE': 0.0, 'ROLE': 0.0, 'ADDRESS': 0.0}, (113, 113): {'PARTY NAME': 0.0, 'IDCODE': 0.0, 'ROLE': 0.0, 'ADDRESS': 0.0}, (113, 83): {'PARTY ADDRESS': 1.0, 'PARTY NAME': 0.0, 'IDCODE': 0.0, 'ROLE': 0.0, 'ADDRESS': 0.0}, (83, 136): {'PARTY NAME': 0.0, 'IDCODE': 0.0, 'ROLE': 0.0, 'ADDRESS': 0.0}, (83, 140): {'PARTY NAME': 0.0, 'IDCODE': 0.0, 'ROLE': 0.0, 'ADDRESS': 0.0}, (83, 81): {'PARTY NAME': 0.0, 'IDCODE': 0.0, 'ROLE': 0.0, 'ADDRESS': 0.0}, (83, 113): {'PARTY NAME': 0.0, 'IDCODE': 0.0, 'ROLE': 0.0, 'ADDRESS': 0.0}, (83, 83): {'PARTY NAME': 0.0, 'IDCODE': 0.0, 'ROLE': 0.0, 'ADDRESS': 0.0}}\n",
            "amat scone rlocoiisiing - 1 aim 2 definitions accommodation recording per client request words used in multiple sections of this document are defined below and other words are defined in sections 3, 11, 13, 18, 20 and 21. certain rules regarding the usage of words used in this document are also provided in section 16. (a) \"security instrument\" means this document, which is datedaugust 10, 2010 : together with all riders to this document. (b) \"borrower\" is joseph m. mchugh, and and tia m mchugh, husband/wife borrower is the mortgagor under this security instrument. (c) \"mers\" is mortgage electronic registration systems, inc. mers is a separate corporation that is acting solely as a nominee for lender and lender's successors and assigns, mers is the mortgagee under this security instrument. mers is organized and existing under the laws of delaware, and has an address and telephone number of p.o. box 2026, flint, mi 48501-2026, tel. (888) 679-mers. (d) \"lender\" is usaa federal savings bank\n",
            "amat scone rlocoiisiing - 1 aim 2 definitions accommodation recording per client request words used in multiple sections of this document are defined below and other words are defined in sections 3, 11, 13, 18, 20 and 21. certain rules regarding the usage of words used in this document are also provided in section 16. (a) \"security instrument\" means this document, which is datedaugust 10, 2010 : together with all riders to this document. (b) \"borrower\" is joseph m. mchugh, and and tia m mchugh, husband/wife borrower is the mortgagor under this security instrument. (c) \"mers\" is mortgage electronic registration systems, inc. mers is a separate corporation that is acting solely as a nominee for lender and lender's successors and assigns, mers is the mortgagee under this security instrument. mers is organized and existing under the laws of delaware, and has an address and telephone number of p.o. box 2026, flint, mi 48501-2026, tel. (888) 679-mers. (d) \"lender\" is usaa federal savings bank\n",
            "{'amat': 0, 'scone': 1, 'rlocoiisiing': 2, '-': 197, '1': 4, 'aim': 5, '2': 6, 'definitions': 7, 'accommodation': 8, 'recording': 9, 'per': 10, 'client': 11, 'request': 12, 'words': 49, 'used': 50, 'in': 57, 'multiple': 16, 'sections': 30, 'of': 178, 'this': 156, 'document': 85, 'are': 54, 'defined': 28, 'below': 23, 'and': 175, 'other': 25, '3': 31, ',': 190, '11': 33, '13': 35, '18': 37, '20': 39, '21': 41, '.': 199, 'certain': 43, 'rules': 44, 'regarding': 45, 'the': 166, 'usage': 47, 'also': 55, 'provided': 56, 'section': 58, '16': 59, '(': 200, 'a': 140, ')': 202, '\"': 205, 'security': 157, 'instrument': 158, 'means': 68, 'which': 72, 'is': 206, 'datedaugust': 74, '10': 75, '2010': 77, ':': 78, 'together': 79, 'with': 80, 'all': 81, 'riders': 82, 'to': 83, 'b': 88, 'borrower': 107, 'joseph': 94, 'm.': 95, 'mchugh': 102, 'tia': 100, 'm': 101, 'husband': 104, '/': 105, 'wife': 106, 'mortgagor': 110, 'under': 165, 'c': 117, 'mers': 198, 'mortgage': 123, 'electronic': 124, 'registration': 125, 'systems': 126, 'inc': 128, 'separate': 133, 'corporation': 134, 'that': 135, 'acting': 137, 'solely': 138, 'as': 139, 'nominee': 141, 'for': 142, 'lender': 204, \"'s\": 146, 'successors': 147, 'assigns': 149, 'mortgagee': 154, 'organized': 162, 'existing': 164, 'laws': 167, 'delaware': 169, 'has': 172, 'an': 173, 'address': 174, 'telephone': 176, 'number': 177, 'p.o': 179, 'box': 181, '2026': 189, 'flint': 184, 'mi': 186, '48501': 187, 'tel': 191, '888': 194, '679': 196, 'd': 201, 'usaa': 207, 'federal': 208, 'savings': 209, 'bank': 210}\n",
            "[\"borrower\", \"lender\", joseph m. mchugh, and and tia m mchugh, federal savings bank, husband/wife]\n",
            "205\n",
            "94\n",
            "104\n",
            "94\n",
            "205\n",
            "208\n",
            "{(208, 208): {'PARTY NAME': 0.0, 'IDCODE': 0.0, 'ROLE': 0.0, 'ADDRESS': 0.0}, (208, 104): {'PARTY NAME': 0.0, 'IDCODE': 0.0, 'ROLE': 0.0, 'ADDRESS': 0.0}, (208, 205): {'PARTY NAME': 0.0, 'IDCODE': 0.0, 'ROLE': 0.0, 'ADDRESS': 0.0}, (208, 94): {'PARTY NAME': 0.0, 'IDCODE': 0.0, 'ROLE': 0.0, 'ADDRESS': 0.0}, (104, 208): {'PARTY NAME': 0.0, 'IDCODE': 0.0, 'ROLE': 0.0, 'ADDRESS': 0.0}, (104, 104): {'PARTY NAME': 0.0, 'IDCODE': 0.0, 'ROLE': 0.0, 'ADDRESS': 0.0}, (104, 205): {'PARTY NAME': 0.0, 'IDCODE': 0.0, 'ROLE': 0.0, 'ADDRESS': 0.0}, (104, 94): {'PARTY IDCODE': 1.0, 'PARTY NAME': 0.0, 'IDCODE': 0.0, 'ROLE': 0.0, 'ADDRESS': 0.0}, (205, 208): {'PARTY ROLE': 1.0, 'PARTY NAME': 0.0, 'IDCODE': 0.0, 'ROLE': 0.0, 'ADDRESS': 0.0}, (205, 104): {'PARTY NAME': 0.0, 'IDCODE': 0.0, 'ROLE': 0.0, 'ADDRESS': 0.0}, (205, 205): {'PARTY NAME': 0.0, 'IDCODE': 0.0, 'ROLE': 0.0, 'ADDRESS': 0.0}, (205, 94): {'PARTY ROLE': 1.0, 'PARTY NAME': 0.0, 'IDCODE': 0.0, 'ROLE': 0.0, 'ADDRESS': 0.0}, (94, 208): {'PARTY NAME': 0.0, 'IDCODE': 0.0, 'ROLE': 0.0, 'ADDRESS': 0.0}, (94, 104): {'PARTY NAME': 0.0, 'IDCODE': 0.0, 'ROLE': 0.0, 'ADDRESS': 0.0}, (94, 205): {'PARTY NAME': 0.0, 'IDCODE': 0.0, 'ROLE': 0.0, 'ADDRESS': 0.0}, (94, 94): {'PARTY NAME': 0.0, 'IDCODE': 0.0, 'ROLE': 0.0, 'ADDRESS': 0.0}}\n",
            "definitions words used in multiple sections of this document are defined below and other words are defined in sections 3, 11, 13, 18, 20 and 21. certain rules regarding the usage of words used in this document are also provided in section 16. (a) \"security instrument\" means this document, which is datedoctober 26, 2011 together with all riders to this document. (b) \"borrower\"is mary lou davidson and patrick j southard, husband and wife borrower is the mortgagor under this sccurity instrument. (c) \"lender\"is wells fargo bank, n.a. lender is anational association organized and existing under the laws of the united states of america\n",
            "definitions words used in multiple sections of this document are defined below and other words are defined in sections 3, 11, 13, 18, 20 and 21. certain rules regarding the usage of words used in this document are also provided in section 16. (a) \"security instrument\" means this document, which is datedoctober 26, 2011 together with all riders to this document. (b) \"borrower\"is mary lou davidson and patrick j southard, husband and wife borrower is the mortgagor under this sccurity instrument. (c) \"lender\"is wells fargo bank, n.a. lender is anational association organized and existing under the laws of the united states of america\n",
            "{'definitions': 0, 'words': 37, 'used': 38, 'in': 45, 'multiple': 4, 'sections': 18, 'of': 124, 'this': 95, 'document': 72, 'are': 42, 'defined': 16, 'below': 11, 'and': 115, 'other': 13, '3': 19, ',': 107, '11': 21, '13': 23, '18': 25, '20': 27, '21': 29, '.': 109, 'certain': 31, 'rules': 32, 'regarding': 33, 'the': 121, 'usage': 35, 'also': 43, 'provided': 44, 'section': 46, '16': 47, '(': 99, 'a': 50, ')': 101, '\"': 102, 'security': 53, 'instrument': 97, 'means': 56, 'which': 60, 'is': 111, 'datedoctober': 62, '26': 63, '2011': 65, 'together': 66, 'with': 67, 'all': 68, 'riders': 69, 'to': 70, 'b': 75, 'borrower\"is': 78, 'mary': 79, 'lou': 80, 'davidson': 81, 'patrick': 83, 'j': 84, 'southard': 85, 'husband': 87, 'wife': 89, 'borrower': 90, 'mortgagor': 93, 'under': 117, 'sccurity': 96, 'c': 100, 'lender\"is': 103, 'wells': 104, 'fargo': 105, 'bank': 106, 'n.a': 108, 'lender': 110, 'anational': 112, 'association': 113, 'organized': 114, 'existing': 116, 'laws': 119, 'united': 122, 'states': 123, 'america': 125}\n",
            "[None, None, mary lou davidson and patrick j southard, wells fargo bank,, husband and wife]\n",
            "102\n",
            "79\n",
            "87\n",
            "79\n",
            "102\n",
            "104\n",
            "{(104, 104): {'PARTY NAME': 0.0, 'IDCODE': 0.0, 'ROLE': 0.0, 'ADDRESS': 0.0}, (104, 87): {'PARTY NAME': 0.0, 'IDCODE': 0.0, 'ROLE': 0.0, 'ADDRESS': 0.0}, (104, 102): {'PARTY NAME': 0.0, 'IDCODE': 0.0, 'ROLE': 0.0, 'ADDRESS': 0.0}, (104, 79): {'PARTY NAME': 0.0, 'IDCODE': 0.0, 'ROLE': 0.0, 'ADDRESS': 0.0}, (87, 104): {'PARTY NAME': 0.0, 'IDCODE': 0.0, 'ROLE': 0.0, 'ADDRESS': 0.0}, (87, 87): {'PARTY NAME': 0.0, 'IDCODE': 0.0, 'ROLE': 0.0, 'ADDRESS': 0.0}, (87, 102): {'PARTY NAME': 0.0, 'IDCODE': 0.0, 'ROLE': 0.0, 'ADDRESS': 0.0}, (87, 79): {'PARTY IDCODE': 1.0, 'PARTY NAME': 0.0, 'IDCODE': 0.0, 'ROLE': 0.0, 'ADDRESS': 0.0}, (102, 104): {'PARTY ROLE': 1.0, 'PARTY NAME': 0.0, 'IDCODE': 0.0, 'ROLE': 0.0, 'ADDRESS': 0.0}, (102, 87): {'PARTY NAME': 0.0, 'IDCODE': 0.0, 'ROLE': 0.0, 'ADDRESS': 0.0}, (102, 102): {'PARTY NAME': 0.0, 'IDCODE': 0.0, 'ROLE': 0.0, 'ADDRESS': 0.0}, (102, 79): {'PARTY ROLE': 1.0, 'PARTY NAME': 0.0, 'IDCODE': 0.0, 'ROLE': 0.0, 'ADDRESS': 0.0}, (79, 104): {'PARTY NAME': 0.0, 'IDCODE': 0.0, 'ROLE': 0.0, 'ADDRESS': 0.0}, (79, 87): {'PARTY NAME': 0.0, 'IDCODE': 0.0, 'ROLE': 0.0, 'ADDRESS': 0.0}, (79, 102): {'PARTY NAME': 0.0, 'IDCODE': 0.0, 'ROLE': 0.0, 'ADDRESS': 0.0}, (79, 79): {'PARTY NAME': 0.0, 'IDCODE': 0.0, 'ROLE': 0.0, 'ADDRESS': 0.0}}\n",
            "definitions words used in multiple sections of this document are defined below and other words are defined in sections 3, 11, 13, 18, 20 and21. certain rules regarding the usage of words used in this document are also provided in section 16. (a) \"security instrument\" means this document, which is dated november 21, 2016 , together with all riders to this document. @) ws richard p. louie and yoko suzuki, husband and wife, as joint borrower's address is 2199 toulouse ln, brentwood, california 94513. borrower is the trustor under this security instrument. (©) \"lender\"is loandepot.com, llc lender is a limited liability company organized and existing under the laws of delaware 7 lender's address is 26642 towne centre drive, foothill ranch, california 92610 (d) ‘\"trustee\"is lawyers title company 16755 von karman ave, suite 100, irvine, california 92606 (e) \"mers\" is mortgage electronic registration systems, inc. mers is a separate corporation that is acting solely as anominee for lender and lender's successors and assigns. mers is the beneficiary under this security instrument, mers is organized and existing under the laws of delaware, and has an address and telephone number of p.o. box 2026, flint, mi 48501-2026, tel. (888) 679-mers. (®) \"note''means the promissory note signed by borrower and dated november 21, 2016\n",
            "definitions words used in multiple sections of this document are defined below and other words are defined in sections 3, 11, 13, 18, 20 and21. certain rules regarding the usage of words used in this document are also provided in section 16. (a) \"security instrument\" means this document, which is dated november 21, 2016 , together with all riders to this document. @) ws richard p. louie and yoko suzuki, husband and wife, as joint borrower's address is 2199 toulouse ln, brentwood, california 94513. borrower is the trustor under this security instrument. (©) \"lender\"is loandepot.com, llc lender is a limited liability company organized and existing under the laws of delaware 7 lender's address is 26642 towne centre drive, foothill ranch, california 92610 (d) ‘\"trustee\"is lawyers title company 16755 von karman ave, suite 100, irvine, california 92606 (e) \"mers\" is mortgage electronic registration systems, inc. mers is a separate corporation that is acting solely as anominee for lender and lender's successors and assigns. mers is the beneficiary under this security instrument, mers is organized and existing under the laws of delaware, and has an address and telephone number of p.o. box 2026, flint, mi 48501-2026, tel. (888) 679-mers. (®) \"note''means the promissory note signed by borrower and dated november 21, 2016\n",
            "{'definitions': 0, 'words': 36, 'used': 37, 'in': 44, 'multiple': 4, 'sections': 18, 'of': 232, 'this': 210, 'document': 73, 'are': 41, 'defined': 16, 'below': 11, 'and': 265, 'other': 13, '3': 19, ',': 269, '11': 21, '13': 23, '18': 25, '20': 27, 'and21': 28, '.': 253, 'certain': 30, 'rules': 31, 'regarding': 32, 'the': 259, 'usage': 34, 'also': 42, 'provided': 43, 'section': 45, '16': 46, '(': 254, 'a': 187, ')': 256, '\"': 257, 'security': 211, 'instrument': 212, 'means': 55, 'which': 59, 'is': 215, 'dated': 266, 'november': 267, '21': 268, '2016': 270, 'together': 67, 'with': 68, 'all': 69, 'riders': 70, 'to': 71, '@': 75, 'ws': 77, 'richard': 78, 'p.': 79, 'louie': 80, 'yoko': 82, 'suzuki': 83, 'husband': 85, 'wife': 87, 'as': 194, 'joint': 90, 'borrower': 264, \"'s\": 200, 'address': 228, '2199': 95, 'toulouse': 96, 'ln': 97, 'brentwood': 99, 'california': 169, '94513': 102, 'trustor': 107, 'under': 219, '©': 114, 'lender\"is': 117, 'loandepot.com': 118, 'llc': 120, 'lender': 199, 'limited': 124, 'liability': 125, 'company': 158, 'organized': 216, 'existing': 218, 'laws': 221, 'delaware': 223, '7': 135, '26642': 140, 'towne': 141, 'centre': 142, 'drive': 143, 'foothill': 145, 'ranch': 146, '92610': 149, 'd': 151, '‘': 153, 'trustee\"is': 155, 'lawyers': 156, 'title': 157, '16755': 159, 'von': 160, 'karman': 161, 'ave': 162, 'suite': 164, '100': 165, 'irvine': 167, '92606': 170, 'e': 172, 'mers': 252, 'mortgage': 178, 'electronic': 179, 'registration': 180, 'systems': 181, 'inc': 183, 'separate': 188, 'corporation': 189, 'that': 190, 'acting': 192, 'solely': 193, 'anominee': 195, 'for': 196, 'successors': 201, 'assigns': 203, 'beneficiary': 208, 'has': 226, 'an': 227, 'telephone': 230, 'number': 231, 'p.o': 233, 'box': 235, '2026': 243, 'flint': 238, 'mi': 240, '48501': 241, '-': 251, 'tel': 245, '888': 248, '679': 250, '®': 255, \"note''means\": 258, 'promissory': 260, 'note': 261, 'signed': 262, 'by': 263}\n",
            "[2199 toulouse ln, brentwood, california 94513, 26642 towne centre drive, foothill ranch, california 92610, 16755 von karman ave, suite 100, irvine, california 92606, None, None, richard p. louie and yoko suzuki, loandepot.com, llc, lawyers title company, husband and wife, limited liability company]\n",
            "78\n",
            "85\n",
            "95\n",
            "78\n",
            "257\n",
            "118\n",
            "124\n",
            "118\n",
            "140\n",
            "118\n",
            "257\n",
            "156\n",
            "159\n",
            "156\n",
            "{(257, 257): {'PARTY NAME': 0.0, 'IDCODE': 0.0, 'ROLE': 0.0, 'ADDRESS': 0.0}, (257, 140): {'PARTY NAME': 0.0, 'IDCODE': 0.0, 'ROLE': 0.0, 'ADDRESS': 0.0}, (257, 78): {'PARTY NAME': 0.0, 'IDCODE': 0.0, 'ROLE': 0.0, 'ADDRESS': 0.0}, (257, 124): {'PARTY NAME': 0.0, 'IDCODE': 0.0, 'ROLE': 0.0, 'ADDRESS': 0.0}, (257, 85): {'PARTY NAME': 0.0, 'IDCODE': 0.0, 'ROLE': 0.0, 'ADDRESS': 0.0}, (257, 118): {'PARTY ROLE': 1.0, 'PARTY NAME': 0.0, 'IDCODE': 0.0, 'ROLE': 0.0, 'ADDRESS': 0.0}, (257, 156): {'PARTY ROLE': 1.0, 'PARTY NAME': 0.0, 'IDCODE': 0.0, 'ROLE': 0.0, 'ADDRESS': 0.0}, (257, 95): {'PARTY NAME': 0.0, 'IDCODE': 0.0, 'ROLE': 0.0, 'ADDRESS': 0.0}, (257, 159): {'PARTY NAME': 0.0, 'IDCODE': 0.0, 'ROLE': 0.0, 'ADDRESS': 0.0}, (140, 257): {'PARTY NAME': 0.0, 'IDCODE': 0.0, 'ROLE': 0.0, 'ADDRESS': 0.0}, (140, 140): {'PARTY NAME': 0.0, 'IDCODE': 0.0, 'ROLE': 0.0, 'ADDRESS': 0.0}, (140, 78): {'PARTY NAME': 0.0, 'IDCODE': 0.0, 'ROLE': 0.0, 'ADDRESS': 0.0}, (140, 124): {'PARTY NAME': 0.0, 'IDCODE': 0.0, 'ROLE': 0.0, 'ADDRESS': 0.0}, (140, 85): {'PARTY NAME': 0.0, 'IDCODE': 0.0, 'ROLE': 0.0, 'ADDRESS': 0.0}, (140, 118): {'PARTY ADDRESS': 1.0, 'PARTY NAME': 0.0, 'IDCODE': 0.0, 'ROLE': 0.0, 'ADDRESS': 0.0}, (140, 156): {'PARTY NAME': 0.0, 'IDCODE': 0.0, 'ROLE': 0.0, 'ADDRESS': 0.0}, (140, 95): {'PARTY NAME': 0.0, 'IDCODE': 0.0, 'ROLE': 0.0, 'ADDRESS': 0.0}, (140, 159): {'PARTY NAME': 0.0, 'IDCODE': 0.0, 'ROLE': 0.0, 'ADDRESS': 0.0}, (78, 257): {'PARTY NAME': 0.0, 'IDCODE': 0.0, 'ROLE': 0.0, 'ADDRESS': 0.0}, (78, 140): {'PARTY NAME': 0.0, 'IDCODE': 0.0, 'ROLE': 0.0, 'ADDRESS': 0.0}, (78, 78): {'PARTY NAME': 0.0, 'IDCODE': 0.0, 'ROLE': 0.0, 'ADDRESS': 0.0}, (78, 124): {'PARTY NAME': 0.0, 'IDCODE': 0.0, 'ROLE': 0.0, 'ADDRESS': 0.0}, (78, 85): {'PARTY IDCODE': 1.0, 'PARTY NAME': 0.0, 'IDCODE': 0.0, 'ROLE': 0.0, 'ADDRESS': 0.0}, (78, 118): {'PARTY NAME': 0.0, 'IDCODE': 0.0, 'ROLE': 0.0, 'ADDRESS': 0.0}, (78, 156): {'PARTY NAME': 0.0, 'IDCODE': 0.0, 'ROLE': 0.0, 'ADDRESS': 0.0}, (78, 95): {'PARTY NAME': 0.0, 'IDCODE': 0.0, 'ROLE': 0.0, 'ADDRESS': 0.0}, (78, 159): {'PARTY NAME': 0.0, 'IDCODE': 0.0, 'ROLE': 0.0, 'ADDRESS': 0.0}, (124, 257): {'PARTY NAME': 0.0, 'IDCODE': 0.0, 'ROLE': 0.0, 'ADDRESS': 0.0}, (124, 140): {'PARTY NAME': 0.0, 'IDCODE': 0.0, 'ROLE': 0.0, 'ADDRESS': 0.0}, (124, 78): {'PARTY NAME': 0.0, 'IDCODE': 0.0, 'ROLE': 0.0, 'ADDRESS': 0.0}, (124, 124): {'PARTY NAME': 0.0, 'IDCODE': 0.0, 'ROLE': 0.0, 'ADDRESS': 0.0}, (124, 85): {'PARTY NAME': 0.0, 'IDCODE': 0.0, 'ROLE': 0.0, 'ADDRESS': 0.0}, (124, 118): {'PARTY IDCODE': 1.0, 'PARTY NAME': 0.0, 'IDCODE': 0.0, 'ROLE': 0.0, 'ADDRESS': 0.0}, (124, 156): {'PARTY NAME': 0.0, 'IDCODE': 0.0, 'ROLE': 0.0, 'ADDRESS': 0.0}, (124, 95): {'PARTY NAME': 0.0, 'IDCODE': 0.0, 'ROLE': 0.0, 'ADDRESS': 0.0}, (124, 159): {'PARTY NAME': 0.0, 'IDCODE': 0.0, 'ROLE': 0.0, 'ADDRESS': 0.0}, (85, 257): {'PARTY NAME': 0.0, 'IDCODE': 0.0, 'ROLE': 0.0, 'ADDRESS': 0.0}, (85, 140): {'PARTY NAME': 0.0, 'IDCODE': 0.0, 'ROLE': 0.0, 'ADDRESS': 0.0}, (85, 78): {'PARTY NAME': 0.0, 'IDCODE': 0.0, 'ROLE': 0.0, 'ADDRESS': 0.0}, (85, 124): {'PARTY NAME': 0.0, 'IDCODE': 0.0, 'ROLE': 0.0, 'ADDRESS': 0.0}, (85, 85): {'PARTY NAME': 0.0, 'IDCODE': 0.0, 'ROLE': 0.0, 'ADDRESS': 0.0}, (85, 118): {'PARTY NAME': 0.0, 'IDCODE': 0.0, 'ROLE': 0.0, 'ADDRESS': 0.0}, (85, 156): {'PARTY NAME': 0.0, 'IDCODE': 0.0, 'ROLE': 0.0, 'ADDRESS': 0.0}, (85, 95): {'PARTY NAME': 0.0, 'IDCODE': 0.0, 'ROLE': 0.0, 'ADDRESS': 0.0}, (85, 159): {'PARTY NAME': 0.0, 'IDCODE': 0.0, 'ROLE': 0.0, 'ADDRESS': 0.0}, (118, 257): {'PARTY NAME': 0.0, 'IDCODE': 0.0, 'ROLE': 0.0, 'ADDRESS': 0.0}, (118, 140): {'PARTY NAME': 0.0, 'IDCODE': 0.0, 'ROLE': 0.0, 'ADDRESS': 0.0}, (118, 78): {'PARTY NAME': 0.0, 'IDCODE': 0.0, 'ROLE': 0.0, 'ADDRESS': 0.0}, (118, 124): {'PARTY NAME': 0.0, 'IDCODE': 0.0, 'ROLE': 0.0, 'ADDRESS': 0.0}, (118, 85): {'PARTY NAME': 0.0, 'IDCODE': 0.0, 'ROLE': 0.0, 'ADDRESS': 0.0}, (118, 118): {'PARTY NAME': 0.0, 'IDCODE': 0.0, 'ROLE': 0.0, 'ADDRESS': 0.0}, (118, 156): {'PARTY NAME': 0.0, 'IDCODE': 0.0, 'ROLE': 0.0, 'ADDRESS': 0.0}, (118, 95): {'PARTY NAME': 0.0, 'IDCODE': 0.0, 'ROLE': 0.0, 'ADDRESS': 0.0}, (118, 159): {'PARTY NAME': 0.0, 'IDCODE': 0.0, 'ROLE': 0.0, 'ADDRESS': 0.0}, (156, 257): {'PARTY NAME': 0.0, 'IDCODE': 0.0, 'ROLE': 0.0, 'ADDRESS': 0.0}, (156, 140): {'PARTY NAME': 0.0, 'IDCODE': 0.0, 'ROLE': 0.0, 'ADDRESS': 0.0}, (156, 78): {'PARTY NAME': 0.0, 'IDCODE': 0.0, 'ROLE': 0.0, 'ADDRESS': 0.0}, (156, 124): {'PARTY NAME': 0.0, 'IDCODE': 0.0, 'ROLE': 0.0, 'ADDRESS': 0.0}, (156, 85): {'PARTY NAME': 0.0, 'IDCODE': 0.0, 'ROLE': 0.0, 'ADDRESS': 0.0}, (156, 118): {'PARTY NAME': 0.0, 'IDCODE': 0.0, 'ROLE': 0.0, 'ADDRESS': 0.0}, (156, 156): {'PARTY NAME': 0.0, 'IDCODE': 0.0, 'ROLE': 0.0, 'ADDRESS': 0.0}, (156, 95): {'PARTY NAME': 0.0, 'IDCODE': 0.0, 'ROLE': 0.0, 'ADDRESS': 0.0}, (156, 159): {'PARTY NAME': 0.0, 'IDCODE': 0.0, 'ROLE': 0.0, 'ADDRESS': 0.0}, (95, 257): {'PARTY NAME': 0.0, 'IDCODE': 0.0, 'ROLE': 0.0, 'ADDRESS': 0.0}, (95, 140): {'PARTY NAME': 0.0, 'IDCODE': 0.0, 'ROLE': 0.0, 'ADDRESS': 0.0}, (95, 78): {'PARTY ADDRESS': 1.0, 'PARTY NAME': 0.0, 'IDCODE': 0.0, 'ROLE': 0.0, 'ADDRESS': 0.0}, (95, 124): {'PARTY NAME': 0.0, 'IDCODE': 0.0, 'ROLE': 0.0, 'ADDRESS': 0.0}, (95, 85): {'PARTY NAME': 0.0, 'IDCODE': 0.0, 'ROLE': 0.0, 'ADDRESS': 0.0}, (95, 118): {'PARTY NAME': 0.0, 'IDCODE': 0.0, 'ROLE': 0.0, 'ADDRESS': 0.0}, (95, 156): {'PARTY NAME': 0.0, 'IDCODE': 0.0, 'ROLE': 0.0, 'ADDRESS': 0.0}, (95, 95): {'PARTY NAME': 0.0, 'IDCODE': 0.0, 'ROLE': 0.0, 'ADDRESS': 0.0}, (95, 159): {'PARTY NAME': 0.0, 'IDCODE': 0.0, 'ROLE': 0.0, 'ADDRESS': 0.0}, (159, 257): {'PARTY NAME': 0.0, 'IDCODE': 0.0, 'ROLE': 0.0, 'ADDRESS': 0.0}, (159, 140): {'PARTY NAME': 0.0, 'IDCODE': 0.0, 'ROLE': 0.0, 'ADDRESS': 0.0}, (159, 78): {'PARTY NAME': 0.0, 'IDCODE': 0.0, 'ROLE': 0.0, 'ADDRESS': 0.0}, (159, 124): {'PARTY NAME': 0.0, 'IDCODE': 0.0, 'ROLE': 0.0, 'ADDRESS': 0.0}, (159, 85): {'PARTY NAME': 0.0, 'IDCODE': 0.0, 'ROLE': 0.0, 'ADDRESS': 0.0}, (159, 118): {'PARTY NAME': 0.0, 'IDCODE': 0.0, 'ROLE': 0.0, 'ADDRESS': 0.0}, (159, 156): {'PARTY ADDRESS': 1.0, 'PARTY NAME': 0.0, 'IDCODE': 0.0, 'ROLE': 0.0, 'ADDRESS': 0.0}, (159, 95): {'PARTY NAME': 0.0, 'IDCODE': 0.0, 'ROLE': 0.0, 'ADDRESS': 0.0}, (159, 159): {'PARTY NAME': 0.0, 'IDCODE': 0.0, 'ROLE': 0.0, 'ADDRESS': 0.0}}\n",
            "definitions words used in multiple sections of this document- are defined _b below and other words are defined in sections 3, 11, 13, 18, 20 and 21. certain rulés: egarding th the usa ‘usage of words used in this document are also provided in section 16. i @ (a) \"security instrument\" means this document, which is datedmarch“31, 2012 : together with all riders to this document. (b) \"borrower\" is monika g, trenkler, an unmarried woman, her heirs and assigns forever l borrower is the mortgagor under this security instrument. (c) \"lender\" is wells fargo bank, n.a. lender is anational association organized and existing under the laws of the united states een an\n",
            "definitions words used in multiple sections of this document- are defined _b below and other words are defined in sections 3, 11, 13, 18, 20 and 21. certain rulés: egarding th the usa ‘usage of words used in this document are also provided in section 16. i @ (a) \"security instrument\" means this document, which is datedmarch“31, 2012 : together with all riders to this document. (b) \"borrower\" is monika g, trenkler, an unmarried woman, her heirs and assigns forever l borrower is the mortgagor under this security instrument. (c) \"lender\" is wells fargo bank, n.a. lender is anational association organized and existing under the laws of the united states een an\n",
            "{'definitions': 0, 'words': 43, 'used': 44, 'in': 51, 'multiple': 4, 'sections': 20, 'of': 136, 'this': 109, 'document-': 8, 'are': 48, 'defined': 18, '_': 11, 'b': 83, 'below': 13, 'and': 131, 'other': 15, '3': 21, ',': 123, '11': 23, '13': 25, '18': 27, '20': 29, '21': 31, '.': 125, 'certain': 33, 'rulés': 34, ':': 73, 'egarding': 36, 'th': 37, 'the': 137, 'usa': 39, '‘': 40, 'usage': 41, 'document': 80, 'also': 49, 'provided': 50, 'section': 52, '16': 53, 'i': 55, '@': 56, '(': 113, 'a': 58, ')': 115, '\"': 118, 'security': 110, 'instrument': 111, 'means': 64, 'which': 68, 'is': 127, 'datedmarch“31': 70, '2012': 72, 'together': 74, 'with': 75, 'all': 76, 'riders': 77, 'to': 78, 'borrower': 104, 'monika': 89, 'g': 90, 'trenkler': 92, 'an': 141, 'unmarried': 95, 'woman': 96, 'her': 98, 'heirs': 99, 'assigns': 101, 'forever': 102, 'l': 103, 'mortgagor': 107, 'under': 133, 'c': 114, 'lender': 126, 'wells': 120, 'fargo': 121, 'bank': 122, 'n.a': 124, 'anational': 128, 'association': 129, 'organized': 130, 'existing': 132, 'laws': 135, 'united': 138, 'states': 139, 'een': 140}\n",
            "[\"borrower\", \"lender\", monika g, trenkler,, wells fargo bank, unmarried woman]\n",
            "118\n",
            "89\n",
            "95\n",
            "89\n",
            "118\n",
            "120\n",
            "{(120, 120): {'PARTY NAME': 0.0, 'IDCODE': 0.0, 'ROLE': 0.0, 'ADDRESS': 0.0}, (120, 89): {'PARTY NAME': 0.0, 'IDCODE': 0.0, 'ROLE': 0.0, 'ADDRESS': 0.0}, (120, 118): {'PARTY NAME': 0.0, 'IDCODE': 0.0, 'ROLE': 0.0, 'ADDRESS': 0.0}, (120, 95): {'PARTY NAME': 0.0, 'IDCODE': 0.0, 'ROLE': 0.0, 'ADDRESS': 0.0}, (89, 120): {'PARTY NAME': 0.0, 'IDCODE': 0.0, 'ROLE': 0.0, 'ADDRESS': 0.0}, (89, 89): {'PARTY NAME': 0.0, 'IDCODE': 0.0, 'ROLE': 0.0, 'ADDRESS': 0.0}, (89, 118): {'PARTY NAME': 0.0, 'IDCODE': 0.0, 'ROLE': 0.0, 'ADDRESS': 0.0}, (89, 95): {'PARTY NAME': 0.0, 'IDCODE': 0.0, 'ROLE': 0.0, 'ADDRESS': 0.0}, (118, 120): {'PARTY ROLE': 1.0, 'PARTY NAME': 0.0, 'IDCODE': 0.0, 'ROLE': 0.0, 'ADDRESS': 0.0}, (118, 89): {'PARTY ROLE': 1.0, 'PARTY NAME': 0.0, 'IDCODE': 0.0, 'ROLE': 0.0, 'ADDRESS': 0.0}, (118, 118): {'PARTY NAME': 0.0, 'IDCODE': 0.0, 'ROLE': 0.0, 'ADDRESS': 0.0}, (118, 95): {'PARTY NAME': 0.0, 'IDCODE': 0.0, 'ROLE': 0.0, 'ADDRESS': 0.0}, (95, 120): {'PARTY NAME': 0.0, 'IDCODE': 0.0, 'ROLE': 0.0, 'ADDRESS': 0.0}, (95, 89): {'PARTY IDCODE': 1.0, 'PARTY NAME': 0.0, 'IDCODE': 0.0, 'ROLE': 0.0, 'ADDRESS': 0.0}, (95, 118): {'PARTY NAME': 0.0, 'IDCODE': 0.0, 'ROLE': 0.0, 'ADDRESS': 0.0}, (95, 95): {'PARTY NAME': 0.0, 'IDCODE': 0.0, 'ROLE': 0.0, 'ADDRESS': 0.0}}\n",
            "definitions words used in multiple sections of this document are defined below and other words are defined in sections 3, 11, 13, 18, 20 and 21. certain rules regarding the usage of words used in this document are also provided in section 16. (a) \"security instrument\" means this document, which is datedmarch 25, 2010 together with all riders to this document. (b) \"borrower\" is harmon g reinis, a married man j <any a einés o marreeo/ wom aa borrower is the mortgagor under this security instrument. (©) \"mers\" is mortgage electronic registration systems, inc. mers is a separate corporation that is acting solely as a nominee for lender and lender’s successors and assigns. mers is the mortgagee under this security instrument. mers is organized and existing under the laws of delaware, and has an address and telephone number of p.o. box 2026, flint, mi 48501-2026, tel. (888) 679-mers. (d) \"lender\" is bankatlantic\n",
            "definitions words used in multiple sections of this document are defined below and other words are defined in sections 3, 11, 13, 18, 20 and 21. certain rules regarding the usage of words used in this document are also provided in section 16. (a) \"security instrument\" means this document, which is datedmarch 25, 2010 together with all riders to this document. (b) \"borrower\" is harmon g reinis, a married man j <any a einés o marreeo/ wom aa borrower is the mortgagor under this security instrument. (©) \"mers\" is mortgage electronic registration systems, inc. mers is a separate corporation that is acting solely as a nominee for lender and lender’s successors and assigns. mers is the mortgagee under this security instrument. mers is organized and existing under the laws of delaware, and has an address and telephone number of p.o. box 2026, flint, mi 48501-2026, tel. (888) 679-mers. (d) \"lender\" is bankatlantic\n",
            "{'definitions': 0, 'words': 37, 'used': 38, 'in': 45, 'multiple': 4, 'sections': 18, 'of': 168, 'this': 146, 'document': 72, 'are': 42, 'defined': 16, 'below': 11, 'and': 165, 'other': 13, '3': 19, ',': 180, '11': 21, '13': 23, '18': 25, '20': 27, '21': 29, '.': 189, 'certain': 31, 'rules': 32, 'regarding': 33, 'the': 156, 'usage': 35, 'also': 43, 'provided': 44, 'section': 46, '16': 47, '(': 190, 'a': 130, ')': 192, '\"': 195, 'security': 147, 'instrument': 148, 'means': 56, 'which': 60, 'is': 196, 'datedmarch': 62, '25': 63, '2010': 65, 'together': 66, 'with': 67, 'all': 68, 'riders': 69, 'to': 70, 'b': 75, 'borrower': 97, 'harmon': 81, 'g': 82, 'reinis': 83, 'married': 86, 'man': 87, 'j': 88, '<': 89, 'any': 90, 'einés': 92, 'o': 93, 'marreeo/': 94, 'wom': 95, 'aa': 96, 'mortgagor': 100, 'under': 155, '©': 107, 'mers': 188, 'mortgage': 113, 'electronic': 114, 'registration': 115, 'systems': 116, 'inc': 118, 'separate': 123, 'corporation': 124, 'that': 125, 'acting': 127, 'solely': 128, 'as': 129, 'nominee': 131, 'for': 132, 'lender': 194, '’s': 136, 'successors': 137, 'assigns': 139, 'mortgagee': 144, 'organized': 152, 'existing': 154, 'laws': 157, 'delaware': 159, 'has': 162, 'an': 163, 'address': 164, 'telephone': 166, 'number': 167, 'p.o': 169, 'box': 171, '2026': 179, 'flint': 174, 'mi': 176, '48501': 177, '-': 187, 'tel': 181, '888': 184, '679': 186, 'd': 191, 'bankatlantic': 197}\n",
            "[\"borrower\", harmon g reinis, \"lender\", bankatlantic, married man]\n",
            "195\n",
            "81\n",
            "86\n",
            "81\n",
            "195\n",
            "197\n",
            "{(81, 81): {'PARTY NAME': 0.0, 'IDCODE': 0.0, 'ROLE': 0.0, 'ADDRESS': 0.0}, (81, 195): {'PARTY NAME': 0.0, 'IDCODE': 0.0, 'ROLE': 0.0, 'ADDRESS': 0.0}, (81, 197): {'PARTY NAME': 0.0, 'IDCODE': 0.0, 'ROLE': 0.0, 'ADDRESS': 0.0}, (81, 86): {'PARTY NAME': 0.0, 'IDCODE': 0.0, 'ROLE': 0.0, 'ADDRESS': 0.0}, (195, 81): {'PARTY ROLE': 1.0, 'PARTY NAME': 0.0, 'IDCODE': 0.0, 'ROLE': 0.0, 'ADDRESS': 0.0}, (195, 195): {'PARTY NAME': 0.0, 'IDCODE': 0.0, 'ROLE': 0.0, 'ADDRESS': 0.0}, (195, 197): {'PARTY ROLE': 1.0, 'PARTY NAME': 0.0, 'IDCODE': 0.0, 'ROLE': 0.0, 'ADDRESS': 0.0}, (195, 86): {'PARTY NAME': 0.0, 'IDCODE': 0.0, 'ROLE': 0.0, 'ADDRESS': 0.0}, (197, 81): {'PARTY NAME': 0.0, 'IDCODE': 0.0, 'ROLE': 0.0, 'ADDRESS': 0.0}, (197, 195): {'PARTY NAME': 0.0, 'IDCODE': 0.0, 'ROLE': 0.0, 'ADDRESS': 0.0}, (197, 197): {'PARTY NAME': 0.0, 'IDCODE': 0.0, 'ROLE': 0.0, 'ADDRESS': 0.0}, (197, 86): {'PARTY NAME': 0.0, 'IDCODE': 0.0, 'ROLE': 0.0, 'ADDRESS': 0.0}, (86, 81): {'PARTY IDCODE': 1.0, 'PARTY NAME': 0.0, 'IDCODE': 0.0, 'ROLE': 0.0, 'ADDRESS': 0.0}, (86, 195): {'PARTY NAME': 0.0, 'IDCODE': 0.0, 'ROLE': 0.0, 'ADDRESS': 0.0}, (86, 197): {'PARTY NAME': 0.0, 'IDCODE': 0.0, 'ROLE': 0.0, 'ADDRESS': 0.0}, (86, 86): {'PARTY NAME': 0.0, 'IDCODE': 0.0, 'ROLE': 0.0, 'ADDRESS': 0.0}}\n",
            "definitions words used in multiple sections of this document are defined below and other words are defined in sections 3, 11, 19, 18, 20 and 21. certain rules regarding the usage of words used in this document are also provided in section 16. (a) “security instrument” means this document, which is dated july 6, 2018, together with all riders to this document. (b) “borrower” is gerald j japp and natalie g japp, as tenants by the entirety. borrower is the trustor under this security instrument. (c) “lender” is umpqua bank. lender is a state chartered bank, organized and existing under the laws of oregon. lender's address is 6021 244th street sw, mountlal race, wa 98043. (d) “trustee” is fidelity national title,\n",
            "definitions words used in multiple sections of this document are defined below and other words are defined in sections 3, 11, 19, 18, 20 and 21. certain rules regarding the usage of words used in this document are also provided in section 16. (a) “security instrument” means this document, which is dated july 6, 2018, together with all riders to this document. (b) “borrower” is gerald j japp and natalie g japp, as tenants by the entirety. borrower is the trustor under this security instrument. (c) “lender” is umpqua bank. lender is a state chartered bank, organized and existing under the laws of oregon. lender's address is 6021 244th street sw, mountlal race, wa 98043. (d) “trustee” is fidelity national title,\n",
            "{'definitions': 0, 'words': 37, 'used': 38, 'in': 45, 'multiple': 4, 'sections': 18, 'of': 129, 'this': 102, 'document': 74, 'are': 42, 'defined': 16, 'below': 11, 'and': 124, 'other': 13, '3': 19, ',': 157, '11': 21, '19': 23, '18': 25, '20': 27, '21': 29, '.': 146, 'certain': 31, 'rules': 32, 'regarding': 33, 'the': 127, 'usage': 35, 'also': 43, 'provided': 44, 'section': 46, '16': 47, '(': 147, 'a': 118, ')': 149, '“': 150, 'security': 103, 'instrument': 104, '”': 152, 'means': 56, 'which': 60, 'is': 153, 'dated': 62, 'july': 63, '6': 64, '2018': 66, 'together': 68, 'with': 69, 'all': 70, 'riders': 71, 'to': 72, 'b': 77, 'borrower': 97, 'gerald': 83, 'j': 84, 'japp': 89, 'natalie': 87, 'g': 88, 'as': 91, 'tenants': 92, 'by': 93, 'entirety': 95, 'trustor': 100, 'under': 126, 'c': 107, 'lender': 132, 'umpqua': 113, 'bank': 121, 'state': 119, 'chartered': 120, 'organized': 123, 'existing': 125, 'laws': 128, 'oregon': 130, \"'s\": 133, 'address': 134, '6021': 136, '244th': 137, 'street': 138, 'sw': 139, 'mountlal': 141, 'race': 142, 'wa': 144, '98043': 145, 'd': 148, 'trustee': 151, 'fidelity': 154, 'national': 155, 'title': 156}\n",
            "[6021 244th street sw, mountlal race, wa 98043, “borrower”, “lender”, gerald j japp and natalie g japp, umpqua bank, “trustee”, fidelity national title,, state chartered bank,]\n",
            "150\n",
            "83\n",
            "150\n",
            "113\n",
            "119\n",
            "113\n",
            "136\n",
            "113\n",
            "150\n",
            "154\n",
            "{(136, 136): {'PARTY NAME': 0.0, 'IDCODE': 0.0, 'ROLE': 0.0, 'ADDRESS': 0.0}, (136, 113): {'PARTY ADDRESS': 1.0, 'PARTY NAME': 0.0, 'IDCODE': 0.0, 'ROLE': 0.0, 'ADDRESS': 0.0}, (136, 83): {'PARTY NAME': 0.0, 'IDCODE': 0.0, 'ROLE': 0.0, 'ADDRESS': 0.0}, (136, 150): {'PARTY NAME': 0.0, 'IDCODE': 0.0, 'ROLE': 0.0, 'ADDRESS': 0.0}, (136, 119): {'PARTY NAME': 0.0, 'IDCODE': 0.0, 'ROLE': 0.0, 'ADDRESS': 0.0}, (136, 154): {'PARTY NAME': 0.0, 'IDCODE': 0.0, 'ROLE': 0.0, 'ADDRESS': 0.0}, (113, 136): {'PARTY NAME': 0.0, 'IDCODE': 0.0, 'ROLE': 0.0, 'ADDRESS': 0.0}, (113, 113): {'PARTY NAME': 0.0, 'IDCODE': 0.0, 'ROLE': 0.0, 'ADDRESS': 0.0}, (113, 83): {'PARTY NAME': 0.0, 'IDCODE': 0.0, 'ROLE': 0.0, 'ADDRESS': 0.0}, (113, 150): {'PARTY NAME': 0.0, 'IDCODE': 0.0, 'ROLE': 0.0, 'ADDRESS': 0.0}, (113, 119): {'PARTY NAME': 0.0, 'IDCODE': 0.0, 'ROLE': 0.0, 'ADDRESS': 0.0}, (113, 154): {'PARTY NAME': 0.0, 'IDCODE': 0.0, 'ROLE': 0.0, 'ADDRESS': 0.0}, (83, 136): {'PARTY NAME': 0.0, 'IDCODE': 0.0, 'ROLE': 0.0, 'ADDRESS': 0.0}, (83, 113): {'PARTY NAME': 0.0, 'IDCODE': 0.0, 'ROLE': 0.0, 'ADDRESS': 0.0}, (83, 83): {'PARTY NAME': 0.0, 'IDCODE': 0.0, 'ROLE': 0.0, 'ADDRESS': 0.0}, (83, 150): {'PARTY NAME': 0.0, 'IDCODE': 0.0, 'ROLE': 0.0, 'ADDRESS': 0.0}, (83, 119): {'PARTY NAME': 0.0, 'IDCODE': 0.0, 'ROLE': 0.0, 'ADDRESS': 0.0}, (83, 154): {'PARTY NAME': 0.0, 'IDCODE': 0.0, 'ROLE': 0.0, 'ADDRESS': 0.0}, (150, 136): {'PARTY NAME': 0.0, 'IDCODE': 0.0, 'ROLE': 0.0, 'ADDRESS': 0.0}, (150, 113): {'PARTY ROLE': 1.0, 'PARTY NAME': 0.0, 'IDCODE': 0.0, 'ROLE': 0.0, 'ADDRESS': 0.0}, (150, 83): {'PARTY ROLE': 1.0, 'PARTY NAME': 0.0, 'IDCODE': 0.0, 'ROLE': 0.0, 'ADDRESS': 0.0}, (150, 150): {'PARTY NAME': 0.0, 'IDCODE': 0.0, 'ROLE': 0.0, 'ADDRESS': 0.0}, (150, 119): {'PARTY NAME': 0.0, 'IDCODE': 0.0, 'ROLE': 0.0, 'ADDRESS': 0.0}, (150, 154): {'PARTY ROLE': 1.0, 'PARTY NAME': 0.0, 'IDCODE': 0.0, 'ROLE': 0.0, 'ADDRESS': 0.0}, (119, 136): {'PARTY NAME': 0.0, 'IDCODE': 0.0, 'ROLE': 0.0, 'ADDRESS': 0.0}, (119, 113): {'PARTY IDCODE': 1.0, 'PARTY NAME': 0.0, 'IDCODE': 0.0, 'ROLE': 0.0, 'ADDRESS': 0.0}, (119, 83): {'PARTY NAME': 0.0, 'IDCODE': 0.0, 'ROLE': 0.0, 'ADDRESS': 0.0}, (119, 150): {'PARTY NAME': 0.0, 'IDCODE': 0.0, 'ROLE': 0.0, 'ADDRESS': 0.0}, (119, 119): {'PARTY NAME': 0.0, 'IDCODE': 0.0, 'ROLE': 0.0, 'ADDRESS': 0.0}, (119, 154): {'PARTY NAME': 0.0, 'IDCODE': 0.0, 'ROLE': 0.0, 'ADDRESS': 0.0}, (154, 136): {'PARTY NAME': 0.0, 'IDCODE': 0.0, 'ROLE': 0.0, 'ADDRESS': 0.0}, (154, 113): {'PARTY NAME': 0.0, 'IDCODE': 0.0, 'ROLE': 0.0, 'ADDRESS': 0.0}, (154, 83): {'PARTY NAME': 0.0, 'IDCODE': 0.0, 'ROLE': 0.0, 'ADDRESS': 0.0}, (154, 150): {'PARTY NAME': 0.0, 'IDCODE': 0.0, 'ROLE': 0.0, 'ADDRESS': 0.0}, (154, 119): {'PARTY NAME': 0.0, 'IDCODE': 0.0, 'ROLE': 0.0, 'ADDRESS': 0.0}, (154, 154): {'PARTY NAME': 0.0, 'IDCODE': 0.0, 'ROLE': 0.0, 'ADDRESS': 0.0}}\n",
            "definitions words used in multiple sections of this document are defined below and other words are defined in sections 3, 11, 13, 18, 20 and 21. certain rules regarding the usage of words used in this document are also provided in section 16. {a) “security instrument” means this document, which is dated july 8, 2016, together with all riders to this document. {b) “borrower” is kevin heap and heather heap, husband and wife. borrower is the trustor under this security instrument. (c) \"lender\" is first choice loan services inc.. lenderis a corporation, organized and existing under the laws of new jersey. lender's address is one tower center, floor #18, east brunswick, nj 08816. (d) “trustee” is chicago title company of washington. {e) \"mers\" is the mortgage electronic registration systems, inc, lender has appointed mers as the nominee for lender for this joan, and attached a mers rider to this security instrument, to be executed by bon the relationshi d between | lender and mers, and which is incorporated\n",
            "definitions words used in multiple sections of this document are defined below and other words are defined in sections 3, 11, 13, 18, 20 and 21. certain rules regarding the usage of words used in this document are also provided in section 16. {a) “security instrument” means this document, which is dated july 8, 2016, together with all riders to this document. {b) “borrower” is kevin heap and heather heap, husband and wife. borrower is the trustor under this security instrument. (c) \"lender\" is first choice loan services inc.. lenderis a corporation, organized and existing under the laws of new jersey. lender's address is one tower center, floor #18, east brunswick, nj 08816. (d) “trustee” is chicago title company of washington. {e) \"mers\" is the mortgage electronic registration systems, inc, lender has appointed mers as the nominee for lender for this joan, and attached a mers rider to this security instrument, to be executed by bon the relationshi d between | lender and mers, and which is incorporated\n",
            "{'definitions': 0, 'words': 37, 'used': 38, 'in': 45, 'multiple': 4, 'sections': 18, 'of': 157, 'this': 194, 'document': 74, 'are': 42, 'defined': 16, 'below': 11, 'and': 212, 'other': 13, '3': 19, ',': 211, '11': 21, '13': 23, '18': 139, '20': 27, '21': 29, '.': 159, 'certain': 31, 'rules': 32, 'regarding': 33, 'the': 203, 'usage': 35, 'also': 43, 'provided': 44, 'section': 46, '16': 47, '{': 160, 'a': 190, ')': 162, '“': 150, 'security': 195, 'instrument': 196, '”': 152, 'means': 56, 'which': 213, 'is': 214, 'dated': 62, 'july': 63, '8': 64, '2016': 66, 'together': 68, 'with': 69, 'all': 70, 'riders': 71, 'to': 198, 'b': 77, 'borrower': 93, 'kevin': 83, 'heap': 87, 'heather': 86, 'husband': 89, 'wife': 91, 'trustor': 96, 'under': 122, '(': 147, 'c': 103, '\"': 165, 'lender': 208, 'first': 109, 'choice': 110, 'loan': 111, 'services': 112, 'inc': 173, '..': 114, 'lenderis': 115, 'corporation': 117, 'organized': 119, 'existing': 121, 'laws': 124, 'new': 126, 'jersey': 127, \"'s\": 130, 'address': 131, 'one': 133, 'tower': 134, 'center': 135, 'floor': 137, '#': 138, 'east': 141, 'brunswick': 142, 'nj': 144, '08816': 145, 'd': 205, 'trustee': 151, 'chicago': 154, 'title': 155, 'company': 156, 'washington': 158, 'e': 161, 'mers': 210, 'mortgage': 168, 'electronic': 169, 'registration': 170, 'systems': 171, 'has': 176, 'appointed': 177, 'as': 179, 'nominee': 181, 'for': 184, 'joan': 186, 'attached': 189, 'rider': 192, 'be': 199, 'executed': 200, 'by': 201, 'bon': 202, 'relationshi': 204, 'between': 206, '|': 207, 'incorporated': 215}\n",
            "[one tower center, floor #18, east brunswick, nj 08816, “borrower”, \"lender\", “trustee”, kevin heap and heather heap, None, chicago title company, husband and wife, corporation]\n",
            "150\n",
            "83\n",
            "89\n",
            "83\n",
            "165\n",
            "109\n",
            "117\n",
            "109\n",
            "133\n",
            "109\n",
            "150\n",
            "154\n",
            "{(133, 133): {'PARTY NAME': 0.0, 'IDCODE': 0.0, 'ROLE': 0.0, 'ADDRESS': 0.0}, (133, 165): {'PARTY NAME': 0.0, 'IDCODE': 0.0, 'ROLE': 0.0, 'ADDRESS': 0.0}, (133, 109): {'PARTY ADDRESS': 1.0, 'PARTY NAME': 0.0, 'IDCODE': 0.0, 'ROLE': 0.0, 'ADDRESS': 0.0}, (133, 83): {'PARTY NAME': 0.0, 'IDCODE': 0.0, 'ROLE': 0.0, 'ADDRESS': 0.0}, (133, 117): {'PARTY NAME': 0.0, 'IDCODE': 0.0, 'ROLE': 0.0, 'ADDRESS': 0.0}, (133, 150): {'PARTY NAME': 0.0, 'IDCODE': 0.0, 'ROLE': 0.0, 'ADDRESS': 0.0}, (133, 89): {'PARTY NAME': 0.0, 'IDCODE': 0.0, 'ROLE': 0.0, 'ADDRESS': 0.0}, (133, 154): {'PARTY NAME': 0.0, 'IDCODE': 0.0, 'ROLE': 0.0, 'ADDRESS': 0.0}, (165, 133): {'PARTY NAME': 0.0, 'IDCODE': 0.0, 'ROLE': 0.0, 'ADDRESS': 0.0}, (165, 165): {'PARTY NAME': 0.0, 'IDCODE': 0.0, 'ROLE': 0.0, 'ADDRESS': 0.0}, (165, 109): {'PARTY ROLE': 1.0, 'PARTY NAME': 0.0, 'IDCODE': 0.0, 'ROLE': 0.0, 'ADDRESS': 0.0}, (165, 83): {'PARTY NAME': 0.0, 'IDCODE': 0.0, 'ROLE': 0.0, 'ADDRESS': 0.0}, (165, 117): {'PARTY NAME': 0.0, 'IDCODE': 0.0, 'ROLE': 0.0, 'ADDRESS': 0.0}, (165, 150): {'PARTY NAME': 0.0, 'IDCODE': 0.0, 'ROLE': 0.0, 'ADDRESS': 0.0}, (165, 89): {'PARTY NAME': 0.0, 'IDCODE': 0.0, 'ROLE': 0.0, 'ADDRESS': 0.0}, (165, 154): {'PARTY NAME': 0.0, 'IDCODE': 0.0, 'ROLE': 0.0, 'ADDRESS': 0.0}, (109, 133): {'PARTY NAME': 0.0, 'IDCODE': 0.0, 'ROLE': 0.0, 'ADDRESS': 0.0}, (109, 165): {'PARTY NAME': 0.0, 'IDCODE': 0.0, 'ROLE': 0.0, 'ADDRESS': 0.0}, (109, 109): {'PARTY NAME': 0.0, 'IDCODE': 0.0, 'ROLE': 0.0, 'ADDRESS': 0.0}, (109, 83): {'PARTY NAME': 0.0, 'IDCODE': 0.0, 'ROLE': 0.0, 'ADDRESS': 0.0}, (109, 117): {'PARTY NAME': 0.0, 'IDCODE': 0.0, 'ROLE': 0.0, 'ADDRESS': 0.0}, (109, 150): {'PARTY NAME': 0.0, 'IDCODE': 0.0, 'ROLE': 0.0, 'ADDRESS': 0.0}, (109, 89): {'PARTY NAME': 0.0, 'IDCODE': 0.0, 'ROLE': 0.0, 'ADDRESS': 0.0}, (109, 154): {'PARTY NAME': 0.0, 'IDCODE': 0.0, 'ROLE': 0.0, 'ADDRESS': 0.0}, (83, 133): {'PARTY NAME': 0.0, 'IDCODE': 0.0, 'ROLE': 0.0, 'ADDRESS': 0.0}, (83, 165): {'PARTY NAME': 0.0, 'IDCODE': 0.0, 'ROLE': 0.0, 'ADDRESS': 0.0}, (83, 109): {'PARTY NAME': 0.0, 'IDCODE': 0.0, 'ROLE': 0.0, 'ADDRESS': 0.0}, (83, 83): {'PARTY NAME': 0.0, 'IDCODE': 0.0, 'ROLE': 0.0, 'ADDRESS': 0.0}, (83, 117): {'PARTY NAME': 0.0, 'IDCODE': 0.0, 'ROLE': 0.0, 'ADDRESS': 0.0}, (83, 150): {'PARTY NAME': 0.0, 'IDCODE': 0.0, 'ROLE': 0.0, 'ADDRESS': 0.0}, (83, 89): {'PARTY NAME': 0.0, 'IDCODE': 0.0, 'ROLE': 0.0, 'ADDRESS': 0.0}, (83, 154): {'PARTY NAME': 0.0, 'IDCODE': 0.0, 'ROLE': 0.0, 'ADDRESS': 0.0}, (117, 133): {'PARTY NAME': 0.0, 'IDCODE': 0.0, 'ROLE': 0.0, 'ADDRESS': 0.0}, (117, 165): {'PARTY NAME': 0.0, 'IDCODE': 0.0, 'ROLE': 0.0, 'ADDRESS': 0.0}, (117, 109): {'PARTY IDCODE': 1.0, 'PARTY NAME': 0.0, 'IDCODE': 0.0, 'ROLE': 0.0, 'ADDRESS': 0.0}, (117, 83): {'PARTY NAME': 0.0, 'IDCODE': 0.0, 'ROLE': 0.0, 'ADDRESS': 0.0}, (117, 117): {'PARTY NAME': 0.0, 'IDCODE': 0.0, 'ROLE': 0.0, 'ADDRESS': 0.0}, (117, 150): {'PARTY NAME': 0.0, 'IDCODE': 0.0, 'ROLE': 0.0, 'ADDRESS': 0.0}, (117, 89): {'PARTY NAME': 0.0, 'IDCODE': 0.0, 'ROLE': 0.0, 'ADDRESS': 0.0}, (117, 154): {'PARTY NAME': 0.0, 'IDCODE': 0.0, 'ROLE': 0.0, 'ADDRESS': 0.0}, (150, 133): {'PARTY NAME': 0.0, 'IDCODE': 0.0, 'ROLE': 0.0, 'ADDRESS': 0.0}, (150, 165): {'PARTY NAME': 0.0, 'IDCODE': 0.0, 'ROLE': 0.0, 'ADDRESS': 0.0}, (150, 109): {'PARTY NAME': 0.0, 'IDCODE': 0.0, 'ROLE': 0.0, 'ADDRESS': 0.0}, (150, 83): {'PARTY ROLE': 1.0, 'PARTY NAME': 0.0, 'IDCODE': 0.0, 'ROLE': 0.0, 'ADDRESS': 0.0}, (150, 117): {'PARTY NAME': 0.0, 'IDCODE': 0.0, 'ROLE': 0.0, 'ADDRESS': 0.0}, (150, 150): {'PARTY NAME': 0.0, 'IDCODE': 0.0, 'ROLE': 0.0, 'ADDRESS': 0.0}, (150, 89): {'PARTY NAME': 0.0, 'IDCODE': 0.0, 'ROLE': 0.0, 'ADDRESS': 0.0}, (150, 154): {'PARTY ROLE': 1.0, 'PARTY NAME': 0.0, 'IDCODE': 0.0, 'ROLE': 0.0, 'ADDRESS': 0.0}, (89, 133): {'PARTY NAME': 0.0, 'IDCODE': 0.0, 'ROLE': 0.0, 'ADDRESS': 0.0}, (89, 165): {'PARTY NAME': 0.0, 'IDCODE': 0.0, 'ROLE': 0.0, 'ADDRESS': 0.0}, (89, 109): {'PARTY NAME': 0.0, 'IDCODE': 0.0, 'ROLE': 0.0, 'ADDRESS': 0.0}, (89, 83): {'PARTY IDCODE': 1.0, 'PARTY NAME': 0.0, 'IDCODE': 0.0, 'ROLE': 0.0, 'ADDRESS': 0.0}, (89, 117): {'PARTY NAME': 0.0, 'IDCODE': 0.0, 'ROLE': 0.0, 'ADDRESS': 0.0}, (89, 150): {'PARTY NAME': 0.0, 'IDCODE': 0.0, 'ROLE': 0.0, 'ADDRESS': 0.0}, (89, 89): {'PARTY NAME': 0.0, 'IDCODE': 0.0, 'ROLE': 0.0, 'ADDRESS': 0.0}, (89, 154): {'PARTY NAME': 0.0, 'IDCODE': 0.0, 'ROLE': 0.0, 'ADDRESS': 0.0}, (154, 133): {'PARTY NAME': 0.0, 'IDCODE': 0.0, 'ROLE': 0.0, 'ADDRESS': 0.0}, (154, 165): {'PARTY NAME': 0.0, 'IDCODE': 0.0, 'ROLE': 0.0, 'ADDRESS': 0.0}, (154, 109): {'PARTY NAME': 0.0, 'IDCODE': 0.0, 'ROLE': 0.0, 'ADDRESS': 0.0}, (154, 83): {'PARTY NAME': 0.0, 'IDCODE': 0.0, 'ROLE': 0.0, 'ADDRESS': 0.0}, (154, 117): {'PARTY NAME': 0.0, 'IDCODE': 0.0, 'ROLE': 0.0, 'ADDRESS': 0.0}, (154, 150): {'PARTY NAME': 0.0, 'IDCODE': 0.0, 'ROLE': 0.0, 'ADDRESS': 0.0}, (154, 89): {'PARTY NAME': 0.0, 'IDCODE': 0.0, 'ROLE': 0.0, 'ADDRESS': 0.0}, (154, 154): {'PARTY NAME': 0.0, 'IDCODE': 0.0, 'ROLE': 0.0, 'ADDRESS': 0.0}}\n",
            "definitions words used in multiple sections of this document are defined below and other words are defined in sections 3, 11, 13, 18, 20 and 21, certain rules regarding the usage of words used in this document are also provided in section 16. (a) \"security instrument\" means this document, which is dated march. 23, 2018, together with all riders to this document. (b) \"borrower\" is ralph w.- emerson and laurie a. emerson, husband and wife. borrower is the trustor under this security instrument. (c) \"lender\" is loandepot.com, llc. lender isa limited liability company organized and existing under the laws of delaware. lender's address is 26642 towne centre drive, foothill ranch, ca 92610. lender is the beneficiary under this security instrument. {d) \"trustee\" is fidelity national title company of oregon. (e) \"mers'\" is the mortgage electronic registration systems, inc. lender has appointed mers as the nominee for lender for this loan, and attached a mers rider to this security instrument, to be executed by borrower, which further describes the relationship between lender and mers, and which is incorporated into and amends and supplements this security instrument.\n",
            "definitions words used in multiple sections of this document are defined below and other words are defined in sections 3, 11, 13, 18, 20 and 21, certain rules regarding the usage of words used in this document are also provided in section 16. (a) \"security instrument\" means this document, which is dated march. 23, 2018, together with all riders to this document. (b) \"borrower\" is ralph w.- emerson and laurie a. emerson, husband and wife. borrower is the trustor under this security instrument. (c) \"lender\" is loandepot.com, llc. lender isa limited liability company organized and existing under the laws of delaware. lender's address is 26642 towne centre drive, foothill ranch, ca 92610. lender is the beneficiary under this security instrument. {d) \"trustee\" is fidelity national title company of oregon. (e) \"mers'\" is the mortgage electronic registration systems, inc. lender has appointed mers as the nominee for lender for this loan, and attached a mers rider to this security instrument, to be executed by borrower, which further describes the relationship between lender and mers, and which is incorporated into and amends and supplements this security instrument.\n",
            "{'definitions': 0, 'words': 37, 'used': 38, 'in': 45, 'multiple': 4, 'sections': 18, 'of': 165, 'this': 232, 'document': 75, 'are': 42, 'defined': 16, 'below': 11, 'and': 230, 'other': 13, '3': 19, ',': 222, '11': 21, '13': 23, '18': 25, '20': 27, '21': 29, 'certain': 31, 'rules': 32, 'regarding': 33, 'the': 216, 'usage': 35, 'also': 43, 'provided': 44, 'section': 46, '16': 47, '.': 235, '(': 168, 'a': 199, ')': 170, '\"': 174, 'security': 233, 'instrument': 234, 'means': 56, 'which': 224, 'is': 225, 'dated': 62, 'march': 63, '23': 65, '2018': 67, 'together': 69, 'with': 70, 'all': 71, 'riders': 72, 'to': 207, 'b': 78, 'borrower': 211, 'ralph': 84, 'w.-': 85, 'emerson': 90, 'laurie': 88, 'a.': 89, 'husband': 92, 'wife': 94, 'trustor': 99, 'under': 149, 'c': 106, 'lender': 219, 'loandepot.com': 112, 'llc': 114, 'isa': 117, 'limited': 118, 'liability': 119, 'company': 164, 'organized': 121, 'existing': 123, 'laws': 126, 'delaware': 128, \"'s\": 131, 'address': 132, '26642': 134, 'towne': 135, 'centre': 136, 'drive': 137, 'foothill': 139, 'ranch': 140, 'ca': 142, '92610': 143, 'beneficiary': 148, '{': 154, 'd': 155, 'trustee': 158, 'fidelity': 161, 'national': 162, 'title': 163, 'oregon': 166, 'e': 169, 'mers': 221, \"'\": 173, 'mortgage': 177, 'electronic': 178, 'registration': 179, 'systems': 180, 'inc': 182, 'has': 185, 'appointed': 186, 'as': 188, 'nominee': 190, 'for': 193, 'loan': 195, 'attached': 198, 'rider': 201, 'be': 208, 'executed': 209, 'by': 210, 'further': 214, 'describes': 215, 'relationship': 217, 'between': 218, 'incorporated': 226, 'into': 227, 'amends': 229, 'supplements': 231}\n",
            "[26642 towne centre drive, foothill ranch, ca 92610, \"borrower\", \"lender\", \"trustee\", ralph w.- emerson and laurie a. emerson, loandepot.com, llc, fidelity national title company, husband and wife., limited liability company]\n",
            "174\n",
            "84\n",
            "92\n",
            "84\n",
            "174\n",
            "112\n",
            "118\n",
            "112\n",
            "134\n",
            "112\n",
            "174\n",
            "161\n",
            "{(161, 161): {'PARTY NAME': 0.0, 'IDCODE': 0.0, 'ROLE': 0.0, 'ADDRESS': 0.0}, (161, 134): {'PARTY NAME': 0.0, 'IDCODE': 0.0, 'ROLE': 0.0, 'ADDRESS': 0.0}, (161, 174): {'PARTY NAME': 0.0, 'IDCODE': 0.0, 'ROLE': 0.0, 'ADDRESS': 0.0}, (161, 112): {'PARTY NAME': 0.0, 'IDCODE': 0.0, 'ROLE': 0.0, 'ADDRESS': 0.0}, (161, 84): {'PARTY NAME': 0.0, 'IDCODE': 0.0, 'ROLE': 0.0, 'ADDRESS': 0.0}, (161, 118): {'PARTY NAME': 0.0, 'IDCODE': 0.0, 'ROLE': 0.0, 'ADDRESS': 0.0}, (161, 92): {'PARTY NAME': 0.0, 'IDCODE': 0.0, 'ROLE': 0.0, 'ADDRESS': 0.0}, (134, 161): {'PARTY NAME': 0.0, 'IDCODE': 0.0, 'ROLE': 0.0, 'ADDRESS': 0.0}, (134, 134): {'PARTY NAME': 0.0, 'IDCODE': 0.0, 'ROLE': 0.0, 'ADDRESS': 0.0}, (134, 174): {'PARTY NAME': 0.0, 'IDCODE': 0.0, 'ROLE': 0.0, 'ADDRESS': 0.0}, (134, 112): {'PARTY ADDRESS': 1.0, 'PARTY NAME': 0.0, 'IDCODE': 0.0, 'ROLE': 0.0, 'ADDRESS': 0.0}, (134, 84): {'PARTY NAME': 0.0, 'IDCODE': 0.0, 'ROLE': 0.0, 'ADDRESS': 0.0}, (134, 118): {'PARTY NAME': 0.0, 'IDCODE': 0.0, 'ROLE': 0.0, 'ADDRESS': 0.0}, (134, 92): {'PARTY NAME': 0.0, 'IDCODE': 0.0, 'ROLE': 0.0, 'ADDRESS': 0.0}, (174, 161): {'PARTY ROLE': 1.0, 'PARTY NAME': 0.0, 'IDCODE': 0.0, 'ROLE': 0.0, 'ADDRESS': 0.0}, (174, 134): {'PARTY NAME': 0.0, 'IDCODE': 0.0, 'ROLE': 0.0, 'ADDRESS': 0.0}, (174, 174): {'PARTY NAME': 0.0, 'IDCODE': 0.0, 'ROLE': 0.0, 'ADDRESS': 0.0}, (174, 112): {'PARTY ROLE': 1.0, 'PARTY NAME': 0.0, 'IDCODE': 0.0, 'ROLE': 0.0, 'ADDRESS': 0.0}, (174, 84): {'PARTY ROLE': 1.0, 'PARTY NAME': 0.0, 'IDCODE': 0.0, 'ROLE': 0.0, 'ADDRESS': 0.0}, (174, 118): {'PARTY NAME': 0.0, 'IDCODE': 0.0, 'ROLE': 0.0, 'ADDRESS': 0.0}, (174, 92): {'PARTY NAME': 0.0, 'IDCODE': 0.0, 'ROLE': 0.0, 'ADDRESS': 0.0}, (112, 161): {'PARTY NAME': 0.0, 'IDCODE': 0.0, 'ROLE': 0.0, 'ADDRESS': 0.0}, (112, 134): {'PARTY NAME': 0.0, 'IDCODE': 0.0, 'ROLE': 0.0, 'ADDRESS': 0.0}, (112, 174): {'PARTY NAME': 0.0, 'IDCODE': 0.0, 'ROLE': 0.0, 'ADDRESS': 0.0}, (112, 112): {'PARTY NAME': 0.0, 'IDCODE': 0.0, 'ROLE': 0.0, 'ADDRESS': 0.0}, (112, 84): {'PARTY NAME': 0.0, 'IDCODE': 0.0, 'ROLE': 0.0, 'ADDRESS': 0.0}, (112, 118): {'PARTY NAME': 0.0, 'IDCODE': 0.0, 'ROLE': 0.0, 'ADDRESS': 0.0}, (112, 92): {'PARTY NAME': 0.0, 'IDCODE': 0.0, 'ROLE': 0.0, 'ADDRESS': 0.0}, (84, 161): {'PARTY NAME': 0.0, 'IDCODE': 0.0, 'ROLE': 0.0, 'ADDRESS': 0.0}, (84, 134): {'PARTY NAME': 0.0, 'IDCODE': 0.0, 'ROLE': 0.0, 'ADDRESS': 0.0}, (84, 174): {'PARTY NAME': 0.0, 'IDCODE': 0.0, 'ROLE': 0.0, 'ADDRESS': 0.0}, (84, 112): {'PARTY NAME': 0.0, 'IDCODE': 0.0, 'ROLE': 0.0, 'ADDRESS': 0.0}, (84, 84): {'PARTY NAME': 0.0, 'IDCODE': 0.0, 'ROLE': 0.0, 'ADDRESS': 0.0}, (84, 118): {'PARTY NAME': 0.0, 'IDCODE': 0.0, 'ROLE': 0.0, 'ADDRESS': 0.0}, (84, 92): {'PARTY NAME': 0.0, 'IDCODE': 0.0, 'ROLE': 0.0, 'ADDRESS': 0.0}, (118, 161): {'PARTY NAME': 0.0, 'IDCODE': 0.0, 'ROLE': 0.0, 'ADDRESS': 0.0}, (118, 134): {'PARTY NAME': 0.0, 'IDCODE': 0.0, 'ROLE': 0.0, 'ADDRESS': 0.0}, (118, 174): {'PARTY NAME': 0.0, 'IDCODE': 0.0, 'ROLE': 0.0, 'ADDRESS': 0.0}, (118, 112): {'PARTY IDCODE': 1.0, 'PARTY NAME': 0.0, 'IDCODE': 0.0, 'ROLE': 0.0, 'ADDRESS': 0.0}, (118, 84): {'PARTY NAME': 0.0, 'IDCODE': 0.0, 'ROLE': 0.0, 'ADDRESS': 0.0}, (118, 118): {'PARTY NAME': 0.0, 'IDCODE': 0.0, 'ROLE': 0.0, 'ADDRESS': 0.0}, (118, 92): {'PARTY NAME': 0.0, 'IDCODE': 0.0, 'ROLE': 0.0, 'ADDRESS': 0.0}, (92, 161): {'PARTY NAME': 0.0, 'IDCODE': 0.0, 'ROLE': 0.0, 'ADDRESS': 0.0}, (92, 134): {'PARTY NAME': 0.0, 'IDCODE': 0.0, 'ROLE': 0.0, 'ADDRESS': 0.0}, (92, 174): {'PARTY NAME': 0.0, 'IDCODE': 0.0, 'ROLE': 0.0, 'ADDRESS': 0.0}, (92, 112): {'PARTY NAME': 0.0, 'IDCODE': 0.0, 'ROLE': 0.0, 'ADDRESS': 0.0}, (92, 84): {'PARTY IDCODE': 1.0, 'PARTY NAME': 0.0, 'IDCODE': 0.0, 'ROLE': 0.0, 'ADDRESS': 0.0}, (92, 118): {'PARTY NAME': 0.0, 'IDCODE': 0.0, 'ROLE': 0.0, 'ADDRESS': 0.0}, (92, 92): {'PARTY NAME': 0.0, 'IDCODE': 0.0, 'ROLE': 0.0, 'ADDRESS': 0.0}}\n",
            "definitions, words used in multiple sections of this document are defined below and other words are defined in sections 3, 10, 12, 17, 19 and 21. certain rules regarding the usage of words used in this document are also provided in section 15. (a) \"security instrument” means this document, which is dated july 20, 2018, together with all riders to this document. {b) “borrower” is ashley n torres, an unmarried woman, and martha chevalier, a married ‘woman, borrower is the mortgagor under this security instrument, (c) \"mers\" is mortgage electronic registration systems, inc. mers is a separate corporation that is acting solely as a nominee for lender and lencier’s successors and assigns, mers is the mortgagee under this security instrument. mers is organized and existing under the laws of delaware, and has an address and telephone number of p.o. box 2026, flint, ml 48501-2026, tel. (888) 679-mers. (0) \"lender\" is marketplace home mortgage, l.l.c.. lender is a limited liability company, organized and existing under the laws of minnesota. lender's address is 7380 france avenue s, suite 200, edina, mn 55435\n",
            "definitions, words used in multiple sections of this document are defined below and other words are defined in sections 3, 10, 12, 17, 19 and 21. certain rules regarding the usage of words used in this document are also provided in section 15. (a) \"security instrument” means this document, which is dated july 20, 2018, together with all riders to this document. {b) “borrower” is ashley n torres, an unmarried woman, and martha chevalier, a married ‘woman, borrower is the mortgagor under this security instrument, (c) \"mers\" is mortgage electronic registration systems, inc. mers is a separate corporation that is acting solely as a nominee for lender and lencier’s successors and assigns, mers is the mortgagee under this security instrument. mers is organized and existing under the laws of delaware, and has an address and telephone number of p.o. box 2026, flint, ml 48501-2026, tel. (888) 679-mers. (0) \"lender\" is marketplace home mortgage, l.l.c.. lender is a limited liability company, organized and existing under the laws of minnesota. lender's address is 7380 france avenue s, suite 200, edina, mn 55435\n",
            "{'definitions': 0, ',': 236, 'words': 38, 'used': 39, 'in': 46, 'multiple': 5, 'sections': 19, 'of': 220, 'this': 150, 'document': 75, 'are': 43, 'defined': 17, 'below': 12, 'and': 215, 'other': 14, '3': 20, '10': 22, '12': 24, '17': 26, '19': 28, '21': 30, '.': 222, 'certain': 32, 'rules': 33, 'regarding': 34, 'the': 218, 'usage': 36, 'also': 44, 'provided': 45, 'section': 47, '15': 48, '(': 194, 'a': 209, ')': 196, '\"': 199, 'security': 151, 'instrument': 152, '”': 82, 'means': 57, 'which': 61, 'is': 226, 'dated': 63, 'july': 64, '20': 65, '2018': 67, 'together': 69, 'with': 70, 'all': 71, 'riders': 72, 'to': 73, '{': 77, 'b': 78, '“': 80, 'borrower': 101, 'ashley': 84, 'n': 85, 'torres': 86, 'an': 167, 'unmarried': 89, 'woman': 99, 'martha': 93, 'chevalier': 94, 'married': 97, '‘': 98, 'mortgagor': 104, 'under': 217, 'c': 111, 'mers': 192, 'mortgage': 203, 'electronic': 118, 'registration': 119, 'systems': 120, 'inc': 122, 'separate': 127, 'corporation': 128, 'that': 129, 'acting': 131, 'solely': 132, 'as': 133, 'nominee': 135, 'for': 136, 'lender': 223, 'lencier': 139, '’s': 140, 'successors': 141, 'assigns': 143, 'mortgagee': 148, 'organized': 214, 'existing': 216, 'laws': 219, 'delaware': 163, 'has': 166, 'address': 225, 'telephone': 170, 'number': 171, 'p.o': 173, 'box': 175, '2026': 183, 'flint': 178, 'ml': 180, '48501': 181, '-': 191, 'tel': 185, '888': 188, '679': 190, '0': 195, 'marketplace': 201, 'home': 202, 'l.l.c': 205, '..': 206, 'limited': 210, 'liability': 211, 'company': 212, 'minnesota': 221, \"'s\": 224, '7380': 227, 'france': 228, 'avenue': 229, 's': 230, 'suite': 232, '200': 233, 'edina': 235, 'mn': 237, '55435': 238}\n",
            "[7380 france avenue s, suite 200, edina, mn 55435, “borrower”, \"lender\", ashley n torres, None, unmarried woman, limited liability company]\n",
            "80\n",
            "84\n",
            "89\n",
            "84\n",
            "199\n",
            "201\n",
            "210\n",
            "201\n",
            "227\n",
            "201\n",
            "{(227, 227): {'PARTY NAME': 0.0, 'IDCODE': 0.0, 'ROLE': 0.0, 'ADDRESS': 0.0}, (227, 199): {'PARTY NAME': 0.0, 'IDCODE': 0.0, 'ROLE': 0.0, 'ADDRESS': 0.0}, (227, 201): {'PARTY ADDRESS': 1.0, 'PARTY NAME': 0.0, 'IDCODE': 0.0, 'ROLE': 0.0, 'ADDRESS': 0.0}, (227, 80): {'PARTY NAME': 0.0, 'IDCODE': 0.0, 'ROLE': 0.0, 'ADDRESS': 0.0}, (227, 210): {'PARTY NAME': 0.0, 'IDCODE': 0.0, 'ROLE': 0.0, 'ADDRESS': 0.0}, (227, 84): {'PARTY NAME': 0.0, 'IDCODE': 0.0, 'ROLE': 0.0, 'ADDRESS': 0.0}, (227, 89): {'PARTY NAME': 0.0, 'IDCODE': 0.0, 'ROLE': 0.0, 'ADDRESS': 0.0}, (199, 227): {'PARTY NAME': 0.0, 'IDCODE': 0.0, 'ROLE': 0.0, 'ADDRESS': 0.0}, (199, 199): {'PARTY NAME': 0.0, 'IDCODE': 0.0, 'ROLE': 0.0, 'ADDRESS': 0.0}, (199, 201): {'PARTY ROLE': 1.0, 'PARTY NAME': 0.0, 'IDCODE': 0.0, 'ROLE': 0.0, 'ADDRESS': 0.0}, (199, 80): {'PARTY NAME': 0.0, 'IDCODE': 0.0, 'ROLE': 0.0, 'ADDRESS': 0.0}, (199, 210): {'PARTY NAME': 0.0, 'IDCODE': 0.0, 'ROLE': 0.0, 'ADDRESS': 0.0}, (199, 84): {'PARTY NAME': 0.0, 'IDCODE': 0.0, 'ROLE': 0.0, 'ADDRESS': 0.0}, (199, 89): {'PARTY NAME': 0.0, 'IDCODE': 0.0, 'ROLE': 0.0, 'ADDRESS': 0.0}, (201, 227): {'PARTY NAME': 0.0, 'IDCODE': 0.0, 'ROLE': 0.0, 'ADDRESS': 0.0}, (201, 199): {'PARTY NAME': 0.0, 'IDCODE': 0.0, 'ROLE': 0.0, 'ADDRESS': 0.0}, (201, 201): {'PARTY NAME': 0.0, 'IDCODE': 0.0, 'ROLE': 0.0, 'ADDRESS': 0.0}, (201, 80): {'PARTY NAME': 0.0, 'IDCODE': 0.0, 'ROLE': 0.0, 'ADDRESS': 0.0}, (201, 210): {'PARTY NAME': 0.0, 'IDCODE': 0.0, 'ROLE': 0.0, 'ADDRESS': 0.0}, (201, 84): {'PARTY NAME': 0.0, 'IDCODE': 0.0, 'ROLE': 0.0, 'ADDRESS': 0.0}, (201, 89): {'PARTY NAME': 0.0, 'IDCODE': 0.0, 'ROLE': 0.0, 'ADDRESS': 0.0}, (80, 227): {'PARTY NAME': 0.0, 'IDCODE': 0.0, 'ROLE': 0.0, 'ADDRESS': 0.0}, (80, 199): {'PARTY NAME': 0.0, 'IDCODE': 0.0, 'ROLE': 0.0, 'ADDRESS': 0.0}, (80, 201): {'PARTY NAME': 0.0, 'IDCODE': 0.0, 'ROLE': 0.0, 'ADDRESS': 0.0}, (80, 80): {'PARTY NAME': 0.0, 'IDCODE': 0.0, 'ROLE': 0.0, 'ADDRESS': 0.0}, (80, 210): {'PARTY NAME': 0.0, 'IDCODE': 0.0, 'ROLE': 0.0, 'ADDRESS': 0.0}, (80, 84): {'PARTY ROLE': 1.0, 'PARTY NAME': 0.0, 'IDCODE': 0.0, 'ROLE': 0.0, 'ADDRESS': 0.0}, (80, 89): {'PARTY NAME': 0.0, 'IDCODE': 0.0, 'ROLE': 0.0, 'ADDRESS': 0.0}, (210, 227): {'PARTY NAME': 0.0, 'IDCODE': 0.0, 'ROLE': 0.0, 'ADDRESS': 0.0}, (210, 199): {'PARTY NAME': 0.0, 'IDCODE': 0.0, 'ROLE': 0.0, 'ADDRESS': 0.0}, (210, 201): {'PARTY IDCODE': 1.0, 'PARTY NAME': 0.0, 'IDCODE': 0.0, 'ROLE': 0.0, 'ADDRESS': 0.0}, (210, 80): {'PARTY NAME': 0.0, 'IDCODE': 0.0, 'ROLE': 0.0, 'ADDRESS': 0.0}, (210, 210): {'PARTY NAME': 0.0, 'IDCODE': 0.0, 'ROLE': 0.0, 'ADDRESS': 0.0}, (210, 84): {'PARTY NAME': 0.0, 'IDCODE': 0.0, 'ROLE': 0.0, 'ADDRESS': 0.0}, (210, 89): {'PARTY NAME': 0.0, 'IDCODE': 0.0, 'ROLE': 0.0, 'ADDRESS': 0.0}, (84, 227): {'PARTY NAME': 0.0, 'IDCODE': 0.0, 'ROLE': 0.0, 'ADDRESS': 0.0}, (84, 199): {'PARTY NAME': 0.0, 'IDCODE': 0.0, 'ROLE': 0.0, 'ADDRESS': 0.0}, (84, 201): {'PARTY NAME': 0.0, 'IDCODE': 0.0, 'ROLE': 0.0, 'ADDRESS': 0.0}, (84, 80): {'PARTY NAME': 0.0, 'IDCODE': 0.0, 'ROLE': 0.0, 'ADDRESS': 0.0}, (84, 210): {'PARTY NAME': 0.0, 'IDCODE': 0.0, 'ROLE': 0.0, 'ADDRESS': 0.0}, (84, 84): {'PARTY NAME': 0.0, 'IDCODE': 0.0, 'ROLE': 0.0, 'ADDRESS': 0.0}, (84, 89): {'PARTY NAME': 0.0, 'IDCODE': 0.0, 'ROLE': 0.0, 'ADDRESS': 0.0}, (89, 227): {'PARTY NAME': 0.0, 'IDCODE': 0.0, 'ROLE': 0.0, 'ADDRESS': 0.0}, (89, 199): {'PARTY NAME': 0.0, 'IDCODE': 0.0, 'ROLE': 0.0, 'ADDRESS': 0.0}, (89, 201): {'PARTY NAME': 0.0, 'IDCODE': 0.0, 'ROLE': 0.0, 'ADDRESS': 0.0}, (89, 80): {'PARTY NAME': 0.0, 'IDCODE': 0.0, 'ROLE': 0.0, 'ADDRESS': 0.0}, (89, 210): {'PARTY NAME': 0.0, 'IDCODE': 0.0, 'ROLE': 0.0, 'ADDRESS': 0.0}, (89, 84): {'PARTY IDCODE': 1.0, 'PARTY NAME': 0.0, 'IDCODE': 0.0, 'ROLE': 0.0, 'ADDRESS': 0.0}, (89, 89): {'PARTY NAME': 0.0, 'IDCODE': 0.0, 'ROLE': 0.0, 'ADDRESS': 0.0}}\n",
            "definitions words used in multiple sections of this document are defined below and other words are defined in sections 3, 11, 13, 18, 20 and 21. certain rules regarding the usage of words used in this document are also provided in section 16. {a) “security instrument” means this document, which is dated may 22, 2018, together with all all riders to this document. {b} “borrower” is_pang thao, a single woman, and xay vang, a married man as his sole and separate property, as joint tenants, borrower's address is 3854 e verrue avenue, fresno, ca 93702, borrower is the trustor under this security instrument. {c) “lender” is eagle home mortgage of california, lender is a california corporation, organized and existing under the laws of california. lender's address is 394 n, main street, suite 200, corona, ca 92800.\n",
            "definitions words used in multiple sections of this document are defined below and other words are defined in sections 3, 11, 13, 18, 20 and 21. certain rules regarding the usage of words used in this document are also provided in section 16. {a) “security instrument” means this document, which is dated may 22, 2018, together with all all riders to this document. {b} “borrower” is_pang thao, a single woman, and xay vang, a married man as his sole and separate property, as joint tenants, borrower's address is 3854 e verrue avenue, fresno, ca 93702, borrower is the trustor under this security instrument. {c) “lender” is eagle home mortgage of california, lender is a california corporation, organized and existing under the laws of california. lender's address is 394 n, main street, suite 200, corona, ca 92800.\n",
            "{'definitions': 0, 'words': 37, 'used': 38, 'in': 45, 'multiple': 4, 'sections': 18, 'of': 156, 'this': 127, 'document': 75, 'are': 42, 'defined': 16, 'below': 11, 'and': 151, 'other': 13, '3': 19, ',': 173, '11': 21, '13': 23, '18': 25, '20': 27, '21': 29, '.': 176, 'certain': 31, 'rules': 32, 'regarding': 33, 'the': 154, 'usage': 35, 'also': 43, 'provided': 44, 'section': 46, '16': 47, '{': 131, 'a': 146, ')': 133, '“': 134, 'security': 128, 'instrument': 129, '”': 136, 'means': 56, 'which': 60, 'is': 162, 'dated': 62, 'may': 63, '22': 64, '2018': 66, 'together': 68, 'with': 69, 'all': 71, 'riders': 72, 'to': 73, 'b': 78, '}': 79, 'borrower': 122, 'is_pang': 83, 'thao': 84, 'single': 87, 'woman': 88, 'xay': 91, 'vang': 92, 'married': 95, 'man': 96, 'as': 104, 'his': 98, 'sole': 99, 'separate': 101, 'property': 102, 'joint': 105, 'tenants': 106, \"'s\": 160, 'address': 161, '3854': 112, 'e': 113, 'verrue': 114, 'avenue': 115, 'fresno': 117, 'ca': 174, '93702': 120, 'trustor': 125, 'under': 153, 'c': 132, 'lender': 159, 'eagle': 138, 'home': 139, 'mortgage': 140, 'california': 157, 'corporation': 148, 'organized': 150, 'existing': 152, 'laws': 155, '394': 163, 'n': 164, 'main': 166, 'street': 167, 'suite': 169, '200': 170, 'corona': 172, '92800': 175}\n",
            "134\n",
            "{(112, 112): {'PARTY NAME': 0.0, 'IDCODE': 0.0, 'ROLE': 0.0, 'ADDRESS': 0.0}, (112, 163): {'PARTY NAME': 0.0, 'IDCODE': 0.0, 'ROLE': 0.0, 'ADDRESS': 0.0}, (112, 134): {'PARTY NAME': 0.0, 'IDCODE': 0.0, 'ROLE': 0.0, 'ADDRESS': 0.0}, (163, 112): {'PARTY NAME': 0.0, 'IDCODE': 0.0, 'ROLE': 0.0, 'ADDRESS': 0.0}, (163, 163): {'PARTY NAME': 0.0, 'IDCODE': 0.0, 'ROLE': 0.0, 'ADDRESS': 0.0}, (163, 134): {'PARTY NAME': 0.0, 'IDCODE': 0.0, 'ROLE': 0.0, 'ADDRESS': 0.0}, (134, 112): {'PARTY NAME': 0.0, 'IDCODE': 0.0, 'ROLE': 0.0, 'ADDRESS': 0.0}, (134, 163): {'PARTY NAME': 0.0, 'IDCODE': 0.0, 'ROLE': 0.0, 'ADDRESS': 0.0}, (134, 134): {'PARTY NAME': 0.0, 'IDCODE': 0.0, 'ROLE': 0.0, 'ADDRESS': 0.0}}\n",
            "definitions. words used in multiple sections of this document are defined below and other words are defined in sections 3, 10, 12, 17, 49 and 21. certain rules regarding the usage of words used in this document are also provided in section 15. (a) “security instrument” means this document, wt ich is dated. april 28, 2017, together with all riders to this document. (b) “borrower” is jake justin montenare, an_.unmarried man. \\, borrower is the mortgagor under this security instrument. (c) \"mers\" is mortgage electronic registration systems, inc. mers is a’separate corporation that is acting solely as a nominee for lender and lender's successors and assigns. mers is the mortgagee under this security instrument. mers is organized and existing under the laws of delaware, and has’an address and telephone number of p.o. box 2026, flint, mi 48501-2026, tel. (888) 679-mers. (d) “lender” is universal american mortgage company, llc. lender is a florida limited liability company, ‘organized and existing under the laws of florida. lender's address is 730 nw 107 avenue, 4th floor, miami, fl 33172-3139\n",
            "definitions. words used in multiple sections of this document are defined below and other words are defined in sections 3, 10, 12, 17, 49 and 21. certain rules regarding the usage of words used in this document are also provided in section 15. (a) “security instrument” means this document, wt ich is dated. april 28, 2017, together with all riders to this document. (b) “borrower” is jake justin montenare, an_.unmarried man. \\, borrower is the mortgagor under this security instrument. (c) \"mers\" is mortgage electronic registration systems, inc. mers is a’separate corporation that is acting solely as a nominee for lender and lender's successors and assigns. mers is the mortgagee under this security instrument. mers is organized and existing under the laws of delaware, and has’an address and telephone number of p.o. box 2026, flint, mi 48501-2026, tel. (888) 679-mers. (d) “lender” is universal american mortgage company, llc. lender is a florida limited liability company, ‘organized and existing under the laws of florida. lender's address is 730 nw 107 avenue, 4th floor, miami, fl 33172-3139\n",
            "{'definitions': 0, '.': 217, 'words': 38, 'used': 39, 'in': 46, 'multiple': 5, 'sections': 19, 'of': 215, 'this': 143, 'document': 77, 'are': 43, 'defined': 17, 'below': 12, 'and': 210, 'other': 14, '3': 20, ',': 231, '10': 22, '12': 24, '17': 26, '49': 28, '21': 30, 'certain': 32, 'rules': 33, 'regarding': 34, 'the': 213, 'usage': 36, 'also': 44, 'provided': 45, 'section': 47, '15': 48, '(': 186, 'a': 202, ')': 188, '“': 189, 'security': 144, 'instrument': 145, '”': 191, 'means': 57, 'wt': 61, 'ich': 62, 'is': 221, 'dated': 64, 'april': 66, '28': 67, '2017': 69, 'together': 71, 'with': 72, 'all': 73, 'riders': 74, 'to': 75, 'b': 80, 'borrower': 95, 'jake': 86, 'justin': 87, 'montenare': 88, 'an_.unmarried': 90, 'man': 91, '\\\\': 93, 'mortgagor': 98, 'under': 212, 'c': 105, '\"': 109, 'mers': 184, 'mortgage': 195, 'electronic': 112, 'registration': 113, 'systems': 114, 'inc': 116, 'a’separate': 120, 'corporation': 121, 'that': 122, 'acting': 124, 'solely': 125, 'as': 126, 'nominee': 128, 'for': 129, 'lender': 218, \"'s\": 219, 'successors': 134, 'assigns': 136, 'mortgagee': 141, 'organized': 209, 'existing': 211, 'laws': 214, 'delaware': 156, 'has’an': 159, 'address': 220, 'telephone': 162, 'number': 163, 'p.o': 165, 'box': 167, '2026': 175, 'flint': 170, 'mi': 172, '48501': 173, '-': 234, 'tel': 177, '888': 180, '679': 182, 'd': 187, 'universal': 193, 'american': 194, 'company': 206, 'llc': 198, 'florida': 216, 'limited': 204, 'liability': 205, '‘': 208, '730': 222, 'nw': 223, '107': 224, 'avenue': 225, '4th': 227, 'floor': 228, 'miami': 230, 'fl': 232, '33172': 233, '3139': 235}\n",
            "189\n",
            "86\n",
            "{(86, 86): {'PARTY NAME': 0.0, 'IDCODE': 0.0, 'ROLE': 0.0, 'ADDRESS': 0.0}, (86, 193): {'PARTY NAME': 0.0, 'IDCODE': 0.0, 'ROLE': 0.0, 'ADDRESS': 0.0}, (86, 189): {'PARTY NAME': 0.0, 'IDCODE': 0.0, 'ROLE': 0.0, 'ADDRESS': 0.0}, (86, 222): {'PARTY NAME': 0.0, 'IDCODE': 0.0, 'ROLE': 0.0, 'ADDRESS': 0.0}, (193, 86): {'PARTY NAME': 0.0, 'IDCODE': 0.0, 'ROLE': 0.0, 'ADDRESS': 0.0}, (193, 193): {'PARTY NAME': 0.0, 'IDCODE': 0.0, 'ROLE': 0.0, 'ADDRESS': 0.0}, (193, 189): {'PARTY NAME': 0.0, 'IDCODE': 0.0, 'ROLE': 0.0, 'ADDRESS': 0.0}, (193, 222): {'PARTY NAME': 0.0, 'IDCODE': 0.0, 'ROLE': 0.0, 'ADDRESS': 0.0}, (189, 86): {'PARTY ROLE': 1.0, 'PARTY NAME': 0.0, 'IDCODE': 0.0, 'ROLE': 0.0, 'ADDRESS': 0.0}, (189, 193): {'PARTY NAME': 0.0, 'IDCODE': 0.0, 'ROLE': 0.0, 'ADDRESS': 0.0}, (189, 189): {'PARTY NAME': 0.0, 'IDCODE': 0.0, 'ROLE': 0.0, 'ADDRESS': 0.0}, (189, 222): {'PARTY NAME': 0.0, 'IDCODE': 0.0, 'ROLE': 0.0, 'ADDRESS': 0.0}, (222, 86): {'PARTY NAME': 0.0, 'IDCODE': 0.0, 'ROLE': 0.0, 'ADDRESS': 0.0}, (222, 193): {'PARTY NAME': 0.0, 'IDCODE': 0.0, 'ROLE': 0.0, 'ADDRESS': 0.0}, (222, 189): {'PARTY NAME': 0.0, 'IDCODE': 0.0, 'ROLE': 0.0, 'ADDRESS': 0.0}, (222, 222): {'PARTY NAME': 0.0, 'IDCODE': 0.0, 'ROLE': 0.0, 'ADDRESS': 0.0}}\n",
            "definitions words used in multiple sections of this document are defined below and other words are defined in sections 3, 11, 13, 18, 20 and 21. certain rules regarding the usage of words used in this document are also provided in section 16. (a) “security instrument\" means this document, which is dated january 29, 2020, together with all riders to this document. @) \" ig william k brown and kimberly n brown, husband and wife;. borrower is the trustor under this security instrument. (c) \"lender\" is caliber home loans, inc.. lender is a corporation organized and existing under the laws of delaware. lender's address is 1525 $, belt line road, coppell, tx 75019. (@) \"trustee\" is chicago title company of washington 1835 barkley boulevard, suite 105 bellingham wa 98226. (©) \"mers\" is the mortgage electronic registration systems, inc. lender has appointed mers as the nominee for lender for this loan, and attached a mers rider to this security instrument, to be executed by borrower, which further describes the relationship between lender and mers, and which is incorporated into and amends and supplements this security instrument. eee ge tee ad be, daeensee ond dated tantiary 970 9090 the nove ctatec\n",
            "definitions words used in multiple sections of this document are defined below and other words are defined in sections 3, 11, 13, 18, 20 and 21. certain rules regarding the usage of words used in this document are also provided in section 16. (a) “security instrument\" means this document, which is dated january 29, 2020, together with all riders to this document. @) \" ig william k brown and kimberly n brown, husband and wife;. borrower is the trustor under this security instrument. (c) \"lender\" is caliber home loans, inc.. lender is a corporation organized and existing under the laws of delaware. lender's address is 1525 $, belt line road, coppell, tx 75019. (@) \"trustee\" is chicago title company of washington 1835 barkley boulevard, suite 105 bellingham wa 98226. (©) \"mers\" is the mortgage electronic registration systems, inc. lender has appointed mers as the nominee for lender for this loan, and attached a mers rider to this security instrument, to be executed by borrower, which further describes the relationship between lender and mers, and which is incorporated into and amends and supplements this security instrument. eee ge tee ad be, daeensee ond dated tantiary 970 9090 the nove ctatec\n",
            "{'definitions': 0, 'words': 37, 'used': 38, 'in': 45, 'multiple': 4, 'sections': 18, 'of': 154, 'this': 229, 'document': 74, 'are': 42, 'defined': 16, 'below': 11, 'and': 227, 'other': 13, '3': 19, ',': 238, '11': 21, '13': 23, '18': 25, '20': 27, '21': 29, '.': 232, 'certain': 31, 'rules': 32, 'regarding': 33, 'the': 245, 'usage': 35, 'also': 43, 'provided': 44, 'section': 46, '16': 47, '(': 166, 'a': 196, ')': 168, '“': 52, 'security': 230, 'instrument': 231, '\"': 171, 'means': 56, 'which': 221, 'is': 222, 'dated': 241, 'january': 63, '29': 64, '2020': 66, 'together': 68, 'with': 69, 'all': 70, 'riders': 71, 'to': 204, '@': 145, 'ig': 79, 'william': 80, 'k': 81, 'brown': 86, 'kimberly': 84, 'n': 85, 'husband': 88, 'wife': 90, ';': 91, 'borrower': 208, 'trustor': 96, 'under': 122, 'c': 103, 'lender': 216, 'caliber': 109, 'home': 110, 'loans': 111, 'inc': 179, '..': 114, 'corporation': 118, 'organized': 119, 'existing': 121, 'laws': 124, 'delaware': 126, \"'s\": 129, 'address': 130, '1525': 132, '$': 133, 'belt': 135, 'line': 136, 'road': 137, 'coppell': 139, 'tx': 141, '75019': 142, 'trustee': 148, 'chicago': 151, 'title': 152, 'company': 153, 'washington': 155, '1835': 156, 'barkley': 157, 'boulevard': 158, 'suite': 160, '105': 161, 'bellingham': 162, 'wa': 163, '98226': 164, '©': 167, 'mers': 218, 'mortgage': 174, 'electronic': 175, 'registration': 176, 'systems': 177, 'has': 182, 'appointed': 183, 'as': 185, 'nominee': 187, 'for': 190, 'loan': 192, 'attached': 195, 'rider': 198, 'be': 237, 'executed': 206, 'by': 207, 'further': 211, 'describes': 212, 'relationship': 214, 'between': 215, 'incorporated': 223, 'into': 224, 'amends': 226, 'supplements': 228, 'eee': 233, 'ge': 234, 'tee': 235, 'ad': 236, 'daeensee': 239, 'ond': 240, 'tantiary': 242, '970': 243, '9090': 244, 'nove': 246, 'ctatec': 247}\n",
            "[1525 $, belt line road, coppell, tx 75019, 105 bellingham wa 98226, \"lender\", \"trustee\", caliber home loans, inc, william k brown and kimberly n brown, chicago title company, husband and wife, corporation]\n",
            "88\n",
            "80\n",
            "171\n",
            "109\n",
            "118\n",
            "109\n",
            "132\n",
            "109\n",
            "171\n",
            "151\n",
            "161\n",
            "151\n",
            "{(161, 161): {'PARTY NAME': 0.0, 'IDCODE': 0.0, 'ROLE': 0.0, 'ADDRESS': 0.0}, (161, 132): {'PARTY NAME': 0.0, 'IDCODE': 0.0, 'ROLE': 0.0, 'ADDRESS': 0.0}, (161, 171): {'PARTY NAME': 0.0, 'IDCODE': 0.0, 'ROLE': 0.0, 'ADDRESS': 0.0}, (161, 109): {'PARTY NAME': 0.0, 'IDCODE': 0.0, 'ROLE': 0.0, 'ADDRESS': 0.0}, (161, 80): {'PARTY NAME': 0.0, 'IDCODE': 0.0, 'ROLE': 0.0, 'ADDRESS': 0.0}, (161, 118): {'PARTY NAME': 0.0, 'IDCODE': 0.0, 'ROLE': 0.0, 'ADDRESS': 0.0}, (161, 151): {'PARTY ADDRESS': 1.0, 'PARTY NAME': 0.0, 'IDCODE': 0.0, 'ROLE': 0.0, 'ADDRESS': 0.0}, (161, 88): {'PARTY NAME': 0.0, 'IDCODE': 0.0, 'ROLE': 0.0, 'ADDRESS': 0.0}, (132, 161): {'PARTY NAME': 0.0, 'IDCODE': 0.0, 'ROLE': 0.0, 'ADDRESS': 0.0}, (132, 132): {'PARTY NAME': 0.0, 'IDCODE': 0.0, 'ROLE': 0.0, 'ADDRESS': 0.0}, (132, 171): {'PARTY NAME': 0.0, 'IDCODE': 0.0, 'ROLE': 0.0, 'ADDRESS': 0.0}, (132, 109): {'PARTY ADDRESS': 1.0, 'PARTY NAME': 0.0, 'IDCODE': 0.0, 'ROLE': 0.0, 'ADDRESS': 0.0}, (132, 80): {'PARTY NAME': 0.0, 'IDCODE': 0.0, 'ROLE': 0.0, 'ADDRESS': 0.0}, (132, 118): {'PARTY NAME': 0.0, 'IDCODE': 0.0, 'ROLE': 0.0, 'ADDRESS': 0.0}, (132, 151): {'PARTY NAME': 0.0, 'IDCODE': 0.0, 'ROLE': 0.0, 'ADDRESS': 0.0}, (132, 88): {'PARTY NAME': 0.0, 'IDCODE': 0.0, 'ROLE': 0.0, 'ADDRESS': 0.0}, (171, 161): {'PARTY NAME': 0.0, 'IDCODE': 0.0, 'ROLE': 0.0, 'ADDRESS': 0.0}, (171, 132): {'PARTY NAME': 0.0, 'IDCODE': 0.0, 'ROLE': 0.0, 'ADDRESS': 0.0}, (171, 171): {'PARTY NAME': 0.0, 'IDCODE': 0.0, 'ROLE': 0.0, 'ADDRESS': 0.0}, (171, 109): {'PARTY ROLE': 1.0, 'PARTY NAME': 0.0, 'IDCODE': 0.0, 'ROLE': 0.0, 'ADDRESS': 0.0}, (171, 80): {'PARTY NAME': 0.0, 'IDCODE': 0.0, 'ROLE': 0.0, 'ADDRESS': 0.0}, (171, 118): {'PARTY NAME': 0.0, 'IDCODE': 0.0, 'ROLE': 0.0, 'ADDRESS': 0.0}, (171, 151): {'PARTY ROLE': 1.0, 'PARTY NAME': 0.0, 'IDCODE': 0.0, 'ROLE': 0.0, 'ADDRESS': 0.0}, (171, 88): {'PARTY NAME': 0.0, 'IDCODE': 0.0, 'ROLE': 0.0, 'ADDRESS': 0.0}, (109, 161): {'PARTY NAME': 0.0, 'IDCODE': 0.0, 'ROLE': 0.0, 'ADDRESS': 0.0}, (109, 132): {'PARTY NAME': 0.0, 'IDCODE': 0.0, 'ROLE': 0.0, 'ADDRESS': 0.0}, (109, 171): {'PARTY NAME': 0.0, 'IDCODE': 0.0, 'ROLE': 0.0, 'ADDRESS': 0.0}, (109, 109): {'PARTY NAME': 0.0, 'IDCODE': 0.0, 'ROLE': 0.0, 'ADDRESS': 0.0}, (109, 80): {'PARTY NAME': 0.0, 'IDCODE': 0.0, 'ROLE': 0.0, 'ADDRESS': 0.0}, (109, 118): {'PARTY NAME': 0.0, 'IDCODE': 0.0, 'ROLE': 0.0, 'ADDRESS': 0.0}, (109, 151): {'PARTY NAME': 0.0, 'IDCODE': 0.0, 'ROLE': 0.0, 'ADDRESS': 0.0}, (109, 88): {'PARTY NAME': 0.0, 'IDCODE': 0.0, 'ROLE': 0.0, 'ADDRESS': 0.0}, (80, 161): {'PARTY NAME': 0.0, 'IDCODE': 0.0, 'ROLE': 0.0, 'ADDRESS': 0.0}, (80, 132): {'PARTY NAME': 0.0, 'IDCODE': 0.0, 'ROLE': 0.0, 'ADDRESS': 0.0}, (80, 171): {'PARTY NAME': 0.0, 'IDCODE': 0.0, 'ROLE': 0.0, 'ADDRESS': 0.0}, (80, 109): {'PARTY NAME': 0.0, 'IDCODE': 0.0, 'ROLE': 0.0, 'ADDRESS': 0.0}, (80, 80): {'PARTY NAME': 0.0, 'IDCODE': 0.0, 'ROLE': 0.0, 'ADDRESS': 0.0}, (80, 118): {'PARTY NAME': 0.0, 'IDCODE': 0.0, 'ROLE': 0.0, 'ADDRESS': 0.0}, (80, 151): {'PARTY NAME': 0.0, 'IDCODE': 0.0, 'ROLE': 0.0, 'ADDRESS': 0.0}, (80, 88): {'PARTY NAME': 0.0, 'IDCODE': 0.0, 'ROLE': 0.0, 'ADDRESS': 0.0}, (118, 161): {'PARTY NAME': 0.0, 'IDCODE': 0.0, 'ROLE': 0.0, 'ADDRESS': 0.0}, (118, 132): {'PARTY NAME': 0.0, 'IDCODE': 0.0, 'ROLE': 0.0, 'ADDRESS': 0.0}, (118, 171): {'PARTY NAME': 0.0, 'IDCODE': 0.0, 'ROLE': 0.0, 'ADDRESS': 0.0}, (118, 109): {'PARTY IDCODE': 1.0, 'PARTY NAME': 0.0, 'IDCODE': 0.0, 'ROLE': 0.0, 'ADDRESS': 0.0}, (118, 80): {'PARTY NAME': 0.0, 'IDCODE': 0.0, 'ROLE': 0.0, 'ADDRESS': 0.0}, (118, 118): {'PARTY NAME': 0.0, 'IDCODE': 0.0, 'ROLE': 0.0, 'ADDRESS': 0.0}, (118, 151): {'PARTY NAME': 0.0, 'IDCODE': 0.0, 'ROLE': 0.0, 'ADDRESS': 0.0}, (118, 88): {'PARTY NAME': 0.0, 'IDCODE': 0.0, 'ROLE': 0.0, 'ADDRESS': 0.0}, (151, 161): {'PARTY NAME': 0.0, 'IDCODE': 0.0, 'ROLE': 0.0, 'ADDRESS': 0.0}, (151, 132): {'PARTY NAME': 0.0, 'IDCODE': 0.0, 'ROLE': 0.0, 'ADDRESS': 0.0}, (151, 171): {'PARTY NAME': 0.0, 'IDCODE': 0.0, 'ROLE': 0.0, 'ADDRESS': 0.0}, (151, 109): {'PARTY NAME': 0.0, 'IDCODE': 0.0, 'ROLE': 0.0, 'ADDRESS': 0.0}, (151, 80): {'PARTY NAME': 0.0, 'IDCODE': 0.0, 'ROLE': 0.0, 'ADDRESS': 0.0}, (151, 118): {'PARTY NAME': 0.0, 'IDCODE': 0.0, 'ROLE': 0.0, 'ADDRESS': 0.0}, (151, 151): {'PARTY NAME': 0.0, 'IDCODE': 0.0, 'ROLE': 0.0, 'ADDRESS': 0.0}, (151, 88): {'PARTY NAME': 0.0, 'IDCODE': 0.0, 'ROLE': 0.0, 'ADDRESS': 0.0}, (88, 161): {'PARTY NAME': 0.0, 'IDCODE': 0.0, 'ROLE': 0.0, 'ADDRESS': 0.0}, (88, 132): {'PARTY NAME': 0.0, 'IDCODE': 0.0, 'ROLE': 0.0, 'ADDRESS': 0.0}, (88, 171): {'PARTY NAME': 0.0, 'IDCODE': 0.0, 'ROLE': 0.0, 'ADDRESS': 0.0}, (88, 109): {'PARTY NAME': 0.0, 'IDCODE': 0.0, 'ROLE': 0.0, 'ADDRESS': 0.0}, (88, 80): {'PARTY IDCODE': 1.0, 'PARTY NAME': 0.0, 'IDCODE': 0.0, 'ROLE': 0.0, 'ADDRESS': 0.0}, (88, 118): {'PARTY NAME': 0.0, 'IDCODE': 0.0, 'ROLE': 0.0, 'ADDRESS': 0.0}, (88, 151): {'PARTY NAME': 0.0, 'IDCODE': 0.0, 'ROLE': 0.0, 'ADDRESS': 0.0}, (88, 88): {'PARTY NAME': 0.0, 'IDCODE': 0.0, 'ROLE': 0.0, 'ADDRESS': 0.0}}\n",
            "definitions words used in multiple sections of this document are defined below and ather words are defined in sections 3, 11, 13, 18, 20 and 21. certain rules regarding the usage of words used in this document are also provided in section 16, (a) \"security instrument\" means this document, which is dated july 03, 2019, together with all riders to this document, (b) \"borrower\" is hannah allen halpenny and michael james burton, wife and husband. borrower is the trustor under this security instrument. (©) \"lender\" is caliber home loans, inc.. lender is a corporation organized and existing under the laws of delaware. lender's address is 1525 $. belt line road, coppell, tx 75019. (0) \"trustee\" is fidelity national title insurance company, a nebraska corporation 3500 188th street sw, suite 300 lynnwood wa 98037. (e) \"mers\" is the mortgage electronic registration systems, inc. lender has appointed mers as the nominee for lender for this loan, and attached a mers rider to this security instrument, to be executed by borrower, which further describes the relationship between lender and mers, and which is incorporated into and amends and supplements this security instrument. (bf) “note” means the 03, 2019. the note states that and dated\n",
            "definitions words used in multiple sections of this document are defined below and ather words are defined in sections 3, 11, 13, 18, 20 and 21. certain rules regarding the usage of words used in this document are also provided in section 16, (a) \"security instrument\" means this document, which is dated july 03, 2019, together with all riders to this document, (b) \"borrower\" is hannah allen halpenny and michael james burton, wife and husband. borrower is the trustor under this security instrument. (©) \"lender\" is caliber home loans, inc.. lender is a corporation organized and existing under the laws of delaware. lender's address is 1525 $. belt line road, coppell, tx 75019. (0) \"trustee\" is fidelity national title insurance company, a nebraska corporation 3500 188th street sw, suite 300 lynnwood wa 98037. (e) \"mers\" is the mortgage electronic registration systems, inc. lender has appointed mers as the nominee for lender for this loan, and attached a mers rider to this security instrument, to be executed by borrower, which further describes the relationship between lender and mers, and which is incorporated into and amends and supplements this security instrument. (bf) “note” means the 03, 2019. the note states that and dated\n",
            "{'definitions': 0, 'words': 37, 'used': 38, 'in': 45, 'multiple': 4, 'sections': 18, 'of': 127, 'this': 236, 'document': 74, 'are': 42, 'defined': 16, 'below': 11, 'and': 256, 'ather': 13, '3': 19, ',': 249, '11': 21, '13': 23, '18': 25, '20': 27, '21': 29, '.': 251, 'certain': 31, 'rules': 32, 'regarding': 33, 'the': 252, 'usage': 35, 'also': 43, 'provided': 44, 'section': 46, '16': 47, '(': 240, 'a': 203, ')': 242, '\"': 178, 'security': 237, 'instrument': 238, 'means': 246, 'which': 228, 'is': 229, 'dated': 257, 'july': 63, '03': 248, '2019': 250, 'together': 68, 'with': 69, 'all': 70, 'riders': 71, 'to': 211, 'b': 77, 'borrower': 215, 'hannah': 83, 'allen': 84, 'halpenny': 85, 'michael': 87, 'james': 88, 'burton': 89, 'wife': 91, 'husband': 93, 'trustor': 98, 'under': 124, '©': 105, 'lender': 223, 'caliber': 111, 'home': 112, 'loans': 113, 'inc': 186, '..': 116, 'corporation': 161, 'organized': 121, 'existing': 123, 'laws': 126, 'delaware': 128, \"'s\": 131, 'address': 132, '1525': 134, '$': 135, 'belt': 137, 'line': 138, 'road': 139, 'coppell': 141, 'tx': 143, '75019': 144, '0': 147, 'trustee': 150, 'fidelity': 153, 'national': 154, 'title': 155, 'insurance': 156, 'company': 157, 'nebraska': 160, '3500': 162, '188th': 163, 'street': 164, 'sw': 165, 'suite': 167, '300': 168, 'lynnwood': 169, 'wa': 170, '98037': 171, 'e': 174, 'mers': 225, 'mortgage': 181, 'electronic': 182, 'registration': 183, 'systems': 184, 'has': 189, 'appointed': 190, 'as': 192, 'nominee': 194, 'for': 197, 'loan': 199, 'attached': 202, 'rider': 205, 'be': 212, 'executed': 213, 'by': 214, 'further': 218, 'describes': 219, 'relationship': 221, 'between': 222, 'incorporated': 230, 'into': 231, 'amends': 233, 'supplements': 235, 'bf': 241, '“': 243, 'note': 253, '”': 245, 'states': 254, 'that': 255}\n",
            "[1525 $. belt line road, coppell, tx 75019, 3500 188th street sw, suite 300 lynnwood wa 98037, \"borrower\", \"lender\", \"trustee\", hannah allen halpenny and michael james burton, caliber home loans, inc.., fidelity national title insurance company, wife and husband, corporation, corporation]\n",
            "178\n",
            "83\n",
            "91\n",
            "83\n",
            "178\n",
            "111\n",
            "134\n",
            "111\n",
            "178\n",
            "153\n",
            "161\n",
            "153\n",
            "162\n",
            "153\n",
            "{(161, 161): {'PARTY NAME': 0.0, 'IDCODE': 0.0, 'ROLE': 0.0, 'ADDRESS': 0.0}, (161, 162): {'PARTY NAME': 0.0, 'IDCODE': 0.0, 'ROLE': 0.0, 'ADDRESS': 0.0}, (161, 134): {'PARTY NAME': 0.0, 'IDCODE': 0.0, 'ROLE': 0.0, 'ADDRESS': 0.0}, (161, 111): {'PARTY NAME': 0.0, 'IDCODE': 0.0, 'ROLE': 0.0, 'ADDRESS': 0.0}, (161, 178): {'PARTY NAME': 0.0, 'IDCODE': 0.0, 'ROLE': 0.0, 'ADDRESS': 0.0}, (161, 83): {'PARTY NAME': 0.0, 'IDCODE': 0.0, 'ROLE': 0.0, 'ADDRESS': 0.0}, (161, 153): {'PARTY IDCODE': 1.0, 'PARTY NAME': 0.0, 'IDCODE': 0.0, 'ROLE': 0.0, 'ADDRESS': 0.0}, (161, 91): {'PARTY NAME': 0.0, 'IDCODE': 0.0, 'ROLE': 0.0, 'ADDRESS': 0.0}, (162, 161): {'PARTY NAME': 0.0, 'IDCODE': 0.0, 'ROLE': 0.0, 'ADDRESS': 0.0}, (162, 162): {'PARTY NAME': 0.0, 'IDCODE': 0.0, 'ROLE': 0.0, 'ADDRESS': 0.0}, (162, 134): {'PARTY NAME': 0.0, 'IDCODE': 0.0, 'ROLE': 0.0, 'ADDRESS': 0.0}, (162, 111): {'PARTY NAME': 0.0, 'IDCODE': 0.0, 'ROLE': 0.0, 'ADDRESS': 0.0}, (162, 178): {'PARTY NAME': 0.0, 'IDCODE': 0.0, 'ROLE': 0.0, 'ADDRESS': 0.0}, (162, 83): {'PARTY NAME': 0.0, 'IDCODE': 0.0, 'ROLE': 0.0, 'ADDRESS': 0.0}, (162, 153): {'PARTY ADDRESS': 1.0, 'PARTY NAME': 0.0, 'IDCODE': 0.0, 'ROLE': 0.0, 'ADDRESS': 0.0}, (162, 91): {'PARTY NAME': 0.0, 'IDCODE': 0.0, 'ROLE': 0.0, 'ADDRESS': 0.0}, (134, 161): {'PARTY NAME': 0.0, 'IDCODE': 0.0, 'ROLE': 0.0, 'ADDRESS': 0.0}, (134, 162): {'PARTY NAME': 0.0, 'IDCODE': 0.0, 'ROLE': 0.0, 'ADDRESS': 0.0}, (134, 134): {'PARTY NAME': 0.0, 'IDCODE': 0.0, 'ROLE': 0.0, 'ADDRESS': 0.0}, (134, 111): {'PARTY ADDRESS': 1.0, 'PARTY NAME': 0.0, 'IDCODE': 0.0, 'ROLE': 0.0, 'ADDRESS': 0.0}, (134, 178): {'PARTY NAME': 0.0, 'IDCODE': 0.0, 'ROLE': 0.0, 'ADDRESS': 0.0}, (134, 83): {'PARTY NAME': 0.0, 'IDCODE': 0.0, 'ROLE': 0.0, 'ADDRESS': 0.0}, (134, 153): {'PARTY NAME': 0.0, 'IDCODE': 0.0, 'ROLE': 0.0, 'ADDRESS': 0.0}, (134, 91): {'PARTY NAME': 0.0, 'IDCODE': 0.0, 'ROLE': 0.0, 'ADDRESS': 0.0}, (111, 161): {'PARTY NAME': 0.0, 'IDCODE': 0.0, 'ROLE': 0.0, 'ADDRESS': 0.0}, (111, 162): {'PARTY NAME': 0.0, 'IDCODE': 0.0, 'ROLE': 0.0, 'ADDRESS': 0.0}, (111, 134): {'PARTY NAME': 0.0, 'IDCODE': 0.0, 'ROLE': 0.0, 'ADDRESS': 0.0}, (111, 111): {'PARTY NAME': 0.0, 'IDCODE': 0.0, 'ROLE': 0.0, 'ADDRESS': 0.0}, (111, 178): {'PARTY NAME': 0.0, 'IDCODE': 0.0, 'ROLE': 0.0, 'ADDRESS': 0.0}, (111, 83): {'PARTY NAME': 0.0, 'IDCODE': 0.0, 'ROLE': 0.0, 'ADDRESS': 0.0}, (111, 153): {'PARTY NAME': 0.0, 'IDCODE': 0.0, 'ROLE': 0.0, 'ADDRESS': 0.0}, (111, 91): {'PARTY NAME': 0.0, 'IDCODE': 0.0, 'ROLE': 0.0, 'ADDRESS': 0.0}, (178, 161): {'PARTY NAME': 0.0, 'IDCODE': 0.0, 'ROLE': 0.0, 'ADDRESS': 0.0}, (178, 162): {'PARTY NAME': 0.0, 'IDCODE': 0.0, 'ROLE': 0.0, 'ADDRESS': 0.0}, (178, 134): {'PARTY NAME': 0.0, 'IDCODE': 0.0, 'ROLE': 0.0, 'ADDRESS': 0.0}, (178, 111): {'PARTY ROLE': 1.0, 'PARTY NAME': 0.0, 'IDCODE': 0.0, 'ROLE': 0.0, 'ADDRESS': 0.0}, (178, 178): {'PARTY NAME': 0.0, 'IDCODE': 0.0, 'ROLE': 0.0, 'ADDRESS': 0.0}, (178, 83): {'PARTY ROLE': 1.0, 'PARTY NAME': 0.0, 'IDCODE': 0.0, 'ROLE': 0.0, 'ADDRESS': 0.0}, (178, 153): {'PARTY ROLE': 1.0, 'PARTY NAME': 0.0, 'IDCODE': 0.0, 'ROLE': 0.0, 'ADDRESS': 0.0}, (178, 91): {'PARTY NAME': 0.0, 'IDCODE': 0.0, 'ROLE': 0.0, 'ADDRESS': 0.0}, (83, 161): {'PARTY NAME': 0.0, 'IDCODE': 0.0, 'ROLE': 0.0, 'ADDRESS': 0.0}, (83, 162): {'PARTY NAME': 0.0, 'IDCODE': 0.0, 'ROLE': 0.0, 'ADDRESS': 0.0}, (83, 134): {'PARTY NAME': 0.0, 'IDCODE': 0.0, 'ROLE': 0.0, 'ADDRESS': 0.0}, (83, 111): {'PARTY NAME': 0.0, 'IDCODE': 0.0, 'ROLE': 0.0, 'ADDRESS': 0.0}, (83, 178): {'PARTY NAME': 0.0, 'IDCODE': 0.0, 'ROLE': 0.0, 'ADDRESS': 0.0}, (83, 83): {'PARTY NAME': 0.0, 'IDCODE': 0.0, 'ROLE': 0.0, 'ADDRESS': 0.0}, (83, 153): {'PARTY NAME': 0.0, 'IDCODE': 0.0, 'ROLE': 0.0, 'ADDRESS': 0.0}, (83, 91): {'PARTY NAME': 0.0, 'IDCODE': 0.0, 'ROLE': 0.0, 'ADDRESS': 0.0}, (153, 161): {'PARTY NAME': 0.0, 'IDCODE': 0.0, 'ROLE': 0.0, 'ADDRESS': 0.0}, (153, 162): {'PARTY NAME': 0.0, 'IDCODE': 0.0, 'ROLE': 0.0, 'ADDRESS': 0.0}, (153, 134): {'PARTY NAME': 0.0, 'IDCODE': 0.0, 'ROLE': 0.0, 'ADDRESS': 0.0}, (153, 111): {'PARTY NAME': 0.0, 'IDCODE': 0.0, 'ROLE': 0.0, 'ADDRESS': 0.0}, (153, 178): {'PARTY NAME': 0.0, 'IDCODE': 0.0, 'ROLE': 0.0, 'ADDRESS': 0.0}, (153, 83): {'PARTY NAME': 0.0, 'IDCODE': 0.0, 'ROLE': 0.0, 'ADDRESS': 0.0}, (153, 153): {'PARTY NAME': 0.0, 'IDCODE': 0.0, 'ROLE': 0.0, 'ADDRESS': 0.0}, (153, 91): {'PARTY NAME': 0.0, 'IDCODE': 0.0, 'ROLE': 0.0, 'ADDRESS': 0.0}, (91, 161): {'PARTY NAME': 0.0, 'IDCODE': 0.0, 'ROLE': 0.0, 'ADDRESS': 0.0}, (91, 162): {'PARTY NAME': 0.0, 'IDCODE': 0.0, 'ROLE': 0.0, 'ADDRESS': 0.0}, (91, 134): {'PARTY NAME': 0.0, 'IDCODE': 0.0, 'ROLE': 0.0, 'ADDRESS': 0.0}, (91, 111): {'PARTY NAME': 0.0, 'IDCODE': 0.0, 'ROLE': 0.0, 'ADDRESS': 0.0}, (91, 178): {'PARTY NAME': 0.0, 'IDCODE': 0.0, 'ROLE': 0.0, 'ADDRESS': 0.0}, (91, 83): {'PARTY IDCODE': 1.0, 'PARTY NAME': 0.0, 'IDCODE': 0.0, 'ROLE': 0.0, 'ADDRESS': 0.0}, (91, 153): {'PARTY NAME': 0.0, 'IDCODE': 0.0, 'ROLE': 0.0, 'ADDRESS': 0.0}, (91, 91): {'PARTY NAME': 0.0, 'IDCODE': 0.0, 'ROLE': 0.0, 'ADDRESS': 0.0}}\n",
            "definitions words used in multiple sections of this document are defined below and other words are defined in sections 3, 10, 12, 17, 19 and 21. certain rules regarding the usage of words used in this document are also provided in section 15. (a) “security instrument” means this document, which is dated january 7, 2016, together with all riders to this document. (b) “borrower” is marisa r fairbanks and scott d fairbanks, wife and husband. borrower is the trustor under this security instrument. (c) “lender” is leaderone financial corporation.\n",
            "definitions words used in multiple sections of this document are defined below and other words are defined in sections 3, 10, 12, 17, 19 and 21. certain rules regarding the usage of words used in this document are also provided in section 15. (a) “security instrument” means this document, which is dated january 7, 2016, together with all riders to this document. (b) “borrower” is marisa r fairbanks and scott d fairbanks, wife and husband. borrower is the trustor under this security instrument. (c) “lender” is leaderone financial corporation.\n",
            "{'definitions': 0, 'words': 37, 'used': 38, 'in': 45, 'multiple': 4, 'sections': 18, 'of': 36, 'this': 100, 'document': 74, 'are': 42, 'defined': 16, 'below': 11, 'and': 92, 'other': 13, '3': 19, ',': 90, '10': 21, '12': 23, '17': 25, '19': 27, '21': 29, '.': 114, 'certain': 31, 'rules': 32, 'regarding': 33, 'the': 97, 'usage': 35, 'also': 43, 'provided': 44, 'section': 46, '15': 47, '(': 104, 'a': 50, ')': 106, '“': 107, 'security': 101, 'instrument': 102, '”': 109, 'means': 56, 'which': 60, 'is': 110, 'dated': 62, 'january': 63, '7': 64, '2016': 66, 'together': 68, 'with': 69, 'all': 70, 'riders': 71, 'to': 72, 'b': 77, 'borrower': 95, 'marisa': 83, 'r': 84, 'fairbanks': 89, 'scott': 87, 'd': 88, 'wife': 91, 'husband': 93, 'trustor': 98, 'under': 99, 'c': 105, 'lender': 108, 'leaderone': 111, 'financial': 112, 'corporation': 113}\n",
            "[“borrower”, ) “lender”, marisa r fairbanks and scott d fairbanks, leaderone financial corporation., wife and husband]\n",
            "107\n",
            "83\n",
            "91\n",
            "83\n",
            "106\n",
            "111\n",
            "{(106, 106): {'PARTY NAME': 0.0, 'IDCODE': 0.0, 'ROLE': 0.0, 'ADDRESS': 0.0}, (106, 107): {'PARTY NAME': 0.0, 'IDCODE': 0.0, 'ROLE': 0.0, 'ADDRESS': 0.0}, (106, 111): {'PARTY ROLE': 1.0, 'PARTY NAME': 0.0, 'IDCODE': 0.0, 'ROLE': 0.0, 'ADDRESS': 0.0}, (106, 83): {'PARTY NAME': 0.0, 'IDCODE': 0.0, 'ROLE': 0.0, 'ADDRESS': 0.0}, (106, 91): {'PARTY NAME': 0.0, 'IDCODE': 0.0, 'ROLE': 0.0, 'ADDRESS': 0.0}, (107, 106): {'PARTY NAME': 0.0, 'IDCODE': 0.0, 'ROLE': 0.0, 'ADDRESS': 0.0}, (107, 107): {'PARTY NAME': 0.0, 'IDCODE': 0.0, 'ROLE': 0.0, 'ADDRESS': 0.0}, (107, 111): {'PARTY NAME': 0.0, 'IDCODE': 0.0, 'ROLE': 0.0, 'ADDRESS': 0.0}, (107, 83): {'PARTY ROLE': 1.0, 'PARTY NAME': 0.0, 'IDCODE': 0.0, 'ROLE': 0.0, 'ADDRESS': 0.0}, (107, 91): {'PARTY NAME': 0.0, 'IDCODE': 0.0, 'ROLE': 0.0, 'ADDRESS': 0.0}, (111, 106): {'PARTY NAME': 0.0, 'IDCODE': 0.0, 'ROLE': 0.0, 'ADDRESS': 0.0}, (111, 107): {'PARTY NAME': 0.0, 'IDCODE': 0.0, 'ROLE': 0.0, 'ADDRESS': 0.0}, (111, 111): {'PARTY NAME': 0.0, 'IDCODE': 0.0, 'ROLE': 0.0, 'ADDRESS': 0.0}, (111, 83): {'PARTY NAME': 0.0, 'IDCODE': 0.0, 'ROLE': 0.0, 'ADDRESS': 0.0}, (111, 91): {'PARTY NAME': 0.0, 'IDCODE': 0.0, 'ROLE': 0.0, 'ADDRESS': 0.0}, (83, 106): {'PARTY NAME': 0.0, 'IDCODE': 0.0, 'ROLE': 0.0, 'ADDRESS': 0.0}, (83, 107): {'PARTY NAME': 0.0, 'IDCODE': 0.0, 'ROLE': 0.0, 'ADDRESS': 0.0}, (83, 111): {'PARTY NAME': 0.0, 'IDCODE': 0.0, 'ROLE': 0.0, 'ADDRESS': 0.0}, (83, 83): {'PARTY NAME': 0.0, 'IDCODE': 0.0, 'ROLE': 0.0, 'ADDRESS': 0.0}, (83, 91): {'PARTY NAME': 0.0, 'IDCODE': 0.0, 'ROLE': 0.0, 'ADDRESS': 0.0}, (91, 106): {'PARTY NAME': 0.0, 'IDCODE': 0.0, 'ROLE': 0.0, 'ADDRESS': 0.0}, (91, 107): {'PARTY NAME': 0.0, 'IDCODE': 0.0, 'ROLE': 0.0, 'ADDRESS': 0.0}, (91, 111): {'PARTY NAME': 0.0, 'IDCODE': 0.0, 'ROLE': 0.0, 'ADDRESS': 0.0}, (91, 83): {'PARTY IDCODE': 1.0, 'PARTY NAME': 0.0, 'IDCODE': 0.0, 'ROLE': 0.0, 'ADDRESS': 0.0}, (91, 91): {'PARTY NAME': 0.0, 'IDCODE': 0.0, 'ROLE': 0.0, 'ADDRESS': 0.0}}\n",
            "definitions words used in multiple sections of this document are defined below and other words are defined in sections 3, 11, 13, 18, 20 and 21. certain rules regarding the usage of words used in this document are also provided in section 16. (a) “security instrument” means this document, which is dated august 5, 2016, together with all riders to this document. (b) “borrower” is roberto lemus, an unmarried man, borrower's address is 9562 winter gardens blvd #d351, lakeside, california 92040. borrower is the trustor under this security instrument. (c) “lender” is everett financial, inc. d/b/a supreme lending. lender is atexas corporation, organized and existing under the laws of texas. lender’s address is 14801 quorum drive, suite 300, dallas, texas 75254. (d) “trustee” is scott everett trustee’s address is 14801 quorum drive, suite 300, dallas, dallas county, texas 75254. (e) “mers” is mortgage electronic registration systems, inc. mers is a separate corporation that is acting solely as a nominee for lender and lender’s successors and assigns. mers is the beneficiary under this security instrument. mers is organized and existing under the laws of delaware, and has an address and telephone of p.o. box 2026, flint, mi 48501-2026, tel. (888) 679-mers.\n",
            "definitions words used in multiple sections of this document are defined below and other words are defined in sections 3, 11, 13, 18, 20 and 21. certain rules regarding the usage of words used in this document are also provided in section 16. (a) “security instrument” means this document, which is dated august 5, 2016, together with all riders to this document. (b) “borrower” is roberto lemus, an unmarried man, borrower's address is 9562 winter gardens blvd #d351, lakeside, california 92040. borrower is the trustor under this security instrument. (c) “lender” is everett financial, inc. d/b/a supreme lending. lender is atexas corporation, organized and existing under the laws of texas. lender’s address is 14801 quorum drive, suite 300, dallas, texas 75254. (d) “trustee” is scott everett trustee’s address is 14801 quorum drive, suite 300, dallas, dallas county, texas 75254. (e) “mers” is mortgage electronic registration systems, inc. mers is a separate corporation that is acting solely as a nominee for lender and lender’s successors and assigns. mers is the beneficiary under this security instrument. mers is organized and existing under the laws of delaware, and has an address and telephone of p.o. box 2026, flint, mi 48501-2026, tel. (888) 679-mers.\n",
            "{'definitions': 0, 'words': 37, 'used': 38, 'in': 45, 'multiple': 4, 'sections': 18, 'of': 254, 'this': 233, 'document': 74, 'are': 42, 'defined': 16, 'below': 11, 'and': 252, 'other': 13, '3': 19, ',': 266, '11': 21, '13': 23, '18': 25, '20': 27, '21': 29, '.': 275, 'certain': 31, 'rules': 32, 'regarding': 33, 'the': 243, 'usage': 35, 'also': 43, 'provided': 44, 'section': 46, '16': 47, '(': 269, 'a': 217, ')': 271, '“': 196, 'security': 234, 'instrument': 235, '”': 198, 'means': 56, 'which': 60, 'is': 238, 'dated': 62, 'august': 63, '5': 64, '2016': 66, 'together': 68, 'with': 69, 'all': 70, 'riders': 71, 'to': 72, 'b': 129, 'borrower': 106, 'roberto': 83, 'lemus': 84, 'an': 250, 'unmarried': 87, 'man': 88, \"'s\": 91, 'address': 251, '9562': 94, 'winter': 95, 'gardens': 96, 'blvd': 97, '#': 98, 'd351': 99, 'lakeside': 101, 'california': 103, '92040': 104, 'trustor': 109, 'under': 242, 'c': 116, 'lender': 222, 'everett': 173, 'financial': 123, 'inc': 205, 'd': 166, '/': 130, 'supreme': 132, 'lending': 133, 'atexas': 137, 'corporation': 211, 'organized': 239, 'existing': 241, 'laws': 244, 'texas': 190, '’s': 223, '14801': 178, 'quorum': 179, 'drive': 180, 'suite': 182, '300': 183, 'dallas': 187, '75254': 191, 'trustee': 174, 'scott': 172, 'county': 188, 'e': 194, 'mers': 274, 'mortgage': 200, 'electronic': 201, 'registration': 202, 'systems': 203, 'separate': 210, 'that': 212, 'acting': 214, 'solely': 215, 'as': 216, 'nominee': 218, 'for': 219, 'successors': 224, 'assigns': 226, 'beneficiary': 231, 'delaware': 246, 'has': 249, 'telephone': 253, 'p.o': 255, 'box': 257, '2026': 265, 'flint': 260, 'mi': 262, '48501': 263, '-': 273, 'tel': 267, '888': 270, '679': 272}\n",
            "[“borrower”, “lender”, “trustee”, roberto lemus, everett financial, inc., scott everett, 14801 quorum drive, suite 300, dallas, dallas county, texas 75254, unmarried man, corporation]\n",
            "196\n",
            "83\n",
            "87\n",
            "83\n",
            "196\n",
            "173\n",
            "211\n",
            "173\n",
            "196\n",
            "172\n",
            "178\n",
            "172\n",
            "{(196, 196): {'PARTY NAME': 0.0, 'IDCODE': 0.0, 'ROLE': 0.0, 'ADDRESS': 0.0}, (196, 172): {'PARTY ROLE': 1.0, 'PARTY NAME': 0.0, 'IDCODE': 0.0, 'ROLE': 0.0, 'ADDRESS': 0.0}, (196, 173): {'PARTY ROLE': 1.0, 'PARTY NAME': 0.0, 'IDCODE': 0.0, 'ROLE': 0.0, 'ADDRESS': 0.0}, (196, 178): {'PARTY NAME': 0.0, 'IDCODE': 0.0, 'ROLE': 0.0, 'ADDRESS': 0.0}, (196, 83): {'PARTY ROLE': 1.0, 'PARTY NAME': 0.0, 'IDCODE': 0.0, 'ROLE': 0.0, 'ADDRESS': 0.0}, (196, 211): {'PARTY NAME': 0.0, 'IDCODE': 0.0, 'ROLE': 0.0, 'ADDRESS': 0.0}, (196, 87): {'PARTY NAME': 0.0, 'IDCODE': 0.0, 'ROLE': 0.0, 'ADDRESS': 0.0}, (172, 196): {'PARTY NAME': 0.0, 'IDCODE': 0.0, 'ROLE': 0.0, 'ADDRESS': 0.0}, (172, 172): {'PARTY NAME': 0.0, 'IDCODE': 0.0, 'ROLE': 0.0, 'ADDRESS': 0.0}, (172, 173): {'PARTY NAME': 0.0, 'IDCODE': 0.0, 'ROLE': 0.0, 'ADDRESS': 0.0}, (172, 178): {'PARTY NAME': 0.0, 'IDCODE': 0.0, 'ROLE': 0.0, 'ADDRESS': 0.0}, (172, 83): {'PARTY NAME': 0.0, 'IDCODE': 0.0, 'ROLE': 0.0, 'ADDRESS': 0.0}, (172, 211): {'PARTY NAME': 0.0, 'IDCODE': 0.0, 'ROLE': 0.0, 'ADDRESS': 0.0}, (172, 87): {'PARTY NAME': 0.0, 'IDCODE': 0.0, 'ROLE': 0.0, 'ADDRESS': 0.0}, (173, 196): {'PARTY NAME': 0.0, 'IDCODE': 0.0, 'ROLE': 0.0, 'ADDRESS': 0.0}, (173, 172): {'PARTY NAME': 0.0, 'IDCODE': 0.0, 'ROLE': 0.0, 'ADDRESS': 0.0}, (173, 173): {'PARTY NAME': 0.0, 'IDCODE': 0.0, 'ROLE': 0.0, 'ADDRESS': 0.0}, (173, 178): {'PARTY NAME': 0.0, 'IDCODE': 0.0, 'ROLE': 0.0, 'ADDRESS': 0.0}, (173, 83): {'PARTY NAME': 0.0, 'IDCODE': 0.0, 'ROLE': 0.0, 'ADDRESS': 0.0}, (173, 211): {'PARTY NAME': 0.0, 'IDCODE': 0.0, 'ROLE': 0.0, 'ADDRESS': 0.0}, (173, 87): {'PARTY NAME': 0.0, 'IDCODE': 0.0, 'ROLE': 0.0, 'ADDRESS': 0.0}, (178, 196): {'PARTY NAME': 0.0, 'IDCODE': 0.0, 'ROLE': 0.0, 'ADDRESS': 0.0}, (178, 172): {'PARTY ADDRESS': 1.0, 'PARTY NAME': 0.0, 'IDCODE': 0.0, 'ROLE': 0.0, 'ADDRESS': 0.0}, (178, 173): {'PARTY NAME': 0.0, 'IDCODE': 0.0, 'ROLE': 0.0, 'ADDRESS': 0.0}, (178, 178): {'PARTY NAME': 0.0, 'IDCODE': 0.0, 'ROLE': 0.0, 'ADDRESS': 0.0}, (178, 83): {'PARTY NAME': 0.0, 'IDCODE': 0.0, 'ROLE': 0.0, 'ADDRESS': 0.0}, (178, 211): {'PARTY NAME': 0.0, 'IDCODE': 0.0, 'ROLE': 0.0, 'ADDRESS': 0.0}, (178, 87): {'PARTY NAME': 0.0, 'IDCODE': 0.0, 'ROLE': 0.0, 'ADDRESS': 0.0}, (83, 196): {'PARTY NAME': 0.0, 'IDCODE': 0.0, 'ROLE': 0.0, 'ADDRESS': 0.0}, (83, 172): {'PARTY NAME': 0.0, 'IDCODE': 0.0, 'ROLE': 0.0, 'ADDRESS': 0.0}, (83, 173): {'PARTY NAME': 0.0, 'IDCODE': 0.0, 'ROLE': 0.0, 'ADDRESS': 0.0}, (83, 178): {'PARTY NAME': 0.0, 'IDCODE': 0.0, 'ROLE': 0.0, 'ADDRESS': 0.0}, (83, 83): {'PARTY NAME': 0.0, 'IDCODE': 0.0, 'ROLE': 0.0, 'ADDRESS': 0.0}, (83, 211): {'PARTY NAME': 0.0, 'IDCODE': 0.0, 'ROLE': 0.0, 'ADDRESS': 0.0}, (83, 87): {'PARTY NAME': 0.0, 'IDCODE': 0.0, 'ROLE': 0.0, 'ADDRESS': 0.0}, (211, 196): {'PARTY NAME': 0.0, 'IDCODE': 0.0, 'ROLE': 0.0, 'ADDRESS': 0.0}, (211, 172): {'PARTY NAME': 0.0, 'IDCODE': 0.0, 'ROLE': 0.0, 'ADDRESS': 0.0}, (211, 173): {'PARTY IDCODE': 1.0, 'PARTY NAME': 0.0, 'IDCODE': 0.0, 'ROLE': 0.0, 'ADDRESS': 0.0}, (211, 178): {'PARTY NAME': 0.0, 'IDCODE': 0.0, 'ROLE': 0.0, 'ADDRESS': 0.0}, (211, 83): {'PARTY NAME': 0.0, 'IDCODE': 0.0, 'ROLE': 0.0, 'ADDRESS': 0.0}, (211, 211): {'PARTY NAME': 0.0, 'IDCODE': 0.0, 'ROLE': 0.0, 'ADDRESS': 0.0}, (211, 87): {'PARTY NAME': 0.0, 'IDCODE': 0.0, 'ROLE': 0.0, 'ADDRESS': 0.0}, (87, 196): {'PARTY NAME': 0.0, 'IDCODE': 0.0, 'ROLE': 0.0, 'ADDRESS': 0.0}, (87, 172): {'PARTY NAME': 0.0, 'IDCODE': 0.0, 'ROLE': 0.0, 'ADDRESS': 0.0}, (87, 173): {'PARTY NAME': 0.0, 'IDCODE': 0.0, 'ROLE': 0.0, 'ADDRESS': 0.0}, (87, 178): {'PARTY NAME': 0.0, 'IDCODE': 0.0, 'ROLE': 0.0, 'ADDRESS': 0.0}, (87, 83): {'PARTY IDCODE': 1.0, 'PARTY NAME': 0.0, 'IDCODE': 0.0, 'ROLE': 0.0, 'ADDRESS': 0.0}, (87, 211): {'PARTY NAME': 0.0, 'IDCODE': 0.0, 'ROLE': 0.0, 'ADDRESS': 0.0}, (87, 87): {'PARTY NAME': 0.0, 'IDCODE': 0.0, 'ROLE': 0.0, 'ADDRESS': 0.0}}\n",
            "definitions words used in multiple sections of this document are defined below and other words are defined in sections 3, 11, 13, 18, 20 and 21. certain rules regarding the usage of words used in this document are also provided in section 16. (a) \"security instrument\" means this document, which is dated june 22, 2018, together with all riders to this document, (b) \"borrower\" is roger williams and heather williams, as tenants by the entirety. borrower is the trustor under this security instrument. (c) \"lender\" is loandepot.com, llc. lender isa limited liability company organized and existing under the laws of delaware. lender's address is 26642 towne centre drive, foothill ranch, ca 92610. lender is the beneficiary under this security instrument. (d) \"trustee\" is fidelity national title company of oregon. (e) \"mers\" js the mortgage electronic registration systems, inc. lender has appointed mers as the nominee for lender for this loan, and attached a mers rider to this security instrument, to be executed by borrower, which further describes the relationship between lender and mers, and which is incorporated into and amends and supplements this security instrument.\n",
            "definitions words used in multiple sections of this document are defined below and other words are defined in sections 3, 11, 13, 18, 20 and 21. certain rules regarding the usage of words used in this document are also provided in section 16. (a) \"security instrument\" means this document, which is dated june 22, 2018, together with all riders to this document, (b) \"borrower\" is roger williams and heather williams, as tenants by the entirety. borrower is the trustor under this security instrument. (c) \"lender\" is loandepot.com, llc. lender isa limited liability company organized and existing under the laws of delaware. lender's address is 26642 towne centre drive, foothill ranch, ca 92610. lender is the beneficiary under this security instrument. (d) \"trustee\" is fidelity national title company of oregon. (e) \"mers\" js the mortgage electronic registration systems, inc. lender has appointed mers as the nominee for lender for this loan, and attached a mers rider to this security instrument, to be executed by borrower, which further describes the relationship between lender and mers, and which is incorporated into and amends and supplements this security instrument.\n",
            "{'definitions': 0, 'words': 37, 'used': 38, 'in': 45, 'multiple': 4, 'sections': 18, 'of': 164, 'this': 230, 'document': 74, 'are': 42, 'defined': 16, 'below': 11, 'and': 228, 'other': 13, '3': 19, ',': 220, '11': 21, '13': 23, '18': 25, '20': 27, '21': 29, '.': 233, 'certain': 31, 'rules': 32, 'regarding': 33, 'the': 214, 'usage': 35, 'also': 43, 'provided': 44, 'section': 46, '16': 47, '(': 167, 'a': 197, ')': 169, '\"': 172, 'security': 231, 'instrument': 232, 'means': 56, 'which': 222, 'is': 223, 'dated': 62, 'june': 63, '22': 64, '2018': 66, 'together': 68, 'with': 69, 'all': 70, 'riders': 71, 'to': 205, 'b': 77, 'borrower': 209, 'roger': 83, 'williams': 87, 'heather': 86, 'as': 186, 'tenants': 90, 'by': 208, 'entirety': 93, 'trustor': 98, 'under': 148, 'c': 105, 'lender': 217, 'loandepot.com': 111, 'llc': 113, 'isa': 116, 'limited': 117, 'liability': 118, 'company': 163, 'organized': 120, 'existing': 122, 'laws': 125, 'delaware': 127, \"'s\": 130, 'address': 131, '26642': 133, 'towne': 134, 'centre': 135, 'drive': 136, 'foothill': 138, 'ranch': 139, 'ca': 141, '92610': 142, 'beneficiary': 147, 'd': 154, 'trustee': 157, 'fidelity': 160, 'national': 161, 'title': 162, 'oregon': 165, 'e': 168, 'mers': 219, 'js': 173, 'mortgage': 175, 'electronic': 176, 'registration': 177, 'systems': 178, 'inc': 180, 'has': 183, 'appointed': 184, 'nominee': 188, 'for': 191, 'loan': 193, 'attached': 196, 'rider': 199, 'be': 206, 'executed': 207, 'further': 212, 'describes': 213, 'relationship': 215, 'between': 216, 'incorporated': 224, 'into': 225, 'amends': 227, 'supplements': 229}\n",
            "[26642 towne centre drive, foothill ranch, ca 92610, \"borrower\", \"lender\", \"trustee\", roger williams and heather williams, loandepot.com, llc., fidelity national title company, None]\n",
            "172\n",
            "83\n",
            "172\n",
            "111\n",
            "117\n",
            "111\n",
            "133\n",
            "111\n",
            "172\n",
            "160\n",
            "{(160, 160): {'PARTY NAME': 0.0, 'IDCODE': 0.0, 'ROLE': 0.0, 'ADDRESS': 0.0}, (160, 133): {'PARTY NAME': 0.0, 'IDCODE': 0.0, 'ROLE': 0.0, 'ADDRESS': 0.0}, (160, 172): {'PARTY NAME': 0.0, 'IDCODE': 0.0, 'ROLE': 0.0, 'ADDRESS': 0.0}, (160, 111): {'PARTY NAME': 0.0, 'IDCODE': 0.0, 'ROLE': 0.0, 'ADDRESS': 0.0}, (160, 83): {'PARTY NAME': 0.0, 'IDCODE': 0.0, 'ROLE': 0.0, 'ADDRESS': 0.0}, (160, 117): {'PARTY NAME': 0.0, 'IDCODE': 0.0, 'ROLE': 0.0, 'ADDRESS': 0.0}, (133, 160): {'PARTY NAME': 0.0, 'IDCODE': 0.0, 'ROLE': 0.0, 'ADDRESS': 0.0}, (133, 133): {'PARTY NAME': 0.0, 'IDCODE': 0.0, 'ROLE': 0.0, 'ADDRESS': 0.0}, (133, 172): {'PARTY NAME': 0.0, 'IDCODE': 0.0, 'ROLE': 0.0, 'ADDRESS': 0.0}, (133, 111): {'PARTY ADDRESS': 1.0, 'PARTY NAME': 0.0, 'IDCODE': 0.0, 'ROLE': 0.0, 'ADDRESS': 0.0}, (133, 83): {'PARTY NAME': 0.0, 'IDCODE': 0.0, 'ROLE': 0.0, 'ADDRESS': 0.0}, (133, 117): {'PARTY NAME': 0.0, 'IDCODE': 0.0, 'ROLE': 0.0, 'ADDRESS': 0.0}, (172, 160): {'PARTY ROLE': 1.0, 'PARTY NAME': 0.0, 'IDCODE': 0.0, 'ROLE': 0.0, 'ADDRESS': 0.0}, (172, 133): {'PARTY NAME': 0.0, 'IDCODE': 0.0, 'ROLE': 0.0, 'ADDRESS': 0.0}, (172, 172): {'PARTY NAME': 0.0, 'IDCODE': 0.0, 'ROLE': 0.0, 'ADDRESS': 0.0}, (172, 111): {'PARTY ROLE': 1.0, 'PARTY NAME': 0.0, 'IDCODE': 0.0, 'ROLE': 0.0, 'ADDRESS': 0.0}, (172, 83): {'PARTY ROLE': 1.0, 'PARTY NAME': 0.0, 'IDCODE': 0.0, 'ROLE': 0.0, 'ADDRESS': 0.0}, (172, 117): {'PARTY NAME': 0.0, 'IDCODE': 0.0, 'ROLE': 0.0, 'ADDRESS': 0.0}, (111, 160): {'PARTY NAME': 0.0, 'IDCODE': 0.0, 'ROLE': 0.0, 'ADDRESS': 0.0}, (111, 133): {'PARTY NAME': 0.0, 'IDCODE': 0.0, 'ROLE': 0.0, 'ADDRESS': 0.0}, (111, 172): {'PARTY NAME': 0.0, 'IDCODE': 0.0, 'ROLE': 0.0, 'ADDRESS': 0.0}, (111, 111): {'PARTY NAME': 0.0, 'IDCODE': 0.0, 'ROLE': 0.0, 'ADDRESS': 0.0}, (111, 83): {'PARTY NAME': 0.0, 'IDCODE': 0.0, 'ROLE': 0.0, 'ADDRESS': 0.0}, (111, 117): {'PARTY NAME': 0.0, 'IDCODE': 0.0, 'ROLE': 0.0, 'ADDRESS': 0.0}, (83, 160): {'PARTY NAME': 0.0, 'IDCODE': 0.0, 'ROLE': 0.0, 'ADDRESS': 0.0}, (83, 133): {'PARTY NAME': 0.0, 'IDCODE': 0.0, 'ROLE': 0.0, 'ADDRESS': 0.0}, (83, 172): {'PARTY NAME': 0.0, 'IDCODE': 0.0, 'ROLE': 0.0, 'ADDRESS': 0.0}, (83, 111): {'PARTY NAME': 0.0, 'IDCODE': 0.0, 'ROLE': 0.0, 'ADDRESS': 0.0}, (83, 83): {'PARTY NAME': 0.0, 'IDCODE': 0.0, 'ROLE': 0.0, 'ADDRESS': 0.0}, (83, 117): {'PARTY NAME': 0.0, 'IDCODE': 0.0, 'ROLE': 0.0, 'ADDRESS': 0.0}, (117, 160): {'PARTY NAME': 0.0, 'IDCODE': 0.0, 'ROLE': 0.0, 'ADDRESS': 0.0}, (117, 133): {'PARTY NAME': 0.0, 'IDCODE': 0.0, 'ROLE': 0.0, 'ADDRESS': 0.0}, (117, 172): {'PARTY NAME': 0.0, 'IDCODE': 0.0, 'ROLE': 0.0, 'ADDRESS': 0.0}, (117, 111): {'PARTY IDCODE': 1.0, 'PARTY NAME': 0.0, 'IDCODE': 0.0, 'ROLE': 0.0, 'ADDRESS': 0.0}, (117, 83): {'PARTY NAME': 0.0, 'IDCODE': 0.0, 'ROLE': 0.0, 'ADDRESS': 0.0}, (117, 117): {'PARTY NAME': 0.0, 'IDCODE': 0.0, 'ROLE': 0.0, 'ADDRESS': 0.0}}\n",
            "definitions words used in multiple sections of this document are defined below and other words are defined in sections 3, 11, 13, 18, 20 and 21. certain rules regarding the usage of words used in this document are also provided in section 16. (a) \"security instrument\" means this document, which is dated september 22, 2003 7 together with all riders to this document. (b) \"borrower\" is jose cabrera, a married man, as his sole and separate property borrower’s address is 257 linda vista avenue, pittsburg, california 94565 borrower is the trustor under this security instrument. (c) \"lender\" is scme mortgage bankers, inc., a california corporation lender is a corporation organized and existing under the laws of california\n",
            "definitions words used in multiple sections of this document are defined below and other words are defined in sections 3, 11, 13, 18, 20 and 21. certain rules regarding the usage of words used in this document are also provided in section 16. (a) \"security instrument\" means this document, which is dated september 22, 2003 7 together with all riders to this document. (b) \"borrower\" is jose cabrera, a married man, as his sole and separate property borrower’s address is 257 linda vista avenue, pittsburg, california 94565 borrower is the trustor under this security instrument. (c) \"lender\" is scme mortgage bankers, inc., a california corporation lender is a corporation organized and existing under the laws of california\n",
            "{'definitions': 0, 'words': 37, 'used': 38, 'in': 45, 'multiple': 4, 'sections': 18, 'of': 145, 'this': 114, 'document': 74, 'are': 42, 'defined': 16, 'below': 11, 'and': 140, 'other': 13, '3': 19, ',': 131, '11': 21, '13': 23, '18': 25, '20': 27, '21': 29, '.': 130, 'certain': 31, 'rules': 32, 'regarding': 33, 'the': 143, 'usage': 35, 'also': 43, 'provided': 44, 'section': 46, '16': 47, '(': 118, 'a': 137, ')': 120, '\"': 123, 'security': 115, 'instrument': 116, 'means': 56, 'which': 60, 'is': 136, 'dated': 62, 'september': 63, '22': 64, '2003': 66, '7': 67, 'together': 68, 'with': 69, 'all': 70, 'riders': 71, 'to': 72, 'b': 77, 'borrower': 109, 'jose': 83, 'cabrera': 84, 'married': 87, 'man': 88, 'as': 90, 'his': 91, 'sole': 92, 'separate': 94, 'property': 95, '’s': 97, 'address': 98, '257': 100, 'linda': 101, 'vista': 102, 'avenue': 103, 'pittsburg': 105, 'california': 146, '94565': 108, 'trustor': 112, 'under': 142, 'c': 119, 'lender': 135, 'scme': 125, 'mortgage': 126, 'bankers': 127, 'inc': 129, 'corporation': 138, 'organized': 139, 'existing': 141, 'laws': 144}\n",
            "[257 linda vista avenue, pittsburg, california 94565, \"borrower\", \"lender\", jose cabrera, scme mortgage bankers, inc, married man, corporation]\n",
            "123\n",
            "83\n",
            "87\n",
            "83\n",
            "100\n",
            "83\n",
            "123\n",
            "125\n",
            "138\n",
            "125\n",
            "{(100, 100): {'PARTY NAME': 0.0, 'IDCODE': 0.0, 'ROLE': 0.0, 'ADDRESS': 0.0}, (100, 138): {'PARTY NAME': 0.0, 'IDCODE': 0.0, 'ROLE': 0.0, 'ADDRESS': 0.0}, (100, 83): {'PARTY ADDRESS': 1.0, 'PARTY NAME': 0.0, 'IDCODE': 0.0, 'ROLE': 0.0, 'ADDRESS': 0.0}, (100, 87): {'PARTY NAME': 0.0, 'IDCODE': 0.0, 'ROLE': 0.0, 'ADDRESS': 0.0}, (100, 123): {'PARTY NAME': 0.0, 'IDCODE': 0.0, 'ROLE': 0.0, 'ADDRESS': 0.0}, (100, 125): {'PARTY NAME': 0.0, 'IDCODE': 0.0, 'ROLE': 0.0, 'ADDRESS': 0.0}, (138, 100): {'PARTY NAME': 0.0, 'IDCODE': 0.0, 'ROLE': 0.0, 'ADDRESS': 0.0}, (138, 138): {'PARTY NAME': 0.0, 'IDCODE': 0.0, 'ROLE': 0.0, 'ADDRESS': 0.0}, (138, 83): {'PARTY NAME': 0.0, 'IDCODE': 0.0, 'ROLE': 0.0, 'ADDRESS': 0.0}, (138, 87): {'PARTY NAME': 0.0, 'IDCODE': 0.0, 'ROLE': 0.0, 'ADDRESS': 0.0}, (138, 123): {'PARTY NAME': 0.0, 'IDCODE': 0.0, 'ROLE': 0.0, 'ADDRESS': 0.0}, (138, 125): {'PARTY IDCODE': 1.0, 'PARTY NAME': 0.0, 'IDCODE': 0.0, 'ROLE': 0.0, 'ADDRESS': 0.0}, (83, 100): {'PARTY NAME': 0.0, 'IDCODE': 0.0, 'ROLE': 0.0, 'ADDRESS': 0.0}, (83, 138): {'PARTY NAME': 0.0, 'IDCODE': 0.0, 'ROLE': 0.0, 'ADDRESS': 0.0}, (83, 83): {'PARTY NAME': 0.0, 'IDCODE': 0.0, 'ROLE': 0.0, 'ADDRESS': 0.0}, (83, 87): {'PARTY NAME': 0.0, 'IDCODE': 0.0, 'ROLE': 0.0, 'ADDRESS': 0.0}, (83, 123): {'PARTY NAME': 0.0, 'IDCODE': 0.0, 'ROLE': 0.0, 'ADDRESS': 0.0}, (83, 125): {'PARTY NAME': 0.0, 'IDCODE': 0.0, 'ROLE': 0.0, 'ADDRESS': 0.0}, (87, 100): {'PARTY NAME': 0.0, 'IDCODE': 0.0, 'ROLE': 0.0, 'ADDRESS': 0.0}, (87, 138): {'PARTY NAME': 0.0, 'IDCODE': 0.0, 'ROLE': 0.0, 'ADDRESS': 0.0}, (87, 83): {'PARTY IDCODE': 1.0, 'PARTY NAME': 0.0, 'IDCODE': 0.0, 'ROLE': 0.0, 'ADDRESS': 0.0}, (87, 87): {'PARTY NAME': 0.0, 'IDCODE': 0.0, 'ROLE': 0.0, 'ADDRESS': 0.0}, (87, 123): {'PARTY NAME': 0.0, 'IDCODE': 0.0, 'ROLE': 0.0, 'ADDRESS': 0.0}, (87, 125): {'PARTY NAME': 0.0, 'IDCODE': 0.0, 'ROLE': 0.0, 'ADDRESS': 0.0}, (123, 100): {'PARTY NAME': 0.0, 'IDCODE': 0.0, 'ROLE': 0.0, 'ADDRESS': 0.0}, (123, 138): {'PARTY NAME': 0.0, 'IDCODE': 0.0, 'ROLE': 0.0, 'ADDRESS': 0.0}, (123, 83): {'PARTY ROLE': 1.0, 'PARTY NAME': 0.0, 'IDCODE': 0.0, 'ROLE': 0.0, 'ADDRESS': 0.0}, (123, 87): {'PARTY NAME': 0.0, 'IDCODE': 0.0, 'ROLE': 0.0, 'ADDRESS': 0.0}, (123, 123): {'PARTY NAME': 0.0, 'IDCODE': 0.0, 'ROLE': 0.0, 'ADDRESS': 0.0}, (123, 125): {'PARTY ROLE': 1.0, 'PARTY NAME': 0.0, 'IDCODE': 0.0, 'ROLE': 0.0, 'ADDRESS': 0.0}, (125, 100): {'PARTY NAME': 0.0, 'IDCODE': 0.0, 'ROLE': 0.0, 'ADDRESS': 0.0}, (125, 138): {'PARTY NAME': 0.0, 'IDCODE': 0.0, 'ROLE': 0.0, 'ADDRESS': 0.0}, (125, 83): {'PARTY NAME': 0.0, 'IDCODE': 0.0, 'ROLE': 0.0, 'ADDRESS': 0.0}, (125, 87): {'PARTY NAME': 0.0, 'IDCODE': 0.0, 'ROLE': 0.0, 'ADDRESS': 0.0}, (125, 123): {'PARTY NAME': 0.0, 'IDCODE': 0.0, 'ROLE': 0.0, 'ADDRESS': 0.0}, (125, 125): {'PARTY NAME': 0.0, 'IDCODE': 0.0, 'ROLE': 0.0, 'ADDRESS': 0.0}}\n",
            "loan #: 96675 definitions words used in multiple sections of this document are defined below and other words are defined in sections 3, 11, 13, 18, 20 and 21. certain rules regarding the usage of words used in this document are also provided in section 16. (a) “security instrument” means this document, which is dated november 12, 2019, together with all riders to this document. (b) “borrower” is lizbeth browning and geoffrey browning, wife and husband, as joint tenants. borrower's address is 1104 w walter ave 78, fowler, ca 93625, borrower is the trustor under this security instrument. (c) “lender” is educational employees credit union. lender is a state chartered credit union organized and existing under the laws of the state of california. lender's address is 2222 w. shaw avenue, fresno, ca 93711. lender is the beneficiary under this security instrument. (d) “trustee” is first american title insurance company, 4 first american way, santa ana, ca 92707. i\n",
            "loan #: 96675 definitions words used in multiple sections of this document are defined below and other words are defined in sections 3, 11, 13, 18, 20 and 21. certain rules regarding the usage of words used in this document are also provided in section 16. (a) “security instrument” means this document, which is dated november 12, 2019, together with all riders to this document. (b) “borrower” is lizbeth browning and geoffrey browning, wife and husband, as joint tenants. borrower's address is 1104 w walter ave 78, fowler, ca 93625, borrower is the trustor under this security instrument. (c) “lender” is educational employees credit union. lender is a state chartered credit union organized and existing under the laws of the state of california. lender's address is 2222 w. shaw avenue, fresno, ca 93711. lender is the beneficiary under this security instrument. (d) “trustee” is first american title insurance company, 4 first american way, santa ana, ca 92707. i\n",
            "{'loan': 0, '#': 1, ':': 2, '96675': 3, 'definitions': 4, 'words': 41, 'used': 42, 'in': 49, 'multiple': 8, 'sections': 22, 'of': 153, 'this': 175, 'document': 78, 'are': 46, 'defined': 20, 'below': 15, 'and': 145, 'other': 17, '3': 23, ',': 199, '11': 25, '13': 27, '18': 29, '20': 31, '21': 33, '.': 202, 'certain': 35, 'rules': 36, 'regarding': 37, 'the': 172, 'usage': 39, 'also': 47, 'provided': 48, 'section': 50, '16': 51, '(': 179, 'a': 139, ')': 181, '“': 182, 'security': 176, 'instrument': 177, '”': 184, 'means': 60, 'which': 64, 'is': 185, 'dated': 66, 'november': 67, '12': 68, '2019': 70, 'together': 72, 'with': 73, 'all': 74, 'riders': 75, 'to': 76, 'b': 81, 'borrower': 116, 'lizbeth': 87, 'browning': 91, 'geoffrey': 90, 'wife': 93, 'husband': 95, 'as': 97, 'joint': 98, 'tenants': 99, \"'s\": 157, 'address': 158, '1104': 105, 'w': 106, 'walter': 107, 'ave': 108, '78': 109, 'fowler': 111, 'ca': 200, '93625': 114, 'trustor': 119, 'under': 174, 'c': 126, 'lender': 170, 'educational': 132, 'employees': 133, 'credit': 142, 'union': 143, 'state': 152, 'chartered': 141, 'organized': 144, 'existing': 146, 'laws': 149, 'california': 154, '2222': 160, 'w.': 161, 'shaw': 162, 'avenue': 163, 'fresno': 165, '93711': 168, 'beneficiary': 173, 'd': 180, 'trustee': 183, 'first': 193, 'american': 194, 'title': 188, 'insurance': 189, 'company': 190, '4': 192, 'way': 195, 'santa': 197, 'ana': 198, '92707': 201, 'i': 203}\n",
            "[1104 w walter ave 78, fowler, ca 93625, 2222 w. shaw avenue, fresno, ca 93711, 4 first american way, santa ana, ca 92707, “borrower”, “lender”, “trustee”, lizbeth browning and geoffrey browning,, educational employees credit union, wife and husband, first american title insurance company]\n",
            "182\n",
            "87\n",
            "93\n",
            "87\n",
            "105\n",
            "87\n",
            "182\n",
            "132\n",
            "160\n",
            "132\n",
            "182\n",
            "193\n",
            "192\n",
            "193\n",
            "{(160, 160): {'PARTY NAME': 0.0, 'IDCODE': 0.0, 'ROLE': 0.0, 'ADDRESS': 0.0}, (160, 192): {'PARTY NAME': 0.0, 'IDCODE': 0.0, 'ROLE': 0.0, 'ADDRESS': 0.0}, (160, 193): {'PARTY NAME': 0.0, 'IDCODE': 0.0, 'ROLE': 0.0, 'ADDRESS': 0.0}, (160, 132): {'PARTY ADDRESS': 1.0, 'PARTY NAME': 0.0, 'IDCODE': 0.0, 'ROLE': 0.0, 'ADDRESS': 0.0}, (160, 105): {'PARTY NAME': 0.0, 'IDCODE': 0.0, 'ROLE': 0.0, 'ADDRESS': 0.0}, (160, 182): {'PARTY NAME': 0.0, 'IDCODE': 0.0, 'ROLE': 0.0, 'ADDRESS': 0.0}, (160, 87): {'PARTY NAME': 0.0, 'IDCODE': 0.0, 'ROLE': 0.0, 'ADDRESS': 0.0}, (160, 93): {'PARTY NAME': 0.0, 'IDCODE': 0.0, 'ROLE': 0.0, 'ADDRESS': 0.0}, (192, 160): {'PARTY NAME': 0.0, 'IDCODE': 0.0, 'ROLE': 0.0, 'ADDRESS': 0.0}, (192, 192): {'PARTY NAME': 0.0, 'IDCODE': 0.0, 'ROLE': 0.0, 'ADDRESS': 0.0}, (192, 193): {'PARTY ADDRESS': 1.0, 'PARTY NAME': 0.0, 'IDCODE': 0.0, 'ROLE': 0.0, 'ADDRESS': 0.0}, (192, 132): {'PARTY NAME': 0.0, 'IDCODE': 0.0, 'ROLE': 0.0, 'ADDRESS': 0.0}, (192, 105): {'PARTY NAME': 0.0, 'IDCODE': 0.0, 'ROLE': 0.0, 'ADDRESS': 0.0}, (192, 182): {'PARTY NAME': 0.0, 'IDCODE': 0.0, 'ROLE': 0.0, 'ADDRESS': 0.0}, (192, 87): {'PARTY NAME': 0.0, 'IDCODE': 0.0, 'ROLE': 0.0, 'ADDRESS': 0.0}, (192, 93): {'PARTY NAME': 0.0, 'IDCODE': 0.0, 'ROLE': 0.0, 'ADDRESS': 0.0}, (193, 160): {'PARTY NAME': 0.0, 'IDCODE': 0.0, 'ROLE': 0.0, 'ADDRESS': 0.0}, (193, 192): {'PARTY NAME': 0.0, 'IDCODE': 0.0, 'ROLE': 0.0, 'ADDRESS': 0.0}, (193, 193): {'PARTY NAME': 0.0, 'IDCODE': 0.0, 'ROLE': 0.0, 'ADDRESS': 0.0}, (193, 132): {'PARTY NAME': 0.0, 'IDCODE': 0.0, 'ROLE': 0.0, 'ADDRESS': 0.0}, (193, 105): {'PARTY NAME': 0.0, 'IDCODE': 0.0, 'ROLE': 0.0, 'ADDRESS': 0.0}, (193, 182): {'PARTY NAME': 0.0, 'IDCODE': 0.0, 'ROLE': 0.0, 'ADDRESS': 0.0}, (193, 87): {'PARTY NAME': 0.0, 'IDCODE': 0.0, 'ROLE': 0.0, 'ADDRESS': 0.0}, (193, 93): {'PARTY NAME': 0.0, 'IDCODE': 0.0, 'ROLE': 0.0, 'ADDRESS': 0.0}, (132, 160): {'PARTY NAME': 0.0, 'IDCODE': 0.0, 'ROLE': 0.0, 'ADDRESS': 0.0}, (132, 192): {'PARTY NAME': 0.0, 'IDCODE': 0.0, 'ROLE': 0.0, 'ADDRESS': 0.0}, (132, 193): {'PARTY NAME': 0.0, 'IDCODE': 0.0, 'ROLE': 0.0, 'ADDRESS': 0.0}, (132, 132): {'PARTY NAME': 0.0, 'IDCODE': 0.0, 'ROLE': 0.0, 'ADDRESS': 0.0}, (132, 105): {'PARTY NAME': 0.0, 'IDCODE': 0.0, 'ROLE': 0.0, 'ADDRESS': 0.0}, (132, 182): {'PARTY NAME': 0.0, 'IDCODE': 0.0, 'ROLE': 0.0, 'ADDRESS': 0.0}, (132, 87): {'PARTY NAME': 0.0, 'IDCODE': 0.0, 'ROLE': 0.0, 'ADDRESS': 0.0}, (132, 93): {'PARTY NAME': 0.0, 'IDCODE': 0.0, 'ROLE': 0.0, 'ADDRESS': 0.0}, (105, 160): {'PARTY NAME': 0.0, 'IDCODE': 0.0, 'ROLE': 0.0, 'ADDRESS': 0.0}, (105, 192): {'PARTY NAME': 0.0, 'IDCODE': 0.0, 'ROLE': 0.0, 'ADDRESS': 0.0}, (105, 193): {'PARTY NAME': 0.0, 'IDCODE': 0.0, 'ROLE': 0.0, 'ADDRESS': 0.0}, (105, 132): {'PARTY NAME': 0.0, 'IDCODE': 0.0, 'ROLE': 0.0, 'ADDRESS': 0.0}, (105, 105): {'PARTY NAME': 0.0, 'IDCODE': 0.0, 'ROLE': 0.0, 'ADDRESS': 0.0}, (105, 182): {'PARTY NAME': 0.0, 'IDCODE': 0.0, 'ROLE': 0.0, 'ADDRESS': 0.0}, (105, 87): {'PARTY ADDRESS': 1.0, 'PARTY NAME': 0.0, 'IDCODE': 0.0, 'ROLE': 0.0, 'ADDRESS': 0.0}, (105, 93): {'PARTY NAME': 0.0, 'IDCODE': 0.0, 'ROLE': 0.0, 'ADDRESS': 0.0}, (182, 160): {'PARTY NAME': 0.0, 'IDCODE': 0.0, 'ROLE': 0.0, 'ADDRESS': 0.0}, (182, 192): {'PARTY NAME': 0.0, 'IDCODE': 0.0, 'ROLE': 0.0, 'ADDRESS': 0.0}, (182, 193): {'PARTY ROLE': 1.0, 'PARTY NAME': 0.0, 'IDCODE': 0.0, 'ROLE': 0.0, 'ADDRESS': 0.0}, (182, 132): {'PARTY ROLE': 1.0, 'PARTY NAME': 0.0, 'IDCODE': 0.0, 'ROLE': 0.0, 'ADDRESS': 0.0}, (182, 105): {'PARTY NAME': 0.0, 'IDCODE': 0.0, 'ROLE': 0.0, 'ADDRESS': 0.0}, (182, 182): {'PARTY NAME': 0.0, 'IDCODE': 0.0, 'ROLE': 0.0, 'ADDRESS': 0.0}, (182, 87): {'PARTY ROLE': 1.0, 'PARTY NAME': 0.0, 'IDCODE': 0.0, 'ROLE': 0.0, 'ADDRESS': 0.0}, (182, 93): {'PARTY NAME': 0.0, 'IDCODE': 0.0, 'ROLE': 0.0, 'ADDRESS': 0.0}, (87, 160): {'PARTY NAME': 0.0, 'IDCODE': 0.0, 'ROLE': 0.0, 'ADDRESS': 0.0}, (87, 192): {'PARTY NAME': 0.0, 'IDCODE': 0.0, 'ROLE': 0.0, 'ADDRESS': 0.0}, (87, 193): {'PARTY NAME': 0.0, 'IDCODE': 0.0, 'ROLE': 0.0, 'ADDRESS': 0.0}, (87, 132): {'PARTY NAME': 0.0, 'IDCODE': 0.0, 'ROLE': 0.0, 'ADDRESS': 0.0}, (87, 105): {'PARTY NAME': 0.0, 'IDCODE': 0.0, 'ROLE': 0.0, 'ADDRESS': 0.0}, (87, 182): {'PARTY NAME': 0.0, 'IDCODE': 0.0, 'ROLE': 0.0, 'ADDRESS': 0.0}, (87, 87): {'PARTY NAME': 0.0, 'IDCODE': 0.0, 'ROLE': 0.0, 'ADDRESS': 0.0}, (87, 93): {'PARTY NAME': 0.0, 'IDCODE': 0.0, 'ROLE': 0.0, 'ADDRESS': 0.0}, (93, 160): {'PARTY NAME': 0.0, 'IDCODE': 0.0, 'ROLE': 0.0, 'ADDRESS': 0.0}, (93, 192): {'PARTY NAME': 0.0, 'IDCODE': 0.0, 'ROLE': 0.0, 'ADDRESS': 0.0}, (93, 193): {'PARTY NAME': 0.0, 'IDCODE': 0.0, 'ROLE': 0.0, 'ADDRESS': 0.0}, (93, 132): {'PARTY NAME': 0.0, 'IDCODE': 0.0, 'ROLE': 0.0, 'ADDRESS': 0.0}, (93, 105): {'PARTY NAME': 0.0, 'IDCODE': 0.0, 'ROLE': 0.0, 'ADDRESS': 0.0}, (93, 182): {'PARTY NAME': 0.0, 'IDCODE': 0.0, 'ROLE': 0.0, 'ADDRESS': 0.0}, (93, 87): {'PARTY IDCODE': 1.0, 'PARTY NAME': 0.0, 'IDCODE': 0.0, 'ROLE': 0.0, 'ADDRESS': 0.0}, (93, 93): {'PARTY NAME': 0.0, 'IDCODE': 0.0, 'ROLE': 0.0, 'ADDRESS': 0.0}}\n",
            "definitions: ‘words nscd in multiple sections of this document are defined below and other words aze defined in sections 3, 20, 12, 17, 19, and 20. cortain rules regarding the usage of words used in this document are also provided in section 15, (a) \"security instrament’* menus this document, which is dated december 11, 2006 , togother with all riders to this document. (8) “borrower” is essodina atchade and khin yi husband and wife borrower is the trustor ander this security instrument. (©) “lender” is first franklin’ a division of national city bank ‘ lender is a national association organized and existing under the laws of united states of america « lender's address is 2150 north first street, san jose, califomia 95131 (d) “trustee” is first american title company (be) “mers” is morigage electronic registration systems, inc. mers is a separate corpormion that is acting solely as a nominee for lender and lender's successors and assigns, mers fs the beneficlary under this security instrument, mers is organized and saisting under the laws of delaware, and has an address and telephone wumber of p.o. box 2026, flint, mi 48501-2026, icl. (888) 679-mers.\n",
            "definitions: ‘words nscd in multiple sections of this document are defined below and other words aze defined in sections 3, 20, 12, 17, 19, and 20. cortain rules regarding the usage of words used in this document are also provided in section 15, (a) \"security instrament’* menus this document, which is dated december 11, 2006 , togother with all riders to this document. (8) “borrower” is essodina atchade and khin yi husband and wife borrower is the trustor ander this security instrument. (©) “lender” is first franklin’ a division of national city bank ‘ lender is a national association organized and existing under the laws of united states of america « lender's address is 2150 north first street, san jose, califomia 95131 (d) “trustee” is first american title company (be) “mers” is morigage electronic registration systems, inc. mers is a separate corpormion that is acting solely as a nominee for lender and lender's successors and assigns, mers fs the beneficlary under this security instrument, mers is organized and saisting under the laws of delaware, and has an address and telephone wumber of p.o. box 2026, flint, mi 48501-2026, icl. (888) 679-mers.\n",
            "{'definitions': 0, ':': 1, '‘': 119, 'words': 40, 'nscd': 4, 'in': 48, 'multiple': 6, 'sections': 20, 'of': 224, 'this': 202, 'document': 78, 'are': 45, 'defined': 18, 'below': 13, 'and': 221, 'other': 15, 'aze': 17, '3': 21, ',': 236, '20': 32, '12': 25, '17': 27, '19': 29, '.': 245, 'cortain': 34, 'rules': 35, 'regarding': 36, 'the': 212, 'usage': 38, 'used': 41, 'also': 46, 'provided': 47, 'section': 49, '15': 50, '(': 239, 'a': 186, ')': 241, '\"': 55, 'security': 203, 'instrament': 57, '’': 112, '*': 59, 'menus': 60, 'which': 64, 'is': 207, 'dated': 66, 'december': 67, '11': 68, '2006': 70, 'togother': 72, 'with': 73, 'all': 74, 'riders': 75, 'to': 76, '8)': 81, '“': 165, 'borrower': 94, '”': 167, 'essodina': 86, 'atchade': 87, 'khin': 89, 'yi': 90, 'husband': 91, 'wife': 93, 'trustor': 97, 'ander': 98, 'instrument': 204, '©': 104, 'lender': 191, 'first': 158, 'franklin': 111, 'division': 114, 'national': 123, 'city': 117, 'bank': 118, 'association': 124, 'organized': 208, 'existing': 127, 'under': 211, 'laws': 213, 'united': 132, 'states': 133, 'america': 135, '«': 136, \"'s\": 192, 'address': 220, '2150': 141, 'north': 142, 'street': 144, 'san': 146, 'jose': 147, 'califomia': 149, '95131': 150, 'd': 152, 'trustee': 155, 'american': 159, 'title': 160, 'company': 161, 'be': 163, 'mers': 244, 'morigage': 169, 'electronic': 170, 'registration': 171, 'systems': 172, 'inc': 174, 'separate': 179, 'corpormion': 180, 'that': 181, 'acting': 183, 'solely': 184, 'as': 185, 'nominee': 187, 'for': 188, 'successors': 193, 'assigns': 195, 'fs': 198, 'beneficlary': 200, 'saisting': 210, 'delaware': 215, 'has': 218, 'an': 219, 'telephone': 222, 'wumber': 223, 'p.o': 225, 'box': 227, '2026': 235, 'flint': 230, 'mi': 232, '48501': 233, '-': 243, 'icl': 237, '888': 240, '679': 242}\n",
            "[2150 north first street, san jose, califomia 95131, “borrower”, “lender”, “trustee”, essodina atchade and khin, first franklin’, first american title company, husband and wife]\n",
            "165\n",
            "86\n",
            "91\n",
            "86\n",
            "165\n",
            "158\n",
            "141\n",
            "158\n",
            "165\n",
            "158\n",
            "{(165, 165): {'PARTY NAME': 0.0, 'IDCODE': 0.0, 'ROLE': 0.0, 'ADDRESS': 0.0}, (165, 141): {'PARTY NAME': 0.0, 'IDCODE': 0.0, 'ROLE': 0.0, 'ADDRESS': 0.0}, (165, 86): {'PARTY ROLE': 1.0, 'PARTY NAME': 0.0, 'IDCODE': 0.0, 'ROLE': 0.0, 'ADDRESS': 0.0}, (165, 91): {'PARTY NAME': 0.0, 'IDCODE': 0.0, 'ROLE': 0.0, 'ADDRESS': 0.0}, (165, 158): {'PARTY ROLE': 1.0, 'PARTY NAME': 0.0, 'IDCODE': 0.0, 'ROLE': 0.0, 'ADDRESS': 0.0}, (141, 165): {'PARTY NAME': 0.0, 'IDCODE': 0.0, 'ROLE': 0.0, 'ADDRESS': 0.0}, (141, 141): {'PARTY NAME': 0.0, 'IDCODE': 0.0, 'ROLE': 0.0, 'ADDRESS': 0.0}, (141, 86): {'PARTY NAME': 0.0, 'IDCODE': 0.0, 'ROLE': 0.0, 'ADDRESS': 0.0}, (141, 91): {'PARTY NAME': 0.0, 'IDCODE': 0.0, 'ROLE': 0.0, 'ADDRESS': 0.0}, (141, 158): {'PARTY ADDRESS': 1.0, 'PARTY NAME': 0.0, 'IDCODE': 0.0, 'ROLE': 0.0, 'ADDRESS': 0.0}, (86, 165): {'PARTY NAME': 0.0, 'IDCODE': 0.0, 'ROLE': 0.0, 'ADDRESS': 0.0}, (86, 141): {'PARTY NAME': 0.0, 'IDCODE': 0.0, 'ROLE': 0.0, 'ADDRESS': 0.0}, (86, 86): {'PARTY NAME': 0.0, 'IDCODE': 0.0, 'ROLE': 0.0, 'ADDRESS': 0.0}, (86, 91): {'PARTY NAME': 0.0, 'IDCODE': 0.0, 'ROLE': 0.0, 'ADDRESS': 0.0}, (86, 158): {'PARTY NAME': 0.0, 'IDCODE': 0.0, 'ROLE': 0.0, 'ADDRESS': 0.0}, (91, 165): {'PARTY NAME': 0.0, 'IDCODE': 0.0, 'ROLE': 0.0, 'ADDRESS': 0.0}, (91, 141): {'PARTY NAME': 0.0, 'IDCODE': 0.0, 'ROLE': 0.0, 'ADDRESS': 0.0}, (91, 86): {'PARTY IDCODE': 1.0, 'PARTY NAME': 0.0, 'IDCODE': 0.0, 'ROLE': 0.0, 'ADDRESS': 0.0}, (91, 91): {'PARTY NAME': 0.0, 'IDCODE': 0.0, 'ROLE': 0.0, 'ADDRESS': 0.0}, (91, 158): {'PARTY NAME': 0.0, 'IDCODE': 0.0, 'ROLE': 0.0, 'ADDRESS': 0.0}, (158, 165): {'PARTY NAME': 0.0, 'IDCODE': 0.0, 'ROLE': 0.0, 'ADDRESS': 0.0}, (158, 141): {'PARTY NAME': 0.0, 'IDCODE': 0.0, 'ROLE': 0.0, 'ADDRESS': 0.0}, (158, 86): {'PARTY NAME': 0.0, 'IDCODE': 0.0, 'ROLE': 0.0, 'ADDRESS': 0.0}, (158, 91): {'PARTY NAME': 0.0, 'IDCODE': 0.0, 'ROLE': 0.0, 'ADDRESS': 0.0}, (158, 158): {'PARTY NAME': 0.0, 'IDCODE': 0.0, 'ROLE': 0.0, 'ADDRESS': 0.0}}\n",
            "definitions ‘words used in multiple sections of this document are defined below and other words are defined in sections 4, 11, 13, 18, 20 and 21, certain rules regarding the usage of words used in this document are also provided in section 16. (a) \"security instroment\" means this document, which is dated december 1, 2011, together with all riders to this document. (b) \"borrower\" is michael p. mccarty and renee c. mccarty, husband and wife. borrower is the trustor under this security instrument. (c) \"lender\" is imortgage.com, inc..lender is a corporation organized and existing under the jaws of arizona, lender's address is 4800 n. scottsdale road, suite 3800, scottsdale, az 85251. (d) \"trustee\" is ticor title company of oregon. {e) \"mers\" is mortgage electronic registration systems, inc. mers is a separate corporation that is acting solely as a nomines for lender and lender's successors and assigns. mers is the beneficiary under\n",
            "definitions ‘words used in multiple sections of this document are defined below and other words are defined in sections 4, 11, 13, 18, 20 and 21, certain rules regarding the usage of words used in this document are also provided in section 16. (a) \"security instroment\" means this document, which is dated december 1, 2011, together with all riders to this document. (b) \"borrower\" is michael p. mccarty and renee c. mccarty, husband and wife. borrower is the trustor under this security instrument. (c) \"lender\" is imortgage.com, inc..lender is a corporation organized and existing under the jaws of arizona, lender's address is 4800 n. scottsdale road, suite 3800, scottsdale, az 85251. (d) \"trustee\" is ticor title company of oregon. {e) \"mers\" is mortgage electronic registration systems, inc. mers is a separate corporation that is acting solely as a nomines for lender and lender's successors and assigns. mers is the beneficiary under\n",
            "{'definitions': 0, '‘': 1, 'words': 38, 'used': 39, 'in': 46, 'multiple': 5, 'sections': 19, 'of': 156, 'this': 101, 'document': 75, 'are': 43, 'defined': 17, 'below': 12, 'and': 191, 'other': 14, '4': 20, ',': 170, '11': 22, '13': 24, '18': 26, '20': 28, '21': 30, 'certain': 32, 'rules': 33, 'regarding': 34, 'the': 196, 'usage': 36, 'also': 44, 'provided': 45, 'section': 47, '16': 48, '.': 193, '(': 146, 'a': 183, ')': 161, '\"': 164, 'security': 102, 'instroment': 55, 'means': 57, 'which': 61, 'is': 195, 'dated': 63, 'december': 64, '1': 65, '2011': 67, 'together': 69, 'with': 70, 'all': 71, 'riders': 72, 'to': 73, 'b': 78, 'borrower': 96, 'michael': 84, 'p.': 85, 'mccarty': 90, 'renee': 88, 'c.': 89, 'husband': 92, 'wife': 94, 'trustor': 99, 'under': 198, 'instrument': 103, 'c': 106, 'lender': 188, 'imortgage.com': 112, 'inc': 171, '..': 115, 'corporation': 177, 'organized': 120, 'existing': 122, 'jaws': 125, 'arizona': 127, \"'s\": 189, 'address': 131, '4800': 133, 'n.': 134, 'scottsdale': 141, 'road': 136, 'suite': 138, '3800': 139, 'az': 143, '85251': 144, 'd': 147, 'trustee': 150, 'ticor': 153, 'title': 154, 'company': 155, 'oregon': 157, '{': 159, 'e': 160, 'mers': 194, 'mortgage': 166, 'electronic': 167, 'registration': 168, 'systems': 169, 'separate': 176, 'that': 178, 'acting': 180, 'solely': 181, 'as': 182, 'nomines': 184, 'for': 185, 'successors': 190, 'assigns': 192, 'beneficiary': 197}\n",
            "[4800 n. scottsdale road, suite 3800, scottsdale, az 85251, \"borrower\", \"trustee\", michael p. mccarty and renee c. mccarty,, \"lender\", None, ticor title company, husband and wife, corporation]\n",
            "164\n",
            "84\n",
            "92\n",
            "84\n",
            "164\n",
            "112\n",
            "133\n",
            "112\n",
            "164\n",
            "153\n",
            "{(164, 164): {'PARTY NAME': 0.0, 'IDCODE': 0.0, 'ROLE': 0.0, 'ADDRESS': 0.0}, (164, 133): {'PARTY NAME': 0.0, 'IDCODE': 0.0, 'ROLE': 0.0, 'ADDRESS': 0.0}, (164, 112): {'PARTY ROLE': 1.0, 'PARTY NAME': 0.0, 'IDCODE': 0.0, 'ROLE': 0.0, 'ADDRESS': 0.0}, (164, 177): {'PARTY NAME': 0.0, 'IDCODE': 0.0, 'ROLE': 0.0, 'ADDRESS': 0.0}, (164, 84): {'PARTY ROLE': 1.0, 'PARTY NAME': 0.0, 'IDCODE': 0.0, 'ROLE': 0.0, 'ADDRESS': 0.0}, (164, 153): {'PARTY ROLE': 1.0, 'PARTY NAME': 0.0, 'IDCODE': 0.0, 'ROLE': 0.0, 'ADDRESS': 0.0}, (164, 92): {'PARTY NAME': 0.0, 'IDCODE': 0.0, 'ROLE': 0.0, 'ADDRESS': 0.0}, (133, 164): {'PARTY NAME': 0.0, 'IDCODE': 0.0, 'ROLE': 0.0, 'ADDRESS': 0.0}, (133, 133): {'PARTY NAME': 0.0, 'IDCODE': 0.0, 'ROLE': 0.0, 'ADDRESS': 0.0}, (133, 112): {'PARTY ADDRESS': 1.0, 'PARTY NAME': 0.0, 'IDCODE': 0.0, 'ROLE': 0.0, 'ADDRESS': 0.0}, (133, 177): {'PARTY NAME': 0.0, 'IDCODE': 0.0, 'ROLE': 0.0, 'ADDRESS': 0.0}, (133, 84): {'PARTY NAME': 0.0, 'IDCODE': 0.0, 'ROLE': 0.0, 'ADDRESS': 0.0}, (133, 153): {'PARTY NAME': 0.0, 'IDCODE': 0.0, 'ROLE': 0.0, 'ADDRESS': 0.0}, (133, 92): {'PARTY NAME': 0.0, 'IDCODE': 0.0, 'ROLE': 0.0, 'ADDRESS': 0.0}, (112, 164): {'PARTY NAME': 0.0, 'IDCODE': 0.0, 'ROLE': 0.0, 'ADDRESS': 0.0}, (112, 133): {'PARTY NAME': 0.0, 'IDCODE': 0.0, 'ROLE': 0.0, 'ADDRESS': 0.0}, (112, 112): {'PARTY NAME': 0.0, 'IDCODE': 0.0, 'ROLE': 0.0, 'ADDRESS': 0.0}, (112, 177): {'PARTY NAME': 0.0, 'IDCODE': 0.0, 'ROLE': 0.0, 'ADDRESS': 0.0}, (112, 84): {'PARTY NAME': 0.0, 'IDCODE': 0.0, 'ROLE': 0.0, 'ADDRESS': 0.0}, (112, 153): {'PARTY NAME': 0.0, 'IDCODE': 0.0, 'ROLE': 0.0, 'ADDRESS': 0.0}, (112, 92): {'PARTY NAME': 0.0, 'IDCODE': 0.0, 'ROLE': 0.0, 'ADDRESS': 0.0}, (177, 164): {'PARTY NAME': 0.0, 'IDCODE': 0.0, 'ROLE': 0.0, 'ADDRESS': 0.0}, (177, 133): {'PARTY NAME': 0.0, 'IDCODE': 0.0, 'ROLE': 0.0, 'ADDRESS': 0.0}, (177, 112): {'PARTY NAME': 0.0, 'IDCODE': 0.0, 'ROLE': 0.0, 'ADDRESS': 0.0}, (177, 177): {'PARTY NAME': 0.0, 'IDCODE': 0.0, 'ROLE': 0.0, 'ADDRESS': 0.0}, (177, 84): {'PARTY NAME': 0.0, 'IDCODE': 0.0, 'ROLE': 0.0, 'ADDRESS': 0.0}, (177, 153): {'PARTY NAME': 0.0, 'IDCODE': 0.0, 'ROLE': 0.0, 'ADDRESS': 0.0}, (177, 92): {'PARTY NAME': 0.0, 'IDCODE': 0.0, 'ROLE': 0.0, 'ADDRESS': 0.0}, (84, 164): {'PARTY NAME': 0.0, 'IDCODE': 0.0, 'ROLE': 0.0, 'ADDRESS': 0.0}, (84, 133): {'PARTY NAME': 0.0, 'IDCODE': 0.0, 'ROLE': 0.0, 'ADDRESS': 0.0}, (84, 112): {'PARTY NAME': 0.0, 'IDCODE': 0.0, 'ROLE': 0.0, 'ADDRESS': 0.0}, (84, 177): {'PARTY NAME': 0.0, 'IDCODE': 0.0, 'ROLE': 0.0, 'ADDRESS': 0.0}, (84, 84): {'PARTY NAME': 0.0, 'IDCODE': 0.0, 'ROLE': 0.0, 'ADDRESS': 0.0}, (84, 153): {'PARTY NAME': 0.0, 'IDCODE': 0.0, 'ROLE': 0.0, 'ADDRESS': 0.0}, (84, 92): {'PARTY NAME': 0.0, 'IDCODE': 0.0, 'ROLE': 0.0, 'ADDRESS': 0.0}, (153, 164): {'PARTY NAME': 0.0, 'IDCODE': 0.0, 'ROLE': 0.0, 'ADDRESS': 0.0}, (153, 133): {'PARTY NAME': 0.0, 'IDCODE': 0.0, 'ROLE': 0.0, 'ADDRESS': 0.0}, (153, 112): {'PARTY NAME': 0.0, 'IDCODE': 0.0, 'ROLE': 0.0, 'ADDRESS': 0.0}, (153, 177): {'PARTY NAME': 0.0, 'IDCODE': 0.0, 'ROLE': 0.0, 'ADDRESS': 0.0}, (153, 84): {'PARTY NAME': 0.0, 'IDCODE': 0.0, 'ROLE': 0.0, 'ADDRESS': 0.0}, (153, 153): {'PARTY NAME': 0.0, 'IDCODE': 0.0, 'ROLE': 0.0, 'ADDRESS': 0.0}, (153, 92): {'PARTY NAME': 0.0, 'IDCODE': 0.0, 'ROLE': 0.0, 'ADDRESS': 0.0}, (92, 164): {'PARTY NAME': 0.0, 'IDCODE': 0.0, 'ROLE': 0.0, 'ADDRESS': 0.0}, (92, 133): {'PARTY NAME': 0.0, 'IDCODE': 0.0, 'ROLE': 0.0, 'ADDRESS': 0.0}, (92, 112): {'PARTY NAME': 0.0, 'IDCODE': 0.0, 'ROLE': 0.0, 'ADDRESS': 0.0}, (92, 177): {'PARTY NAME': 0.0, 'IDCODE': 0.0, 'ROLE': 0.0, 'ADDRESS': 0.0}, (92, 84): {'PARTY IDCODE': 1.0, 'PARTY NAME': 0.0, 'IDCODE': 0.0, 'ROLE': 0.0, 'ADDRESS': 0.0}, (92, 153): {'PARTY NAME': 0.0, 'IDCODE': 0.0, 'ROLE': 0.0, 'ADDRESS': 0.0}, (92, 92): {'PARTY NAME': 0.0, 'IDCODE': 0.0, 'ROLE': 0.0, 'ADDRESS': 0.0}}\n",
            "oes definitions words used in muttiple sections of this document are defined below and other words are defined in sections 3, 11, 13, 18, 20 and 21. certain rutes regarding the usage of words used in this document are alsa provided in section 16. 0 “security instrument” means this document, which is dated november 21 2019, together with all riders to this document, (b) “borrower” is tamra j cook and john p cook, as tenants by the entirety, ‘borrower is the trustor under this security instrument. (c) “lender* is umpqua bank. lenderis a state chartered bank, organized and existing under the laws of oregon. lender's address is 6610 sw cardinal lane, suite 300, tigard, or 97224, (0) “trustes” is fidelity national title company of oregon. “mers\" is the mortgage electronic registration systems, inc. lender has appointed mers as the nominee for lander pos lean andatachode mers ue wie scere evemace to be executed by borrower, which further describes: the relationship between lender and meas, and which is incorporated into and amends end supplements this security {nstrument. (f) “note” means the promissory note signed by borrower and dated november 21, 2019.\n",
            "oes definitions words used in muttiple sections of this document are defined below and other words are defined in sections 3, 11, 13, 18, 20 and 21. certain rutes regarding the usage of words used in this document are alsa provided in section 16. 0 “security instrument” means this document, which is dated november 21 2019, together with all riders to this document, (b) “borrower” is tamra j cook and john p cook, as tenants by the entirety, ‘borrower is the trustor under this security instrument. (c) “lender* is umpqua bank. lenderis a state chartered bank, organized and existing under the laws of oregon. lender's address is 6610 sw cardinal lane, suite 300, tigard, or 97224, (0) “trustes” is fidelity national title company of oregon. “mers\" is the mortgage electronic registration systems, inc. lender has appointed mers as the nominee for lander pos lean andatachode mers ue wie scere evemace to be executed by borrower, which further describes: the relationship between lender and meas, and which is incorporated into and amends end supplements this security {nstrument. (f) “note” means the promissory note signed by borrower and dated november 21, 2019.\n",
            "{'oes': 0, 'definitions': 1, 'words': 38, 'used': 39, 'in': 46, 'muttiple': 5, 'sections': 19, 'of': 158, 'this': 216, 'document': 72, 'are': 43, 'defined': 17, 'below': 12, 'and': 234, 'other': 14, '3': 20, ',': 238, '11': 22, '13': 24, '18': 26, '20': 28, '21': 237, '.': 240, 'certain': 32, 'rutes': 33, 'regarding': 34, 'the': 228, 'usage': 36, 'alsa': 44, 'provided': 45, 'section': 47, '16': 48, '0': 148, '“': 224, 'security': 217, 'instrument': 103, '”': 226, 'means': 227, 'which': 208, 'is': 209, 'dated': 235, 'november': 236, '2019': 239, 'together': 66, 'with': 67, 'all': 68, 'riders': 69, 'to': 190, '(': 221, 'b': 75, ')': 223, 'borrower': 233, 'tamra': 81, 'j': 82, 'cook': 87, 'john': 85, 'p': 86, 'as': 177, 'tenants': 90, 'by': 232, 'entirety': 93, '‘': 95, 'trustor': 99, 'under': 124, 'c': 106, 'lender': 203, '*': 110, 'umpqua': 112, 'bank': 119, 'lenderis': 115, 'a': 116, 'state': 117, 'chartered': 118, 'organized': 121, 'existing': 123, 'laws': 126, 'oregon': 159, \"'s\": 131, 'address': 132, '6610': 134, 'sw': 135, 'cardinal': 136, 'lane': 137, 'suite': 139, '300': 140, 'tigard': 142, 'or': 144, '97224': 145, 'trustes': 151, 'fidelity': 154, 'national': 155, 'title': 156, 'company': 157, 'mers': 185, '\"': 163, 'mortgage': 166, 'electronic': 167, 'registration': 168, 'systems': 169, 'inc': 171, 'has': 174, 'appointed': 175, 'nominee': 179, 'for': 180, 'lander': 181, 'pos': 182, 'lean': 183, 'andatachode': 184, 'ue': 186, 'wie': 187, 'scere': 188, 'evemace': 189, 'be': 191, 'executed': 192, 'further': 197, 'describes': 198, ':': 199, 'relationship': 201, 'between': 202, 'meas': 205, 'incorporated': 210, 'into': 211, 'amends': 213, 'end': 214, 'supplements': 215, '{': 218, 'nstrument': 219, 'f': 222, 'note': 230, 'promissory': 229, 'signed': 231}\n",
            "[6610 sw cardinal lane, suite 300, tigard, or 97224, “borrower”, ) “lender*, “trustes”, tamra j cook and john p cook, umpqua bank, fidelity national title company, state chartered bank]\n",
            "224\n",
            "81\n",
            "223\n",
            "112\n",
            "117\n",
            "112\n",
            "134\n",
            "112\n",
            "224\n",
            "154\n",
            "{(224, 224): {'PARTY NAME': 0.0, 'IDCODE': 0.0, 'ROLE': 0.0, 'ADDRESS': 0.0}, (224, 134): {'PARTY NAME': 0.0, 'IDCODE': 0.0, 'ROLE': 0.0, 'ADDRESS': 0.0}, (224, 112): {'PARTY NAME': 0.0, 'IDCODE': 0.0, 'ROLE': 0.0, 'ADDRESS': 0.0}, (224, 81): {'PARTY ROLE': 1.0, 'PARTY NAME': 0.0, 'IDCODE': 0.0, 'ROLE': 0.0, 'ADDRESS': 0.0}, (224, 117): {'PARTY NAME': 0.0, 'IDCODE': 0.0, 'ROLE': 0.0, 'ADDRESS': 0.0}, (224, 154): {'PARTY ROLE': 1.0, 'PARTY NAME': 0.0, 'IDCODE': 0.0, 'ROLE': 0.0, 'ADDRESS': 0.0}, (224, 223): {'PARTY NAME': 0.0, 'IDCODE': 0.0, 'ROLE': 0.0, 'ADDRESS': 0.0}, (134, 224): {'PARTY NAME': 0.0, 'IDCODE': 0.0, 'ROLE': 0.0, 'ADDRESS': 0.0}, (134, 134): {'PARTY NAME': 0.0, 'IDCODE': 0.0, 'ROLE': 0.0, 'ADDRESS': 0.0}, (134, 112): {'PARTY ADDRESS': 1.0, 'PARTY NAME': 0.0, 'IDCODE': 0.0, 'ROLE': 0.0, 'ADDRESS': 0.0}, (134, 81): {'PARTY NAME': 0.0, 'IDCODE': 0.0, 'ROLE': 0.0, 'ADDRESS': 0.0}, (134, 117): {'PARTY NAME': 0.0, 'IDCODE': 0.0, 'ROLE': 0.0, 'ADDRESS': 0.0}, (134, 154): {'PARTY NAME': 0.0, 'IDCODE': 0.0, 'ROLE': 0.0, 'ADDRESS': 0.0}, (134, 223): {'PARTY NAME': 0.0, 'IDCODE': 0.0, 'ROLE': 0.0, 'ADDRESS': 0.0}, (112, 224): {'PARTY NAME': 0.0, 'IDCODE': 0.0, 'ROLE': 0.0, 'ADDRESS': 0.0}, (112, 134): {'PARTY NAME': 0.0, 'IDCODE': 0.0, 'ROLE': 0.0, 'ADDRESS': 0.0}, (112, 112): {'PARTY NAME': 0.0, 'IDCODE': 0.0, 'ROLE': 0.0, 'ADDRESS': 0.0}, (112, 81): {'PARTY NAME': 0.0, 'IDCODE': 0.0, 'ROLE': 0.0, 'ADDRESS': 0.0}, (112, 117): {'PARTY NAME': 0.0, 'IDCODE': 0.0, 'ROLE': 0.0, 'ADDRESS': 0.0}, (112, 154): {'PARTY NAME': 0.0, 'IDCODE': 0.0, 'ROLE': 0.0, 'ADDRESS': 0.0}, (112, 223): {'PARTY NAME': 0.0, 'IDCODE': 0.0, 'ROLE': 0.0, 'ADDRESS': 0.0}, (81, 224): {'PARTY NAME': 0.0, 'IDCODE': 0.0, 'ROLE': 0.0, 'ADDRESS': 0.0}, (81, 134): {'PARTY NAME': 0.0, 'IDCODE': 0.0, 'ROLE': 0.0, 'ADDRESS': 0.0}, (81, 112): {'PARTY NAME': 0.0, 'IDCODE': 0.0, 'ROLE': 0.0, 'ADDRESS': 0.0}, (81, 81): {'PARTY NAME': 0.0, 'IDCODE': 0.0, 'ROLE': 0.0, 'ADDRESS': 0.0}, (81, 117): {'PARTY NAME': 0.0, 'IDCODE': 0.0, 'ROLE': 0.0, 'ADDRESS': 0.0}, (81, 154): {'PARTY NAME': 0.0, 'IDCODE': 0.0, 'ROLE': 0.0, 'ADDRESS': 0.0}, (81, 223): {'PARTY NAME': 0.0, 'IDCODE': 0.0, 'ROLE': 0.0, 'ADDRESS': 0.0}, (117, 224): {'PARTY NAME': 0.0, 'IDCODE': 0.0, 'ROLE': 0.0, 'ADDRESS': 0.0}, (117, 134): {'PARTY NAME': 0.0, 'IDCODE': 0.0, 'ROLE': 0.0, 'ADDRESS': 0.0}, (117, 112): {'PARTY IDCODE': 1.0, 'PARTY NAME': 0.0, 'IDCODE': 0.0, 'ROLE': 0.0, 'ADDRESS': 0.0}, (117, 81): {'PARTY NAME': 0.0, 'IDCODE': 0.0, 'ROLE': 0.0, 'ADDRESS': 0.0}, (117, 117): {'PARTY NAME': 0.0, 'IDCODE': 0.0, 'ROLE': 0.0, 'ADDRESS': 0.0}, (117, 154): {'PARTY NAME': 0.0, 'IDCODE': 0.0, 'ROLE': 0.0, 'ADDRESS': 0.0}, (117, 223): {'PARTY NAME': 0.0, 'IDCODE': 0.0, 'ROLE': 0.0, 'ADDRESS': 0.0}, (154, 224): {'PARTY NAME': 0.0, 'IDCODE': 0.0, 'ROLE': 0.0, 'ADDRESS': 0.0}, (154, 134): {'PARTY NAME': 0.0, 'IDCODE': 0.0, 'ROLE': 0.0, 'ADDRESS': 0.0}, (154, 112): {'PARTY NAME': 0.0, 'IDCODE': 0.0, 'ROLE': 0.0, 'ADDRESS': 0.0}, (154, 81): {'PARTY NAME': 0.0, 'IDCODE': 0.0, 'ROLE': 0.0, 'ADDRESS': 0.0}, (154, 117): {'PARTY NAME': 0.0, 'IDCODE': 0.0, 'ROLE': 0.0, 'ADDRESS': 0.0}, (154, 154): {'PARTY NAME': 0.0, 'IDCODE': 0.0, 'ROLE': 0.0, 'ADDRESS': 0.0}, (154, 223): {'PARTY NAME': 0.0, 'IDCODE': 0.0, 'ROLE': 0.0, 'ADDRESS': 0.0}, (223, 224): {'PARTY NAME': 0.0, 'IDCODE': 0.0, 'ROLE': 0.0, 'ADDRESS': 0.0}, (223, 134): {'PARTY NAME': 0.0, 'IDCODE': 0.0, 'ROLE': 0.0, 'ADDRESS': 0.0}, (223, 112): {'PARTY ROLE': 1.0, 'PARTY NAME': 0.0, 'IDCODE': 0.0, 'ROLE': 0.0, 'ADDRESS': 0.0}, (223, 81): {'PARTY NAME': 0.0, 'IDCODE': 0.0, 'ROLE': 0.0, 'ADDRESS': 0.0}, (223, 117): {'PARTY NAME': 0.0, 'IDCODE': 0.0, 'ROLE': 0.0, 'ADDRESS': 0.0}, (223, 154): {'PARTY NAME': 0.0, 'IDCODE': 0.0, 'ROLE': 0.0, 'ADDRESS': 0.0}, (223, 223): {'PARTY NAME': 0.0, 'IDCODE': 0.0, 'ROLE': 0.0, 'ADDRESS': 0.0}}\n",
            "definitions words used in multiple sections of this document are defined below and other words are defined in sections 3, 11, 13, 18, 20 and 21, certain rules regarding the usage of words used in this document are also provided in section 16. {a) “security instrument” means this document, which is dated february 05, 2018, together with all riders to this document. (b) “borrower” is shawn kekic and chanda s kekic, borrower is the trustor under this security instrument, (c} \"lender\" is caliber home loans, inc., lender is 2 corporation organized and existing under the jaws of delaware. lender's address is 3701 regent blvd,, suite 180, irving, tx 75063. @) \"trustee\" is evergreen land title company 260 country club road, suite 120 eugene or 97401,\n",
            "definitions words used in multiple sections of this document are defined below and other words are defined in sections 3, 11, 13, 18, 20 and 21, certain rules regarding the usage of words used in this document are also provided in section 16. {a) “security instrument” means this document, which is dated february 05, 2018, together with all riders to this document. (b) “borrower” is shawn kekic and chanda s kekic, borrower is the trustor under this security instrument, (c} \"lender\" is caliber home loans, inc., lender is 2 corporation organized and existing under the jaws of delaware. lender's address is 3701 regent blvd,, suite 180, irving, tx 75063. @) \"trustee\" is evergreen land title company 260 country club road, suite 120 eugene or 97401,\n",
            "{'definitions': 0, 'words': 37, 'used': 38, 'in': 45, 'multiple': 4, 'sections': 18, 'of': 123, 'this': 95, 'document': 74, 'are': 42, 'defined': 16, 'below': 11, 'and': 118, 'other': 13, '3': 19, ',': 163, '11': 21, '13': 23, '18': 25, '20': 27, '21': 29, 'certain': 31, 'rules': 32, 'regarding': 33, 'the': 121, 'usage': 35, 'also': 43, 'provided': 44, 'section': 46, '16': 47, '.': 142, '{': 49, 'a': 50, ')': 144, '“': 79, 'security': 96, 'instrument': 97, '”': 81, 'means': 56, 'which': 60, 'is': 148, 'dated': 62, 'february': 63, '05': 64, '2018': 66, 'together': 68, 'with': 69, 'all': 70, 'riders': 71, 'to': 72, '(': 99, 'b': 77, 'borrower': 90, 'shawn': 83, 'kekic': 88, 'chanda': 86, 's': 87, 'trustor': 93, 'under': 120, 'c': 100, '}': 101, '\"': 147, 'lender': 126, 'caliber': 106, 'home': 107, 'loans': 108, 'inc': 110, '2': 115, 'corporation': 116, 'organized': 117, 'existing': 119, 'jaws': 122, 'delaware': 124, \"'s\": 127, 'address': 128, '3701': 130, 'regent': 131, 'blvd': 132, 'suite': 158, '180': 136, 'irving': 138, 'tx': 140, '75063': 141, '@': 143, 'trustee': 146, 'evergreen': 149, 'land': 150, 'title': 151, 'company': 152, '260': 153, 'country': 154, 'club': 155, 'road': 156, '120': 159, 'eugene': 160, 'or': 161, '97401': 162}\n",
            "[3701 regent blvd,, suite 180, irving, tx 75063, 260 country club road, suite 120 eugene or 97401, “borrower”, \"lender\", \"trustee\", shawn kekic and chanda s kekic, caliber home loans, inc., evergreen land title company, corporation]\n",
            "79\n",
            "83\n",
            "147\n",
            "106\n",
            "116\n",
            "106\n",
            "130\n",
            "106\n",
            "147\n",
            "149\n",
            "153\n",
            "149\n",
            "{(130, 130): {'PARTY NAME': 0.0, 'IDCODE': 0.0, 'ROLE': 0.0, 'ADDRESS': 0.0}, (130, 106): {'PARTY ADDRESS': 1.0, 'PARTY NAME': 0.0, 'IDCODE': 0.0, 'ROLE': 0.0, 'ADDRESS': 0.0}, (130, 79): {'PARTY NAME': 0.0, 'IDCODE': 0.0, 'ROLE': 0.0, 'ADDRESS': 0.0}, (130, 83): {'PARTY NAME': 0.0, 'IDCODE': 0.0, 'ROLE': 0.0, 'ADDRESS': 0.0}, (130, 147): {'PARTY NAME': 0.0, 'IDCODE': 0.0, 'ROLE': 0.0, 'ADDRESS': 0.0}, (130, 149): {'PARTY NAME': 0.0, 'IDCODE': 0.0, 'ROLE': 0.0, 'ADDRESS': 0.0}, (130, 116): {'PARTY NAME': 0.0, 'IDCODE': 0.0, 'ROLE': 0.0, 'ADDRESS': 0.0}, (130, 153): {'PARTY NAME': 0.0, 'IDCODE': 0.0, 'ROLE': 0.0, 'ADDRESS': 0.0}, (106, 130): {'PARTY NAME': 0.0, 'IDCODE': 0.0, 'ROLE': 0.0, 'ADDRESS': 0.0}, (106, 106): {'PARTY NAME': 0.0, 'IDCODE': 0.0, 'ROLE': 0.0, 'ADDRESS': 0.0}, (106, 79): {'PARTY NAME': 0.0, 'IDCODE': 0.0, 'ROLE': 0.0, 'ADDRESS': 0.0}, (106, 83): {'PARTY NAME': 0.0, 'IDCODE': 0.0, 'ROLE': 0.0, 'ADDRESS': 0.0}, (106, 147): {'PARTY NAME': 0.0, 'IDCODE': 0.0, 'ROLE': 0.0, 'ADDRESS': 0.0}, (106, 149): {'PARTY NAME': 0.0, 'IDCODE': 0.0, 'ROLE': 0.0, 'ADDRESS': 0.0}, (106, 116): {'PARTY NAME': 0.0, 'IDCODE': 0.0, 'ROLE': 0.0, 'ADDRESS': 0.0}, (106, 153): {'PARTY NAME': 0.0, 'IDCODE': 0.0, 'ROLE': 0.0, 'ADDRESS': 0.0}, (79, 130): {'PARTY NAME': 0.0, 'IDCODE': 0.0, 'ROLE': 0.0, 'ADDRESS': 0.0}, (79, 106): {'PARTY NAME': 0.0, 'IDCODE': 0.0, 'ROLE': 0.0, 'ADDRESS': 0.0}, (79, 79): {'PARTY NAME': 0.0, 'IDCODE': 0.0, 'ROLE': 0.0, 'ADDRESS': 0.0}, (79, 83): {'PARTY ROLE': 1.0, 'PARTY NAME': 0.0, 'IDCODE': 0.0, 'ROLE': 0.0, 'ADDRESS': 0.0}, (79, 147): {'PARTY NAME': 0.0, 'IDCODE': 0.0, 'ROLE': 0.0, 'ADDRESS': 0.0}, (79, 149): {'PARTY NAME': 0.0, 'IDCODE': 0.0, 'ROLE': 0.0, 'ADDRESS': 0.0}, (79, 116): {'PARTY NAME': 0.0, 'IDCODE': 0.0, 'ROLE': 0.0, 'ADDRESS': 0.0}, (79, 153): {'PARTY NAME': 0.0, 'IDCODE': 0.0, 'ROLE': 0.0, 'ADDRESS': 0.0}, (83, 130): {'PARTY NAME': 0.0, 'IDCODE': 0.0, 'ROLE': 0.0, 'ADDRESS': 0.0}, (83, 106): {'PARTY NAME': 0.0, 'IDCODE': 0.0, 'ROLE': 0.0, 'ADDRESS': 0.0}, (83, 79): {'PARTY NAME': 0.0, 'IDCODE': 0.0, 'ROLE': 0.0, 'ADDRESS': 0.0}, (83, 83): {'PARTY NAME': 0.0, 'IDCODE': 0.0, 'ROLE': 0.0, 'ADDRESS': 0.0}, (83, 147): {'PARTY NAME': 0.0, 'IDCODE': 0.0, 'ROLE': 0.0, 'ADDRESS': 0.0}, (83, 149): {'PARTY NAME': 0.0, 'IDCODE': 0.0, 'ROLE': 0.0, 'ADDRESS': 0.0}, (83, 116): {'PARTY NAME': 0.0, 'IDCODE': 0.0, 'ROLE': 0.0, 'ADDRESS': 0.0}, (83, 153): {'PARTY NAME': 0.0, 'IDCODE': 0.0, 'ROLE': 0.0, 'ADDRESS': 0.0}, (147, 130): {'PARTY NAME': 0.0, 'IDCODE': 0.0, 'ROLE': 0.0, 'ADDRESS': 0.0}, (147, 106): {'PARTY ROLE': 1.0, 'PARTY NAME': 0.0, 'IDCODE': 0.0, 'ROLE': 0.0, 'ADDRESS': 0.0}, (147, 79): {'PARTY NAME': 0.0, 'IDCODE': 0.0, 'ROLE': 0.0, 'ADDRESS': 0.0}, (147, 83): {'PARTY NAME': 0.0, 'IDCODE': 0.0, 'ROLE': 0.0, 'ADDRESS': 0.0}, (147, 147): {'PARTY NAME': 0.0, 'IDCODE': 0.0, 'ROLE': 0.0, 'ADDRESS': 0.0}, (147, 149): {'PARTY ROLE': 1.0, 'PARTY NAME': 0.0, 'IDCODE': 0.0, 'ROLE': 0.0, 'ADDRESS': 0.0}, (147, 116): {'PARTY NAME': 0.0, 'IDCODE': 0.0, 'ROLE': 0.0, 'ADDRESS': 0.0}, (147, 153): {'PARTY NAME': 0.0, 'IDCODE': 0.0, 'ROLE': 0.0, 'ADDRESS': 0.0}, (149, 130): {'PARTY NAME': 0.0, 'IDCODE': 0.0, 'ROLE': 0.0, 'ADDRESS': 0.0}, (149, 106): {'PARTY NAME': 0.0, 'IDCODE': 0.0, 'ROLE': 0.0, 'ADDRESS': 0.0}, (149, 79): {'PARTY NAME': 0.0, 'IDCODE': 0.0, 'ROLE': 0.0, 'ADDRESS': 0.0}, (149, 83): {'PARTY NAME': 0.0, 'IDCODE': 0.0, 'ROLE': 0.0, 'ADDRESS': 0.0}, (149, 147): {'PARTY NAME': 0.0, 'IDCODE': 0.0, 'ROLE': 0.0, 'ADDRESS': 0.0}, (149, 149): {'PARTY NAME': 0.0, 'IDCODE': 0.0, 'ROLE': 0.0, 'ADDRESS': 0.0}, (149, 116): {'PARTY NAME': 0.0, 'IDCODE': 0.0, 'ROLE': 0.0, 'ADDRESS': 0.0}, (149, 153): {'PARTY NAME': 0.0, 'IDCODE': 0.0, 'ROLE': 0.0, 'ADDRESS': 0.0}, (116, 130): {'PARTY NAME': 0.0, 'IDCODE': 0.0, 'ROLE': 0.0, 'ADDRESS': 0.0}, (116, 106): {'PARTY IDCODE': 1.0, 'PARTY NAME': 0.0, 'IDCODE': 0.0, 'ROLE': 0.0, 'ADDRESS': 0.0}, (116, 79): {'PARTY NAME': 0.0, 'IDCODE': 0.0, 'ROLE': 0.0, 'ADDRESS': 0.0}, (116, 83): {'PARTY NAME': 0.0, 'IDCODE': 0.0, 'ROLE': 0.0, 'ADDRESS': 0.0}, (116, 147): {'PARTY NAME': 0.0, 'IDCODE': 0.0, 'ROLE': 0.0, 'ADDRESS': 0.0}, (116, 149): {'PARTY NAME': 0.0, 'IDCODE': 0.0, 'ROLE': 0.0, 'ADDRESS': 0.0}, (116, 116): {'PARTY NAME': 0.0, 'IDCODE': 0.0, 'ROLE': 0.0, 'ADDRESS': 0.0}, (116, 153): {'PARTY NAME': 0.0, 'IDCODE': 0.0, 'ROLE': 0.0, 'ADDRESS': 0.0}, (153, 130): {'PARTY NAME': 0.0, 'IDCODE': 0.0, 'ROLE': 0.0, 'ADDRESS': 0.0}, (153, 106): {'PARTY NAME': 0.0, 'IDCODE': 0.0, 'ROLE': 0.0, 'ADDRESS': 0.0}, (153, 79): {'PARTY NAME': 0.0, 'IDCODE': 0.0, 'ROLE': 0.0, 'ADDRESS': 0.0}, (153, 83): {'PARTY NAME': 0.0, 'IDCODE': 0.0, 'ROLE': 0.0, 'ADDRESS': 0.0}, (153, 147): {'PARTY NAME': 0.0, 'IDCODE': 0.0, 'ROLE': 0.0, 'ADDRESS': 0.0}, (153, 149): {'PARTY ADDRESS': 1.0, 'PARTY NAME': 0.0, 'IDCODE': 0.0, 'ROLE': 0.0, 'ADDRESS': 0.0}, (153, 116): {'PARTY NAME': 0.0, 'IDCODE': 0.0, 'ROLE': 0.0, 'ADDRESS': 0.0}, (153, 153): {'PARTY NAME': 0.0, 'IDCODE': 0.0, 'ROLE': 0.0, 'ADDRESS': 0.0}}\n",
            "trustor/borrower: manuel velasco 4652 n erie ave, fresno, ca 93722-7540 us definitions words used in multiple sections of this document are defined below and other words are defined in sections 3, 10, 12, 17, 19 and 21. certain rules regarding the usage of words used in this document are also provided in section 15. (a) \"security instrument” means this document, which is dated september 22, 2020, together with all riders to this document. (b) \"borrower\" is manuel velasco and anna velasco, husband and wife, as joint tenants. borrower is the trustor under this security instrument. (©) \"lender\" is homebridge financial services, inc.. lender isa corporation organized and existing under the laws of nd. lender's address is 194 wood avenue south, 9th floor, iselin, nj 08830. (d) \"trustee\" ismarinosci law group,275 west natick road, warwick, ri 02886. (e) \"mers\" is mortgage electronic registration systems, inc. mers is a separate corporation that is acting solely as a nominee for lender and lender's successors and assigns. mers is the beneficiary under this security instrument. mers is organized and existing under the laws of delaware, and has an address and telephone number of p.o, box 2026, flint, mi 48501-2026, tel. (888) 679-mers.\n",
            "trustor/borrower: manuel velasco 4652 n erie ave, fresno, ca 93722-7540 us definitions words used in multiple sections of this document are defined below and other words are defined in sections 3, 10, 12, 17, 19 and 21. certain rules regarding the usage of words used in this document are also provided in section 15. (a) \"security instrument” means this document, which is dated september 22, 2020, together with all riders to this document. (b) \"borrower\" is manuel velasco and anna velasco, husband and wife, as joint tenants. borrower is the trustor under this security instrument. (©) \"lender\" is homebridge financial services, inc.. lender isa corporation organized and existing under the laws of nd. lender's address is 194 wood avenue south, 9th floor, iselin, nj 08830. (d) \"trustee\" ismarinosci law group,275 west natick road, warwick, ri 02886. (e) \"mers\" is mortgage electronic registration systems, inc. mers is a separate corporation that is acting solely as a nominee for lender and lender's successors and assigns. mers is the beneficiary under this security instrument. mers is organized and existing under the laws of delaware, and has an address and telephone number of p.o, box 2026, flint, mi 48501-2026, tel. (888) 679-mers.\n",
            "{'trustor': 118, '/': 1, 'borrower': 115, ':': 3, 'manuel': 101, 'velasco': 105, '4652': 6, 'n': 7, 'erie': 8, 'ave': 9, ',': 258, 'fresno': 11, 'ca': 13, '93722': 14, '-': 265, '7540': 16, 'us': 17, 'definitions': 18, 'words': 55, 'used': 56, 'in': 63, 'multiple': 22, 'sections': 36, 'of': 246, 'this': 224, 'document': 92, 'are': 60, 'defined': 34, 'below': 29, 'and': 243, 'other': 31, '3': 37, '10': 39, '12': 41, '17': 43, '19': 45, '21': 47, '.': 267, 'certain': 49, 'rules': 50, 'regarding': 51, 'the': 234, 'usage': 53, 'also': 61, 'provided': 62, 'section': 64, '15': 65, '(': 261, 'a': 208, ')': 263, '\"': 189, 'security': 225, 'instrument': 226, '”': 73, 'means': 74, 'which': 78, 'is': 229, 'dated': 80, 'september': 81, '22': 82, '2020': 84, 'together': 86, 'with': 87, 'all': 88, 'riders': 89, 'to': 90, 'b': 95, 'anna': 104, 'husband': 107, 'wife': 109, 'as': 207, 'joint': 112, 'tenants': 113, 'under': 233, '©': 125, 'lender': 213, 'homebridge': 131, 'financial': 132, 'services': 133, 'inc': 196, '..': 136, 'isa': 138, 'corporation': 202, 'organized': 230, 'existing': 232, 'laws': 235, 'nd': 147, \"'s\": 214, 'address': 242, '194': 153, 'wood': 154, 'avenue': 155, 'south': 156, '9th': 158, 'floor': 159, 'iselin': 161, 'nj': 163, '08830': 164, 'd': 167, 'trustee': 170, 'ismarinosci': 172, 'law': 173, 'group,275': 174, 'west': 175, 'natick': 176, 'road': 177, 'warwick': 179, 'ri': 181, '02886': 182, 'e': 185, 'mers': 266, 'mortgage': 191, 'electronic': 192, 'registration': 193, 'systems': 194, 'separate': 201, 'that': 203, 'acting': 205, 'solely': 206, 'nominee': 209, 'for': 210, 'successors': 215, 'assigns': 217, 'beneficiary': 222, 'delaware': 237, 'has': 240, 'an': 241, 'telephone': 244, 'number': 245, 'p.o': 247, 'box': 249, '2026': 257, 'flint': 252, 'mi': 254, '48501': 255, 'tel': 259, '888': 262, '679': 264}\n",
            "189\n",
            "101\n",
            "{(258, 258): {'PARTY NAME': 0.0, 'IDCODE': 0.0, 'ROLE': 0.0, 'ADDRESS': 0.0}, (258, 131): {'PARTY NAME': 0.0, 'IDCODE': 0.0, 'ROLE': 0.0, 'ADDRESS': 0.0}, (258, 101): {'PARTY NAME': 0.0, 'IDCODE': 0.0, 'ROLE': 0.0, 'ADDRESS': 0.0}, (258, 6): {'PARTY NAME': 0.0, 'IDCODE': 0.0, 'ROLE': 0.0, 'ADDRESS': 0.0}, (258, 153): {'PARTY NAME': 0.0, 'IDCODE': 0.0, 'ROLE': 0.0, 'ADDRESS': 0.0}, (258, 189): {'PARTY NAME': 0.0, 'IDCODE': 0.0, 'ROLE': 0.0, 'ADDRESS': 0.0}, (131, 258): {'PARTY NAME': 0.0, 'IDCODE': 0.0, 'ROLE': 0.0, 'ADDRESS': 0.0}, (131, 131): {'PARTY NAME': 0.0, 'IDCODE': 0.0, 'ROLE': 0.0, 'ADDRESS': 0.0}, (131, 101): {'PARTY NAME': 0.0, 'IDCODE': 0.0, 'ROLE': 0.0, 'ADDRESS': 0.0}, (131, 6): {'PARTY NAME': 0.0, 'IDCODE': 0.0, 'ROLE': 0.0, 'ADDRESS': 0.0}, (131, 153): {'PARTY NAME': 0.0, 'IDCODE': 0.0, 'ROLE': 0.0, 'ADDRESS': 0.0}, (131, 189): {'PARTY NAME': 0.0, 'IDCODE': 0.0, 'ROLE': 0.0, 'ADDRESS': 0.0}, (101, 258): {'PARTY NAME': 0.0, 'IDCODE': 0.0, 'ROLE': 0.0, 'ADDRESS': 0.0}, (101, 131): {'PARTY NAME': 0.0, 'IDCODE': 0.0, 'ROLE': 0.0, 'ADDRESS': 0.0}, (101, 101): {'PARTY NAME': 0.0, 'IDCODE': 0.0, 'ROLE': 0.0, 'ADDRESS': 0.0}, (101, 6): {'PARTY NAME': 0.0, 'IDCODE': 0.0, 'ROLE': 0.0, 'ADDRESS': 0.0}, (101, 153): {'PARTY NAME': 0.0, 'IDCODE': 0.0, 'ROLE': 0.0, 'ADDRESS': 0.0}, (101, 189): {'PARTY NAME': 0.0, 'IDCODE': 0.0, 'ROLE': 0.0, 'ADDRESS': 0.0}, (6, 258): {'PARTY NAME': 0.0, 'IDCODE': 0.0, 'ROLE': 0.0, 'ADDRESS': 0.0}, (6, 131): {'PARTY NAME': 0.0, 'IDCODE': 0.0, 'ROLE': 0.0, 'ADDRESS': 0.0}, (6, 101): {'PARTY NAME': 0.0, 'IDCODE': 0.0, 'ROLE': 0.0, 'ADDRESS': 0.0}, (6, 6): {'PARTY NAME': 0.0, 'IDCODE': 0.0, 'ROLE': 0.0, 'ADDRESS': 0.0}, (6, 153): {'PARTY NAME': 0.0, 'IDCODE': 0.0, 'ROLE': 0.0, 'ADDRESS': 0.0}, (6, 189): {'PARTY NAME': 0.0, 'IDCODE': 0.0, 'ROLE': 0.0, 'ADDRESS': 0.0}, (153, 258): {'PARTY NAME': 0.0, 'IDCODE': 0.0, 'ROLE': 0.0, 'ADDRESS': 0.0}, (153, 131): {'PARTY NAME': 0.0, 'IDCODE': 0.0, 'ROLE': 0.0, 'ADDRESS': 0.0}, (153, 101): {'PARTY NAME': 0.0, 'IDCODE': 0.0, 'ROLE': 0.0, 'ADDRESS': 0.0}, (153, 6): {'PARTY NAME': 0.0, 'IDCODE': 0.0, 'ROLE': 0.0, 'ADDRESS': 0.0}, (153, 153): {'PARTY NAME': 0.0, 'IDCODE': 0.0, 'ROLE': 0.0, 'ADDRESS': 0.0}, (153, 189): {'PARTY NAME': 0.0, 'IDCODE': 0.0, 'ROLE': 0.0, 'ADDRESS': 0.0}, (189, 258): {'PARTY NAME': 0.0, 'IDCODE': 0.0, 'ROLE': 0.0, 'ADDRESS': 0.0}, (189, 131): {'PARTY NAME': 0.0, 'IDCODE': 0.0, 'ROLE': 0.0, 'ADDRESS': 0.0}, (189, 101): {'PARTY ROLE': 1.0, 'PARTY NAME': 0.0, 'IDCODE': 0.0, 'ROLE': 0.0, 'ADDRESS': 0.0}, (189, 6): {'PARTY NAME': 0.0, 'IDCODE': 0.0, 'ROLE': 0.0, 'ADDRESS': 0.0}, (189, 153): {'PARTY NAME': 0.0, 'IDCODE': 0.0, 'ROLE': 0.0, 'ADDRESS': 0.0}, (189, 189): {'PARTY NAME': 0.0, 'IDCODE': 0.0, 'ROLE': 0.0, 'ADDRESS': 0.0}}\n",
            "‘trustor/borrower; oleg kaplan 4207 silva st, antioch, ca 94509 definitions ‘words used in multiple sections of this document are defined below and other words are defined in sections 3, 11, 13, 18, 20 and 21. certain rules regarding the usage of words used in this document are also provided in section 16. (a) \"security instrument\" means this document, which is dated june 4, 2020, together with all riders to this document. (b) \"borrower\" is oleg kaplan, a single man and roman kaplan, a single man, as tenants in commom. borrower is the trustor under this security instrument, (c) \"lender\" is owning corporation. lender is a corporation organized and existing under the laws of california. lender's address is 1 city blvd west, suite 1500, orange, ca 92868. (d) \"trustee\" is orange coast title company. (e) \"mers\" is mortgage electronic registration systems, inc. mers is a separate corporation that is acting solely as a nominee for lender and lender's successors and assigns. mers js the beneficiary under this security instrument. mers is organized and existing under the laws of delaware, and has an address and telephone number of p.o. box 2026, flint, mi 48501-2026, tel. (888) 679-mers.\n",
            "‘trustor/borrower; oleg kaplan 4207 silva st, antioch, ca 94509 definitions ‘words used in multiple sections of this document are defined below and other words are defined in sections 3, 11, 13, 18, 20 and 21. certain rules regarding the usage of words used in this document are also provided in section 16. (a) \"security instrument\" means this document, which is dated june 4, 2020, together with all riders to this document. (b) \"borrower\" is oleg kaplan, a single man and roman kaplan, a single man, as tenants in commom. borrower is the trustor under this security instrument, (c) \"lender\" is owning corporation. lender is a corporation organized and existing under the laws of california. lender's address is 1 city blvd west, suite 1500, orange, ca 92868. (d) \"trustee\" is orange coast title company. (e) \"mers\" is mortgage electronic registration systems, inc. mers is a separate corporation that is acting solely as a nominee for lender and lender's successors and assigns. mers js the beneficiary under this security instrument. mers is organized and existing under the laws of delaware, and has an address and telephone number of p.o. box 2026, flint, mi 48501-2026, tel. (888) 679-mers.\n",
            "{'‘': 16, 'trustor': 121, '/': 2, 'borrower': 118, ';': 4, 'oleg': 99, 'kaplan': 107, '4207': 7, 'silva': 8, 'st': 9, ',': 253, 'antioch': 11, 'ca': 164, '94509': 14, 'definitions': 15, 'words': 53, 'used': 54, 'in': 115, 'multiple': 20, 'sections': 34, 'of': 241, 'this': 219, 'document': 90, 'are': 58, 'defined': 32, 'below': 27, 'and': 238, 'other': 29, '3': 35, '11': 37, '13': 39, '18': 41, '20': 43, '21': 45, '.': 262, 'certain': 47, 'rules': 48, 'regarding': 49, 'the': 229, 'usage': 51, 'also': 59, 'provided': 60, 'section': 62, '16': 63, '(': 256, 'a': 203, ')': 258, '\"': 184, 'security': 220, 'instrument': 221, 'means': 72, 'which': 76, 'is': 224, 'dated': 78, 'june': 79, '4': 80, '2020': 82, 'together': 84, 'with': 85, 'all': 86, 'riders': 87, 'to': 88, 'b': 93, 'single': 110, 'man': 111, 'roman': 106, 'as': 202, 'tenants': 114, 'commom': 116, 'under': 228, 'c': 128, 'lender': 208, 'owning': 134, 'corporation': 197, 'organized': 225, 'existing': 227, 'laws': 230, 'california': 148, \"'s\": 209, 'address': 237, '1': 154, 'city': 155, 'blvd': 156, 'west': 157, 'suite': 159, '1500': 160, 'orange': 174, '92868': 165, 'd': 168, 'trustee': 171, 'coast': 175, 'title': 176, 'company': 177, 'e': 180, 'mers': 261, 'mortgage': 186, 'electronic': 187, 'registration': 188, 'systems': 189, 'inc': 191, 'separate': 196, 'that': 198, 'acting': 200, 'solely': 201, 'nominee': 204, 'for': 205, 'successors': 210, 'assigns': 212, 'js': 215, 'beneficiary': 217, 'delaware': 232, 'has': 235, 'an': 236, 'telephone': 239, 'number': 240, 'p.o': 242, 'box': 244, '2026': 252, 'flint': 247, 'mi': 249, '48501': 250, '-': 260, 'tel': 254, '888': 257, '679': 259}\n",
            "[4207 silva st, antioch, ca 94509, 1 city blvd west, suite 1500, orange, ca 92868, \"borrower\", \"lender\", \"trustee\", oleg kaplan, owning corporation, orange coast title company, single man, corporation]\n",
            "7\n",
            "99\n",
            "184\n",
            "99\n",
            "110\n",
            "99\n",
            "184\n",
            "134\n",
            "197\n",
            "134\n",
            "154\n",
            "134\n",
            "184\n",
            "174\n",
            "{(99, 99): {'PARTY NAME': 0.0, 'IDCODE': 0.0, 'ROLE': 0.0, 'ADDRESS': 0.0}, (99, 197): {'PARTY NAME': 0.0, 'IDCODE': 0.0, 'ROLE': 0.0, 'ADDRESS': 0.0}, (99, 134): {'PARTY NAME': 0.0, 'IDCODE': 0.0, 'ROLE': 0.0, 'ADDRESS': 0.0}, (99, 7): {'PARTY NAME': 0.0, 'IDCODE': 0.0, 'ROLE': 0.0, 'ADDRESS': 0.0}, (99, 174): {'PARTY NAME': 0.0, 'IDCODE': 0.0, 'ROLE': 0.0, 'ADDRESS': 0.0}, (99, 110): {'PARTY NAME': 0.0, 'IDCODE': 0.0, 'ROLE': 0.0, 'ADDRESS': 0.0}, (99, 184): {'PARTY NAME': 0.0, 'IDCODE': 0.0, 'ROLE': 0.0, 'ADDRESS': 0.0}, (99, 154): {'PARTY NAME': 0.0, 'IDCODE': 0.0, 'ROLE': 0.0, 'ADDRESS': 0.0}, (197, 99): {'PARTY NAME': 0.0, 'IDCODE': 0.0, 'ROLE': 0.0, 'ADDRESS': 0.0}, (197, 197): {'PARTY NAME': 0.0, 'IDCODE': 0.0, 'ROLE': 0.0, 'ADDRESS': 0.0}, (197, 134): {'PARTY IDCODE': 1.0, 'PARTY NAME': 0.0, 'IDCODE': 0.0, 'ROLE': 0.0, 'ADDRESS': 0.0}, (197, 7): {'PARTY NAME': 0.0, 'IDCODE': 0.0, 'ROLE': 0.0, 'ADDRESS': 0.0}, (197, 174): {'PARTY NAME': 0.0, 'IDCODE': 0.0, 'ROLE': 0.0, 'ADDRESS': 0.0}, (197, 110): {'PARTY NAME': 0.0, 'IDCODE': 0.0, 'ROLE': 0.0, 'ADDRESS': 0.0}, (197, 184): {'PARTY NAME': 0.0, 'IDCODE': 0.0, 'ROLE': 0.0, 'ADDRESS': 0.0}, (197, 154): {'PARTY NAME': 0.0, 'IDCODE': 0.0, 'ROLE': 0.0, 'ADDRESS': 0.0}, (134, 99): {'PARTY NAME': 0.0, 'IDCODE': 0.0, 'ROLE': 0.0, 'ADDRESS': 0.0}, (134, 197): {'PARTY NAME': 0.0, 'IDCODE': 0.0, 'ROLE': 0.0, 'ADDRESS': 0.0}, (134, 134): {'PARTY NAME': 0.0, 'IDCODE': 0.0, 'ROLE': 0.0, 'ADDRESS': 0.0}, (134, 7): {'PARTY NAME': 0.0, 'IDCODE': 0.0, 'ROLE': 0.0, 'ADDRESS': 0.0}, (134, 174): {'PARTY NAME': 0.0, 'IDCODE': 0.0, 'ROLE': 0.0, 'ADDRESS': 0.0}, (134, 110): {'PARTY NAME': 0.0, 'IDCODE': 0.0, 'ROLE': 0.0, 'ADDRESS': 0.0}, (134, 184): {'PARTY NAME': 0.0, 'IDCODE': 0.0, 'ROLE': 0.0, 'ADDRESS': 0.0}, (134, 154): {'PARTY NAME': 0.0, 'IDCODE': 0.0, 'ROLE': 0.0, 'ADDRESS': 0.0}, (7, 99): {'PARTY ADDRESS': 1.0, 'PARTY NAME': 0.0, 'IDCODE': 0.0, 'ROLE': 0.0, 'ADDRESS': 0.0}, (7, 197): {'PARTY NAME': 0.0, 'IDCODE': 0.0, 'ROLE': 0.0, 'ADDRESS': 0.0}, (7, 134): {'PARTY NAME': 0.0, 'IDCODE': 0.0, 'ROLE': 0.0, 'ADDRESS': 0.0}, (7, 7): {'PARTY NAME': 0.0, 'IDCODE': 0.0, 'ROLE': 0.0, 'ADDRESS': 0.0}, (7, 174): {'PARTY NAME': 0.0, 'IDCODE': 0.0, 'ROLE': 0.0, 'ADDRESS': 0.0}, (7, 110): {'PARTY NAME': 0.0, 'IDCODE': 0.0, 'ROLE': 0.0, 'ADDRESS': 0.0}, (7, 184): {'PARTY NAME': 0.0, 'IDCODE': 0.0, 'ROLE': 0.0, 'ADDRESS': 0.0}, (7, 154): {'PARTY NAME': 0.0, 'IDCODE': 0.0, 'ROLE': 0.0, 'ADDRESS': 0.0}, (174, 99): {'PARTY NAME': 0.0, 'IDCODE': 0.0, 'ROLE': 0.0, 'ADDRESS': 0.0}, (174, 197): {'PARTY NAME': 0.0, 'IDCODE': 0.0, 'ROLE': 0.0, 'ADDRESS': 0.0}, (174, 134): {'PARTY NAME': 0.0, 'IDCODE': 0.0, 'ROLE': 0.0, 'ADDRESS': 0.0}, (174, 7): {'PARTY NAME': 0.0, 'IDCODE': 0.0, 'ROLE': 0.0, 'ADDRESS': 0.0}, (174, 174): {'PARTY NAME': 0.0, 'IDCODE': 0.0, 'ROLE': 0.0, 'ADDRESS': 0.0}, (174, 110): {'PARTY NAME': 0.0, 'IDCODE': 0.0, 'ROLE': 0.0, 'ADDRESS': 0.0}, (174, 184): {'PARTY NAME': 0.0, 'IDCODE': 0.0, 'ROLE': 0.0, 'ADDRESS': 0.0}, (174, 154): {'PARTY NAME': 0.0, 'IDCODE': 0.0, 'ROLE': 0.0, 'ADDRESS': 0.0}, (110, 99): {'PARTY IDCODE': 1.0, 'PARTY NAME': 0.0, 'IDCODE': 0.0, 'ROLE': 0.0, 'ADDRESS': 0.0}, (110, 197): {'PARTY NAME': 0.0, 'IDCODE': 0.0, 'ROLE': 0.0, 'ADDRESS': 0.0}, (110, 134): {'PARTY NAME': 0.0, 'IDCODE': 0.0, 'ROLE': 0.0, 'ADDRESS': 0.0}, (110, 7): {'PARTY NAME': 0.0, 'IDCODE': 0.0, 'ROLE': 0.0, 'ADDRESS': 0.0}, (110, 174): {'PARTY NAME': 0.0, 'IDCODE': 0.0, 'ROLE': 0.0, 'ADDRESS': 0.0}, (110, 110): {'PARTY NAME': 0.0, 'IDCODE': 0.0, 'ROLE': 0.0, 'ADDRESS': 0.0}, (110, 184): {'PARTY NAME': 0.0, 'IDCODE': 0.0, 'ROLE': 0.0, 'ADDRESS': 0.0}, (110, 154): {'PARTY NAME': 0.0, 'IDCODE': 0.0, 'ROLE': 0.0, 'ADDRESS': 0.0}, (184, 99): {'PARTY ROLE': 1.0, 'PARTY NAME': 0.0, 'IDCODE': 0.0, 'ROLE': 0.0, 'ADDRESS': 0.0}, (184, 197): {'PARTY NAME': 0.0, 'IDCODE': 0.0, 'ROLE': 0.0, 'ADDRESS': 0.0}, (184, 134): {'PARTY ROLE': 1.0, 'PARTY NAME': 0.0, 'IDCODE': 0.0, 'ROLE': 0.0, 'ADDRESS': 0.0}, (184, 7): {'PARTY NAME': 0.0, 'IDCODE': 0.0, 'ROLE': 0.0, 'ADDRESS': 0.0}, (184, 174): {'PARTY ROLE': 1.0, 'PARTY NAME': 0.0, 'IDCODE': 0.0, 'ROLE': 0.0, 'ADDRESS': 0.0}, (184, 110): {'PARTY NAME': 0.0, 'IDCODE': 0.0, 'ROLE': 0.0, 'ADDRESS': 0.0}, (184, 184): {'PARTY NAME': 0.0, 'IDCODE': 0.0, 'ROLE': 0.0, 'ADDRESS': 0.0}, (184, 154): {'PARTY NAME': 0.0, 'IDCODE': 0.0, 'ROLE': 0.0, 'ADDRESS': 0.0}, (154, 99): {'PARTY NAME': 0.0, 'IDCODE': 0.0, 'ROLE': 0.0, 'ADDRESS': 0.0}, (154, 197): {'PARTY NAME': 0.0, 'IDCODE': 0.0, 'ROLE': 0.0, 'ADDRESS': 0.0}, (154, 134): {'PARTY ADDRESS': 1.0, 'PARTY NAME': 0.0, 'IDCODE': 0.0, 'ROLE': 0.0, 'ADDRESS': 0.0}, (154, 7): {'PARTY NAME': 0.0, 'IDCODE': 0.0, 'ROLE': 0.0, 'ADDRESS': 0.0}, (154, 174): {'PARTY NAME': 0.0, 'IDCODE': 0.0, 'ROLE': 0.0, 'ADDRESS': 0.0}, (154, 110): {'PARTY NAME': 0.0, 'IDCODE': 0.0, 'ROLE': 0.0, 'ADDRESS': 0.0}, (154, 184): {'PARTY NAME': 0.0, 'IDCODE': 0.0, 'ROLE': 0.0, 'ADDRESS': 0.0}, (154, 154): {'PARTY NAME': 0.0, 'IDCODE': 0.0, 'ROLE': 0.0, 'ADDRESS': 0.0}}\n",
            "trustor/borrower: sergio m. gonzalez 713 s h st, imperial, ca 92251 definitions words used in multiple sections of this document are defined below and other words are defined in sections 3, 11, 13, 18, 20 and 21. certain rules regarding the usage of words used in this document are also provided in section 16. (a) \"security instrument\" means this documeni, which is dated december 26, 2018, together with all riders to this document, (b) \"borrower\" is sergio m. gonzalez and martha n. gonzalez, husband and wife as joint tenants. borrower is the trustor under this security tnstrument, (c) \"lender\" is loandepot.com, llc. lender isa limited liability company organized and existing under the laws of delaware. lender's address is 26642 towne centre drive, foothill ranch, ca 92610. (d) \"trustee\" is lawyers title company. (e) \"mers\" is mortgage electronic registration systems. inc. mers is a separate corporation that is acting solely as a nominee for lender and lender's successors and assigris. mers is the beneficiary under this security instrument. mers is organized and existing under the laws oi delaware, and has an address and telephone number of p.o. box 2026, flint, mi\n",
            "trustor/borrower: sergio m. gonzalez 713 s h st, imperial, ca 92251 definitions words used in multiple sections of this document are defined below and other words are defined in sections 3, 11, 13, 18, 20 and 21. certain rules regarding the usage of words used in this document are also provided in section 16. (a) \"security instrument\" means this documeni, which is dated december 26, 2018, together with all riders to this document, (b) \"borrower\" is sergio m. gonzalez and martha n. gonzalez, husband and wife as joint tenants. borrower is the trustor under this security tnstrument, (c) \"lender\" is loandepot.com, llc. lender isa limited liability company organized and existing under the laws of delaware. lender's address is 26642 towne centre drive, foothill ranch, ca 92610. (d) \"trustee\" is lawyers title company. (e) \"mers\" is mortgage electronic registration systems. inc. mers is a separate corporation that is acting solely as a nominee for lender and lender's successors and assigris. mers is the beneficiary under this security instrument. mers is organized and existing under the laws oi delaware, and has an address and telephone number of p.o. box 2026, flint, mi\n",
            "{'trustor': 117, '/': 1, 'borrower': 114, ':': 3, 'sergio': 99, 'm.': 100, 'gonzalez': 105, '713': 7, 's': 8, 'h': 9, 'st': 10, ',': 243, 'imperial': 12, 'ca': 160, '92251': 15, 'definitions': 16, 'words': 53, 'used': 54, 'in': 61, 'multiple': 20, 'sections': 34, 'of': 236, 'this': 214, 'document': 90, 'are': 58, 'defined': 32, 'below': 27, 'and': 233, 'other': 29, '3': 35, '11': 37, '13': 39, '18': 41, '20': 43, '21': 45, '.': 238, 'certain': 47, 'rules': 48, 'regarding': 49, 'the': 224, 'usage': 51, 'also': 59, 'provided': 60, 'section': 62, '16': 63, '(': 174, 'a': 198, ')': 176, '\"': 179, 'security': 215, 'instrument': 216, 'means': 72, 'documeni': 74, 'which': 76, 'is': 219, 'dated': 78, 'december': 79, '26': 80, '2018': 82, 'together': 84, 'with': 85, 'all': 86, 'riders': 87, 'to': 88, 'b': 93, 'martha': 103, 'n.': 104, 'husband': 107, 'wife': 109, 'as': 197, 'joint': 111, 'tenants': 112, 'under': 223, 'tnstrument': 121, 'c': 124, 'lender': 203, 'loandepot.com': 130, 'llc': 132, 'isa': 135, 'limited': 136, 'liability': 137, 'company': 172, 'organized': 220, 'existing': 222, 'laws': 225, 'delaware': 227, \"'s\": 204, 'address': 232, '26642': 152, 'towne': 153, 'centre': 154, 'drive': 155, 'foothill': 157, 'ranch': 158, '92610': 161, 'd': 164, 'trustee': 167, 'lawyers': 170, 'title': 171, 'e': 175, 'mers': 218, 'mortgage': 181, 'electronic': 182, 'registration': 183, 'systems': 184, 'inc': 186, 'separate': 191, 'corporation': 192, 'that': 193, 'acting': 195, 'solely': 196, 'nominee': 199, 'for': 200, 'successors': 205, 'assigris': 207, 'beneficiary': 212, 'oi': 226, 'has': 230, 'an': 231, 'telephone': 234, 'number': 235, 'p.o': 237, 'box': 239, '2026': 240, 'flint': 242, 'mi': 244}\n",
            "[713 s h st, imperial, ca 92251, 26642 towne centre drive, foothill ranch, ca 92610, \"borrower\", \"lender\", \"trustee\", sergio m. gonzalez and martha n. gonzalez, loandepot.com, llc, lawyers title company., husband and wife, limited liability company]\n",
            "7\n",
            "99\n",
            "179\n",
            "99\n",
            "107\n",
            "99\n",
            "179\n",
            "130\n",
            "136\n",
            "130\n",
            "152\n",
            "130\n",
            "179\n",
            "170\n",
            "{(130, 130): {'PARTY NAME': 0.0, 'IDCODE': 0.0, 'ROLE': 0.0, 'ADDRESS': 0.0}, (130, 99): {'PARTY NAME': 0.0, 'IDCODE': 0.0, 'ROLE': 0.0, 'ADDRESS': 0.0}, (130, 7): {'PARTY NAME': 0.0, 'IDCODE': 0.0, 'ROLE': 0.0, 'ADDRESS': 0.0}, (130, 136): {'PARTY NAME': 0.0, 'IDCODE': 0.0, 'ROLE': 0.0, 'ADDRESS': 0.0}, (130, 170): {'PARTY NAME': 0.0, 'IDCODE': 0.0, 'ROLE': 0.0, 'ADDRESS': 0.0}, (130, 107): {'PARTY NAME': 0.0, 'IDCODE': 0.0, 'ROLE': 0.0, 'ADDRESS': 0.0}, (130, 179): {'PARTY NAME': 0.0, 'IDCODE': 0.0, 'ROLE': 0.0, 'ADDRESS': 0.0}, (130, 152): {'PARTY NAME': 0.0, 'IDCODE': 0.0, 'ROLE': 0.0, 'ADDRESS': 0.0}, (99, 130): {'PARTY NAME': 0.0, 'IDCODE': 0.0, 'ROLE': 0.0, 'ADDRESS': 0.0}, (99, 99): {'PARTY NAME': 0.0, 'IDCODE': 0.0, 'ROLE': 0.0, 'ADDRESS': 0.0}, (99, 7): {'PARTY NAME': 0.0, 'IDCODE': 0.0, 'ROLE': 0.0, 'ADDRESS': 0.0}, (99, 136): {'PARTY NAME': 0.0, 'IDCODE': 0.0, 'ROLE': 0.0, 'ADDRESS': 0.0}, (99, 170): {'PARTY NAME': 0.0, 'IDCODE': 0.0, 'ROLE': 0.0, 'ADDRESS': 0.0}, (99, 107): {'PARTY NAME': 0.0, 'IDCODE': 0.0, 'ROLE': 0.0, 'ADDRESS': 0.0}, (99, 179): {'PARTY NAME': 0.0, 'IDCODE': 0.0, 'ROLE': 0.0, 'ADDRESS': 0.0}, (99, 152): {'PARTY NAME': 0.0, 'IDCODE': 0.0, 'ROLE': 0.0, 'ADDRESS': 0.0}, (7, 130): {'PARTY NAME': 0.0, 'IDCODE': 0.0, 'ROLE': 0.0, 'ADDRESS': 0.0}, (7, 99): {'PARTY ADDRESS': 1.0, 'PARTY NAME': 0.0, 'IDCODE': 0.0, 'ROLE': 0.0, 'ADDRESS': 0.0}, (7, 7): {'PARTY NAME': 0.0, 'IDCODE': 0.0, 'ROLE': 0.0, 'ADDRESS': 0.0}, (7, 136): {'PARTY NAME': 0.0, 'IDCODE': 0.0, 'ROLE': 0.0, 'ADDRESS': 0.0}, (7, 170): {'PARTY NAME': 0.0, 'IDCODE': 0.0, 'ROLE': 0.0, 'ADDRESS': 0.0}, (7, 107): {'PARTY NAME': 0.0, 'IDCODE': 0.0, 'ROLE': 0.0, 'ADDRESS': 0.0}, (7, 179): {'PARTY NAME': 0.0, 'IDCODE': 0.0, 'ROLE': 0.0, 'ADDRESS': 0.0}, (7, 152): {'PARTY NAME': 0.0, 'IDCODE': 0.0, 'ROLE': 0.0, 'ADDRESS': 0.0}, (136, 130): {'PARTY IDCODE': 1.0, 'PARTY NAME': 0.0, 'IDCODE': 0.0, 'ROLE': 0.0, 'ADDRESS': 0.0}, (136, 99): {'PARTY NAME': 0.0, 'IDCODE': 0.0, 'ROLE': 0.0, 'ADDRESS': 0.0}, (136, 7): {'PARTY NAME': 0.0, 'IDCODE': 0.0, 'ROLE': 0.0, 'ADDRESS': 0.0}, (136, 136): {'PARTY NAME': 0.0, 'IDCODE': 0.0, 'ROLE': 0.0, 'ADDRESS': 0.0}, (136, 170): {'PARTY NAME': 0.0, 'IDCODE': 0.0, 'ROLE': 0.0, 'ADDRESS': 0.0}, (136, 107): {'PARTY NAME': 0.0, 'IDCODE': 0.0, 'ROLE': 0.0, 'ADDRESS': 0.0}, (136, 179): {'PARTY NAME': 0.0, 'IDCODE': 0.0, 'ROLE': 0.0, 'ADDRESS': 0.0}, (136, 152): {'PARTY NAME': 0.0, 'IDCODE': 0.0, 'ROLE': 0.0, 'ADDRESS': 0.0}, (170, 130): {'PARTY NAME': 0.0, 'IDCODE': 0.0, 'ROLE': 0.0, 'ADDRESS': 0.0}, (170, 99): {'PARTY NAME': 0.0, 'IDCODE': 0.0, 'ROLE': 0.0, 'ADDRESS': 0.0}, (170, 7): {'PARTY NAME': 0.0, 'IDCODE': 0.0, 'ROLE': 0.0, 'ADDRESS': 0.0}, (170, 136): {'PARTY NAME': 0.0, 'IDCODE': 0.0, 'ROLE': 0.0, 'ADDRESS': 0.0}, (170, 170): {'PARTY NAME': 0.0, 'IDCODE': 0.0, 'ROLE': 0.0, 'ADDRESS': 0.0}, (170, 107): {'PARTY NAME': 0.0, 'IDCODE': 0.0, 'ROLE': 0.0, 'ADDRESS': 0.0}, (170, 179): {'PARTY NAME': 0.0, 'IDCODE': 0.0, 'ROLE': 0.0, 'ADDRESS': 0.0}, (170, 152): {'PARTY NAME': 0.0, 'IDCODE': 0.0, 'ROLE': 0.0, 'ADDRESS': 0.0}, (107, 130): {'PARTY NAME': 0.0, 'IDCODE': 0.0, 'ROLE': 0.0, 'ADDRESS': 0.0}, (107, 99): {'PARTY IDCODE': 1.0, 'PARTY NAME': 0.0, 'IDCODE': 0.0, 'ROLE': 0.0, 'ADDRESS': 0.0}, (107, 7): {'PARTY NAME': 0.0, 'IDCODE': 0.0, 'ROLE': 0.0, 'ADDRESS': 0.0}, (107, 136): {'PARTY NAME': 0.0, 'IDCODE': 0.0, 'ROLE': 0.0, 'ADDRESS': 0.0}, (107, 170): {'PARTY NAME': 0.0, 'IDCODE': 0.0, 'ROLE': 0.0, 'ADDRESS': 0.0}, (107, 107): {'PARTY NAME': 0.0, 'IDCODE': 0.0, 'ROLE': 0.0, 'ADDRESS': 0.0}, (107, 179): {'PARTY NAME': 0.0, 'IDCODE': 0.0, 'ROLE': 0.0, 'ADDRESS': 0.0}, (107, 152): {'PARTY NAME': 0.0, 'IDCODE': 0.0, 'ROLE': 0.0, 'ADDRESS': 0.0}, (179, 130): {'PARTY ROLE': 1.0, 'PARTY NAME': 0.0, 'IDCODE': 0.0, 'ROLE': 0.0, 'ADDRESS': 0.0}, (179, 99): {'PARTY ROLE': 1.0, 'PARTY NAME': 0.0, 'IDCODE': 0.0, 'ROLE': 0.0, 'ADDRESS': 0.0}, (179, 7): {'PARTY NAME': 0.0, 'IDCODE': 0.0, 'ROLE': 0.0, 'ADDRESS': 0.0}, (179, 136): {'PARTY NAME': 0.0, 'IDCODE': 0.0, 'ROLE': 0.0, 'ADDRESS': 0.0}, (179, 170): {'PARTY ROLE': 1.0, 'PARTY NAME': 0.0, 'IDCODE': 0.0, 'ROLE': 0.0, 'ADDRESS': 0.0}, (179, 107): {'PARTY NAME': 0.0, 'IDCODE': 0.0, 'ROLE': 0.0, 'ADDRESS': 0.0}, (179, 179): {'PARTY NAME': 0.0, 'IDCODE': 0.0, 'ROLE': 0.0, 'ADDRESS': 0.0}, (179, 152): {'PARTY NAME': 0.0, 'IDCODE': 0.0, 'ROLE': 0.0, 'ADDRESS': 0.0}, (152, 130): {'PARTY ADDRESS': 1.0, 'PARTY NAME': 0.0, 'IDCODE': 0.0, 'ROLE': 0.0, 'ADDRESS': 0.0}, (152, 99): {'PARTY NAME': 0.0, 'IDCODE': 0.0, 'ROLE': 0.0, 'ADDRESS': 0.0}, (152, 7): {'PARTY NAME': 0.0, 'IDCODE': 0.0, 'ROLE': 0.0, 'ADDRESS': 0.0}, (152, 136): {'PARTY NAME': 0.0, 'IDCODE': 0.0, 'ROLE': 0.0, 'ADDRESS': 0.0}, (152, 170): {'PARTY NAME': 0.0, 'IDCODE': 0.0, 'ROLE': 0.0, 'ADDRESS': 0.0}, (152, 107): {'PARTY NAME': 0.0, 'IDCODE': 0.0, 'ROLE': 0.0, 'ADDRESS': 0.0}, (152, 179): {'PARTY NAME': 0.0, 'IDCODE': 0.0, 'ROLE': 0.0, 'ADDRESS': 0.0}, (152, 152): {'PARTY NAME': 0.0, 'IDCODE': 0.0, 'ROLE': 0.0, 'ADDRESS': 0.0}}\n",
            "loan #: 1454256361 definitions words used in multiple sections of this document are defined below and other words are defined in sections 3, 12, 17, 19 and 20. certain rules regarding the usage of words used in this document are also provided in section 15. : 7 (a) “security instrument” means this document, which is dated march 22, 2049, together with all riders to this document. ; (b) “borrower” is richard frederic koo! and teresa elaine kooi, trustees of the richard frederic koo! and teresa elaine koo! revocable trust. borrower's address is 11880 lakeshore s, auburn, ca 95602. borrower is the trustor under this security instrument. : (c) “lender” is logix federal credit union. lender is a federal credit union organized and existing under the laws of the state of california. lender's address is 2340 hollywood way, burbank, ca 91505. lender is the beneficiary under this security instrument. (d) “trustee” is first american title insurance company, a nebraska corporation. (e) “credit agreement” means the home equity line of credit agreement and disclosure signed by borrower and dated march 22, 2019 which credit agreement establishes a revolving line of credit, which obligates lender to make advances to borrower so long as borrower complies with all the terms of td ete le cee lll) be a til\n",
            "loan #: 1454256361 definitions words used in multiple sections of this document are defined below and other words are defined in sections 3, 12, 17, 19 and 20. certain rules regarding the usage of words used in this document are also provided in section 15. : 7 (a) “security instrument” means this document, which is dated march 22, 2049, together with all riders to this document. ; (b) “borrower” is richard frederic koo! and teresa elaine kooi, trustees of the richard frederic koo! and teresa elaine koo! revocable trust. borrower's address is 11880 lakeshore s, auburn, ca 95602. borrower is the trustor under this security instrument. : (c) “lender” is logix federal credit union. lender is a federal credit union organized and existing under the laws of the state of california. lender's address is 2340 hollywood way, burbank, ca 91505. lender is the beneficiary under this security instrument. (d) “trustee” is first american title insurance company, a nebraska corporation. (e) “credit agreement” means the home equity line of credit agreement and disclosure signed by borrower and dated march 22, 2019 which credit agreement establishes a revolving line of credit, which obligates lender to make advances to borrower so long as borrower complies with all the terms of td ete le cee lll) be a til\n",
            "{'loan': 0, '#': 1, ':': 134, '1454256361': 3, 'definitions': 4, 'words': 39, 'used': 40, 'in': 47, 'multiple': 8, 'sections': 22, 'of': 257, 'this': 183, 'document': 78, 'are': 44, 'defined': 20, 'below': 15, 'and': 224, 'other': 17, '3': 23, ',': 239, '12': 25, '17': 27, '19': 29, '20': 31, '.': 203, 'certain': 33, 'rules': 34, 'regarding': 35, 'the': 255, 'usage': 37, 'also': 45, 'provided': 46, 'section': 48, '15': 49, '7': 52, '(': 204, 'a': 265, ')': 263, '“': 207, 'security': 184, 'instrument': 185, '”': 210, 'means': 211, 'which': 240, 'is': 193, 'dated': 225, 'march': 226, '22': 227, '2049': 70, 'together': 72, 'with': 253, 'all': 254, 'riders': 75, 'to': 246, ';': 80, 'b': 82, 'borrower': 251, 'richard': 100, 'frederic': 101, 'koo': 107, '!': 108, 'teresa': 105, 'elaine': 106, 'kooi': 95, 'trustees': 97, 'revocable': 109, 'trust': 110, \"'s\": 166, 'address': 167, '11880': 116, 'lakeshore': 117, 's': 118, 'auburn': 120, 'ca': 175, '95602': 123, 'trustor': 128, 'under': 182, 'c': 136, 'lender': 242, 'logix': 142, 'federal': 150, 'credit': 238, 'union': 152, 'organized': 153, 'existing': 155, 'laws': 158, 'state': 161, 'california': 163, '2340': 169, 'hollywood': 170, 'way': 171, 'burbank': 173, '91505': 176, 'beneficiary': 181, 'd': 188, 'trustee': 191, 'first': 194, 'american': 195, 'title': 196, 'insurance': 197, 'company': 198, 'nebraska': 201, 'corporation': 202, 'e': 205, 'agreement': 232, 'home': 213, 'equity': 214, 'line': 236, 'disclosure': 220, 'signed': 221, 'by': 222, '2019': 229, 'establishes': 233, 'revolving': 235, 'obligates': 241, 'make': 244, 'advances': 245, 'so': 248, 'long': 249, 'as': 250, 'complies': 252, 'terms': 256, 'td': 258, 'ete': 259, 'le': 260, 'cee': 261, 'lll': 262, 'be': 264, 'til': 266}\n",
            "[11880 lakeshore s, auburn, ca 95602., 2340 hollywood way, burbank, ca 91505, “borrower”, “lender”, “trustee”, richard frederic koo! and teresa elaine kooi,, logix federal credit union, first american title insurance company,, federal credit union, corporation]\n",
            "207\n",
            "100\n",
            "116\n",
            "100\n",
            "207\n",
            "142\n",
            "150\n",
            "142\n",
            "169\n",
            "142\n",
            "207\n",
            "194\n",
            "202\n",
            "194\n",
            "{(194, 194): {'PARTY NAME': 0.0, 'IDCODE': 0.0, 'ROLE': 0.0, 'ADDRESS': 0.0}, (194, 100): {'PARTY NAME': 0.0, 'IDCODE': 0.0, 'ROLE': 0.0, 'ADDRESS': 0.0}, (194, 169): {'PARTY NAME': 0.0, 'IDCODE': 0.0, 'ROLE': 0.0, 'ADDRESS': 0.0}, (194, 202): {'PARTY NAME': 0.0, 'IDCODE': 0.0, 'ROLE': 0.0, 'ADDRESS': 0.0}, (194, 142): {'PARTY NAME': 0.0, 'IDCODE': 0.0, 'ROLE': 0.0, 'ADDRESS': 0.0}, (194, 207): {'PARTY NAME': 0.0, 'IDCODE': 0.0, 'ROLE': 0.0, 'ADDRESS': 0.0}, (194, 116): {'PARTY NAME': 0.0, 'IDCODE': 0.0, 'ROLE': 0.0, 'ADDRESS': 0.0}, (194, 150): {'PARTY NAME': 0.0, 'IDCODE': 0.0, 'ROLE': 0.0, 'ADDRESS': 0.0}, (100, 194): {'PARTY NAME': 0.0, 'IDCODE': 0.0, 'ROLE': 0.0, 'ADDRESS': 0.0}, (100, 100): {'PARTY NAME': 0.0, 'IDCODE': 0.0, 'ROLE': 0.0, 'ADDRESS': 0.0}, (100, 169): {'PARTY NAME': 0.0, 'IDCODE': 0.0, 'ROLE': 0.0, 'ADDRESS': 0.0}, (100, 202): {'PARTY NAME': 0.0, 'IDCODE': 0.0, 'ROLE': 0.0, 'ADDRESS': 0.0}, (100, 142): {'PARTY NAME': 0.0, 'IDCODE': 0.0, 'ROLE': 0.0, 'ADDRESS': 0.0}, (100, 207): {'PARTY NAME': 0.0, 'IDCODE': 0.0, 'ROLE': 0.0, 'ADDRESS': 0.0}, (100, 116): {'PARTY NAME': 0.0, 'IDCODE': 0.0, 'ROLE': 0.0, 'ADDRESS': 0.0}, (100, 150): {'PARTY NAME': 0.0, 'IDCODE': 0.0, 'ROLE': 0.0, 'ADDRESS': 0.0}, (169, 194): {'PARTY NAME': 0.0, 'IDCODE': 0.0, 'ROLE': 0.0, 'ADDRESS': 0.0}, (169, 100): {'PARTY NAME': 0.0, 'IDCODE': 0.0, 'ROLE': 0.0, 'ADDRESS': 0.0}, (169, 169): {'PARTY NAME': 0.0, 'IDCODE': 0.0, 'ROLE': 0.0, 'ADDRESS': 0.0}, (169, 202): {'PARTY NAME': 0.0, 'IDCODE': 0.0, 'ROLE': 0.0, 'ADDRESS': 0.0}, (169, 142): {'PARTY ADDRESS': 1.0, 'PARTY NAME': 0.0, 'IDCODE': 0.0, 'ROLE': 0.0, 'ADDRESS': 0.0}, (169, 207): {'PARTY NAME': 0.0, 'IDCODE': 0.0, 'ROLE': 0.0, 'ADDRESS': 0.0}, (169, 116): {'PARTY NAME': 0.0, 'IDCODE': 0.0, 'ROLE': 0.0, 'ADDRESS': 0.0}, (169, 150): {'PARTY NAME': 0.0, 'IDCODE': 0.0, 'ROLE': 0.0, 'ADDRESS': 0.0}, (202, 194): {'PARTY IDCODE': 1.0, 'PARTY NAME': 0.0, 'IDCODE': 0.0, 'ROLE': 0.0, 'ADDRESS': 0.0}, (202, 100): {'PARTY NAME': 0.0, 'IDCODE': 0.0, 'ROLE': 0.0, 'ADDRESS': 0.0}, (202, 169): {'PARTY NAME': 0.0, 'IDCODE': 0.0, 'ROLE': 0.0, 'ADDRESS': 0.0}, (202, 202): {'PARTY NAME': 0.0, 'IDCODE': 0.0, 'ROLE': 0.0, 'ADDRESS': 0.0}, (202, 142): {'PARTY NAME': 0.0, 'IDCODE': 0.0, 'ROLE': 0.0, 'ADDRESS': 0.0}, (202, 207): {'PARTY NAME': 0.0, 'IDCODE': 0.0, 'ROLE': 0.0, 'ADDRESS': 0.0}, (202, 116): {'PARTY NAME': 0.0, 'IDCODE': 0.0, 'ROLE': 0.0, 'ADDRESS': 0.0}, (202, 150): {'PARTY NAME': 0.0, 'IDCODE': 0.0, 'ROLE': 0.0, 'ADDRESS': 0.0}, (142, 194): {'PARTY NAME': 0.0, 'IDCODE': 0.0, 'ROLE': 0.0, 'ADDRESS': 0.0}, (142, 100): {'PARTY NAME': 0.0, 'IDCODE': 0.0, 'ROLE': 0.0, 'ADDRESS': 0.0}, (142, 169): {'PARTY NAME': 0.0, 'IDCODE': 0.0, 'ROLE': 0.0, 'ADDRESS': 0.0}, (142, 202): {'PARTY NAME': 0.0, 'IDCODE': 0.0, 'ROLE': 0.0, 'ADDRESS': 0.0}, (142, 142): {'PARTY NAME': 0.0, 'IDCODE': 0.0, 'ROLE': 0.0, 'ADDRESS': 0.0}, (142, 207): {'PARTY NAME': 0.0, 'IDCODE': 0.0, 'ROLE': 0.0, 'ADDRESS': 0.0}, (142, 116): {'PARTY NAME': 0.0, 'IDCODE': 0.0, 'ROLE': 0.0, 'ADDRESS': 0.0}, (142, 150): {'PARTY NAME': 0.0, 'IDCODE': 0.0, 'ROLE': 0.0, 'ADDRESS': 0.0}, (207, 194): {'PARTY ROLE': 1.0, 'PARTY NAME': 0.0, 'IDCODE': 0.0, 'ROLE': 0.0, 'ADDRESS': 0.0}, (207, 100): {'PARTY ROLE': 1.0, 'PARTY NAME': 0.0, 'IDCODE': 0.0, 'ROLE': 0.0, 'ADDRESS': 0.0}, (207, 169): {'PARTY NAME': 0.0, 'IDCODE': 0.0, 'ROLE': 0.0, 'ADDRESS': 0.0}, (207, 202): {'PARTY NAME': 0.0, 'IDCODE': 0.0, 'ROLE': 0.0, 'ADDRESS': 0.0}, (207, 142): {'PARTY ROLE': 1.0, 'PARTY NAME': 0.0, 'IDCODE': 0.0, 'ROLE': 0.0, 'ADDRESS': 0.0}, (207, 207): {'PARTY NAME': 0.0, 'IDCODE': 0.0, 'ROLE': 0.0, 'ADDRESS': 0.0}, (207, 116): {'PARTY NAME': 0.0, 'IDCODE': 0.0, 'ROLE': 0.0, 'ADDRESS': 0.0}, (207, 150): {'PARTY NAME': 0.0, 'IDCODE': 0.0, 'ROLE': 0.0, 'ADDRESS': 0.0}, (116, 194): {'PARTY NAME': 0.0, 'IDCODE': 0.0, 'ROLE': 0.0, 'ADDRESS': 0.0}, (116, 100): {'PARTY ADDRESS': 1.0, 'PARTY NAME': 0.0, 'IDCODE': 0.0, 'ROLE': 0.0, 'ADDRESS': 0.0}, (116, 169): {'PARTY NAME': 0.0, 'IDCODE': 0.0, 'ROLE': 0.0, 'ADDRESS': 0.0}, (116, 202): {'PARTY NAME': 0.0, 'IDCODE': 0.0, 'ROLE': 0.0, 'ADDRESS': 0.0}, (116, 142): {'PARTY NAME': 0.0, 'IDCODE': 0.0, 'ROLE': 0.0, 'ADDRESS': 0.0}, (116, 207): {'PARTY NAME': 0.0, 'IDCODE': 0.0, 'ROLE': 0.0, 'ADDRESS': 0.0}, (116, 116): {'PARTY NAME': 0.0, 'IDCODE': 0.0, 'ROLE': 0.0, 'ADDRESS': 0.0}, (116, 150): {'PARTY NAME': 0.0, 'IDCODE': 0.0, 'ROLE': 0.0, 'ADDRESS': 0.0}, (150, 194): {'PARTY NAME': 0.0, 'IDCODE': 0.0, 'ROLE': 0.0, 'ADDRESS': 0.0}, (150, 100): {'PARTY NAME': 0.0, 'IDCODE': 0.0, 'ROLE': 0.0, 'ADDRESS': 0.0}, (150, 169): {'PARTY NAME': 0.0, 'IDCODE': 0.0, 'ROLE': 0.0, 'ADDRESS': 0.0}, (150, 202): {'PARTY NAME': 0.0, 'IDCODE': 0.0, 'ROLE': 0.0, 'ADDRESS': 0.0}, (150, 142): {'PARTY IDCODE': 1.0, 'PARTY NAME': 0.0, 'IDCODE': 0.0, 'ROLE': 0.0, 'ADDRESS': 0.0}, (150, 207): {'PARTY NAME': 0.0, 'IDCODE': 0.0, 'ROLE': 0.0, 'ADDRESS': 0.0}, (150, 116): {'PARTY NAME': 0.0, 'IDCODE': 0.0, 'ROLE': 0.0, 'ADDRESS': 0.0}, (150, 150): {'PARTY NAME': 0.0, 'IDCODE': 0.0, 'ROLE': 0.0, 'ADDRESS': 0.0}}\n",
            "35\n",
            "[definitions words used in multiple sections of this document are defined below and other words are defined in sections 3, f1, 13, 18, 20 and 21. certain rules regarding the usage of words used in thls document are also provided in section 16. (a) “security instrument” means this document, which is dated jute 29, 2016, together with all riders to this document. {b) “borrower” is maxine adelphia haynes, a single woman. borrower is the mortgagor under this security tnstrument. {c) “mers\"” is mortgage electronic registration systems, inc, mers is a separate corporation that is acting solely as a nominee for lender and lender's successors and assigns. mers is the mortgagee under this security instrument. mers is organized and existing under the laws of delaware, and has an address and telephone number of p.o. box 2026, flint, ml 48507-2026, tel, (888) 679-mers. (od) “lender” is all in one mortgage lenders, llc. lender is a limited liability company, organized and existing under the laws of florida. lender's address is 9200 8. dadeland blvd. #105, miami, fl 33156 7, definitions words used in multiple sections of this document are defined below and other words are defined in sections 3, 11, 13, 18, 20 and 21. certain rules regarding the usage of words used in this document are also provided in section 16. (a) \"security instrument\" means this document, which is dated july 18, 2005 together with all riders to this document. @) \"borrower\" is john m. stewart and elizabeth a. stewart, husband and wife borrower is the trustor under this security instrument. (c) \"lender\" is ameriquest mortgage company, definitions, words used in multiple sections of this document are defined below and other words are defined in sections 3, 11, 13, 18, 20 and 21. certain rules regarding the usage of words used in this document are also provided in section 16. (a) “security instrument” means this document, which is cated april 28, 2046, together with all riders lo this document. (b) “borrower” is marvin davis and della davis. borrower is the trustor under this security instrument. (c) “lender” is banc of california, national association, dba banc home loans. lender is a national association, organized and existing under the laws of the united states of america. lender's address is 18500 von karman avenue, suite 1100, irvine, ca 92612. (d) “trustee” is ticor title., definitions. words used in multiple sections of this document are defined below and other words are defined in sections 3, i1, 13, 18, 20 and 21. certain rules regarding the usage of words used in this document are also provided in section 16. (a) “security instrument” means this document, which is dated july 9, 2016, together with all riders to this document. (b) “borrower” is andrew j, alldredge and sharon l. alldredge, co-trustees of the andrew & sharon alldredge 2012 family trust dated april 18, 2012, revocable living trust. borrower's address is 559 ave, coronado, ca 92118. borrower is the trustor under this security instrument. (c) “lender” is jpmorgan chase bank, n.a.. lender is a national banking association organized and existing under the jaws of the united states. lender's address is !1 11 polaris parkway, columbus, oh 43240 . lender is the beneficiary under this security instrument. (d) “trustee” is jpmorgan chase bank, n.a.. (e) “note” means the promissory note signed by borrower and dated july 9, 2016. the note states that borrower owes lender three hundred twenty seven thousand and 00/100 dollars (u.s. $327,000.00) plus interest. borrower has promised to pay this debt in regular periodic payments and to pay the debt in full not later than august 1, 2046 (f) “property” means the property that is described below under the heading \"transfer of rights in the pronerty.\", definitions. words used in multiple sections of this document are defined below and other words are defined in sections 3, 11, 13, 18, 20 and 21. certain rules regarding the usage of words used in this document are also provided in section 16. (a) “security instrument” means this document, which is dated august 30, 2014, together with all riders to this document. (b) “borrower” is mitchell w. graff and nina m. graff, husband and wife,. borrower is the mortgagor under this security instrument. (c) “mers” is mortgage electronic registration systems, inc. mers is a separate corporation that is acting solely asa nominee for lender and lender’s successors and assigns. mers is the mortgagee under this security instrument. mers is organized and existing under the laws of delaware, and has an address and telephone number of p.o. box 2026, flint, mi 48501-2026, tel. (888) 679-mers. (d) “lender” is national bank of kansas city. lender is an association, organized and existing under the laws of the united states of america. lender’s address is 10700 nall avenue, suite 300, overland park, ks 66211, definitions words used in multiple sections of this document are defined below and other words are defined in sections 3, 11, 13, 18, 20 and 21. certain rules regarding the usage of words used in this document are also provided in section 16. (a) \"security instrument\"means this document, which is dated august 10, 2020 , together with all riders to this docoment. 8) ecborrower'is raymond n. fal tbauer and beryl] a. hallbauer, husband and wife borrower is the trustor under this security instrument. (c) “lender\"is quicken loans, llc lender isa limited liability compatigd liability company organized and existing under the laws of the state of michigan, ew oe definitions words used in multiple sections of this document are defined below and other words are defined in sections 3, 11, 13, 18, 20 and 21. certain rules regarding the usage of words used in this document are also provided in section 16. (a) \"security instrument\" means this document, which is dated september 28, 2005 , together with all riders to this document. () \"borrower\" is enrique esparza, and evelyn esparza, husband and wife as joint tenants, definitions. words used in multiple sections of this document are defined below and other words are defined in sections 3, 11, 13, 18, 20 and 21. certain rules regarding the usage of words used in this document are also provided in section 16. (a) “security instrument” means this document, which is dated january 26, 2018, together with all all riders to this document. (b) “borrower” is gloria ann mulder, a single woman. borrower's address is 2615 64th avenue, oakland, ca 94605. borrower is the trustor under this security instrument. (c) “lender” is first direct lending, a limited liability company dba refi.com. lender is a limited liability company, organized and existing under the laws of california. ; lender's address is 15261 laguna canyon road, suite 200, irvine, ca 92618., definitions words used in multiple sections of this document are defined below and other words are defined in sections 3, 11, 13, 18, 20 and 21. certain rules regarding the usage of words used in this document are also provided in section 16. (a) “security instrument” means this document, which is dated december 21, 2018, together with all riders to this document. (8) “borrower” is dennis petersen, single man. borrower is the mortgagor under this security instrument. (c) “mers\"” is mortgage electronic registration systems, inc. mers is a separate corporation that is acting solely as a nominee for lender and lender's successors and assigns. mers is the mortgagee under this security instrument. mers is organized and existing under the laws of delaware, and has an address and telephone number of p.o. box 2026, flint, mi 48501-2026, tel. (888) 679-mers. (d) “lender” is crosscountry mortgage, inc.. lenderis a corporation, organized and e) ing under the laws of ohio. lender's address is 6850 miller road, brecksville, oh 44141, definitions words used in multiple sections of this document are defined below and other words are defined in sections 3, 11, 13, 18, 20 and 21. certain rules regarding the usage of words used in this document are also provided in section 16. (a) \"security instrument\" means this document, which is dated november 04, 2006 , together with all riders to this document. (b) \"borrower\" is alfred merino and, nancy sue merino, trustee of the merino family revocable living trust u/d/t dated october 21, 1993 borrower's address is 30304 camino chico, warner springs, ca 92086. . borrower is the trustor under this security instrument. (c) “lender” is washington mutual bank, fa lender isa federal savings bank organized and existing under the laws of the united states of america, amat scone rlocoiisiing - 1 aim 2 definitions accommodation recording per client request words used in multiple sections of this document are defined below and other words are defined in sections 3, 11, 13, 18, 20 and 21. certain rules regarding the usage of words used in this document are also provided in section 16. (a) \"security instrument\" means this document, which is datedaugust 10, 2010 : together with all riders to this document. (b) \"borrower\" is joseph m. mchugh, and and tia m mchugh, husband/wife borrower is the mortgagor under this security instrument. (c) \"mers\" is mortgage electronic registration systems, inc. mers is a separate corporation that is acting solely as a nominee for lender and lender's successors and assigns, mers is the mortgagee under this security instrument. mers is organized and existing under the laws of delaware, and has an address and telephone number of p.o. box 2026, flint, mi 48501-2026, tel. (888) 679-mers. (d) \"lender\" is usaa federal savings bank, definitions words used in multiple sections of this document are defined below and other words are defined in sections 3, 11, 13, 18, 20 and 21. certain rules regarding the usage of words used in this document are also provided in section 16. (a) \"security instrument\" means this document, which is datedoctober 26, 2011 together with all riders to this document. (b) \"borrower\"is mary lou davidson and patrick j southard, husband and wife borrower is the mortgagor under this sccurity instrument. (c) \"lender\"is wells fargo bank, n.a. lender is anational association organized and existing under the laws of the united states of america, definitions words used in multiple sections of this document are defined below and other words are defined in sections 3, 11, 13, 18, 20 and21. certain rules regarding the usage of words used in this document are also provided in section 16. (a) \"security instrument\" means this document, which is dated november 21, 2016 , together with all riders to this document. @) ws richard p. louie and yoko suzuki, husband and wife, as joint borrower's address is 2199 toulouse ln, brentwood, california 94513. borrower is the trustor under this security instrument. (©) \"lender\"is loandepot.com, llc lender is a limited liability company organized and existing under the laws of delaware 7 lender's address is 26642 towne centre drive, foothill ranch, california 92610 (d) ‘\"trustee\"is lawyers title company 16755 von karman ave, suite 100, irvine, california 92606 (e) \"mers\" is mortgage electronic registration systems, inc. mers is a separate corporation that is acting solely as anominee for lender and lender's successors and assigns. mers is the beneficiary under this security instrument, mers is organized and existing under the laws of delaware, and has an address and telephone number of p.o. box 2026, flint, mi 48501-2026, tel. (888) 679-mers. (®) \"note''means the promissory note signed by borrower and dated november 21, 2016, definitions words used in multiple sections of this document- are defined _b below and other words are defined in sections 3, 11, 13, 18, 20 and 21. certain rulés: egarding th the usa ‘usage of words used in this document are also provided in section 16. i @ (a) \"security instrument\" means this document, which is datedmarch“31, 2012 : together with all riders to this document. (b) \"borrower\" is monika g, trenkler, an unmarried woman, her heirs and assigns forever l borrower is the mortgagor under this security instrument. (c) \"lender\" is wells fargo bank, n.a. lender is anational association organized and existing under the laws of the united states een an, definitions words used in multiple sections of this document are defined below and other words are defined in sections 3, 11, 13, 18, 20 and 21. certain rules regarding the usage of words used in this document are also provided in section 16. (a) \"security instrument\" means this document, which is datedmarch 25, 2010 together with all riders to this document. (b) \"borrower\" is harmon g reinis, a married man j <any a einés o marreeo/ wom aa borrower is the mortgagor under this security instrument. (©) \"mers\" is mortgage electronic registration systems, inc. mers is a separate corporation that is acting solely as a nominee for lender and lender’s successors and assigns. mers is the mortgagee under this security instrument. mers is organized and existing under the laws of delaware, and has an address and telephone number of p.o. box 2026, flint, mi 48501-2026, tel. (888) 679-mers. (d) \"lender\" is bankatlantic, definitions words used in multiple sections of this document are defined below and other words are defined in sections 3, 11, 19, 18, 20 and 21. certain rules regarding the usage of words used in this document are also provided in section 16. (a) “security instrument” means this document, which is dated july 6, 2018, together with all riders to this document. (b) “borrower” is gerald j japp and natalie g japp, as tenants by the entirety. borrower is the trustor under this security instrument. (c) “lender” is umpqua bank. lender is a state chartered bank, organized and existing under the laws of oregon. lender's address is 6021 244th street sw, mountlal race, wa 98043. (d) “trustee” is fidelity national title,, definitions words used in multiple sections of this document are defined below and other words are defined in sections 3, 11, 13, 18, 20 and 21. certain rules regarding the usage of words used in this document are also provided in section 16. {a) “security instrument” means this document, which is dated july 8, 2016, together with all riders to this document. {b) “borrower” is kevin heap and heather heap, husband and wife. borrower is the trustor under this security instrument. (c) \"lender\" is first choice loan services inc.. lenderis a corporation, organized and existing under the laws of new jersey. lender's address is one tower center, floor #18, east brunswick, nj 08816. (d) “trustee” is chicago title company of washington. {e) \"mers\" is the mortgage electronic registration systems, inc, lender has appointed mers as the nominee for lender for this joan, and attached a mers rider to this security instrument, to be executed by bon the relationshi d between | lender and mers, and which is incorporated, definitions words used in multiple sections of this document are defined below and other words are defined in sections 3, 11, 13, 18, 20 and 21, certain rules regarding the usage of words used in this document are also provided in section 16. (a) \"security instrument\" means this document, which is dated march. 23, 2018, together with all riders to this document. (b) \"borrower\" is ralph w.- emerson and laurie a. emerson, husband and wife. borrower is the trustor under this security instrument. (c) \"lender\" is loandepot.com, llc. lender isa limited liability company organized and existing under the laws of delaware. lender's address is 26642 towne centre drive, foothill ranch, ca 92610. lender is the beneficiary under this security instrument. {d) \"trustee\" is fidelity national title company of oregon. (e) \"mers'\" is the mortgage electronic registration systems, inc. lender has appointed mers as the nominee for lender for this loan, and attached a mers rider to this security instrument, to be executed by borrower, which further describes the relationship between lender and mers, and which is incorporated into and amends and supplements this security instrument., definitions, words used in multiple sections of this document are defined below and other words are defined in sections 3, 10, 12, 17, 19 and 21. certain rules regarding the usage of words used in this document are also provided in section 15. (a) \"security instrument” means this document, which is dated july 20, 2018, together with all riders to this document. {b) “borrower” is ashley n torres, an unmarried woman, and martha chevalier, a married ‘woman, borrower is the mortgagor under this security instrument, (c) \"mers\" is mortgage electronic registration systems, inc. mers is a separate corporation that is acting solely as a nominee for lender and lencier’s successors and assigns, mers is the mortgagee under this security instrument. mers is organized and existing under the laws of delaware, and has an address and telephone number of p.o. box 2026, flint, ml 48501-2026, tel. (888) 679-mers. (0) \"lender\" is marketplace home mortgage, l.l.c.. lender is a limited liability company, organized and existing under the laws of minnesota. lender's address is 7380 france avenue s, suite 200, edina, mn 55435, definitions. words used in multiple sections of this document are defined below and other words are defined in sections 3, 10, 12, 17, 49 and 21. certain rules regarding the usage of words used in this document are also provided in section 15. (a) “security instrument” means this document, wt ich is dated. april 28, 2017, together with all riders to this document. (b) “borrower” is jake justin montenare, an_.unmarried man. \\, borrower is the mortgagor under this security instrument. (c) \"mers\" is mortgage electronic registration systems, inc. mers is a’separate corporation that is acting solely as a nominee for lender and lender's successors and assigns. mers is the mortgagee under this security instrument. mers is organized and existing under the laws of delaware, and has’an address and telephone number of p.o. box 2026, flint, mi 48501-2026, tel. (888) 679-mers. (d) “lender” is universal american mortgage company, llc. lender is a florida limited liability company, ‘organized and existing under the laws of florida. lender's address is 730 nw 107 avenue, 4th floor, miami, fl 33172-3139, definitions words used in multiple sections of this document are defined below and other words are defined in sections 3, 11, 13, 18, 20 and 21. certain rules regarding the usage of words used in this document are also provided in section 16. (a) “security instrument\" means this document, which is dated january 29, 2020, together with all riders to this document. @) \" ig william k brown and kimberly n brown, husband and wife;. borrower is the trustor under this security instrument. (c) \"lender\" is caliber home loans, inc.. lender is a corporation organized and existing under the laws of delaware. lender's address is 1525 $, belt line road, coppell, tx 75019. (@) \"trustee\" is chicago title company of washington 1835 barkley boulevard, suite 105 bellingham wa 98226. (©) \"mers\" is the mortgage electronic registration systems, inc. lender has appointed mers as the nominee for lender for this loan, and attached a mers rider to this security instrument, to be executed by borrower, which further describes the relationship between lender and mers, and which is incorporated into and amends and supplements this security instrument. eee ge tee ad be, daeensee ond dated tantiary 970 9090 the nove ctatec, definitions words used in multiple sections of this document are defined below and ather words are defined in sections 3, 11, 13, 18, 20 and 21. certain rules regarding the usage of words used in this document are also provided in section 16, (a) \"security instrument\" means this document, which is dated july 03, 2019, together with all riders to this document, (b) \"borrower\" is hannah allen halpenny and michael james burton, wife and husband. borrower is the trustor under this security instrument. (©) \"lender\" is caliber home loans, inc.. lender is a corporation organized and existing under the laws of delaware. lender's address is 1525 $. belt line road, coppell, tx 75019. (0) \"trustee\" is fidelity national title insurance company, a nebraska corporation 3500 188th street sw, suite 300 lynnwood wa 98037. (e) \"mers\" is the mortgage electronic registration systems, inc. lender has appointed mers as the nominee for lender for this loan, and attached a mers rider to this security instrument, to be executed by borrower, which further describes the relationship between lender and mers, and which is incorporated into and amends and supplements this security instrument. (bf) “note” means the 03, 2019. the note states that and dated, definitions words used in multiple sections of this document are defined below and other words are defined in sections 3, 10, 12, 17, 19 and 21. certain rules regarding the usage of words used in this document are also provided in section 15. (a) “security instrument” means this document, which is dated january 7, 2016, together with all riders to this document. (b) “borrower” is marisa r fairbanks and scott d fairbanks, wife and husband. borrower is the trustor under this security instrument. (c) “lender” is leaderone financial corporation., definitions words used in multiple sections of this document are defined below and other words are defined in sections 3, 11, 13, 18, 20 and 21. certain rules regarding the usage of words used in this document are also provided in section 16. (a) “security instrument” means this document, which is dated august 5, 2016, together with all riders to this document. (b) “borrower” is roberto lemus, an unmarried man, borrower's address is 9562 winter gardens blvd #d351, lakeside, california 92040. borrower is the trustor under this security instrument. (c) “lender” is everett financial, inc. d/b/a supreme lending. lender is atexas corporation, organized and existing under the laws of texas. lender’s address is 14801 quorum drive, suite 300, dallas, texas 75254. (d) “trustee” is scott everett trustee’s address is 14801 quorum drive, suite 300, dallas, dallas county, texas 75254. (e) “mers” is mortgage electronic registration systems, inc. mers is a separate corporation that is acting solely as a nominee for lender and lender’s successors and assigns. mers is the beneficiary under this security instrument. mers is organized and existing under the laws of delaware, and has an address and telephone of p.o. box 2026, flint, mi 48501-2026, tel. (888) 679-mers., definitions words used in multiple sections of this document are defined below and other words are defined in sections 3, 11, 13, 18, 20 and 21. certain rules regarding the usage of words used in this document are also provided in section 16. (a) \"security instrument\" means this document, which is dated june 22, 2018, together with all riders to this document, (b) \"borrower\" is roger williams and heather williams, as tenants by the entirety. borrower is the trustor under this security instrument. (c) \"lender\" is loandepot.com, llc. lender isa limited liability company organized and existing under the laws of delaware. lender's address is 26642 towne centre drive, foothill ranch, ca 92610. lender is the beneficiary under this security instrument. (d) \"trustee\" is fidelity national title company of oregon. (e) \"mers\" js the mortgage electronic registration systems, inc. lender has appointed mers as the nominee for lender for this loan, and attached a mers rider to this security instrument, to be executed by borrower, which further describes the relationship between lender and mers, and which is incorporated into and amends and supplements this security instrument., definitions words used in multiple sections of this document are defined below and other words are defined in sections 3, 11, 13, 18, 20 and 21. certain rules regarding the usage of words used in this document are also provided in section 16. (a) \"security instrument\" means this document, which is dated september 22, 2003 7 together with all riders to this document. (b) \"borrower\" is jose cabrera, a married man, as his sole and separate property borrower’s address is 257 linda vista avenue, pittsburg, california 94565 borrower is the trustor under this security instrument. (c) \"lender\" is scme mortgage bankers, inc., a california corporation lender is a corporation organized and existing under the laws of california, loan #: 96675 definitions words used in multiple sections of this document are defined below and other words are defined in sections 3, 11, 13, 18, 20 and 21. certain rules regarding the usage of words used in this document are also provided in section 16. (a) “security instrument” means this document, which is dated november 12, 2019, together with all riders to this document. (b) “borrower” is lizbeth browning and geoffrey browning, wife and husband, as joint tenants. borrower's address is 1104 w walter ave 78, fowler, ca 93625, borrower is the trustor under this security instrument. (c) “lender” is educational employees credit union. lender is a state chartered credit union organized and existing under the laws of the state of california. lender's address is 2222 w. shaw avenue, fresno, ca 93711. lender is the beneficiary under this security instrument. (d) “trustee” is first american title insurance company, 4 first american way, santa ana, ca 92707. i, definitions: ‘words nscd in multiple sections of this document are defined below and other words aze defined in sections 3, 20, 12, 17, 19, and 20. cortain rules regarding the usage of words used in this document are also provided in section 15, (a) \"security instrament’* menus this document, which is dated december 11, 2006 , togother with all riders to this document. (8) “borrower” is essodina atchade and khin yi husband and wife borrower is the trustor ander this security instrument. (©) “lender” is first franklin’ a division of national city bank ‘ lender is a national association organized and existing under the laws of united states of america « lender's address is 2150 north first street, san jose, califomia 95131 (d) “trustee” is first american title company (be) “mers” is morigage electronic registration systems, inc. mers is a separate corpormion that is acting solely as a nominee for lender and lender's successors and assigns, mers fs the beneficlary under this security instrument, mers is organized and saisting under the laws of delaware, and has an address and telephone wumber of p.o. box 2026, flint, mi 48501-2026, icl. (888) 679-mers., definitions ‘words used in multiple sections of this document are defined below and other words are defined in sections 4, 11, 13, 18, 20 and 21, certain rules regarding the usage of words used in this document are also provided in section 16. (a) \"security instroment\" means this document, which is dated december 1, 2011, together with all riders to this document. (b) \"borrower\" is michael p. mccarty and renee c. mccarty, husband and wife. borrower is the trustor under this security instrument. (c) \"lender\" is imortgage.com, inc..lender is a corporation organized and existing under the jaws of arizona, lender's address is 4800 n. scottsdale road, suite 3800, scottsdale, az 85251. (d) \"trustee\" is ticor title company of oregon. {e) \"mers\" is mortgage electronic registration systems, inc. mers is a separate corporation that is acting solely as a nomines for lender and lender's successors and assigns. mers is the beneficiary under, oes definitions words used in muttiple sections of this document are defined below and other words are defined in sections 3, 11, 13, 18, 20 and 21. certain rutes regarding the usage of words used in this document are alsa provided in section 16. 0 “security instrument” means this document, which is dated november 21 2019, together with all riders to this document, (b) “borrower” is tamra j cook and john p cook, as tenants by the entirety, ‘borrower is the trustor under this security instrument. (c) “lender* is umpqua bank. lenderis a state chartered bank, organized and existing under the laws of oregon. lender's address is 6610 sw cardinal lane, suite 300, tigard, or 97224, (0) “trustes” is fidelity national title company of oregon. “mers\" is the mortgage electronic registration systems, inc. lender has appointed mers as the nominee for lander pos lean andatachode mers ue wie scere evemace to be executed by borrower, which further describes: the relationship between lender and meas, and which is incorporated into and amends end supplements this security {nstrument. (f) “note” means the promissory note signed by borrower and dated november 21, 2019., definitions words used in multiple sections of this document are defined below and other words are defined in sections 3, 11, 13, 18, 20 and 21, certain rules regarding the usage of words used in this document are also provided in section 16. {a) “security instrument” means this document, which is dated february 05, 2018, together with all riders to this document. (b) “borrower” is shawn kekic and chanda s kekic, borrower is the trustor under this security instrument, (c} \"lender\" is caliber home loans, inc., lender is 2 corporation organized and existing under the jaws of delaware. lender's address is 3701 regent blvd,, suite 180, irving, tx 75063. @) \"trustee\" is evergreen land title company 260 country club road, suite 120 eugene or 97401,, trustor/borrower: manuel velasco 4652 n erie ave, fresno, ca 93722-7540 us definitions words used in multiple sections of this document are defined below and other words are defined in sections 3, 10, 12, 17, 19 and 21. certain rules regarding the usage of words used in this document are also provided in section 15. (a) \"security instrument” means this document, which is dated september 22, 2020, together with all riders to this document. (b) \"borrower\" is manuel velasco and anna velasco, husband and wife, as joint tenants. borrower is the trustor under this security instrument. (©) \"lender\" is homebridge financial services, inc.. lender isa corporation organized and existing under the laws of nd. lender's address is 194 wood avenue south, 9th floor, iselin, nj 08830. (d) \"trustee\" ismarinosci law group,275 west natick road, warwick, ri 02886. (e) \"mers\" is mortgage electronic registration systems, inc. mers is a separate corporation that is acting solely as a nominee for lender and lender's successors and assigns. mers is the beneficiary under this security instrument. mers is organized and existing under the laws of delaware, and has an address and telephone number of p.o, box 2026, flint, mi 48501-2026, tel. (888) 679-mers., ‘trustor/borrower; oleg kaplan 4207 silva st, antioch, ca 94509 definitions ‘words used in multiple sections of this document are defined below and other words are defined in sections 3, 11, 13, 18, 20 and 21. certain rules regarding the usage of words used in this document are also provided in section 16. (a) \"security instrument\" means this document, which is dated june 4, 2020, together with all riders to this document. (b) \"borrower\" is oleg kaplan, a single man and roman kaplan, a single man, as tenants in commom. borrower is the trustor under this security instrument, (c) \"lender\" is owning corporation. lender is a corporation organized and existing under the laws of california. lender's address is 1 city blvd west, suite 1500, orange, ca 92868. (d) \"trustee\" is orange coast title company. (e) \"mers\" is mortgage electronic registration systems, inc. mers is a separate corporation that is acting solely as a nominee for lender and lender's successors and assigns. mers js the beneficiary under this security instrument. mers is organized and existing under the laws of delaware, and has an address and telephone number of p.o. box 2026, flint, mi 48501-2026, tel. (888) 679-mers., trustor/borrower: sergio m. gonzalez 713 s h st, imperial, ca 92251 definitions words used in multiple sections of this document are defined below and other words are defined in sections 3, 11, 13, 18, 20 and 21. certain rules regarding the usage of words used in this document are also provided in section 16. (a) \"security instrument\" means this documeni, which is dated december 26, 2018, together with all riders to this document, (b) \"borrower\" is sergio m. gonzalez and martha n. gonzalez, husband and wife as joint tenants. borrower is the trustor under this security tnstrument, (c) \"lender\" is loandepot.com, llc. lender isa limited liability company organized and existing under the laws of delaware. lender's address is 26642 towne centre drive, foothill ranch, ca 92610. (d) \"trustee\" is lawyers title company. (e) \"mers\" is mortgage electronic registration systems. inc. mers is a separate corporation that is acting solely as a nominee for lender and lender's successors and assigris. mers is the beneficiary under this security instrument. mers is organized and existing under the laws oi delaware, and has an address and telephone number of p.o. box 2026, flint, mi, loan #: 1454256361 definitions words used in multiple sections of this document are defined below and other words are defined in sections 3, 12, 17, 19 and 20. certain rules regarding the usage of words used in this document are also provided in section 15. : 7 (a) “security instrument” means this document, which is dated march 22, 2049, together with all riders to this document. ; (b) “borrower” is richard frederic koo! and teresa elaine kooi, trustees of the richard frederic koo! and teresa elaine koo! revocable trust. borrower's address is 11880 lakeshore s, auburn, ca 95602. borrower is the trustor under this security instrument. : (c) “lender” is logix federal credit union. lender is a federal credit union organized and existing under the laws of the state of california. lender's address is 2340 hollywood way, burbank, ca 91505. lender is the beneficiary under this security instrument. (d) “trustee” is first american title insurance company, a nebraska corporation. (e) “credit agreement” means the home equity line of credit agreement and disclosure signed by borrower and dated march 22, 2019 which credit agreement establishes a revolving line of credit, which obligates lender to make advances to borrower so long as borrower complies with all the terms of td ete le cee lll) be a til]\n",
            "\u001b[38;5;4mℹ 35 training sentences\u001b[0m\n"
          ]
        }
      ]
    },
    {
      "cell_type": "code",
      "metadata": {
        "colab": {
          "base_uri": "https://localhost:8080/"
        },
        "id": "D-pnR8q8C7v3",
        "outputId": "5a2e81ad-54ff-477c-fb05-e166ac787f61"
      },
      "source": [
        "!pwd"
      ],
      "execution_count": 61,
      "outputs": [
        {
          "output_type": "stream",
          "name": "stdout",
          "text": [
            "/content/rel_component\n"
          ]
        }
      ]
    },
    {
      "cell_type": "code",
      "metadata": {
        "colab": {
          "base_uri": "https://localhost:8080/"
        },
        "id": "A27zYl7vkLJl",
        "outputId": "7934aed2-fce0-4221-cfa0-f686669db8bb"
      },
      "source": [
        "!spacy project run all_gpu"
      ],
      "execution_count": null,
      "outputs": [
        {
          "output_type": "stream",
          "name": "stdout",
          "text": [
            "\u001b[38;5;4mℹ Running workflow 'all_gpu'\u001b[0m\n",
            "\n",
            "\u001b[38;5;1m✘ Missing dependency specified by command 'data': null\u001b[0m\n",
            "Maybe you forgot to run the 'project assets' command or a previous step?\n",
            "\n"
          ]
        }
      ]
    },
    {
      "cell_type": "code",
      "metadata": {
        "colab": {
          "base_uri": "https://localhost:8080/"
        },
        "id": "Zo9734ky5VMm",
        "outputId": "5bc61ff9-3462-48fd-b80d-abb45c22f354"
      },
      "source": [
        "!spacy project run train_gpu # command to train train transformers\n",
        "!spacy project run evaluate # command to evaluate on test dataset"
      ],
      "execution_count": 72,
      "outputs": [
        {
          "output_type": "stream",
          "name": "stdout",
          "text": [
            "\u001b[1m\n",
            "================================= train_gpu =================================\u001b[0m\n",
            "Running command: /usr/bin/python3 -m spacy train configs/rel_trf.cfg --output training --paths.train data/relations_training.spacy --paths.dev data/relations_test.spacy -c ./scripts/custom_functions.py --gpu-id 0\n",
            "\u001b[38;5;4mℹ Saving to output directory: training\u001b[0m\n",
            "\u001b[38;5;4mℹ Using GPU: 0\u001b[0m\n",
            "\u001b[1m\n",
            "=========================== Initializing pipeline ===========================\u001b[0m\n",
            "[2021-09-10 21:53:38,827] [INFO] Set up nlp object from config\n",
            "[2021-09-10 21:53:38,841] [INFO] Pipeline: ['transformer', 'ner', 'relation_extractor']\n",
            "[2021-09-10 21:53:38,847] [INFO] Created vocabulary\n",
            "[2021-09-10 21:53:38,848] [INFO] Finished initializing nlp object\n",
            "Some weights of the model checkpoint at roberta-base were not used when initializing RobertaModel: ['lm_head.decoder.weight', 'lm_head.bias', 'lm_head.dense.weight', 'lm_head.layer_norm.weight', 'lm_head.dense.bias', 'lm_head.layer_norm.bias']\n",
            "- This IS expected if you are initializing RobertaModel from the checkpoint of a model trained on another task or with another architecture (e.g. initializing a BertForSequenceClassification model from a BertForPreTraining model).\n",
            "- This IS NOT expected if you are initializing RobertaModel from the checkpoint of a model that you expect to be exactly identical (initializing a BertForSequenceClassification model from a BertForSequenceClassification model).\n",
            "[2021-09-10 21:53:44,659] [INFO] Initialized pipeline components: ['transformer', 'ner', 'relation_extractor']\n",
            "\u001b[38;5;2m✔ Initialized pipeline\u001b[0m\n",
            "\u001b[1m\n",
            "============================= Training pipeline =============================\u001b[0m\n",
            "\u001b[38;5;4mℹ Pipeline: ['transformer', 'ner', 'relation_extractor']\u001b[0m\n",
            "\u001b[38;5;4mℹ Initial learn rate: 0.0\u001b[0m\n",
            "E    #       LOSS TRANS...  LOSS NER  LOSS RELAT...  ENTS_F  ENTS_P  ENTS_R  REL_MICRO_P  REL_MICRO_R  REL_MICRO_F  SCORE \n",
            "---  ------  -------------  --------  -------------  ------  ------  ------  -----------  -----------  -----------  ------\n",
            "  0       0         914.12   1281.20           2.14    8.10    4.22  100.00         4.78        72.34         8.96    0.09\n",
            "  5     100       37354.56  40961.80         122.22   85.78   75.10  100.00         0.00         0.00         0.00    0.43\n",
            " 11     200        2976.14   4904.10          14.37   85.19   74.21  100.00        69.05        37.66        48.74    0.67\n",
            " 16     300        1165.29   3493.04           8.62   84.42   73.05  100.00        60.53        62.16        61.33    0.73\n",
            " 22     400         763.63   3094.64           6.69   85.39   74.50  100.00        67.16        58.44        62.50    0.74\n",
            " 27     500         580.30   2885.29           5.81   86.18   75.71  100.00        68.66        60.53        64.34    0.75\n",
            " 33     600         325.77   2578.70           5.12   86.18   75.71  100.00        71.15        48.68        57.81    0.72\n",
            " 38     700         223.79   2462.89           4.42   86.18   75.71  100.00        65.22        59.21        62.07    0.74\n",
            " 44     800         132.81   2352.81           3.73   85.78   75.10  100.00        70.00        72.73        71.34    0.79\n",
            " 50     900          99.96   2279.48           3.09   84.81   73.62  100.00        72.00        69.23        70.59    0.78\n",
            " 55    1000          66.86   2242.07           3.06   85.19   74.21  100.00        75.76        65.79        70.42    0.78\n",
            "\u001b[38;5;2m✔ Saved pipeline to output directory\u001b[0m\n",
            "training/model-last\n",
            "\n",
            "\u001b[38;5;1m✘ Missing dependency specified by command 'evaluate': null\u001b[0m\n",
            "Maybe you forgot to run the 'project assets' command or a previous step?\n",
            "\n"
          ]
        }
      ]
    },
    {
      "cell_type": "code",
      "metadata": {
        "colab": {
          "base_uri": "https://localhost:8080/",
          "height": 975
        },
        "id": "VwTxUciW2UX9",
        "outputId": "4a2c8ff1-c1b8-4aff-bc43-097527f054b0"
      },
      "source": [
        "!pip install -U spacy transformers"
      ],
      "execution_count": null,
      "outputs": [
        {
          "output_type": "stream",
          "name": "stdout",
          "text": [
            "Requirement already satisfied: spacy in /usr/local/lib/python3.7/dist-packages (3.1.2)\n",
            "Requirement already satisfied: transformers in /usr/local/lib/python3.7/dist-packages (4.9.2)\n",
            "Collecting transformers\n",
            "  Downloading transformers-4.10.0-py3-none-any.whl (2.8 MB)\n",
            "\u001b[K     |████████████████████████████████| 2.8 MB 5.4 MB/s \n",
            "\u001b[?25hRequirement already satisfied: murmurhash<1.1.0,>=0.28.0 in /usr/local/lib/python3.7/dist-packages (from spacy) (1.0.5)\n",
            "Requirement already satisfied: spacy-legacy<3.1.0,>=3.0.7 in /usr/local/lib/python3.7/dist-packages (from spacy) (3.0.8)\n",
            "Requirement already satisfied: typing-extensions<4.0.0.0,>=3.7.4 in /usr/local/lib/python3.7/dist-packages (from spacy) (3.7.4.3)\n",
            "Requirement already satisfied: wasabi<1.1.0,>=0.8.1 in /usr/local/lib/python3.7/dist-packages (from spacy) (0.8.2)\n",
            "Requirement already satisfied: requests<3.0.0,>=2.13.0 in /usr/local/lib/python3.7/dist-packages (from spacy) (2.23.0)\n",
            "Requirement already satisfied: tqdm<5.0.0,>=4.38.0 in /usr/local/lib/python3.7/dist-packages (from spacy) (4.62.0)\n",
            "Requirement already satisfied: catalogue<2.1.0,>=2.0.4 in /usr/local/lib/python3.7/dist-packages (from spacy) (2.0.6)\n",
            "Requirement already satisfied: pathy>=0.3.5 in /usr/local/lib/python3.7/dist-packages (from spacy) (0.6.0)\n",
            "Requirement already satisfied: setuptools in /usr/local/lib/python3.7/dist-packages (from spacy) (57.4.0)\n",
            "Requirement already satisfied: cymem<2.1.0,>=2.0.2 in /usr/local/lib/python3.7/dist-packages (from spacy) (2.0.5)\n",
            "Requirement already satisfied: thinc<8.1.0,>=8.0.8 in /usr/local/lib/python3.7/dist-packages (from spacy) (8.0.9)\n",
            "Requirement already satisfied: blis<0.8.0,>=0.4.0 in /usr/local/lib/python3.7/dist-packages (from spacy) (0.4.1)\n",
            "Requirement already satisfied: pydantic!=1.8,!=1.8.1,<1.9.0,>=1.7.4 in /usr/local/lib/python3.7/dist-packages (from spacy) (1.8.2)\n",
            "Requirement already satisfied: packaging>=20.0 in /usr/local/lib/python3.7/dist-packages (from spacy) (21.0)\n",
            "Requirement already satisfied: srsly<3.0.0,>=2.4.1 in /usr/local/lib/python3.7/dist-packages (from spacy) (2.4.1)\n",
            "Requirement already satisfied: typer<0.4.0,>=0.3.0 in /usr/local/lib/python3.7/dist-packages (from spacy) (0.3.2)\n",
            "Requirement already satisfied: numpy>=1.15.0 in /usr/local/lib/python3.7/dist-packages (from spacy) (1.19.5)\n",
            "Requirement already satisfied: preshed<3.1.0,>=3.0.2 in /usr/local/lib/python3.7/dist-packages (from spacy) (3.0.5)\n",
            "Requirement already satisfied: jinja2 in /usr/local/lib/python3.7/dist-packages (from spacy) (2.11.3)\n",
            "Requirement already satisfied: pyyaml>=5.1 in /usr/local/lib/python3.7/dist-packages (from transformers) (5.4.1)\n",
            "Requirement already satisfied: huggingface-hub>=0.0.12 in /usr/local/lib/python3.7/dist-packages (from transformers) (0.0.12)\n",
            "Requirement already satisfied: filelock in /usr/local/lib/python3.7/dist-packages (from transformers) (3.0.12)\n",
            "Requirement already satisfied: sacremoses in /usr/local/lib/python3.7/dist-packages (from transformers) (0.0.45)\n",
            "Requirement already satisfied: importlib-metadata in /usr/local/lib/python3.7/dist-packages (from transformers) (4.6.4)\n",
            "Requirement already satisfied: regex!=2019.12.17 in /usr/local/lib/python3.7/dist-packages (from transformers) (2019.12.20)\n",
            "Requirement already satisfied: tokenizers<0.11,>=0.10.1 in /usr/local/lib/python3.7/dist-packages (from transformers) (0.10.3)\n",
            "Requirement already satisfied: zipp>=0.5 in /usr/local/lib/python3.7/dist-packages (from catalogue<2.1.0,>=2.0.4->spacy) (3.5.0)\n",
            "Requirement already satisfied: pyparsing>=2.0.2 in /usr/local/lib/python3.7/dist-packages (from packaging>=20.0->spacy) (2.4.7)\n",
            "Requirement already satisfied: smart-open<6.0.0,>=5.0.0 in /usr/local/lib/python3.7/dist-packages (from pathy>=0.3.5->spacy) (5.1.0)\n",
            "Requirement already satisfied: idna<3,>=2.5 in /usr/local/lib/python3.7/dist-packages (from requests<3.0.0,>=2.13.0->spacy) (2.10)\n",
            "Requirement already satisfied: certifi>=2017.4.17 in /usr/local/lib/python3.7/dist-packages (from requests<3.0.0,>=2.13.0->spacy) (2021.5.30)\n",
            "Requirement already satisfied: chardet<4,>=3.0.2 in /usr/local/lib/python3.7/dist-packages (from requests<3.0.0,>=2.13.0->spacy) (3.0.4)\n",
            "Requirement already satisfied: urllib3!=1.25.0,!=1.25.1,<1.26,>=1.21.1 in /usr/local/lib/python3.7/dist-packages (from requests<3.0.0,>=2.13.0->spacy) (1.24.3)\n",
            "Requirement already satisfied: click<7.2.0,>=7.1.1 in /usr/local/lib/python3.7/dist-packages (from typer<0.4.0,>=0.3.0->spacy) (7.1.2)\n",
            "Requirement already satisfied: MarkupSafe>=0.23 in /usr/local/lib/python3.7/dist-packages (from jinja2->spacy) (2.0.1)\n",
            "Requirement already satisfied: joblib in /usr/local/lib/python3.7/dist-packages (from sacremoses->transformers) (1.0.1)\n",
            "Requirement already satisfied: six in /usr/local/lib/python3.7/dist-packages (from sacremoses->transformers) (1.15.0)\n",
            "Installing collected packages: transformers\n",
            "  Attempting uninstall: transformers\n",
            "    Found existing installation: transformers 4.9.2\n",
            "    Uninstalling transformers-4.9.2:\n",
            "      Successfully uninstalled transformers-4.9.2\n",
            "\u001b[31mERROR: pip's dependency resolver does not currently take into account all the packages that are installed. This behaviour is the source of the following dependency conflicts.\n",
            "spacy-transformers 1.0.6 requires transformers<4.10.0,>=3.4.0, but you have transformers 4.10.0 which is incompatible.\u001b[0m\n",
            "Successfully installed transformers-4.10.0\n",
            "\u001b[33mWARNING: Running pip as the 'root' user can result in broken permissions and conflicting behaviour with the system package manager. It is recommended to use a virtual environment instead: https://pip.pypa.io/warnings/venv\u001b[0m\n"
          ]
        },
        {
          "output_type": "display_data",
          "data": {
            "application/vnd.colab-display-data+json": {
              "pip_warning": {
                "packages": [
                  "transformers"
                ]
              }
            }
          },
          "metadata": {}
        }
      ]
    },
    {
      "cell_type": "markdown",
      "metadata": {
        "id": "gKnTMBI40vHi"
      },
      "source": [
        "# INFERENCING OF NER "
      ]
    },
    {
      "cell_type": "code",
      "metadata": {
        "id": "6eISLzO85c7q",
        "colab": {
          "base_uri": "https://localhost:8080/",
          "height": 306
        },
        "outputId": "70e5398a-ab2a-4cd4-aba9-afabf9658e8e"
      },
      "source": [
        "import spacy\n",
        "# make the factory work\n",
        "from rel_pipe import make_relation_extractor, score_relations\n",
        "\n",
        "# make the config work\n",
        "from rel_model import create_relation_model, create_classification_layer, create_instances\n",
        "nlp = spacy.load(\"/content/rel_component/training/model-best\")\n",
        "Text=['''2+ years of non-internship professional software development experience\n",
        "Programming experience with at least one modern language such as Java, C++, or C# including object-oriented design.\n",
        "1+ years of experience contributing to the architecture and design (architecture, design patterns, reliability and scaling) of new and current systems.\n",
        "Bachelor / MS Degree in Computer Science. Preferably a PhD in data science.\n",
        "8+ years of professional experience in software development. 2+ years of experience in project management.\n",
        "Experience in mentoring junior software engineers to improve their skills, and make them more effective, product software engineers.\n",
        "Experience in data structures, algorithm design, complexity analysis, object-oriented design.\n",
        "3+ years experience in at least one modern programming language such as Java, Scala, Python, C++, C#\n",
        "Experience in professional software engineering practices & best practices for the full software development life cycle, including coding standards, code reviews, source control management, build processes, testing, and operations\n",
        "Experience in communicating with users, other technical teams, and management to collect requirements, describe software product features, and technical designs.\n",
        "Experience with building complex software systems that have been successfully delivered to customers\n",
        "Proven ability to take a project from scoping requirements through actual launch of the project, with experience in the subsequent operation of the system in production''']\n",
        "for doc in nlp.pipe(Text, disable=[\"tagger\"]):\n",
        "   print(f\"spans: {[(e.start, e.text, e.label_) for e in doc.ents]}\")"
      ],
      "execution_count": null,
      "outputs": [
        {
          "output_type": "stream",
          "name": "stdout",
          "text": [
            "\u001b[38;5;4mℹ Could not determine any instances in any docs - can not make any\n",
            "predictions.\u001b[0m\n"
          ]
        },
        {
          "output_type": "error",
          "ename": "AssertionError",
          "evalue": "ignored",
          "traceback": [
            "\u001b[0;31m---------------------------------------------------------------------------\u001b[0m",
            "\u001b[0;31mAssertionError\u001b[0m                            Traceback (most recent call last)",
            "\u001b[0;32m<ipython-input-19-f57b524a2272>\u001b[0m in \u001b[0;36m<module>\u001b[0;34m()\u001b[0m\n\u001b[1;32m     18\u001b[0m \u001b[0mExperience\u001b[0m \u001b[0;32mwith\u001b[0m \u001b[0mbuilding\u001b[0m \u001b[0mcomplex\u001b[0m \u001b[0msoftware\u001b[0m \u001b[0msystems\u001b[0m \u001b[0mthat\u001b[0m \u001b[0mhave\u001b[0m \u001b[0mbeen\u001b[0m \u001b[0msuccessfully\u001b[0m \u001b[0mdelivered\u001b[0m \u001b[0mto\u001b[0m \u001b[0mcustomers\u001b[0m\u001b[0;34m\u001b[0m\u001b[0;34m\u001b[0m\u001b[0m\n\u001b[1;32m     19\u001b[0m Proven ability to take a project from scoping requirements through actual launch of the project, with experience in the subsequent operation of the system in production''']\n\u001b[0;32m---> 20\u001b[0;31m \u001b[0;32mfor\u001b[0m \u001b[0mdoc\u001b[0m \u001b[0;32min\u001b[0m \u001b[0mnlp\u001b[0m\u001b[0;34m.\u001b[0m\u001b[0mpipe\u001b[0m\u001b[0;34m(\u001b[0m\u001b[0mText\u001b[0m\u001b[0;34m,\u001b[0m \u001b[0mdisable\u001b[0m\u001b[0;34m=\u001b[0m\u001b[0;34m[\u001b[0m\u001b[0;34m\"tagger\"\u001b[0m\u001b[0;34m]\u001b[0m\u001b[0;34m)\u001b[0m\u001b[0;34m:\u001b[0m\u001b[0;34m\u001b[0m\u001b[0;34m\u001b[0m\u001b[0m\n\u001b[0m\u001b[1;32m     21\u001b[0m    \u001b[0mprint\u001b[0m\u001b[0;34m(\u001b[0m\u001b[0;34mf\"spans: {[(e.start, e.text, e.label_) for e in doc.ents]}\"\u001b[0m\u001b[0;34m)\u001b[0m\u001b[0;34m\u001b[0m\u001b[0;34m\u001b[0m\u001b[0m\n",
            "\u001b[0;32m/usr/local/lib/python3.7/dist-packages/spacy/language.py\u001b[0m in \u001b[0;36mpipe\u001b[0;34m(self, texts, as_tuples, batch_size, disable, component_cfg, n_process)\u001b[0m\n\u001b[1;32m   1519\u001b[0m             \u001b[0;32mfor\u001b[0m \u001b[0mpipe\u001b[0m \u001b[0;32min\u001b[0m \u001b[0mpipes\u001b[0m\u001b[0;34m:\u001b[0m\u001b[0;34m\u001b[0m\u001b[0;34m\u001b[0m\u001b[0m\n\u001b[1;32m   1520\u001b[0m                 \u001b[0mdocs\u001b[0m \u001b[0;34m=\u001b[0m \u001b[0mpipe\u001b[0m\u001b[0;34m(\u001b[0m\u001b[0mdocs\u001b[0m\u001b[0;34m)\u001b[0m\u001b[0;34m\u001b[0m\u001b[0;34m\u001b[0m\u001b[0m\n\u001b[0;32m-> 1521\u001b[0;31m         \u001b[0;32mfor\u001b[0m \u001b[0mdoc\u001b[0m \u001b[0;32min\u001b[0m \u001b[0mdocs\u001b[0m\u001b[0;34m:\u001b[0m\u001b[0;34m\u001b[0m\u001b[0;34m\u001b[0m\u001b[0m\n\u001b[0m\u001b[1;32m   1522\u001b[0m             \u001b[0;32myield\u001b[0m \u001b[0mdoc\u001b[0m\u001b[0;34m\u001b[0m\u001b[0;34m\u001b[0m\u001b[0m\n\u001b[1;32m   1523\u001b[0m \u001b[0;34m\u001b[0m\u001b[0m\n",
            "\u001b[0;32m/usr/local/lib/python3.7/dist-packages/spacy/util.py\u001b[0m in \u001b[0;36m_pipe\u001b[0;34m(docs, proc, name, default_error_handler, kwargs)\u001b[0m\n\u001b[1;32m   1488\u001b[0m \u001b[0;32mdef\u001b[0m \u001b[0m_pipe\u001b[0m\u001b[0;34m(\u001b[0m\u001b[0mdocs\u001b[0m\u001b[0;34m,\u001b[0m \u001b[0mproc\u001b[0m\u001b[0;34m,\u001b[0m \u001b[0mname\u001b[0m\u001b[0;34m,\u001b[0m \u001b[0mdefault_error_handler\u001b[0m\u001b[0;34m,\u001b[0m \u001b[0mkwargs\u001b[0m\u001b[0;34m)\u001b[0m\u001b[0;34m:\u001b[0m\u001b[0;34m\u001b[0m\u001b[0;34m\u001b[0m\u001b[0m\n\u001b[1;32m   1489\u001b[0m     \u001b[0;32mif\u001b[0m \u001b[0mhasattr\u001b[0m\u001b[0;34m(\u001b[0m\u001b[0mproc\u001b[0m\u001b[0;34m,\u001b[0m \u001b[0;34m\"pipe\"\u001b[0m\u001b[0;34m)\u001b[0m\u001b[0;34m:\u001b[0m\u001b[0;34m\u001b[0m\u001b[0;34m\u001b[0m\u001b[0m\n\u001b[0;32m-> 1490\u001b[0;31m         \u001b[0;32myield\u001b[0m \u001b[0;32mfrom\u001b[0m \u001b[0mproc\u001b[0m\u001b[0;34m.\u001b[0m\u001b[0mpipe\u001b[0m\u001b[0;34m(\u001b[0m\u001b[0mdocs\u001b[0m\u001b[0;34m,\u001b[0m \u001b[0;34m**\u001b[0m\u001b[0mkwargs\u001b[0m\u001b[0;34m)\u001b[0m\u001b[0;34m\u001b[0m\u001b[0;34m\u001b[0m\u001b[0m\n\u001b[0m\u001b[1;32m   1491\u001b[0m     \u001b[0;32melse\u001b[0m\u001b[0;34m:\u001b[0m\u001b[0;34m\u001b[0m\u001b[0;34m\u001b[0m\u001b[0m\n\u001b[1;32m   1492\u001b[0m         \u001b[0;31m# We added some args for pipe that __call__ doesn't expect.\u001b[0m\u001b[0;34m\u001b[0m\u001b[0;34m\u001b[0m\u001b[0;34m\u001b[0m\u001b[0m\n",
            "\u001b[0;32m/usr/local/lib/python3.7/dist-packages/spacy/pipeline/trainable_pipe.pyx\u001b[0m in \u001b[0;36mpipe\u001b[0;34m()\u001b[0m\n",
            "\u001b[0;32m/usr/local/lib/python3.7/dist-packages/spacy/util.py\u001b[0m in \u001b[0;36mraise_error\u001b[0;34m(proc_name, proc, docs, e)\u001b[0m\n\u001b[1;32m   1507\u001b[0m \u001b[0;34m\u001b[0m\u001b[0m\n\u001b[1;32m   1508\u001b[0m \u001b[0;32mdef\u001b[0m \u001b[0mraise_error\u001b[0m\u001b[0;34m(\u001b[0m\u001b[0mproc_name\u001b[0m\u001b[0;34m,\u001b[0m \u001b[0mproc\u001b[0m\u001b[0;34m,\u001b[0m \u001b[0mdocs\u001b[0m\u001b[0;34m,\u001b[0m \u001b[0me\u001b[0m\u001b[0;34m)\u001b[0m\u001b[0;34m:\u001b[0m\u001b[0;34m\u001b[0m\u001b[0;34m\u001b[0m\u001b[0m\n\u001b[0;32m-> 1509\u001b[0;31m     \u001b[0;32mraise\u001b[0m \u001b[0me\u001b[0m\u001b[0;34m\u001b[0m\u001b[0;34m\u001b[0m\u001b[0m\n\u001b[0m\u001b[1;32m   1510\u001b[0m \u001b[0;34m\u001b[0m\u001b[0m\n\u001b[1;32m   1511\u001b[0m \u001b[0;34m\u001b[0m\u001b[0m\n",
            "\u001b[0;32m/usr/local/lib/python3.7/dist-packages/spacy/pipeline/trainable_pipe.pyx\u001b[0m in \u001b[0;36mspacy.pipeline.trainable_pipe.TrainablePipe.pipe\u001b[0;34m()\u001b[0m\n",
            "\u001b[0;32m/content/rel_component/rel_pipe.py\u001b[0m in \u001b[0;36mpredict\u001b[0;34m(self, docs)\u001b[0m\n\u001b[1;32m     88\u001b[0m         \u001b[0;32mif\u001b[0m \u001b[0mtotal_instances\u001b[0m \u001b[0;34m==\u001b[0m \u001b[0;36m0\u001b[0m\u001b[0;34m:\u001b[0m\u001b[0;34m\u001b[0m\u001b[0;34m\u001b[0m\u001b[0m\n\u001b[1;32m     89\u001b[0m             \u001b[0mmsg\u001b[0m\u001b[0;34m.\u001b[0m\u001b[0minfo\u001b[0m\u001b[0;34m(\u001b[0m\u001b[0;34m\"Could not determine any instances in any docs - can not make any predictions.\"\u001b[0m\u001b[0;34m)\u001b[0m\u001b[0;34m\u001b[0m\u001b[0;34m\u001b[0m\u001b[0m\n\u001b[0;32m---> 90\u001b[0;31m         \u001b[0mscores\u001b[0m \u001b[0;34m=\u001b[0m \u001b[0mself\u001b[0m\u001b[0;34m.\u001b[0m\u001b[0mmodel\u001b[0m\u001b[0;34m.\u001b[0m\u001b[0mpredict\u001b[0m\u001b[0;34m(\u001b[0m\u001b[0mdocs\u001b[0m\u001b[0;34m)\u001b[0m\u001b[0;34m\u001b[0m\u001b[0;34m\u001b[0m\u001b[0m\n\u001b[0m\u001b[1;32m     91\u001b[0m         \u001b[0;32mreturn\u001b[0m \u001b[0mself\u001b[0m\u001b[0;34m.\u001b[0m\u001b[0mmodel\u001b[0m\u001b[0;34m.\u001b[0m\u001b[0mops\u001b[0m\u001b[0;34m.\u001b[0m\u001b[0masarray\u001b[0m\u001b[0;34m(\u001b[0m\u001b[0mscores\u001b[0m\u001b[0;34m)\u001b[0m\u001b[0;34m\u001b[0m\u001b[0;34m\u001b[0m\u001b[0m\n\u001b[1;32m     92\u001b[0m \u001b[0;34m\u001b[0m\u001b[0m\n",
            "\u001b[0;32m/usr/local/lib/python3.7/dist-packages/thinc/model.py\u001b[0m in \u001b[0;36mpredict\u001b[0;34m(self, X)\u001b[0m\n\u001b[1;32m    313\u001b[0m         \u001b[0monly\u001b[0m \u001b[0mthe\u001b[0m \u001b[0moutput\u001b[0m\u001b[0;34m,\u001b[0m \u001b[0minstead\u001b[0m \u001b[0mof\u001b[0m \u001b[0mthe\u001b[0m\u001b[0;31m \u001b[0m\u001b[0;31m`\u001b[0m\u001b[0;34m(\u001b[0m\u001b[0moutput\u001b[0m\u001b[0;34m,\u001b[0m \u001b[0mcallback\u001b[0m\u001b[0;34m)\u001b[0m\u001b[0;31m`\u001b[0m \u001b[0mtuple\u001b[0m\u001b[0;34m.\u001b[0m\u001b[0;34m\u001b[0m\u001b[0;34m\u001b[0m\u001b[0m\n\u001b[1;32m    314\u001b[0m         \"\"\"\n\u001b[0;32m--> 315\u001b[0;31m         \u001b[0;32mreturn\u001b[0m \u001b[0mself\u001b[0m\u001b[0;34m.\u001b[0m\u001b[0m_func\u001b[0m\u001b[0;34m(\u001b[0m\u001b[0mself\u001b[0m\u001b[0;34m,\u001b[0m \u001b[0mX\u001b[0m\u001b[0;34m,\u001b[0m \u001b[0mis_train\u001b[0m\u001b[0;34m=\u001b[0m\u001b[0;32mFalse\u001b[0m\u001b[0;34m)\u001b[0m\u001b[0;34m[\u001b[0m\u001b[0;36m0\u001b[0m\u001b[0;34m]\u001b[0m\u001b[0;34m\u001b[0m\u001b[0;34m\u001b[0m\u001b[0m\n\u001b[0m\u001b[1;32m    316\u001b[0m \u001b[0;34m\u001b[0m\u001b[0m\n\u001b[1;32m    317\u001b[0m     \u001b[0;32mdef\u001b[0m \u001b[0mfinish_update\u001b[0m\u001b[0;34m(\u001b[0m\u001b[0mself\u001b[0m\u001b[0;34m,\u001b[0m \u001b[0moptimizer\u001b[0m\u001b[0;34m:\u001b[0m \u001b[0mOptimizer\u001b[0m\u001b[0;34m)\u001b[0m \u001b[0;34m->\u001b[0m \u001b[0;32mNone\u001b[0m\u001b[0;34m:\u001b[0m\u001b[0;34m\u001b[0m\u001b[0;34m\u001b[0m\u001b[0m\n",
            "\u001b[0;32m/usr/local/lib/python3.7/dist-packages/thinc/layers/chain.py\u001b[0m in \u001b[0;36mforward\u001b[0;34m(model, X, is_train)\u001b[0m\n\u001b[1;32m     52\u001b[0m     \u001b[0mcallbacks\u001b[0m \u001b[0;34m=\u001b[0m \u001b[0;34m[\u001b[0m\u001b[0;34m]\u001b[0m\u001b[0;34m\u001b[0m\u001b[0;34m\u001b[0m\u001b[0m\n\u001b[1;32m     53\u001b[0m     \u001b[0;32mfor\u001b[0m \u001b[0mlayer\u001b[0m \u001b[0;32min\u001b[0m \u001b[0mmodel\u001b[0m\u001b[0;34m.\u001b[0m\u001b[0mlayers\u001b[0m\u001b[0;34m:\u001b[0m\u001b[0;34m\u001b[0m\u001b[0;34m\u001b[0m\u001b[0m\n\u001b[0;32m---> 54\u001b[0;31m         \u001b[0mY\u001b[0m\u001b[0;34m,\u001b[0m \u001b[0minc_layer_grad\u001b[0m \u001b[0;34m=\u001b[0m \u001b[0mlayer\u001b[0m\u001b[0;34m(\u001b[0m\u001b[0mX\u001b[0m\u001b[0;34m,\u001b[0m \u001b[0mis_train\u001b[0m\u001b[0;34m=\u001b[0m\u001b[0mis_train\u001b[0m\u001b[0;34m)\u001b[0m\u001b[0;34m\u001b[0m\u001b[0;34m\u001b[0m\u001b[0m\n\u001b[0m\u001b[1;32m     55\u001b[0m         \u001b[0mcallbacks\u001b[0m\u001b[0;34m.\u001b[0m\u001b[0mappend\u001b[0m\u001b[0;34m(\u001b[0m\u001b[0minc_layer_grad\u001b[0m\u001b[0;34m)\u001b[0m\u001b[0;34m\u001b[0m\u001b[0;34m\u001b[0m\u001b[0m\n\u001b[1;32m     56\u001b[0m         \u001b[0mX\u001b[0m \u001b[0;34m=\u001b[0m \u001b[0mY\u001b[0m\u001b[0;34m\u001b[0m\u001b[0;34m\u001b[0m\u001b[0m\n",
            "\u001b[0;32m/usr/local/lib/python3.7/dist-packages/thinc/model.py\u001b[0m in \u001b[0;36m__call__\u001b[0;34m(self, X, is_train)\u001b[0m\n\u001b[1;32m    289\u001b[0m         \"\"\"Call the model's `forward` function, returning the output and a\n\u001b[1;32m    290\u001b[0m         callback to compute the gradients via backpropagation.\"\"\"\n\u001b[0;32m--> 291\u001b[0;31m         \u001b[0;32mreturn\u001b[0m \u001b[0mself\u001b[0m\u001b[0;34m.\u001b[0m\u001b[0m_func\u001b[0m\u001b[0;34m(\u001b[0m\u001b[0mself\u001b[0m\u001b[0;34m,\u001b[0m \u001b[0mX\u001b[0m\u001b[0;34m,\u001b[0m \u001b[0mis_train\u001b[0m\u001b[0;34m=\u001b[0m\u001b[0mis_train\u001b[0m\u001b[0;34m)\u001b[0m\u001b[0;34m\u001b[0m\u001b[0;34m\u001b[0m\u001b[0m\n\u001b[0m\u001b[1;32m    292\u001b[0m \u001b[0;34m\u001b[0m\u001b[0m\n\u001b[1;32m    293\u001b[0m     \u001b[0;32mdef\u001b[0m \u001b[0minitialize\u001b[0m\u001b[0;34m(\u001b[0m\u001b[0mself\u001b[0m\u001b[0;34m,\u001b[0m \u001b[0mX\u001b[0m\u001b[0;34m:\u001b[0m \u001b[0mOptional\u001b[0m\u001b[0;34m[\u001b[0m\u001b[0mInT\u001b[0m\u001b[0;34m]\u001b[0m \u001b[0;34m=\u001b[0m \u001b[0;32mNone\u001b[0m\u001b[0;34m,\u001b[0m \u001b[0mY\u001b[0m\u001b[0;34m:\u001b[0m \u001b[0mOptional\u001b[0m\u001b[0;34m[\u001b[0m\u001b[0mOutT\u001b[0m\u001b[0;34m]\u001b[0m \u001b[0;34m=\u001b[0m \u001b[0;32mNone\u001b[0m\u001b[0;34m)\u001b[0m \u001b[0;34m->\u001b[0m \u001b[0;34m\"Model\"\u001b[0m\u001b[0;34m:\u001b[0m\u001b[0;34m\u001b[0m\u001b[0;34m\u001b[0m\u001b[0m\n",
            "\u001b[0;32m/content/rel_component/rel_model.py\u001b[0m in \u001b[0;36minstance_forward\u001b[0;34m(model, docs, is_train)\u001b[0m\n\u001b[1;32m     76\u001b[0m     \u001b[0mlengths\u001b[0m \u001b[0;34m=\u001b[0m \u001b[0mcast\u001b[0m\u001b[0;34m(\u001b[0m\u001b[0mInts1d\u001b[0m\u001b[0;34m,\u001b[0m \u001b[0mmodel\u001b[0m\u001b[0;34m.\u001b[0m\u001b[0mops\u001b[0m\u001b[0;34m.\u001b[0m\u001b[0masarray\u001b[0m\u001b[0;34m(\u001b[0m\u001b[0mlengths\u001b[0m\u001b[0;34m,\u001b[0m \u001b[0mdtype\u001b[0m\u001b[0;34m=\u001b[0m\u001b[0;34m\"int32\"\u001b[0m\u001b[0;34m)\u001b[0m\u001b[0;34m)\u001b[0m\u001b[0;34m\u001b[0m\u001b[0;34m\u001b[0m\u001b[0m\n\u001b[1;32m     77\u001b[0m     \u001b[0mentities\u001b[0m \u001b[0;34m=\u001b[0m \u001b[0mRagged\u001b[0m\u001b[0;34m(\u001b[0m\u001b[0mmodel\u001b[0m\u001b[0;34m.\u001b[0m\u001b[0mops\u001b[0m\u001b[0;34m.\u001b[0m\u001b[0mflatten\u001b[0m\u001b[0;34m(\u001b[0m\u001b[0ments\u001b[0m\u001b[0;34m)\u001b[0m\u001b[0;34m,\u001b[0m \u001b[0mlengths\u001b[0m\u001b[0;34m)\u001b[0m\u001b[0;34m\u001b[0m\u001b[0;34m\u001b[0m\u001b[0m\n\u001b[0;32m---> 78\u001b[0;31m     \u001b[0mpooled\u001b[0m\u001b[0;34m,\u001b[0m \u001b[0mbp_pooled\u001b[0m \u001b[0;34m=\u001b[0m \u001b[0mpooling\u001b[0m\u001b[0;34m(\u001b[0m\u001b[0mentities\u001b[0m\u001b[0;34m,\u001b[0m \u001b[0mis_train\u001b[0m\u001b[0;34m)\u001b[0m\u001b[0;34m\u001b[0m\u001b[0;34m\u001b[0m\u001b[0m\n\u001b[0m\u001b[1;32m     79\u001b[0m \u001b[0;34m\u001b[0m\u001b[0m\n\u001b[1;32m     80\u001b[0m     \u001b[0;31m# Reshape so that pairs of rows are concatenated\u001b[0m\u001b[0;34m\u001b[0m\u001b[0;34m\u001b[0m\u001b[0;34m\u001b[0m\u001b[0m\n",
            "\u001b[0;32m/usr/local/lib/python3.7/dist-packages/thinc/model.py\u001b[0m in \u001b[0;36m__call__\u001b[0;34m(self, X, is_train)\u001b[0m\n\u001b[1;32m    289\u001b[0m         \"\"\"Call the model's `forward` function, returning the output and a\n\u001b[1;32m    290\u001b[0m         callback to compute the gradients via backpropagation.\"\"\"\n\u001b[0;32m--> 291\u001b[0;31m         \u001b[0;32mreturn\u001b[0m \u001b[0mself\u001b[0m\u001b[0;34m.\u001b[0m\u001b[0m_func\u001b[0m\u001b[0;34m(\u001b[0m\u001b[0mself\u001b[0m\u001b[0;34m,\u001b[0m \u001b[0mX\u001b[0m\u001b[0;34m,\u001b[0m \u001b[0mis_train\u001b[0m\u001b[0;34m=\u001b[0m\u001b[0mis_train\u001b[0m\u001b[0;34m)\u001b[0m\u001b[0;34m\u001b[0m\u001b[0;34m\u001b[0m\u001b[0m\n\u001b[0m\u001b[1;32m    292\u001b[0m \u001b[0;34m\u001b[0m\u001b[0m\n\u001b[1;32m    293\u001b[0m     \u001b[0;32mdef\u001b[0m \u001b[0minitialize\u001b[0m\u001b[0;34m(\u001b[0m\u001b[0mself\u001b[0m\u001b[0;34m,\u001b[0m \u001b[0mX\u001b[0m\u001b[0;34m:\u001b[0m \u001b[0mOptional\u001b[0m\u001b[0;34m[\u001b[0m\u001b[0mInT\u001b[0m\u001b[0;34m]\u001b[0m \u001b[0;34m=\u001b[0m \u001b[0;32mNone\u001b[0m\u001b[0;34m,\u001b[0m \u001b[0mY\u001b[0m\u001b[0;34m:\u001b[0m \u001b[0mOptional\u001b[0m\u001b[0;34m[\u001b[0m\u001b[0mOutT\u001b[0m\u001b[0;34m]\u001b[0m \u001b[0;34m=\u001b[0m \u001b[0;32mNone\u001b[0m\u001b[0;34m)\u001b[0m \u001b[0;34m->\u001b[0m \u001b[0;34m\"Model\"\u001b[0m\u001b[0;34m:\u001b[0m\u001b[0;34m\u001b[0m\u001b[0;34m\u001b[0m\u001b[0m\n",
            "\u001b[0;32m/usr/local/lib/python3.7/dist-packages/thinc/layers/reduce_mean.py\u001b[0m in \u001b[0;36mforward\u001b[0;34m(model, Xr, is_train)\u001b[0m\n\u001b[1;32m     16\u001b[0m \u001b[0;34m\u001b[0m\u001b[0m\n\u001b[1;32m     17\u001b[0m \u001b[0;32mdef\u001b[0m \u001b[0mforward\u001b[0m\u001b[0;34m(\u001b[0m\u001b[0mmodel\u001b[0m\u001b[0;34m:\u001b[0m \u001b[0mModel\u001b[0m\u001b[0;34m[\u001b[0m\u001b[0mInT\u001b[0m\u001b[0;34m,\u001b[0m \u001b[0mOutT\u001b[0m\u001b[0;34m]\u001b[0m\u001b[0;34m,\u001b[0m \u001b[0mXr\u001b[0m\u001b[0;34m:\u001b[0m \u001b[0mInT\u001b[0m\u001b[0;34m,\u001b[0m \u001b[0mis_train\u001b[0m\u001b[0;34m:\u001b[0m \u001b[0mbool\u001b[0m\u001b[0;34m)\u001b[0m \u001b[0;34m->\u001b[0m \u001b[0mTuple\u001b[0m\u001b[0;34m[\u001b[0m\u001b[0mOutT\u001b[0m\u001b[0;34m,\u001b[0m \u001b[0mCallable\u001b[0m\u001b[0;34m]\u001b[0m\u001b[0;34m:\u001b[0m\u001b[0;34m\u001b[0m\u001b[0;34m\u001b[0m\u001b[0m\n\u001b[0;32m---> 18\u001b[0;31m     \u001b[0mY\u001b[0m \u001b[0;34m=\u001b[0m \u001b[0mmodel\u001b[0m\u001b[0;34m.\u001b[0m\u001b[0mops\u001b[0m\u001b[0;34m.\u001b[0m\u001b[0mreduce_mean\u001b[0m\u001b[0;34m(\u001b[0m\u001b[0mcast\u001b[0m\u001b[0;34m(\u001b[0m\u001b[0mFloats2d\u001b[0m\u001b[0;34m,\u001b[0m \u001b[0mXr\u001b[0m\u001b[0;34m.\u001b[0m\u001b[0mdata\u001b[0m\u001b[0;34m)\u001b[0m\u001b[0;34m,\u001b[0m \u001b[0mXr\u001b[0m\u001b[0;34m.\u001b[0m\u001b[0mlengths\u001b[0m\u001b[0;34m)\u001b[0m\u001b[0;34m\u001b[0m\u001b[0;34m\u001b[0m\u001b[0m\n\u001b[0m\u001b[1;32m     19\u001b[0m     \u001b[0mlengths\u001b[0m \u001b[0;34m=\u001b[0m \u001b[0mXr\u001b[0m\u001b[0;34m.\u001b[0m\u001b[0mlengths\u001b[0m\u001b[0;34m\u001b[0m\u001b[0;34m\u001b[0m\u001b[0m\n\u001b[1;32m     20\u001b[0m \u001b[0;34m\u001b[0m\u001b[0m\n",
            "\u001b[0;32m/usr/local/lib/python3.7/dist-packages/thinc/backends/numpy_ops.pyx\u001b[0m in \u001b[0;36mthinc.backends.numpy_ops.NumpyOps.reduce_mean\u001b[0;34m()\u001b[0m\n",
            "\u001b[0;31mAssertionError\u001b[0m: "
          ]
        }
      ]
    },
    {
      "cell_type": "markdown",
      "metadata": {
        "id": "muCrropf0rOr"
      },
      "source": [
        "# INFERENCING OF NER + RELATION TOGETHER"
      ]
    },
    {
      "cell_type": "code",
      "metadata": {
        "colab": {
          "base_uri": "https://localhost:8080/"
        },
        "id": "iNIIWp0EtxnZ",
        "outputId": "6d804266-3a4f-4434-83cd-f6b59c44615d"
      },
      "source": [
        "import random\n",
        "import typer\n",
        "from pathlib import Path\n",
        "import spacy\n",
        "from spacy.tokens import DocBin, Doc\n",
        "from spacy.training.example import Example\n",
        "from rel_pipe import make_relation_extractor, score_relations\n",
        "from rel_model import create_relation_model, create_classification_layer, create_instances, create_tensors\n",
        "# We load the relation extraction (REL) model\n",
        "nlp2 = spacy.load(\"/content/rel_component/training/model-best\",)\n",
        "nlp2.add_pipe('sentencizer')\n",
        "# We take the entities generated from the NER pipeline and input them to the REL pipeline\n",
        "# for doc in nlp2(\"Paris is in France\", disable=[\"tagger\"]):\n",
        "#   for name, proc in nlp2.pipeline:\n",
        "#             doc = proc(doc)\n",
        "# Here, we split the paragraph into sentences and apply the relation extraction for each pair of entities found in each sentence.\n",
        "doc = nlp2(\"definitions. words used in multiple sections of this document are defined below and other words are defined in sections 3, i1, 13, 18, 20 and 21. certain rules regarding the usage of words used in this document are also provided in section 16. (a) “security instrument” means this document, which is dated july 9, 2016, together with all riders to this document. (b) “borrower” is andrew j, alldredge and sharon l. alldredge, co-trustees of the andrew & sharon alldredge 2012 family trust dated april 18, 2012, revocable living trust. borrower's address is 559 ave, coronado, ca 92118. borrower is the trustor under this security instrument. (c) “lender” is jpmorgan chase bank, n.a.. lender is a national banking association organized and existing under the jaws of the united states. lender's address is !1 11 polaris parkway, columbus, oh 43240 . lender is the beneficiary under this security instrument. (d) “trustee” is jpmorgan chase bank, n.a.. (e) “note” means the promissory note signed by borrower and dated july 9, 2016. the note states that borrower owes lender three hundred twenty seven thousand and 00\\/100 dollars (u.s. $327,000.00) plus interest. borrower has promised to pay this debt in regular periodic payments and to pay the debt in full not later than august 1, 2046 (f) “property” means the property that is described below under the heading \\\"transfer of rights in the pronerty.\\\"\")\n",
        "for (value, rel_dict), ent in zip(doc._.rel.items(),doc.ents):\n",
        "        for sent in doc.sents:\n",
        "          for e in sent.ents:\n",
        "            for b in sent.ents:\n",
        "              if e.start == value[0] and b.start == value[1]:\n",
        "                if rel_dict['IDCODE']>=0.3 :\n",
        "                  print(f\" entities: {e.text, b.text} --> predicted relation: {rel_dict} ---> predicted entity: {eNT.label_}\")\n",
        "                  "
      ],
      "execution_count": 81,
      "outputs": [
        {
          "output_type": "stream",
          "name": "stdout",
          "text": [
            " entities: ('“', '”') --> predicted relation: {'PARTY NAME': 0.49742818, 'IDCODE': 0.49755475, 'ROLE': 0.49720547, 'ADDRESS': 0.49705273, 'PARTY IDCODE': 0.49517375, 'PARTY ADDRESS': 0.4968703, 'PARTY ROLE': 0.49677327} ---> predicted entity: ROLE\n",
            " entities: ('”', '“') --> predicted relation: {'PARTY NAME': 0.49742818, 'IDCODE': 0.49755475, 'ROLE': 0.49720547, 'ADDRESS': 0.49705273, 'PARTY IDCODE': 0.49517375, 'PARTY ADDRESS': 0.4968703, 'PARTY ROLE': 0.49677327} ---> predicted entity: ROLE\n",
            " entities: ('“', '”') --> predicted relation: {'PARTY NAME': 0.49742818, 'IDCODE': 0.49755475, 'ROLE': 0.49720547, 'ADDRESS': 0.49705273, 'PARTY IDCODE': 0.49517375, 'PARTY ADDRESS': 0.4968703, 'PARTY ROLE': 0.49677327} ---> predicted entity: ROLE\n",
            " entities: ('”', '“') --> predicted relation: {'PARTY NAME': 0.49742818, 'IDCODE': 0.49755475, 'ROLE': 0.49720547, 'ADDRESS': 0.49705273, 'PARTY IDCODE': 0.49517375, 'PARTY ADDRESS': 0.4968703, 'PARTY ROLE': 0.49677327} ---> predicted entity: ROLE\n"
          ]
        }
      ]
    },
    {
      "cell_type": "code",
      "metadata": {
        "colab": {
          "base_uri": "https://localhost:8080/"
        },
        "id": "ciHAsbjnwEEr",
        "outputId": "ec4890ca-6b3f-4580-826b-47951e878b6e"
      },
      "source": [
        "for token in doc.ents:\n",
        "  print(token.ents,token.label_)"
      ],
      "execution_count": null,
      "outputs": [
        {
          "output_type": "stream",
          "name": "stdout",
          "text": [
            "[Paris] PARTY NAME\n",
            "[France] PART ADDRESS\n"
          ]
        }
      ]
    },
    {
      "cell_type": "code",
      "metadata": {
        "colab": {
          "base_uri": "https://localhost:8080/"
        },
        "id": "7DSRrrLLwjpK",
        "outputId": "9749438e-99ff-41d4-dbb3-4aa85aa6c1f2"
      },
      "source": [
        "for value, rel_dict in doc._.rel.items():\n",
        "  print(value,rel_dict)"
      ],
      "execution_count": null,
      "outputs": [
        {
          "output_type": "stream",
          "name": "stdout",
          "text": [
            "(0, 3) {'ROLE': 0.020753384, 'ADDRESS': 0.024152502}\n",
            "(3, 0) {'ROLE': 0.02580042, 'ADDRESS': 0.98268706}\n"
          ]
        }
      ]
    },
    {
      "cell_type": "code",
      "metadata": {
        "colab": {
          "base_uri": "https://localhost:8080/"
        },
        "id": "1s4aj32Uw0Fl",
        "outputId": "4d3bd0f1-fd5b-447b-aa56-6b9949a9ae94"
      },
      "source": [
        "for value, rel_dict in doc._.rel.items():\n",
        "    for sent in doc.sents:\n",
        "      for e in sent.ents:\n",
        "        print(e.start)\n",
        "        for b in sent.ents:\n",
        "          print(b.start)\n",
        "          if e.start == value[0] and b.start == value[1]:\n",
        "            if rel_dict[\"ADDRESS\"] >=.2:\n",
        "              PR\n"
      ],
      "execution_count": null,
      "outputs": [
        {
          "output_type": "stream",
          "name": "stdout",
          "text": [
            "0\n",
            "0\n",
            "3\n",
            "3\n",
            "0\n",
            "3\n"
          ]
        }
      ]
    },
    {
      "cell_type": "code",
      "metadata": {
        "colab": {
          "base_uri": "https://localhost:8080/"
        },
        "id": "dzZdf8Qvwevs",
        "outputId": "c3961860-d839-462a-9ec7-ef888bea1fe0"
      },
      "source": [
        "for value, rel_dict in doc._.rel.items():\n",
        "        for sent in doc.sents:\n",
        "          for e in sent.ents:\n",
        "            for b in sent.ents:\n",
        "              if e.start == value[0] and b.start == value[1]:\n",
        "                if rel_dict['ADDRESS']>=0.2 :\n",
        "                  print(f\" entities: {e.text, b.text} --> predicted relation: {rel_dict}\")"
      ],
      "execution_count": null,
      "outputs": [
        {
          "output_type": "stream",
          "name": "stdout",
          "text": [
            " entities: ('France', 'Paris') --> predicted relation: {'ROLE': 0.02580042, 'ADDRESS': 0.98268706}\n"
          ]
        }
      ]
    },
    {
      "cell_type": "code",
      "metadata": {
        "id": "QGT-6sIdvos8"
      },
      "source": [
        ""
      ],
      "execution_count": null,
      "outputs": []
    }
  ]
}